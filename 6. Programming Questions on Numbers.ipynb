{
 "cells": [
  {
   "cell_type": "code",
   "execution_count": 17,
   "id": "1e281597",
   "metadata": {},
   "outputs": [
    {
     "name": "stdout",
     "output_type": "stream",
     "text": [
      "0 isPowerOfTwo false\n",
      "1 isPowerOfTwo true\n",
      "2 isPowerOfTwo true\n",
      "3 isPowerOfTwo false\n",
      "4 isPowerOfTwo true\n",
      "5 isPowerOfTwo false\n",
      "6 isPowerOfTwo false\n",
      "7 isPowerOfTwo false\n",
      "8 isPowerOfTwo true\n",
      "9 isPowerOfTwo false\n",
      "10 isPowerOfTwo false\n",
      "11 isPowerOfTwo false\n",
      "12 isPowerOfTwo false\n",
      "13 isPowerOfTwo false\n",
      "14 isPowerOfTwo false\n",
      "15 isPowerOfTwo false\n",
      "16 isPowerOfTwo true\n",
      "17 isPowerOfTwo false\n",
      "18 isPowerOfTwo false\n",
      "19 isPowerOfTwo false\n",
      "20 isPowerOfTwo false\n"
     ]
    },
    {
     "data": {
      "text/plain": [
       "isPowerOfTwo: (number: Int)Boolean\n"
      ]
     },
     "execution_count": 17,
     "metadata": {},
     "output_type": "execute_result"
    }
   ],
   "source": [
    "// Write code to check whether a no is a power of two or not?\n",
    "\n",
    "def isPowerOfTwo(number: Int): Boolean = {\n",
    "    if (number <= 0) return false\n",
    "      \n",
    "    (number & (number-1)) == 0 \n",
    "  }\n",
    "\n",
    "(0 to 20 ).foreach(X => println(X + \" isPowerOfTwo \" + isPowerOfTwo(X)) )"
   ]
  },
  {
   "cell_type": "code",
   "execution_count": 20,
   "id": "858c8d51",
   "metadata": {},
   "outputs": [
    {
     "name": "stdout",
     "output_type": "stream",
     "text": [
      "0 isPowerOfTwo false\n",
      "1 isPowerOfTwo true\n",
      "2 isPowerOfTwo true\n",
      "3 isPowerOfTwo false\n",
      "4 isPowerOfTwo true\n",
      "5 isPowerOfTwo false\n",
      "6 isPowerOfTwo false\n",
      "7 isPowerOfTwo false\n",
      "8 isPowerOfTwo true\n",
      "9 isPowerOfTwo false\n",
      "10 isPowerOfTwo false\n",
      "11 isPowerOfTwo false\n",
      "12 isPowerOfTwo false\n",
      "13 isPowerOfTwo false\n",
      "14 isPowerOfTwo false\n",
      "15 isPowerOfTwo false\n",
      "16 isPowerOfTwo true\n",
      "17 isPowerOfTwo false\n",
      "18 isPowerOfTwo false\n",
      "19 isPowerOfTwo false\n",
      "20 isPowerOfTwo false\n"
     ]
    },
    {
     "data": {
      "text/plain": [
       "isPowerOfTwo_2: (number: Int)Boolean\n"
      ]
     },
     "execution_count": 20,
     "metadata": {},
     "output_type": "execute_result"
    }
   ],
   "source": [
    "def isPowerOfTwo_2(number: Int): Boolean = {\n",
    "    if (number <= 0) return false\n",
    "      \n",
    "    if ((number & -number) == number)  return true\n",
    "        \n",
    "        return false\n",
    "  }\n",
    "\n",
    "(0 to 20 ).foreach(X => println(X + \" isPowerOfTwo \" + isPowerOfTwo_2(X)) )"
   ]
  },
  {
   "cell_type": "code",
   "execution_count": 23,
   "id": "53ddfba1",
   "metadata": {},
   "outputs": [
    {
     "name": "stdout",
     "output_type": "stream",
     "text": [
      "0 isPowerOfTwo false\n",
      "1 isPowerOfTwo true\n",
      "2 isPowerOfTwo true\n",
      "3 isPowerOfTwo false\n",
      "4 isPowerOfTwo true\n",
      "5 isPowerOfTwo false\n",
      "6 isPowerOfTwo false\n",
      "7 isPowerOfTwo false\n",
      "8 isPowerOfTwo true\n",
      "9 isPowerOfTwo false\n",
      "10 isPowerOfTwo false\n",
      "11 isPowerOfTwo false\n",
      "12 isPowerOfTwo false\n",
      "13 isPowerOfTwo false\n",
      "14 isPowerOfTwo false\n",
      "15 isPowerOfTwo false\n",
      "16 isPowerOfTwo true\n",
      "17 isPowerOfTwo false\n",
      "18 isPowerOfTwo false\n",
      "19 isPowerOfTwo false\n",
      "20 isPowerOfTwo false\n"
     ]
    },
    {
     "data": {
      "text/plain": [
       "isPowerOfTwo_3: (number: Int)Boolean\n"
      ]
     },
     "execution_count": 23,
     "metadata": {},
     "output_type": "execute_result"
    }
   ],
   "source": [
    "def isPowerOfTwo_3(number: Int): Boolean = {\n",
    "    if (number <= 0) return false\n",
    "      \n",
    "    var square = 1\n",
    "    while(number >= square){\n",
    "        if(number == square)  return true\n",
    "            square = square*2\n",
    "        }\n",
    "        return false\n",
    "  }\n",
    "\n",
    "(0 to 20 ).foreach(X => println(X + \" isPowerOfTwo \" + isPowerOfTwo_3(X)) )"
   ]
  },
  {
   "cell_type": "code",
   "execution_count": 13,
   "id": "1736f5b3",
   "metadata": {},
   "outputs": [
    {
     "name": "stdout",
     "output_type": "stream",
     "text": [
      "true\n",
      "false\n"
     ]
    },
    {
     "data": {
      "text/plain": [
       "isPalindrome_1: (num: Int)Boolean\n"
      ]
     },
     "execution_count": 13,
     "metadata": {},
     "output_type": "execute_result"
    }
   ],
   "source": [
    "// Write a program to check whether a number is a palindrome or not?\n",
    "\n",
    "  private def reverse(num: Int): Int = {\n",
    "    var reverse: Int = 0\n",
    "    var number = num \n",
    "    while (number != 0) {\n",
    "      reverse = reverse * 10 + number % 10\n",
    "      number = number / 10\n",
    "    }\n",
    "    reverse\n",
    "  }\n",
    "def isPalindrome_1(num: Int): Boolean = {\n",
    "    if (num == reverse(num) )   \n",
    "     return true\n",
    "    \n",
    "    false\n",
    "  }\n",
    "println( isPalindrome_1(234565432))\n",
    "println( isPalindrome_1(23456))"
   ]
  },
  {
   "cell_type": "code",
   "execution_count": null,
   "id": "2db268dc",
   "metadata": {},
   "outputs": [],
   "source": [
    "def isPalindrome_2(num: Int): Boolean = {\n",
    "    if (num.toString == num.toString.reverse)   \n",
    "     return true\n",
    "    \n",
    "    false\n",
    "  }\n",
    "\n",
    "println( isPalindrome_2(234565432))\n",
    "println( isPalindrome_2(23456))"
   ]
  },
  {
   "cell_type": "code",
   "execution_count": 21,
   "id": "7c359797",
   "metadata": {},
   "outputs": [
    {
     "name": "stdout",
     "output_type": "stream",
     "text": [
      "true\n",
      "true\n",
      "false\n"
     ]
    },
    {
     "data": {
      "text/plain": [
       "isArmStrong: (num: Int)Boolean\n"
      ]
     },
     "execution_count": 21,
     "metadata": {},
     "output_type": "execute_result"
    }
   ],
   "source": [
    "//  Write a program to check whether a number is a armstrong or not?\n",
    "\n",
    "\n",
    "def isArmStrong(num: Int): Boolean = {\n",
    "    var result: Int = 0\n",
    "    var number = num \n",
    "    while (number != 0) {\n",
    "      val remainder: Int = number % 10\n",
    "      result = result + remainder * remainder * remainder\n",
    "      number = number / 10\n",
    "    }\n",
    "//number is Armstrong return true\n",
    "    if (num == result) \n",
    "    return   true\n",
    "    \n",
    "    false\n",
    "  }\n",
    "\n",
    "println( isArmStrong(153))\n",
    "println( isArmStrong(371))\n",
    "println( isArmStrong(343))"
   ]
  },
  {
   "cell_type": "code",
   "execution_count": 27,
   "id": "5829cb11",
   "metadata": {},
   "outputs": [
    {
     "name": "stdout",
     "output_type": "stream",
     "text": [
      "2\n",
      "3\n",
      "5\n",
      "7\n",
      "11\n",
      "13\n",
      "17\n",
      "19\n"
     ]
    },
    {
     "data": {
      "text/plain": [
       "isPrime: (number: Int)Boolean\n"
      ]
     },
     "execution_count": 27,
     "metadata": {},
     "output_type": "execute_result"
    }
   ],
   "source": [
    "//Write a program to find all prime number up to a given number?\n",
    "\n",
    "\n",
    "def isPrime(number: Int): Boolean =\n",
    "    (2 until number).find(number % _ == 0).map(_ => false).getOrElse(true)\n",
    "\n",
    "for( number <- 2 to 20)\n",
    "      if (isPrime(number))\n",
    "        println(number)"
   ]
  },
  {
   "cell_type": "code",
   "execution_count": 24,
   "id": "5157220b",
   "metadata": {},
   "outputs": [
    {
     "data": {
      "text/plain": [
       "res16: Boolean = false\n"
      ]
     },
     "execution_count": 24,
     "metadata": {},
     "output_type": "execute_result"
    }
   ],
   "source": [
    "// Write a function to compute Nth Fibonacci number? Both iterative and recursive?\n",
    "\n",
    "\n"
   ]
  },
  {
   "cell_type": "code",
   "execution_count": null,
   "id": "5df59143",
   "metadata": {},
   "outputs": [],
   "source": []
  }
 ],
 "metadata": {
  "kernelspec": {
   "display_name": "spylon-kernel",
   "language": "scala",
   "name": "spylon-kernel"
  },
  "language_info": {
   "codemirror_mode": "text/x-scala",
   "file_extension": ".scala",
   "help_links": [
    {
     "text": "MetaKernel Magics",
     "url": "https://metakernel.readthedocs.io/en/latest/source/README.html"
    }
   ],
   "mimetype": "text/x-scala",
   "name": "scala",
   "pygments_lexer": "scala",
   "version": "0.4.1"
  }
 },
 "nbformat": 4,
 "nbformat_minor": 5
}
