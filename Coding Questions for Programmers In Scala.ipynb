{
 "cells": [
  {
   "cell_type": "code",
   "execution_count": 10,
   "id": "582fd547",
   "metadata": {},
   "outputs": [
    {
     "name": "stdout",
     "output_type": "stream",
     "text": [
      "Unsorted array  :List(20, 12, 45, 19, 91, 55) \n",
      "Sorted Array using Bubble sort algorithm :List(12, 19, 20, 45, 55, 91) \n",
      " \n",
      "Unsorted array  :List(-1, 0, 1) \n",
      "Sorted Array using Bubble sort algorithm :List(-1, 0, 1) \n",
      " \n",
      "Unsorted array  :List(-3, -9, -2, -1) \n",
      "Sorted Array using Bubble sort algorithm :List(-9, -3, -2, -1) \n",
      " \n"
     ]
    },
    {
     "data": {
      "text/plain": [
       "bubbleSort: (numbers: Array[Int])Unit\r\n",
       "swap: (array: Array[Int], from: Int, to: Int)Unit\n"
      ]
     },
     "execution_count": 10,
     "metadata": {},
     "output_type": "execute_result"
    }
   ],
   "source": [
    "def bubbleSort(numbers: Array[Int]): Unit = {\n",
    "\n",
    "  printf(\"Unsorted array  :%s %n\", numbers.toList)\n",
    "  for (i <- numbers.indices) {\n",
    "    var j: Int = numbers.length - 1\n",
    "    while (j > i) {\n",
    "      if (numbers(j) < numbers(j - 1)) {\n",
    "        swap(numbers, j, j - 1)\n",
    "      }\n",
    "      j -= 1\n",
    "    }\n",
    "  }\n",
    "  printf(\"Sorted Array using Bubble sort algorithm :%s %n \\n\", numbers.toList)\n",
    "}\n",
    "\n",
    "/** Utility method to swap two numbers in array */\n",
    "\n",
    "def swap(array: Array[Int], from: Int, to: Int): Unit = {\n",
    "  val temp: Int = array(from)\n",
    "  array(from) = array(to)\n",
    "  array(to) = temp\n",
    "}\n",
    "\n",
    "\n",
    "bubbleSort(Array(20, 12, 45, 19, 91, 55))\n",
    "\n",
    "bubbleSort(Array(-1, 0, 1))\n",
    "\n",
    "bubbleSort(Array(-3, -9, -2, -1))\n",
    "\n",
    "\n"
   ]
  },
  {
   "cell_type": "code",
   "execution_count": 37,
   "id": "b735edf1",
   "metadata": {},
   "outputs": [
    {
     "name": "stdout",
     "output_type": "stream",
     "text": [
      "0 1 2 3 7 12 23 43"
     ]
    },
    {
     "data": {
      "text/plain": [
       "bubbleSort: (arr: Array[Int])Array[Int]\r\n",
       "list: Array[Int] = Array(0, 1, 2, 3, 7, 12, 23, 43)\n"
      ]
     },
     "execution_count": 37,
     "metadata": {},
     "output_type": "execute_result"
    }
   ],
   "source": [
    "def bubbleSort(arr: Array[Int]): Array[Int] = {\n",
    "\n",
    "  val hasSwaps = \n",
    "    for {i <- (1 until arr.length) \n",
    "    } yield {\n",
    "      if (arr(i - 1) > arr(i)) {\n",
    "        val tmp    = arr(i)\n",
    "        arr(i)     = arr(i - 1)\n",
    "        arr(i - 1) = tmp\n",
    "        true\n",
    "      }\n",
    "      else false\n",
    "    }\n",
    "\n",
    "  if (hasSwaps.reduce(_ || _)) bubbleSort(arr)\n",
    "  else arr\n",
    "}\n",
    "\n",
    "val list = Array(3, 12, 43, 23, 7, 1, 2, 0)\n",
    "  bubbleSort(list).mkString(\" \").foreach(print)\n",
    "  "
   ]
  },
  {
   "cell_type": "code",
   "execution_count": 39,
   "id": "5db9d4ed",
   "metadata": {},
   "outputs": [
    {
     "name": "stdout",
     "output_type": "stream",
     "text": [
      "0 1 2 3 7 12 23 43"
     ]
    },
    {
     "data": {
      "text/plain": [
       "bubbleSort3: (array: Array[Int])Array[Int]\r\n",
       "list: Array[Int] = Array(0, 1, 2, 3, 7, 12, 23, 43)\n"
      ]
     },
     "execution_count": 39,
     "metadata": {},
     "output_type": "execute_result"
    }
   ],
   "source": [
    "def bubbleSort3(array: Array[Int]): Array[Int] = {\n",
    "    var didSwap = false\n",
    "\n",
    "    for(i <- 0 until array.length - 1)\n",
    "      if(array(i+1) < array(i)){\n",
    "        val temp = array(i)\n",
    "        array(i) = array(i+1)\n",
    "        array(i+1) = temp\n",
    "        didSwap = true\n",
    "      }\n",
    "\n",
    "    // Repeat until we don't have anymore swaps\n",
    "    if(didSwap)\n",
    "      bubbleSort3(array)\n",
    "    else\n",
    "      array\n",
    "  }\n",
    "\n",
    "val list = Array(3, 12, 43, 23, 7, 1, 2, 0)\n",
    "bubbleSort3(list).mkString(\" \").foreach(print)\n",
    "  "
   ]
  },
  {
   "cell_type": "code",
   "execution_count": 46,
   "id": "deb5ada6",
   "metadata": {},
   "outputs": [
    {
     "name": "stdout",
     "output_type": "stream",
     "text": [
      "0 1 2 3 7 12 23 43"
     ]
    },
    {
     "data": {
      "text/plain": [
       "swap: (buffer: Array[Int], i: Int, j: Int)Unit\r\n",
       "selectionSort: (array: Array[Int])Array[Int]\r\n",
       "list: Array[Int] = Array(0, 1, 2, 3, 7, 12, 23, 43)\n"
      ]
     },
     "execution_count": 46,
     "metadata": {},
     "output_type": "execute_result"
    }
   ],
   "source": [
    "// swap elements in buffer\n",
    "  def swap(buffer : Array[Int], i:Int, j:Int) {\n",
    "    val temp = buffer(i)\n",
    "    buffer(i) = buffer(j)\n",
    "    buffer(j) = temp\n",
    "  }\n",
    "\n",
    "def selectionSort(array: Array[Int]): Array[Int] = {\n",
    "    for (i <- 0 until array.length) {\n",
    "      var min = i\n",
    "      for (j <- i until array.length) {\n",
    "        if (array(j) < array(min))\n",
    "          min = j\n",
    "       }\n",
    "       swap(array, i, min)\n",
    "     }\n",
    "\n",
    "    array\n",
    "  }\n",
    "\n",
    "val list = Array(3, 12, 43, 23, 7, 1, 2, 0)\n",
    "selectionSort(list).mkString(\" \").foreach(print)"
   ]
  },
  {
   "cell_type": "code",
   "execution_count": 41,
   "id": "6fd60589",
   "metadata": {},
   "outputs": [
    {
     "name": "stdout",
     "output_type": "stream",
     "text": [
      "0 1 2 3 7 12 23 43"
     ]
    },
    {
     "data": {
      "text/plain": [
       "insertionSort: (array: Array[Int])Array[Int]\r\n",
       "list: Array[Int] = Array(0, 1, 2, 3, 7, 12, 23, 43)\n"
      ]
     },
     "execution_count": 41,
     "metadata": {},
     "output_type": "execute_result"
    }
   ],
   "source": [
    "def insertionSort(array: Array[Int]): Array[Int] = {\n",
    "\n",
    "    for(i <- 0 until array.length){\n",
    "\n",
    "      val hold = array(i)\n",
    "      var holePos = i\n",
    "\n",
    "      while(holePos > 0 && hold < array(holePos - 1)){\n",
    "        array(holePos) = array(holePos - 1)\n",
    "        holePos -= 1\n",
    "      }\n",
    "\n",
    "      array(holePos) = hold\n",
    "    }\n",
    "\n",
    "    array\n",
    "  }\n",
    "\n",
    "val list = Array(3, 12, 43, 23, 7, 1, 2, 0)\n",
    "insertionSort(list).mkString(\" \").foreach(print)"
   ]
  },
  {
   "cell_type": "code",
   "execution_count": 36,
   "id": "f9a2cdea",
   "metadata": {},
   "outputs": [
    {
     "name": "stdout",
     "output_type": "stream",
     "text": [
      "0 1 2 3 7 12 23 43"
     ]
    },
    {
     "data": {
      "text/plain": [
       "quickSort: (array: Array[Int])Array[Int]\r\n",
       "selectPivot: (array: Array[Int])Int\r\n",
       "list: Array[Int] = Array(3, 12, 43, 23, 7, 1, 2, 0)\n"
      ]
     },
     "execution_count": 36,
     "metadata": {},
     "output_type": "execute_result"
    }
   ],
   "source": [
    "def quickSort(array: Array[Int]): Array[Int] = {\n",
    "    if(array.length <= 1)\n",
    "      return array\n",
    "\n",
    "    val arrBuff = array.toBuffer\n",
    "\n",
    "    val pivot = selectPivot(array)\n",
    "\n",
    "    arrBuff -= pivot\n",
    "\n",
    "    val (less, greater) = arrBuff.toArray.partition(_ <= pivot)\n",
    "\n",
    "    Array.concat(quickSort(less), Array(pivot), quickSort(greater))\n",
    "  }\n",
    "\n",
    "  def selectPivot(array: Array[Int]): Int = {\n",
    "    val first = array.head\n",
    "    val middle = array(array.length / 2)\n",
    "    val last = array.last\n",
    "\n",
    "    math.max(math.max(first, middle), last) match {\n",
    "      case `first` => math.max(middle, last)\n",
    "      case `middle` => math.max(first, last)\n",
    "      case `last` => math.max(first, middle)\n",
    "    }\n",
    "  }\n",
    "\n",
    "val list = Array(3, 12, 43, 23, 7, 1, 2, 0)\n",
    "quickSort(list).mkString(\" \").foreach(print)\n"
   ]
  },
  {
   "cell_type": "code",
   "execution_count": 42,
   "id": "46fa4fa6",
   "metadata": {},
   "outputs": [
    {
     "name": "stdout",
     "output_type": "stream",
     "text": [
      "0 1 2 3 7 12 23 43"
     ]
    },
    {
     "data": {
      "text/plain": [
       "mergeSort: (array: Array[Int])Array[Int]\r\n",
       "merge: (leftArr: Array[Int], rightArr: Array[Int])Array[Int]\r\n",
       "list: Array[Int] = Array(3, 12, 43, 23, 7, 1, 2, 0)\n"
      ]
     },
     "execution_count": 42,
     "metadata": {},
     "output_type": "execute_result"
    }
   ],
   "source": [
    " def mergeSort(array: Array[Int]): Array[Int] = {\n",
    "    if(array.length <= 1)\n",
    "      return array\n",
    "\n",
    "    val (left, right) = array.splitAt(array.length / 2)\n",
    "\n",
    "    val leftSorted = mergeSort(left)\n",
    "    val rightSorted = mergeSort(right)\n",
    "\n",
    "    merge(leftSorted, rightSorted)\n",
    "  }\n",
    "\n",
    "  def merge(leftArr: Array[Int], rightArr: Array[Int]): Array[Int] = {\n",
    "    var left = leftArr\n",
    "    var right = rightArr\n",
    "\n",
    "    var leftHead, rightHead = 0\n",
    "\n",
    "    var result =  scala.collection.mutable.ArrayBuffer[Int]()\n",
    "\n",
    "    while(!left.isEmpty && !right.isEmpty){\n",
    "      leftHead = left.head\n",
    "      rightHead = right.head\n",
    "\n",
    "      if(leftHead <= rightHead){\n",
    "        result += leftHead        \n",
    "        left = left.tail\n",
    "      } else {\n",
    "        result += rightHead\n",
    "        right = right.tail\n",
    "      }\n",
    "    }\n",
    "\n",
    "    if(!left.isEmpty)\n",
    "      result ++= left\n",
    "    else if (!right.isEmpty)\n",
    "      result ++= right\n",
    "\n",
    "    result.toArray\n",
    "  }\n",
    "\n",
    "val list = Array(3, 12, 43, 23, 7, 1, 2, 0)\n",
    "mergeSort(list).mkString(\" \").foreach(print)\n"
   ]
  },
  {
   "cell_type": "code",
   "execution_count": 50,
   "id": "640b6901",
   "metadata": {},
   "outputs": [
    {
     "name": "stdout",
     "output_type": "stream",
     "text": [
      "i: 123\n",
      "i: 81\n"
     ]
    },
    {
     "data": {
      "text/plain": [
       "i: Int = 123\r\n",
       "i2: Integer = 81\n"
      ]
     },
     "execution_count": 50,
     "metadata": {},
     "output_type": "execute_result"
    }
   ],
   "source": [
    "//String to Integer Conversion //using Integer.parseInt\n",
    " val i = Integer.parseInt(\"123\");\n",
    " println(\"i: \" + i);\n",
    "\n",
    "//How to convert numeric string = \"000000081\" into Integer value = 81\n",
    "val i2 = Integer.valueOf(\"000000081\");\n",
    "System.out.println(\"i: \" + i2);\n"
   ]
  },
  {
   "cell_type": "code",
   "execution_count": 60,
   "id": "f5ef8760",
   "metadata": {},
   "outputs": [
    {
     "data": {
      "text/plain": [
       "price: String = 123\r\n",
       "price2: String = 123\n"
      ]
     },
     "execution_count": 60,
     "metadata": {},
     "output_type": "execute_result"
    }
   ],
   "source": [
    "//Int to String in Java using \"+\" operator\n",
    "\n",
    "val price = \"\" + 123;\n",
    "\n",
    "val price2 = String.valueOf(123)\n"
   ]
  },
  {
   "cell_type": "code",
   "execution_count": null,
   "id": "adeac39c",
   "metadata": {},
   "outputs": [],
   "source": []
  }
 ],
 "metadata": {
  "kernelspec": {
   "display_name": "spylon-kernel",
   "language": "scala",
   "name": "spylon-kernel"
  },
  "language_info": {
   "codemirror_mode": "text/x-scala",
   "file_extension": ".scala",
   "help_links": [
    {
     "text": "MetaKernel Magics",
     "url": "https://metakernel.readthedocs.io/en/latest/source/README.html"
    }
   ],
   "mimetype": "text/x-scala",
   "name": "scala",
   "pygments_lexer": "scala",
   "version": "0.4.1"
  }
 },
 "nbformat": 4,
 "nbformat_minor": 5
}
