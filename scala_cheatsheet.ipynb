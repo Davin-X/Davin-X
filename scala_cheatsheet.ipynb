{
 "cells": [
  {
   "cell_type": "markdown",
   "id": "4b20d688-c69f-4a73-ad20-6320963fe33b",
   "metadata": {},
   "source": [
    "### Variable\n"
   ]
  },
  {
   "cell_type": "markdown",
   "id": "132fa9fe-688a-4679-87f0-1c69dbebd393",
   "metadata": {},
   "source": [
    "## Interactive Scala: The REPL\n",
    "One of the advantages of Scala is its Read, Eval, Print Loop (REPL) that let's you play with the language in an interactive manner.\n",
    "The de facto build tool for Scala is called SBT (Simple Build Tool) that provides its own REPL and has lots of functionalities. While in SBT, you can start its REPL with console command.\n",
    "You can also use the Worksheet feature of IDE's like Intellij IDEA and Eclipse. NetBeans offers the same functionality by the name of Interactive Console.\n",
    "Notebooks let you play with Scala in a similiar fashion to a REPL. For this tutorial, we will be using a Databricks Notebook that has a free, community edition suitable for learning Scala and Spark (and it's sanction-free!).\n",
    "Remember, using the REPL is a very fun, easy, and effective way to get yourself familiar with Scala features and syntax."
   ]
  },
  {
   "cell_type": "markdown",
   "id": "689b94da-6ccf-4f0f-b7ed-2a3c40589f89",
   "metadata": {},
   "source": [
    "### Defining Variables\n",
    "Use val keyword to define immutable variables. We can't change what a val points to, but if the object itself is mutable, we can change it.\n",
    "Use var keyword to define mutable variables.\n",
    "Variables defined using val and var must be initialized immediately.\n",
    "Functional Programming encourages us to use immutable variables whenever possible. Mutable variables are common sources of bugs, and actually you can't use them that much in distributed programs, such as the ones we run using Spark.\n",
    "Let's define a variable called workshopTitle and assign it a String, \"Introduction to Scala Programming\":"
   ]
  },
  {
   "cell_type": "code",
   "execution_count": 46,
   "id": "19ac7e1a-1fac-4774-ba42-4cd8f57b2c0e",
   "metadata": {},
   "outputs": [
    {
     "data": {
      "text/plain": [
       "workshopTitle: String = Introduction to Scala Programming\r\n"
      ]
     },
     "execution_count": 46,
     "metadata": {},
     "output_type": "execute_result"
    }
   ],
   "source": [
    "val workshopTitle = \"Introduction to Scala Programming\"\n"
   ]
  },
  {
   "cell_type": "code",
   "execution_count": 48,
   "id": "8459a3be-721e-496a-8c0e-2e449d5ac3ae",
   "metadata": {},
   "outputs": [
    {
     "name": "stdout",
     "output_type": "stream",
     "text": [
      "Introduction to Scala Programming\n"
     ]
    }
   ],
   "source": [
    "println(workshopTitle)"
   ]
  },
  {
   "cell_type": "code",
   "execution_count": 49,
   "id": "814a8f8a-844e-4a26-8b7d-dbc3fb9ea481",
   "metadata": {},
   "outputs": [
    {
     "ename": "<console>",
     "evalue": "24: error: reassignment to val\r",
     "output_type": "error",
     "traceback": [
      "<console>:24: error: reassignment to val\r",
      "       workshopTitle = \"Stream Processing and Machine Learning with Spark\"\r",
      "                     ^\r",
      ""
     ]
    }
   ],
   "source": [
    "workshopTitle = \"Stream Processing and Machine Learning with Spark\""
   ]
  },
  {
   "cell_type": "markdown",
   "id": "969958b1-1238-48ed-b87b-ba369ebb06fe",
   "metadata": {},
   "source": [
    "### Type Inference\n",
    "As you may have noticed, we didn't explicitly defined the type of workshopTitle. Type information is often inferred in Scala. This let's us write codes faster, but caution should be taken when you are not sure about the type Scala is going to infer about your variable.\n",
    "We could have explicitly defined workshopTitle as a String:\n",
    "val workshopTitle: String = \"Introduction to Scala Programming\""
   ]
  },
  {
   "cell_type": "markdown",
   "id": "88b92e8a-6fe8-46a6-b957-100257fe8766",
   "metadata": {},
   "source": [
    "### Semicolons and Comments\n",
    "You don't need to place a semicolon at the end of the lines.\n",
    "Scala follows the same commenting conventions of Java."
   ]
  },
  {
   "cell_type": "markdown",
   "id": "c829bb61-cc34-47d6-aac0-48e048eb1dc3",
   "metadata": {},
   "source": [
    "### If clause\n",
    "Scala if clauses are like Java's. The difference, however, is that every if statement is actually an expression that returns value, so we can assign the result to a variable.\n",
    "Consider this example:"
   ]
  },
  {
   "cell_type": "code",
   "execution_count": 5,
   "id": "0562ad01-b27a-4c17-a2ce-f0568befd17b",
   "metadata": {},
   "outputs": [
    {
     "data": {
      "text/plain": [
       "configFile: java.io.File = SomeFile.txt\r\n",
       "configPath: String = G:\\My Drive\\learn_all\\DEV_practice\\SomeFile.txt\r\n"
      ]
     },
     "execution_count": 5,
     "metadata": {},
     "output_type": "execute_result"
    }
   ],
   "source": [
    "val configFile = new java.io.File(\"SomeFile.txt\")\n",
    "\n",
    "val configPath = if(configFile.exists()){\n",
    "  configFile.getAbsolutePath()\n",
    "} else{\n",
    "  configFile.createNewFile()\n",
    "  configFile.getAbsolutePath()\n",
    "}"
   ]
  },
  {
   "cell_type": "markdown",
   "id": "e0396c9d-f2be-4772-8ba6-cc1ddd819989",
   "metadata": {},
   "source": [
    "### For-Comprehensions\n",
    "In Scala, for control structure is very feature rich. Let's explore it through a number of examples.\n",
    "We'll start by a basic for expression:"
   ]
  },
  {
   "cell_type": "code",
   "execution_count": 6,
   "id": "24fb6549-8239-42ee-bc61-a4ad64962cf9",
   "metadata": {},
   "outputs": [
    {
     "name": "stdout",
     "output_type": "stream",
     "text": [
      "Saturday\n",
      "Sunday\n",
      "Monday\n",
      "Tuesday\n",
      "Wednesday\n",
      "Thursday\n",
      "Friday\n"
     ]
    },
    {
     "data": {
      "text/plain": [
       "weekDays: List[String] = List(Saturday, Sunday, Monday, Tuesday, Wednesday, Thursday, Friday)\r\n"
      ]
     },
     "execution_count": 6,
     "metadata": {},
     "output_type": "execute_result"
    }
   ],
   "source": [
    "val weekDays = List(\"Saturday\", \"Sunday\", \"Monday\", \"Tuesday\", \"Wednesday\", \"Thursday\", \"Friday\")\n",
    "for(day <- weekDays)\n",
    "  println(day)\n",
    "\n"
   ]
  },
  {
   "cell_type": "markdown",
   "id": "95ba1c8a-f546-4287-b81a-a8fdd19462f0",
   "metadata": {},
   "source": [
    "So we iterated through the list of weekdays and for each element (each weekday), we created a temporary variable called day with the value of the element, and printed it.\n",
    "The day <- weekDays expression is called a generator expression. The <- (left arrow) operator is used to iterate through collections.\n",
    "We can also leverage Range to quickly write a for loop:"
   ]
  },
  {
   "cell_type": "code",
   "execution_count": 7,
   "id": "1b2bf570-27c3-47f2-800d-ac8bedc6d810",
   "metadata": {},
   "outputs": [
    {
     "name": "stdout",
     "output_type": "stream",
     "text": [
      "1\n",
      "2\n",
      "3\n",
      "4\n",
      "5\n",
      "6\n",
      "7\n",
      "8\n",
      "9\n",
      "10\n"
     ]
    }
   ],
   "source": [
    "for (i <- 1 to 10) println(i)"
   ]
  },
  {
   "cell_type": "markdown",
   "id": "209b5be1-9fa8-4418-be17-d1bbf66ca037",
   "metadata": {},
   "source": [
    "### Guards\n",
    "We can add if expressions to filter for the elements we want to keep. These expressions are called guards.\n",
    "Let's filter for just the days that start with \"S\", and notice the difference in syntax:"
   ]
  },
  {
   "cell_type": "code",
   "execution_count": 8,
   "id": "bdd3fccb-3943-4b07-a78b-3cd11e546771",
   "metadata": {},
   "outputs": [
    {
     "name": "stdout",
     "output_type": "stream",
     "text": [
      "Saturday\n",
      "Sunday\n"
     ]
    }
   ],
   "source": [
    "for(day <- weekDays\n",
    "  if day.startsWith(\"S\"))\n",
    "println(day)"
   ]
  },
  {
   "cell_type": "code",
   "execution_count": 9,
   "id": "5957b8bf-3631-4f8c-9db2-6e40775df7ac",
   "metadata": {},
   "outputs": [
    {
     "name": "stdout",
     "output_type": "stream",
     "text": [
      "Saturday\n",
      "Sunday\n"
     ]
    }
   ],
   "source": [
    "for{ day <- weekDays\n",
    "  if day.startsWith(\"S\")\n",
    "}{\n",
    "  println(day)\n",
    "}"
   ]
  },
  {
   "cell_type": "markdown",
   "id": "adb46ab2-1c78-48b8-8382-52393ad9a3f8",
   "metadata": {},
   "source": [
    "### Yielding\n",
    "The yield keyword is used to generate new collections with for expressions:"
   ]
  },
  {
   "cell_type": "code",
   "execution_count": 10,
   "id": "a572f4ca-53dd-4627-b561-11a44a78d697",
   "metadata": {},
   "outputs": [
    {
     "name": "stdout",
     "output_type": "stream",
     "text": [
      "Saturday\n",
      "Sunday\n"
     ]
    },
    {
     "data": {
      "text/plain": [
       "filteredDays: List[String] = List(Saturday, Sunday)\r\n"
      ]
     },
     "execution_count": 10,
     "metadata": {},
     "output_type": "execute_result"
    }
   ],
   "source": [
    "val filteredDays = for{\n",
    "  day <- weekDays\n",
    "  if day.startsWith(\"S\")\n",
    "}yield day\n",
    "\n",
    "filteredDays.foreach(println)"
   ]
  },
  {
   "cell_type": "markdown",
   "id": "360cdae0-af92-40b6-bfcd-a625d763cd22",
   "metadata": {},
   "source": [
    "Note that if you do not specify the type of the yielded collection, it is inferred from the type of the original collection being iterated over."
   ]
  },
  {
   "cell_type": "markdown",
   "id": "1bbb3150-40c9-45d8-a380-ff7771953c01",
   "metadata": {},
   "source": [
    "### Method Definition\n",
    "Method definitions begin with the def keyword, followed by an optional list of arguments. After that, you can place an optional return type. If you don't provide the return type, it will be inferred. After that, a = acts as the separator between method signature and method body.\n",
    "Let's define a method that takes a variable-length list of strings and returns the upper-cased version of the input list:"
   ]
  },
  {
   "cell_type": "code",
   "execution_count": 11,
   "id": "20734ff1-8df0-4759-969e-1505c847816b",
   "metadata": {},
   "outputs": [
    {
     "data": {
      "text/plain": [
       "upper: (strings: String*)Seq[String]\r\n"
      ]
     },
     "execution_count": 11,
     "metadata": {},
     "output_type": "execute_result"
    }
   ],
   "source": [
    "def upper(strings: String*): Seq[String] = {\n",
    "  strings.map((s: String) => s.toUpperCase())\n",
    "}"
   ]
  },
  {
   "cell_type": "code",
   "execution_count": 12,
   "id": "940973f8-c240-477d-8b76-cc11a2696911",
   "metadata": {},
   "outputs": [
    {
     "name": "stdout",
     "output_type": "stream",
     "text": [
      "FIRST STRING\n",
      "SECOND STRING\n"
     ]
    }
   ],
   "source": [
    "upper(\"First String\", \"Second String\").foreach(println)"
   ]
  },
  {
   "cell_type": "markdown",
   "id": "73182b9a-a375-4463-991d-f697cf411c02",
   "metadata": {},
   "source": [
    "In Scala, the last expression in a function or method is the return value.\n",
    "However, Scala contains return keyword for interoperability with Java, but it is rarely used in methods.\n",
    "If a method takes no parameters, you can define it without parantheses. However, the convention is to omit parantheses for no-argument methods that have no side effects (for example, a method that returns the size of a collection) and add empty parantheses if side effects (e.g. I/O) are performed, as a caution to the user.\n",
    "\n",
    "### A Note on Method Return Type Inferrence\n",
    "Although you can leave out the return type specification, the best practice is to always define the return type explicitly. Explicit return types express what you expect the method to return. This is specially important when writing public APIs."
   ]
  },
  {
   "cell_type": "markdown",
   "id": "b678d620-a7a5-4a23-9c32-2e4bd2ac769a",
   "metadata": {},
   "source": [
    "### Anonymous Functions\n",
    "We could achieve the same functionality of the upper method with just defined, without explicitly defining a method, and using what is called an anonymous function:"
   ]
  },
  {
   "cell_type": "code",
   "execution_count": 13,
   "id": "ce40d023-d444-4ff8-ad4c-f436b20f2698",
   "metadata": {},
   "outputs": [
    {
     "name": "stdout",
     "output_type": "stream",
     "text": [
      "FIRST\n",
      "SECOND\n",
      "THIRD\n",
      "FOURTH\n"
     ]
    },
    {
     "data": {
      "text/plain": [
       "listOfStrings: List[String] = List(First, Second, Third, Fourth)\r\n"
      ]
     },
     "execution_count": 13,
     "metadata": {},
     "output_type": "execute_result"
    }
   ],
   "source": [
    "val listOfStrings: List[String] = List(\"First\", \"Second\", \"Third\", \"Fourth\") // we could also just write:   val listOfStrings = List(\"First\",\"Second,\"Third\",\"Fourth\")\n",
    "\n",
    "listOfStrings.map(s => s.toUpperCase()).foreach(println)"
   ]
  },
  {
   "cell_type": "code",
   "execution_count": 14,
   "id": "10704808-9cf3-4b4e-b156-9f3729e95c97",
   "metadata": {},
   "outputs": [
    {
     "data": {
      "text/plain": [
       "res7: List[String] = List(FIRST, SECOND, THIRD, FOURTH)\r\n"
      ]
     },
     "execution_count": 14,
     "metadata": {},
     "output_type": "execute_result"
    }
   ],
   "source": [
    "listOfStrings.map(_.toUpperCase)\n"
   ]
  },
  {
   "cell_type": "markdown",
   "id": "ff6a502c-bd61-44ca-906b-3fbf17faf6b5",
   "metadata": {},
   "source": [
    "### Higher-Order Functions\n",
    "When a function accepts other functions as arguments or returns functions as values, it is called a higher-order function (HOF)."
   ]
  },
  {
   "cell_type": "markdown",
   "id": "8a7bc434-b3ec-46d0-88d3-d78dece98a30",
   "metadata": {},
   "source": [
    "### Tuples\n",
    "Ever wanted to return more than one value from a method? Scala provides a concise and powerful data structure for this purpose, called TupleN (N can be between 1 and 22)."
   ]
  },
  {
   "cell_type": "code",
   "execution_count": 15,
   "id": "c383cfba-784a-4d15-9869-0ab124bc887a",
   "metadata": {},
   "outputs": [
    {
     "name": "stdout",
     "output_type": "stream",
     "text": [
      "First is: One\n",
      "Second is: Two\n"
     ]
    },
    {
     "data": {
      "text/plain": [
       "t2: (String, String) = (One,Two)\r\n"
      ]
     },
     "execution_count": 15,
     "metadata": {},
     "output_type": "execute_result"
    }
   ],
   "source": [
    "val t2: Tuple2[String, String] = (\"One\", \"Two\") \n",
    "\n",
    "println(\"First is: \" + t2._1)\n",
    "println(\"Second is: \" + t2._2)"
   ]
  },
  {
   "cell_type": "code",
   "execution_count": 16,
   "id": "64e9703f-75c6-4094-a4f2-6c7a9f10f042",
   "metadata": {},
   "outputs": [
    {
     "name": "stdout",
     "output_type": "stream",
     "text": [
      "(This,is,third)\n"
     ]
    },
    {
     "data": {
      "text/plain": [
       "t3: (String, String, String) = (This,is,third)\r\n"
      ]
     },
     "execution_count": 16,
     "metadata": {},
     "output_type": "execute_result"
    }
   ],
   "source": [
    "val t3 = (\"This\", \"is\", \"third\")\n",
    "println(t3)"
   ]
  },
  {
   "cell_type": "code",
   "execution_count": 17,
   "id": "5fc1bbc0-8964-465b-b839-fe368fbf38fe",
   "metadata": {},
   "outputs": [
    {
     "name": "stdout",
     "output_type": "stream",
     "text": [
      "(This,is,Tuple,4)\n"
     ]
    },
    {
     "data": {
      "text/plain": [
       "t4: (String, String, String, Int) = (This,is,Tuple,4)\r\n"
      ]
     },
     "execution_count": 17,
     "metadata": {},
     "output_type": "execute_result"
    }
   ],
   "source": [
    "val t4 = Tuple4(\"This\", \"is\", \"Tuple\", 4)\n",
    "println(t4)"
   ]
  },
  {
   "cell_type": "markdown",
   "id": "0c27ee76-7748-4a7a-85f7-fe9f00f5583f",
   "metadata": {},
   "source": [
    "### Classes\n",
    "In Scala, a class definition begins with the class keyword and the body is placed inside the outermost curly braces {}."
   ]
  },
  {
   "cell_type": "code",
   "execution_count": 19,
   "id": "b529098e-05c3-4523-864e-e988e856eb0a",
   "metadata": {},
   "outputs": [
    {
     "name": "stdout",
     "output_type": "stream",
     "text": [
      "ArrayBuffer(SCALA, IS, COOL!)\n"
     ]
    },
    {
     "data": {
      "text/plain": [
       "defined class Upper\r\n",
       "up: Upper = Upper@64bf3c80\r\n"
      ]
     },
     "execution_count": 19,
     "metadata": {},
     "output_type": "execute_result"
    }
   ],
   "source": [
    "class Upper{\n",
    "  def upper(strings: String*): Seq[String] = {\n",
    "    strings.map((s: String) => s.toUpperCase())\n",
    "  }\n",
    "}\n",
    "val up = new Upper\n",
    "println(up.upper(\"Scala\", \"is\", \"cool!\")) // print the actual list\n"
   ]
  },
  {
   "cell_type": "code",
   "execution_count": 20,
   "id": "39fae8bd-c35b-4b50-aa21-0e7ec7261242",
   "metadata": {},
   "outputs": [
    {
     "data": {
      "text/plain": [
       "defined class Person\r\n"
      ]
     },
     "execution_count": 20,
     "metadata": {},
     "output_type": "execute_result"
    }
   ],
   "source": [
    "class Person(val name: String, var age: Int = 12)"
   ]
  },
  {
   "cell_type": "code",
   "execution_count": 21,
   "id": "4f88d7a9-1685-4676-8fe8-e6c84538f476",
   "metadata": {},
   "outputs": [
    {
     "name": "stdout",
     "output_type": "stream",
     "text": [
      "Sina\n",
      "24\n"
     ]
    },
    {
     "data": {
      "text/plain": [
       "p: Person = Person@47e957b3\r\n"
      ]
     },
     "execution_count": 21,
     "metadata": {},
     "output_type": "execute_result"
    }
   ],
   "source": [
    "val p = new Person(\"Sina\", 24)\n",
    "\n",
    "println(p.name)\n",
    "println(p.age)"
   ]
  },
  {
   "cell_type": "code",
   "execution_count": 22,
   "id": "a65b5091-6594-4ed5-a6b8-0ed25941c2ca",
   "metadata": {},
   "outputs": [
    {
     "name": "stdout",
     "output_type": "stream",
     "text": [
      "25\n"
     ]
    },
    {
     "data": {
      "text/plain": [
       "p.age: Int = 25\r\n"
      ]
     },
     "execution_count": 22,
     "metadata": {},
     "output_type": "execute_result"
    }
   ],
   "source": [
    "p.age = 25\n",
    "println(p.age)"
   ]
  },
  {
   "cell_type": "markdown",
   "id": "f334c158-0d82-488c-93d6-47b6cfe605bd",
   "metadata": {},
   "source": [
    "### Objects\n",
    "Take a look at this block of code:"
   ]
  },
  {
   "cell_type": "code",
   "execution_count": 23,
   "id": "900553fe-a193-45af-a91c-d3d19ebe5c1b",
   "metadata": {},
   "outputs": [
    {
     "name": "stdout",
     "output_type": "stream",
     "text": [
      "ArrayBuffer(SCALA, IS, COOL!)\n"
     ]
    },
    {
     "data": {
      "text/plain": [
       "defined object UpperObject\r\n"
      ]
     },
     "execution_count": 23,
     "metadata": {},
     "output_type": "execute_result"
    }
   ],
   "source": [
    "object UpperObject{\n",
    "  def upper(strings: String*) = strings.map(_.toUpperCase())\n",
    "}\n",
    "println(UpperObject.upper(\"Scala\", \"is\", \"cool!\"))"
   ]
  },
  {
   "cell_type": "markdown",
   "id": "e06764b4-1e85-4e61-bab3-ba7dbcce96ed",
   "metadata": {},
   "source": [
    "When we declare something with the object keyword, it will be considered a singleton (Remember the Singleton Design Pattern?). We are declaring a class, but the Scala runtime will only create one instance of it, thus we cannot write new Upper.\n",
    "Also, in Scala, the main method must be placed inside an object. (In Java, main must be a static method in a class.)"
   ]
  },
  {
   "cell_type": "markdown",
   "id": "ab5e9e9b-f51e-4b90-aaf2-6c39f1fe7383",
   "metadata": {},
   "source": [
    "### Pattern Matching\n",
    "Pattern matching is a powerful feature of Scala, and can be used for decomposing data structures. It can also be used for exception handling."
   ]
  },
  {
   "cell_type": "code",
   "execution_count": 24,
   "id": "f83de994-ce91-4a87-be2e-b1c5e862c064",
   "metadata": {},
   "outputs": [
    {
     "name": "stdout",
     "output_type": "stream",
     "text": [
      "It's true\n",
      "It's false\n"
     ]
    },
    {
     "data": {
      "text/plain": [
       "bools: Seq[Boolean] = List(true, false)\r\n"
      ]
     },
     "execution_count": 24,
     "metadata": {},
     "output_type": "execute_result"
    }
   ],
   "source": [
    "val bools = Seq(true, false)\n",
    "\n",
    "for(bool <- bools){\n",
    "  bool match{\n",
    "    case true => println(\"It's true\")\n",
    "    case false => println(\"It's false\")\n",
    "  }\n",
    "}"
   ]
  },
  {
   "cell_type": "code",
   "execution_count": 25,
   "id": "2f7e72ed-fe6d-48ce-87e2-259b36b9a43c",
   "metadata": {},
   "outputs": [
    {
     "name": "stdout",
     "output_type": "stream",
     "text": [
      "int 1\n",
      "other int: 2\n",
      "a double: 2.7\n",
      "string one\n",
      "other string: two\n",
      "unexpected value: 'four\n"
     ]
    },
    {
     "data": {
      "text/plain": [
       "sequence: Seq[Any] = List(1, 2, 2.7, one, two, 'four)\r\n"
      ]
     },
     "execution_count": 25,
     "metadata": {},
     "output_type": "execute_result"
    }
   ],
   "source": [
    "val sequence = Seq(1, 2, 2.7, \"one\", \"two\", 'four)\n",
    "for(x <- sequence)\n",
    "{ val str = x match {\n",
    "    case 1 => \"int 1\"\n",
    "    case i: Int => \"other int: \"+i\n",
    "    case d: Double => \"a double: \"+d\n",
    "    case \"one\" => \"string one\"\n",
    "    case s: String => \"other string: \"+s\n",
    "    case unexpected => \"unexpected value: \"+unexpected\n",
    "  }\n",
    "  println(str)\n",
    " }"
   ]
  },
  {
   "cell_type": "markdown",
   "id": "7c357e35-5cec-471c-bba9-36b25e32d6ee",
   "metadata": {},
   "source": [
    "### Partial Functions\n",
    "A Partial Function consists only of case clauses, and the entire body must be enclosed in braces.\n",
    "When one of the patterns matches, the expressions after the => up to the next case keyword (or, the end of function) are evaluated.\n",
    "If the function is called with an input that doesn't match one of the case clauses, a MathError will be thrown at the runtime.\n",
    "You can test if a partial function matches its input using isDefinedAt method.\n",
    "A classic example of a partial function in mathematics is division (x/y) which is undefined when y is 0."
   ]
  },
  {
   "cell_type": "code",
   "execution_count": 26,
   "id": "f46eb115-359c-4827-a614-3891a3770440",
   "metadata": {},
   "outputs": [
    {
     "name": "stdout",
     "output_type": "stream",
     "text": [
      "true\n",
      "false\n"
     ]
    },
    {
     "data": {
      "text/plain": [
       "one: PartialFunction[Int,String] = <function1>\r\n"
      ]
     },
     "execution_count": 26,
     "metadata": {},
     "output_type": "execute_result"
    }
   ],
   "source": [
    "val one: PartialFunction[Int, String] = { case 1 => \"one\"}\n",
    "println(one.isDefinedAt(1))\n",
    "println(one.isDefinedAt(0))"
   ]
  },
  {
   "cell_type": "code",
   "execution_count": 27,
   "id": "04c9d590-0894-4149-a88f-7865cc83de4f",
   "metadata": {},
   "outputs": [
    {
     "data": {
      "text/plain": [
       "two: PartialFunction[Any,String] = <function1>\r\n"
      ]
     },
     "execution_count": 27,
     "metadata": {},
     "output_type": "execute_result"
    }
   ],
   "source": [
    "val two: PartialFunction[Any, String] = {\n",
    "  case 2 => \"literal for two\"\n",
    "  case s: String if (s.length < 5) => \"Length is less than 5\"\n",
    "  case s: String => \"You entered a string\"\n",
    "  case d: Double => \"It's a Double\"\n",
    "  case unexpected => \"Unexpected input\"\n",
    "}"
   ]
  },
  {
   "cell_type": "code",
   "execution_count": 28,
   "id": "389ac5b6-f519-4ab0-a848-1983e6c2b739",
   "metadata": {},
   "outputs": [
    {
     "name": "stdout",
     "output_type": "stream",
     "text": [
      "literal for two\n",
      "Length is less than 5\n",
      "You entered a string\n",
      "It's a Double\n",
      "Unexpected input\n"
     ]
    }
   ],
   "source": [
    "println(two(2))\n",
    "println(two(\"Test\"))\n",
    "println(two(\"Long String\"))\n",
    "println(two(3.0d))\n",
    "println(two('a'))"
   ]
  },
  {
   "cell_type": "markdown",
   "id": "e0490b33-9492-478f-b738-4a5c8d22fff9",
   "metadata": {},
   "source": [
    "You can chain several partial functions together using the following syntax: pf1 orElse pf2 orElse pf3 .... A MathError is only thrown if none of the partial functions match the input."
   ]
  },
  {
   "cell_type": "markdown",
   "id": "ccbb1c27-507e-45bf-abbd-e13169a35dc4",
   "metadata": {},
   "source": [
    "### Ranges\n",
    "A Range literal makes it very easy to create sequences of numbers and characters. You can create ranges with an inclusive and exclusive upper bounds and arbitrary intervals. Let's explore this through some examples:"
   ]
  },
  {
   "cell_type": "code",
   "execution_count": 29,
   "id": "f3f735ad-20f2-42e6-983d-bffe3c0f6fc4",
   "metadata": {},
   "outputs": [
    {
     "data": {
      "text/plain": [
       "res20: scala.collection.immutable.Range.Inclusive = Range 1 to 10\r\n"
      ]
     },
     "execution_count": 29,
     "metadata": {},
     "output_type": "execute_result"
    }
   ],
   "source": [
    "1 to 10"
   ]
  },
  {
   "cell_type": "code",
   "execution_count": 30,
   "id": "c4d0eac0-46ef-487f-91b6-476c54c51a2d",
   "metadata": {},
   "outputs": [
    {
     "name": "stdout",
     "output_type": "stream",
     "text": [
      "1\n",
      "2\n",
      "3\n",
      "4\n",
      "5\n",
      "6\n",
      "7\n",
      "8\n",
      "9\n"
     ]
    },
    {
     "data": {
      "text/plain": [
       "range1: scala.collection.immutable.Range = Range 1 until 10\r\n",
       "res21: Int = 1\r\n"
      ]
     },
     "execution_count": 30,
     "metadata": {},
     "output_type": "execute_result"
    }
   ],
   "source": [
    "val range1 = 1 until 10\n",
    "range1.foreach(println)\n",
    "range1(0)"
   ]
  },
  {
   "cell_type": "code",
   "execution_count": 31,
   "id": "d92fb9c6-b170-4785-902c-181d61a7de68",
   "metadata": {},
   "outputs": [
    {
     "data": {
      "text/plain": [
       "res22: scala.collection.immutable.NumericRange[Float] = NumericRange 1.0 to 11.0 by 3.1\r\n"
      ]
     },
     "execution_count": 31,
     "metadata": {},
     "output_type": "execute_result"
    }
   ],
   "source": [
    "1f to 11f by 3.1f"
   ]
  },
  {
   "cell_type": "code",
   "execution_count": 32,
   "id": "cfc68563-0ef4-44d1-a823-379142e5edb8",
   "metadata": {},
   "outputs": [
    {
     "data": {
      "text/plain": [
       "x: Array[Char] = Array(a, d, g)\r\n"
      ]
     },
     "execution_count": 32,
     "metadata": {},
     "output_type": "execute_result"
    }
   ],
   "source": [
    "val x = ('a' to 'g' by 3).toArray"
   ]
  },
  {
   "cell_type": "code",
   "execution_count": 33,
   "id": "c78872f3-ba12-4aec-8d94-a0d2b0db7999",
   "metadata": {},
   "outputs": [
    {
     "name": "stdout",
     "output_type": "stream",
     "text": [
      "1\n",
      "2\n",
      "3\n"
     ]
    }
   ],
   "source": [
    "for (i <- 1 to 3) println(i)"
   ]
  },
  {
   "cell_type": "markdown",
   "id": "6b8bc184-3ddc-4fe1-9de2-370c67be863c",
   "metadata": {},
   "source": [
    "### while and do-while Loops\n",
    "These loops are somewhat similiar to Java. Let's write a do-while loop that uses a mutable variable and counts up to 10:"
   ]
  },
  {
   "cell_type": "code",
   "execution_count": 34,
   "id": "50c91388-e25d-4dd3-88d0-257d384aefd9",
   "metadata": {},
   "outputs": [
    {
     "name": "stdout",
     "output_type": "stream",
     "text": [
      "1\n",
      "2\n",
      "3\n",
      "4\n",
      "5\n",
      "6\n",
      "7\n",
      "8\n",
      "9\n",
      "10\n"
     ]
    },
    {
     "data": {
      "text/plain": [
       "count: Int = 10\r\n"
      ]
     },
     "execution_count": 34,
     "metadata": {},
     "output_type": "execute_result"
    }
   ],
   "source": [
    "var count = 0\n",
    "\n",
    "do{\n",
    "  count += 1\n",
    "  println(count)\n",
    "} while (count < 10)"
   ]
  },
  {
   "cell_type": "markdown",
   "id": "44602bde-e775-49e2-8257-14d61bc3503a",
   "metadata": {},
   "source": [
    "### Collections\n",
    "Scala defines several collection classes:\n",
    "\n",
    "### Base Classes\n",
    "Iterable (collections you can iterate on)\n",
    "Seq (ordered Sequences)\n",
    "Set\n",
    "Map (Lookup Data Structure)\n",
    "### Immutable Collections\n",
    "List (linked list, fast sequential access)\n",
    "Stream (same as List, except that the tail is evaluated only on demand)\n",
    "Vector (array-like type, implemented as tree of blocks, provides fast random access)\n",
    "Range (ordered sequence of integers with equal spacing)\n",
    "String (Java type, implicitly converted to a character sequence, so you can treat every string like a Seq[Char])\n",
    "Map (collection that maps keys to values)\n",
    "Set (collection without duplicate elements)\n",
    "### Mutable Collections\n",
    "Array (fixed-size sequential collection of elements of the same type)"
   ]
  },
  {
   "cell_type": "code",
   "execution_count": 35,
   "id": "4e4e094b-506a-4060-a478-57d300cdcd53",
   "metadata": {},
   "outputs": [
    {
     "name": "stdout",
     "output_type": "stream",
     "text": [
      "Scala\n"
     ]
    },
    {
     "data": {
      "text/plain": [
       "m: scala.collection.immutable.Map[Int,String] = Map(1 -> Scala, 2 -> Spark)\r\n"
      ]
     },
     "execution_count": 35,
     "metadata": {},
     "output_type": "execute_result"
    }
   ],
   "source": [
    "val m = Map(1 -> \"Scala\", 2 -> \"Spark\")\n",
    "println(m(1))"
   ]
  },
  {
   "cell_type": "markdown",
   "id": "8d9a682a-2545-4443-80b2-b933919c7e95",
   "metadata": {},
   "source": [
    "### Functional Combinators\n",
    "The most notables are:\n",
    "\n",
    "map: Apply a function over each element in the list\n",
    "flatten: It collapses one level of nested structure\n",
    "flatMap: It's map + flatten\n",
    "foreach: It's like map but returns nothing"
   ]
  },
  {
   "cell_type": "code",
   "execution_count": 36,
   "id": "f26ba4d2-8d9e-4cbf-a6e6-1943ad1353eb",
   "metadata": {},
   "outputs": [
    {
     "data": {
      "text/plain": [
       "numbers: List[Int] = List(1, 2, 3, 4)\r\n"
      ]
     },
     "execution_count": 36,
     "metadata": {},
     "output_type": "execute_result"
    }
   ],
   "source": [
    "val numbers = List(1, 2, 3, 4)"
   ]
  },
  {
   "cell_type": "code",
   "execution_count": 37,
   "id": "83474194-ea91-4993-9478-8f928bb09f31",
   "metadata": {},
   "outputs": [
    {
     "data": {
      "text/plain": [
       "res26: List[Int] = List(2, 4, 6, 8)\r\n"
      ]
     },
     "execution_count": 37,
     "metadata": {},
     "output_type": "execute_result"
    }
   ],
   "source": [
    "numbers.map(i => i*2)"
   ]
  },
  {
   "cell_type": "code",
   "execution_count": 38,
   "id": "7a003117-536a-4136-8cff-98a653dfcf25",
   "metadata": {},
   "outputs": [
    {
     "data": {
      "text/plain": [
       "res27: List[Int] = List(1, 2, 3, 4)\r\n"
      ]
     },
     "execution_count": 38,
     "metadata": {},
     "output_type": "execute_result"
    }
   ],
   "source": [
    "List(List(1,2),List(3,4)).flatten"
   ]
  },
  {
   "cell_type": "markdown",
   "id": "04cde3c2-f1b2-4800-9fce-0b0545005cd2",
   "metadata": {},
   "source": [
    "### Arrays"
   ]
  },
  {
   "cell_type": "code",
   "execution_count": 39,
   "id": "dbf4612b-08a9-4155-8ade-905b7c1f8710",
   "metadata": {},
   "outputs": [
    {
     "data": {
      "text/plain": [
       "array: Array[String] = Array(null, null, null, null, null)\r\n"
      ]
     },
     "execution_count": 39,
     "metadata": {},
     "output_type": "execute_result"
    }
   ],
   "source": [
    "val array: Array[String] = new Array(5)"
   ]
  },
  {
   "cell_type": "code",
   "execution_count": 40,
   "id": "bd5221c2-bf36-434a-85f1-fbea692a68dc",
   "metadata": {},
   "outputs": [],
   "source": [
    "array(0) = \"Hello\""
   ]
  },
  {
   "cell_type": "code",
   "execution_count": 41,
   "id": "33ac4bd0-161c-4aa1-8ce2-5ce4c566b03f",
   "metadata": {},
   "outputs": [],
   "source": [
    "array(4) = \"Bye\""
   ]
  },
  {
   "cell_type": "code",
   "execution_count": 42,
   "id": "86eeabfb-af64-481b-a1e2-e5ecdbf31722",
   "metadata": {},
   "outputs": [
    {
     "name": "stdout",
     "output_type": "stream",
     "text": [
      "Hello\n",
      "null\n",
      "null\n",
      "null\n",
      "Bye\n"
     ]
    }
   ],
   "source": [
    "array.foreach(println)"
   ]
  },
  {
   "cell_type": "markdown",
   "id": "8fa31a12-433f-4c28-9240-5b25044f1f82",
   "metadata": {},
   "source": [
    "### Options "
   ]
  },
  {
   "cell_type": "markdown",
   "id": "07f01613-a2ec-481f-8c9d-22c8d27811fe",
   "metadata": {},
   "source": [
    "Options are the way Scala deals with the situations where we might have a null value. Scala's Option is an abstract class which has two concrete subclasses:\n",
    "\n",
    "Some, for when we have a value, and\n",
    "None, for when we don't have a value - when it's null.\n",
    "The following example demonstrates everything you'll probably need to know about Options:"
   ]
  },
  {
   "cell_type": "code",
   "execution_count": 43,
   "id": "9204b1e9-dccf-40d3-ac87-4ad763348981",
   "metadata": {},
   "outputs": [
    {
     "data": {
      "text/plain": [
       "stateCapitals: scala.collection.immutable.Map[String,String] = Map(Alabama -> Montgomery, Alaska -> Juneau, Wyoming -> Cheyenne)\r\n"
      ]
     },
     "execution_count": 43,
     "metadata": {},
     "output_type": "execute_result"
    }
   ],
   "source": [
    "val stateCapitals = Map(\n",
    "  \"Alabama\" -> \"Montgomery\",\n",
    "  \"Alaska\" -> \"Juneau\",\n",
    "  \"Wyoming\" -> \"Cheyenne\"\n",
    ")"
   ]
  },
  {
   "cell_type": "code",
   "execution_count": 44,
   "id": "c96a4014-0500-4c1c-8539-cb7de61a99ed",
   "metadata": {},
   "outputs": [
    {
     "name": "stdout",
     "output_type": "stream",
     "text": [
      "Get the capitals wrapped in Options:\n",
      "Alabama: Some(Montgomery)\n",
      "Wyoming: Some(Cheyenne)\n",
      "Unknown: None\n"
     ]
    }
   ],
   "source": [
    "println( \"Get the capitals wrapped in Options:\" )\n",
    "println( \"Alabama: \" + stateCapitals.get(\"Alabama\") )\n",
    "println( \"Wyoming: \" + stateCapitals.get(\"Wyoming\") )\n",
    "println( \"Unknown: \" + stateCapitals.get(\"Unknown\") )"
   ]
  },
  {
   "cell_type": "markdown",
   "id": "b1917a86-d820-43e6-94d2-8623d9cb436e",
   "metadata": {},
   "source": [
    "The Map.get method returns an Option[T] (T is String in our case). By returning an Option, we can’t “forget” that we have to verify that something was returned.\n",
    "As you can see, when we ask for an entry that does not exist, the None object will be returned - instead of a null keyword."
   ]
  },
  {
   "cell_type": "markdown",
   "id": "01cc03c3-e184-4c5e-b2eb-e7b2f03bf093",
   "metadata": {},
   "source": [
    "Now we call get or getOrElse on each Option instance to retrieve the value it contains. Using get can be dangerous, because if the returned object is a None, calling get on it would result in a NoSuchElementException.\n",
    "It's better to use getOrElse, where you can specify a default return value in case of a None.\n",
    "Let's see this in action:"
   ]
  },
  {
   "cell_type": "code",
   "execution_count": 45,
   "id": "45f96799-8d54-46f2-a748-d8679f109a39",
   "metadata": {},
   "outputs": [
    {
     "name": "stdout",
     "output_type": "stream",
     "text": [
      "Get the capitals themselves out of the Options:\n",
      "Alabama: Montgomery\n",
      "Wyoming: Cheyenne\n",
      "Unknown: Oops2!\n"
     ]
    },
    {
     "ename": "java.util.NoSuchElementException",
     "evalue": " None.get\r",
     "output_type": "error",
     "traceback": [
      "java.util.NoSuchElementException: None.get\r",
      "  at scala.None$.get(Option.scala:529)\r",
      "  at scala.None$.get(Option.scala:527)\r",
      "  ... 37 elided\r",
      ""
     ]
    }
   ],
   "source": [
    "println( \"Get the capitals themselves out of the Options:\" )\n",
    "println( \"Alabama: \" + stateCapitals.get(\"Alabama\").get )\n",
    "println( \"Wyoming: \" + stateCapitals.get(\"Wyoming\").getOrElse(\"Oops!\") )\n",
    "println( \"Unknown: \" + stateCapitals.get(\"Unknown\").getOrElse(\"Oops2!\") )\n",
    "\n",
    "//let's play with fire!\n",
    "println( \"Unknown: \" + stateCapitals.get(\"Unknown\").get)"
   ]
  },
  {
   "cell_type": "code",
   "execution_count": null,
   "id": "9a38c73f-4103-4aae-a994-7325ba4f5b15",
   "metadata": {},
   "outputs": [],
   "source": []
  },
  {
   "cell_type": "code",
   "execution_count": null,
   "id": "523372db-212b-4799-8326-d5041d28aebf",
   "metadata": {},
   "outputs": [],
   "source": []
  },
  {
   "cell_type": "code",
   "execution_count": null,
   "id": "7c0b8c9d-cacc-4218-bc4b-a9c83015e440",
   "metadata": {},
   "outputs": [],
   "source": []
  },
  {
   "cell_type": "code",
   "execution_count": null,
   "id": "7fbf335e-d8a8-426a-9659-251f87c2be34",
   "metadata": {},
   "outputs": [],
   "source": []
  },
  {
   "cell_type": "code",
   "execution_count": 1,
   "id": "9e2ef0d5-5556-4556-8ae2-0ac46e54ad5b",
   "metadata": {},
   "outputs": [
    {
     "data": {
      "text/plain": [
       "Intitializing Scala interpreter ..."
      ]
     },
     "metadata": {},
     "output_type": "display_data"
    },
    {
     "data": {
      "text/plain": [
       "Spark Web UI available at http://DEV:4040\n",
       "SparkContext available as 'sc' (version = 3.3.0, master = local[*], app id = local-1676176857999)\n",
       "SparkSession available as 'spark'\n"
      ]
     },
     "metadata": {},
     "output_type": "display_data"
    },
    {
     "name": "stdout",
     "output_type": "stream",
     "text": [
      "5\n",
      "6\n"
     ]
    },
    {
     "data": {
      "text/plain": [
       "x: Int = 6\r\n",
       "x: Int = 6\r\n"
      ]
     },
     "execution_count": 1,
     "metadata": {},
     "output_type": "execute_result"
    }
   ],
   "source": [
    "//variable \n",
    "var x =5\n",
    "println(x)\n",
    "\n",
    "x = 6 \n",
    "println(x)"
   ]
  },
  {
   "cell_type": "code",
   "execution_count": 2,
   "id": "a61b051a-e66e-4fd6-82b4-9edf7aec9b6f",
   "metadata": {},
   "outputs": [
    {
     "ename": "<console>",
     "evalue": "29: error: reassignment to val\r",
     "output_type": "error",
     "traceback": [
      "<console>:29: error: reassignment to val\r",
      "       y = 6\r",
      "         ^\r",
      ""
     ]
    }
   ],
   "source": [
    "//contant \n",
    "\n",
    "val y = 5 \n",
    "\n",
    "println(y)\n",
    "\n",
    "y = 6 \n",
    "println(y)"
   ]
  },
  {
   "cell_type": "markdown",
   "id": "4ed4b018-281c-47c7-8844-aa29c8779395",
   "metadata": {},
   "source": [
    "### functions"
   ]
  },
  {
   "cell_type": "raw",
   "id": "f086b1f1-4696-4b6e-ba5f-32d9a767260d",
   "metadata": {},
   "source": [
    "//Define function.\n",
    "//Hidden error: without = it’s a procedure returning Unit; causes havoc. Deprecated in Scala 2.13."
   ]
  },
  {
   "cell_type": "code",
   "execution_count": 4,
   "id": "91c230d2-9431-4895-a94a-52c92d06346f",
   "metadata": {},
   "outputs": [
    {
     "data": {
      "text/plain": [
       "f: (x: Int)Int\r\n"
      ]
     },
     "execution_count": 4,
     "metadata": {},
     "output_type": "execute_result"
    }
   ],
   "source": [
    "def f(x: Int) = { x * x }"
   ]
  },
  {
   "cell_type": "code",
   "execution_count": 10,
   "id": "48851267-ddea-48a5-b056-7f5722492679",
   "metadata": {},
   "outputs": [
    {
     "name": "stdout",
     "output_type": "stream",
     "text": [
      "()\n"
     ]
    }
   ],
   "source": [
    "println( f(8) )"
   ]
  },
  {
   "cell_type": "code",
   "execution_count": 12,
   "id": "541d66c7-0a41-4dbe-ac1c-303e607c30f5",
   "metadata": {},
   "outputs": [
    {
     "data": {
      "text/plain": [
       "f: (x: Int)Unit\r\n"
      ]
     },
     "execution_count": 12,
     "metadata": {},
     "output_type": "execute_result"
    }
   ],
   "source": [
    "def f(x: Int)   { x * x }"
   ]
  },
  {
   "cell_type": "code",
   "execution_count": 13,
   "id": "a487a9ed-37b6-4ca2-a413-a9c116e6fcf7",
   "metadata": {},
   "outputs": [
    {
     "name": "stdout",
     "output_type": "stream",
     "text": [
      "()\n"
     ]
    }
   ],
   "source": [
    "println( f(8) ) "
   ]
  },
  {
   "cell_type": "code",
   "execution_count": 15,
   "id": "493c61ae-f18e-45e9-9c45-221cbf3fe925",
   "metadata": {},
   "outputs": [
    {
     "data": {
      "text/plain": [
       "f: (x: Int)Int\r\n"
      ]
     },
     "execution_count": 15,
     "metadata": {},
     "output_type": "execute_result"
    }
   ],
   "source": [
    "def f(x: Int) :Int = { x * x }"
   ]
  },
  {
   "cell_type": "code",
   "execution_count": 16,
   "id": "5169b436-fe7f-4e37-b734-dbeee7775a7e",
   "metadata": {},
   "outputs": [
    {
     "data": {
      "text/plain": [
       "res9: Int = 64\r\n"
      ]
     },
     "execution_count": 16,
     "metadata": {},
     "output_type": "execute_result"
    }
   ],
   "source": [
    "f(8)"
   ]
  },
  {
   "cell_type": "code",
   "execution_count": 17,
   "id": "e7189f96-a647-448d-a589-c93c83ec42d4",
   "metadata": {},
   "outputs": [
    {
     "data": {
      "text/plain": [
       "f: (x: Any)Unit\r\n"
      ]
     },
     "execution_count": 17,
     "metadata": {},
     "output_type": "execute_result"
    }
   ],
   "source": [
    "def f(x: Any) = println(x)"
   ]
  },
  {
   "cell_type": "code",
   "execution_count": 18,
   "id": "35492a54-191d-463e-8d1c-f2ee3f471d18",
   "metadata": {},
   "outputs": [
    {
     "ename": "<console>",
     "evalue": "2: error: ':' expected but ')' found.\r",
     "output_type": "error",
     "traceback": [
      "<console>:2: error: ':' expected but ')' found.\r",
      "       def f(x) = println(x)\r",
      "              ^\r",
      ""
     ]
    }
   ],
   "source": [
    "def f(x) = println(x)"
   ]
  },
  {
   "cell_type": "markdown",
   "id": "9107130c-cd46-4a7b-a963-e82143fe5d6a",
   "metadata": {},
   "source": [
    "### Type alias."
   ]
  },
  {
   "cell_type": "code",
   "execution_count": 19,
   "id": "cd913b3c-8d76-4993-9eca-28af2025af9a",
   "metadata": {},
   "outputs": [
    {
     "data": {
      "text/plain": [
       "defined type alias R\r\n"
      ]
     },
     "execution_count": 19,
     "metadata": {},
     "output_type": "execute_result"
    }
   ],
   "source": [
    "type R = Double\n"
   ]
  },
  {
   "cell_type": "code",
   "execution_count": 20,
   "id": "7ee23026-2641-4c67-aeea-e9f347b7b449",
   "metadata": {},
   "outputs": [
    {
     "data": {
      "text/plain": [
       "d: R = 20.0\r\n"
      ]
     },
     "execution_count": 20,
     "metadata": {},
     "output_type": "execute_result"
    }
   ],
   "source": [
    "val d : R = 20"
   ]
  },
  {
   "cell_type": "code",
   "execution_count": 21,
   "id": "b2bfc658-b25d-4715-9da8-48282249d7e1",
   "metadata": {},
   "outputs": [
    {
     "ename": "<console>",
     "evalue": " error: incomplete input",
     "output_type": "error",
     "traceback": [
      "<console>: error: incomplete input"
     ]
    }
   ],
   "source": [
    "//Call-by-value.\n",
    "\n",
    "def f(x: R)\n",
    "\n",
    "//Call-by-name (lazy parameters).\n",
    "\n",
    "def f(x: => R)\n"
   ]
  },
  {
   "cell_type": "code",
   "execution_count": 22,
   "id": "3575eebf-bdb7-4dc1-8991-c1afc9376b2d",
   "metadata": {},
   "outputs": [
    {
     "data": {
      "text/plain": [
       "res10: R => Double = $Lambda$1938/1691135418@3844e5cf\r\n"
      ]
     },
     "execution_count": 22,
     "metadata": {},
     "output_type": "execute_result"
    }
   ],
   "source": [
    "(x: R) => x * x\n",
    "//Anonymous function."
   ]
  },
  {
   "cell_type": "code",
   "execution_count": 24,
   "id": "9537a997-c909-4efa-a556-ee6e3af8e851",
   "metadata": {},
   "outputs": [
    {
     "data": {
      "text/plain": [
       "res12: scala.collection.immutable.IndexedSeq[Int] = Vector(2, 4, 6, 8, 10)\r\n"
      ]
     },
     "execution_count": 24,
     "metadata": {},
     "output_type": "execute_result"
    }
   ],
   "source": [
    "(1 to 5).map(_ * 2)\n",
    "\n"
   ]
  },
  {
   "cell_type": "code",
   "execution_count": 25,
   "id": "d850b2be-561a-4cf4-ad32-3239a33d08ec",
   "metadata": {},
   "outputs": [
    {
     "data": {
      "text/plain": [
       "res13: Int = 15\r\n"
      ]
     },
     "execution_count": 25,
     "metadata": {},
     "output_type": "execute_result"
    }
   ],
   "source": [
    "//vs.\n",
    "\n",
    "(1 to 5).reduceLeft(_ + _)\n",
    "\n",
    "//Anonymous function: underscore is positionally matched arg."
   ]
  },
  {
   "cell_type": "code",
   "execution_count": 26,
   "id": "c2bc970a-284f-406e-b223-39b5130b4ee8",
   "metadata": {},
   "outputs": [
    {
     "data": {
      "text/plain": [
       "res14: scala.collection.immutable.IndexedSeq[Int] = Vector(1, 4, 9, 16, 25)\r\n"
      ]
     },
     "execution_count": 26,
     "metadata": {},
     "output_type": "execute_result"
    }
   ],
   "source": [
    "(1 to 5).map(x => x * x)\n",
    "//Anonymous function: to use an arg twice, have to name it."
   ]
  },
  {
   "cell_type": "code",
   "execution_count": 27,
   "id": "6a333471-e615-4cea-9a85-70e237bd5584",
   "metadata": {},
   "outputs": [
    {
     "name": "stdout",
     "output_type": "stream",
     "text": [
      "2\n",
      "4\n",
      "6\n",
      "8\n",
      "10\n"
     ]
    },
    {
     "data": {
      "text/plain": [
       "res15: scala.collection.immutable.IndexedSeq[Int] = Vector(2, 4, 6, 8, 10)\r\n"
      ]
     },
     "execution_count": 27,
     "metadata": {},
     "output_type": "execute_result"
    }
   ],
   "source": [
    "(1 to 5).map { x =>\n",
    "  val y = x * 2\n",
    "  println(y)\n",
    "  y\n",
    "}\n",
    "\n",
    "//Anonymous function: block style returns last expression."
   ]
  },
  {
   "cell_type": "code",
   "execution_count": 28,
   "id": "5488cfb9-794b-4bd6-a5e4-ea6e7266fe80",
   "metadata": {},
   "outputs": [
    {
     "data": {
      "text/plain": [
       "res16: scala.collection.immutable.IndexedSeq[Int] = Vector(4, 8)\r\n"
      ]
     },
     "execution_count": 28,
     "metadata": {},
     "output_type": "execute_result"
    }
   ],
   "source": [
    "(1 to 5) filter {\n",
    "  _ % 2 == 0\n",
    "} map {\n",
    "  _ * 2\n",
    "}\n",
    "\n",
    "//Anonymous functions: pipeline style (or parens too)."
   ]
  },
  {
   "cell_type": "code",
   "execution_count": 29,
   "id": "839151ac-f84d-41b7-9eae-abd0cc01d866",
   "metadata": {},
   "outputs": [
    {
     "data": {
      "text/plain": [
       "compose: (g: R => R, h: R => R)R => R\r\n",
       "f: R => R = $Lambda$2019/903226839@58154bab\r\n"
      ]
     },
     "execution_count": 29,
     "metadata": {},
     "output_type": "execute_result"
    }
   ],
   "source": [
    "def compose(g: R => R, h: R => R) =\n",
    "  (x: R) => g(h(x))\n",
    "\n",
    "val f = compose(_ * 2, _ - 1)\n",
    "\n",
    "//Anonymous functions: to pass in multiple blocks, need outer parens."
   ]
  },
  {
   "cell_type": "code",
   "execution_count": 30,
   "id": "5f544881-c111-4c9a-8f86-6b916d4624ee",
   "metadata": {},
   "outputs": [
    {
     "data": {
      "text/plain": [
       "zscore: (R, R) => R => Double = $Lambda$2025/1954201916@1785db77\r\n"
      ]
     },
     "execution_count": 30,
     "metadata": {},
     "output_type": "execute_result"
    }
   ],
   "source": [
    "val zscore =\n",
    "  (mean: R, sd: R) =>\n",
    "    (x: R) =>\n",
    "      (x - mean) / sd\n",
    "\n",
    "//Currying, obvious syntax."
   ]
  },
  {
   "cell_type": "code",
   "execution_count": 31,
   "id": "ed0e7b09-c221-402c-8e72-e3b4ede7198b",
   "metadata": {},
   "outputs": [
    {
     "data": {
      "text/plain": [
       "zscore: (mean: R, sd: R)R => Double\r\n"
      ]
     },
     "execution_count": 31,
     "metadata": {},
     "output_type": "execute_result"
    }
   ],
   "source": [
    "def zscore(mean: R, sd: R) =\n",
    "  (x: R) =>\n",
    "    (x - mean) / sd\n",
    "\n",
    "//Currying, obvious syntax.\n"
   ]
  },
  {
   "cell_type": "code",
   "execution_count": 32,
   "id": "822233b8-3a76-4c3c-be65-13e5bb76ffb2",
   "metadata": {},
   "outputs": [
    {
     "data": {
      "text/plain": [
       "zscore: (mean: R, sd: R)(x: R)Double\r\n"
      ]
     },
     "execution_count": 32,
     "metadata": {},
     "output_type": "execute_result"
    }
   ],
   "source": [
    "def zscore(mean: R, sd: R)(x: R) =\n",
    "  (x - mean) / sd\n",
    "\n",
    "\n",
    "//Currying, sugar syntax. But then:"
   ]
  },
  {
   "cell_type": "code",
   "execution_count": 33,
   "id": "f6c29fec-a1db-4ffc-a606-e40ab561bccb",
   "metadata": {},
   "outputs": [
    {
     "data": {
      "text/plain": [
       "normer: R => Double = $Lambda$2033/234013296@1a1fb03c\r\n"
      ]
     },
     "execution_count": 33,
     "metadata": {},
     "output_type": "execute_result"
    }
   ],
   "source": [
    "val normer =\n",
    "  zscore(7, 0.4) _\n",
    "//Need trailing underscore to get the partial, only for the sugar version."
   ]
  },
  {
   "cell_type": "code",
   "execution_count": 34,
   "id": "5cc35324-5578-4881-bc9c-7b3e63f1b43f",
   "metadata": {},
   "outputs": [
    {
     "data": {
      "text/plain": [
       "mapmake: [T](g: T => T)(seq: List[T])List[T]\r\n"
      ]
     },
     "execution_count": 34,
     "metadata": {},
     "output_type": "execute_result"
    }
   ],
   "source": [
    "def mapmake[T](g: T => T)(seq: List[T]) =\n",
    "  seq.map(g)\n",
    "//Generic type."
   ]
  },
  {
   "cell_type": "code",
   "execution_count": 44,
   "id": "9704d367-1fb9-45fe-8707-29cba79061a7",
   "metadata": {},
   "outputs": [
    {
     "name": "stdout",
     "output_type": "stream",
     "text": [
      "8\n"
     ]
    },
    {
     "data": {
      "text/plain": [
       "res25: scala.collection.immutable.IndexedSeq[Int] = Vector(2, 4, 6, 8, 10)\r\n"
      ]
     },
     "execution_count": 44,
     "metadata": {},
     "output_type": "execute_result"
    }
   ],
   "source": [
    "println( 5 .+ (3)  )// 5 + 3\n",
    "\n",
    "(1 to 5) map (_ * 2)\n",
    "//Infix sugar."
   ]
  },
  {
   "cell_type": "code",
   "execution_count": 45,
   "id": "c15a7cc8-dc20-4934-bb03-f91e29a7ba14",
   "metadata": {},
   "outputs": [
    {
     "data": {
      "text/plain": [
       "sum: (args: Int*)Int\r\n"
      ]
     },
     "execution_count": 45,
     "metadata": {},
     "output_type": "execute_result"
    }
   ],
   "source": [
    "def sum(args: Int*) =\n",
    "  args.reduceLeft(_+_)\n",
    "//Varargs."
   ]
  },
  {
   "cell_type": "markdown",
   "id": "d2f21829-f9ff-4375-9db0-034ce22b0050",
   "metadata": {},
   "source": [
    "### packages"
   ]
  },
  {
   "cell_type": "code",
   "execution_count": 49,
   "id": "a586ca3c-2bf5-4102-9e65-75f18e0385cf",
   "metadata": {},
   "outputs": [
    {
     "ename": "<console>",
     "evalue": "26: error: object Vector is not a member of package collection\r",
     "output_type": "error",
     "traceback": [
      "<console>:26: error: object Vector is not a member of package collection\r",
      "       import scala.collection.Vector\r",
      "              ^\r",
      "<console>:28: error: object Vector is not a member of package collection\r",
      "       import scala.collection.{Vector, Sequence}\r",
      "              ^\r",
      "<console>:31: error: object Vector is not a member of package collection\r",
      "       import scala.collection.{Vector => Vec28}\r",
      "              ^\r",
      ""
     ]
    }
   ],
   "source": [
    "import scala.collection._\n",
    "//Wildcard import.\n",
    "\n",
    "import scala.collection.Vector\n",
    "\n",
    "import scala.collection.{Vector, Sequence}\n",
    "//Selective import.\n",
    "\n",
    "import scala.collection.{Vector => Vec28}\n",
    "//Renaming import.\n",
    "\n",
    "import java.util.{Date => _, _}\n",
    "\n",
    "//Import all from java.util except Date.\n"
   ]
  },
  {
   "cell_type": "code",
   "execution_count": 53,
   "id": "b8cb1e71-fff5-4a1f-a318-a48c405ca40f",
   "metadata": {},
   "outputs": [
    {
     "ename": "<console>",
     "evalue": "3: error: illegal start of definition\r",
     "output_type": "error",
     "traceback": [
      "<console>:3: error: illegal start of definition\r",
      "       package pkg\r",
      "       ^\r",
      "<console>:6: error: identifier expected but 'package' found.\r",
      "       package pkg {\r",
      "       ^\r",
      "<console>:11: error: identifier expected but 'package' found.\r",
      "       package object pkg {\r",
      "       ^\r",
      ""
     ]
    }
   ],
   "source": [
    "//At start of file:\n",
    "package pkg\n",
    "\n",
    "Packaging by scope:\n",
    "package pkg {\n",
    "  //...\n",
    "}\n",
    "\n",
    "Package singleton:\n",
    "package object pkg {\n",
    "  //...\n",
    "}\n",
    "//Declare a package."
   ]
  },
  {
   "cell_type": "code",
   "execution_count": 55,
   "id": "05c9cbec-6e57-443d-af98-b24a1f0612f0",
   "metadata": {},
   "outputs": [
    {
     "data": {
      "text/plain": [
       "res26: (Int, Int, Int) = (1,2,3)\r\n"
      ]
     },
     "execution_count": 55,
     "metadata": {},
     "output_type": "execute_result"
    }
   ],
   "source": [
    "(1, 2, 3)\n",
    "//Tuple literal (Tuple3)."
   ]
  },
  {
   "cell_type": "code",
   "execution_count": 56,
   "id": "dabec2e5-194b-4988-9a9f-f1b79c693bcb",
   "metadata": {},
   "outputs": [
    {
     "data": {
      "text/plain": [
       "x: Int = 1\r\n",
       "y: Int = 2\r\n",
       "z: Int = 3\r\n"
      ]
     },
     "execution_count": 56,
     "metadata": {},
     "output_type": "execute_result"
    }
   ],
   "source": [
    "var (x, y, z) = (1, 2, 3)\n",
    "\n",
    "//Destructuring bind: tuple unpacking via pattern matching."
   ]
  },
  {
   "cell_type": "code",
   "execution_count": 61,
   "id": "c38c871a-ddd7-4710-bdbd-b5b0956ce211",
   "metadata": {},
   "outputs": [
    {
     "data": {
      "text/plain": [
       "x: (Int, Int, Int) = (1,2,3)\r\n",
       "y: (Int, Int, Int) = (1,2,3)\r\n",
       "z: (Int, Int, Int) = (1,2,3)\r\n"
      ]
     },
     "execution_count": 61,
     "metadata": {},
     "output_type": "execute_result"
    }
   ],
   "source": [
    "var x, y, z = (1, 2, 3)\n",
    "//Hidden error: each assigned to the entire tuple."
   ]
  },
  {
   "cell_type": "code",
   "execution_count": 63,
   "id": "e1407acf-afb4-48c3-b50d-411f2ef13b57",
   "metadata": {},
   "outputs": [
    {
     "data": {
      "text/plain": [
       "xs: List[Int] = List(1, 2, 3)\r\n"
      ]
     },
     "execution_count": 63,
     "metadata": {},
     "output_type": "execute_result"
    }
   ],
   "source": [
    "var xs = List(1, 2, 3)\n",
    "//List (immutable)."
   ]
  },
  {
   "cell_type": "code",
   "execution_count": 64,
   "id": "2adfadbb-4d18-477f-8693-5f3f952fc55e",
   "metadata": {},
   "outputs": [
    {
     "data": {
      "text/plain": [
       "res28: Int = 3\r\n"
      ]
     },
     "execution_count": 64,
     "metadata": {},
     "output_type": "execute_result"
    }
   ],
   "source": [
    "xs(2)\n",
    "//Paren indexing (slides)."
   ]
  },
  {
   "cell_type": "code",
   "execution_count": 65,
   "id": "b365d462-d7d3-46bb-b25b-25389e3b178d",
   "metadata": {},
   "outputs": [
    {
     "data": {
      "text/plain": [
       "res29: List[Int] = List(1, 2, 3)\r\n"
      ]
     },
     "execution_count": 65,
     "metadata": {},
     "output_type": "execute_result"
    }
   ],
   "source": [
    "1 :: List(2, 3)\n",
    "//Cons."
   ]
  },
  {
   "cell_type": "code",
   "execution_count": 69,
   "id": "3048fc7a-2eab-4afb-8fa0-090fe5046064",
   "metadata": {},
   "outputs": [
    {
     "data": {
      "text/plain": [
       "res33: scala.collection.immutable.Range = inexact Range 1 to 10 by 2\r\n"
      ]
     },
     "execution_count": 69,
     "metadata": {},
     "output_type": "execute_result"
    }
   ],
   "source": [
    "1 to 5\n",
    "//same as\n",
    "1 until 6\n",
    "\n",
    "1 to 10 by 2\n",
    "//Range sugar."
   ]
  },
  {
   "cell_type": "code",
   "execution_count": 70,
   "id": "915884ef-78c3-4f0b-a793-0f93f6bfaaa8",
   "metadata": {},
   "outputs": [],
   "source": [
    "()\n",
    "//Empty parens is singleton value of the Unit type.\n",
    "//Equivalent to void in C and Java."
   ]
  },
  {
   "cell_type": "markdown",
   "id": "8106e9c9-bce1-49a1-8583-0cb16c00732e",
   "metadata": {},
   "source": [
    "### control constructs\n"
   ]
  },
  {
   "cell_type": "code",
   "execution_count": null,
   "id": "11df9c67-ec65-40de-b3a6-57657dec89d1",
   "metadata": {},
   "outputs": [],
   "source": [
    "if (check) happy else sad\n",
    "//Conditional."
   ]
  },
  {
   "cell_type": "code",
   "execution_count": null,
   "id": "5160bfd7-3d14-4b63-9637-28676fa1859d",
   "metadata": {},
   "outputs": [],
   "source": [
    "if (check) happy\n",
    "\n",
    "//same as\n",
    "if (check) happy else ()"
   ]
  },
  {
   "cell_type": "code",
   "execution_count": null,
   "id": "b96d8bc1-6fa0-417e-8629-bfd6f271e7ac",
   "metadata": {},
   "outputs": [],
   "source": [
    "while (x < 5) {\n",
    "  println(x)\n",
    "  x += 1\n",
    "}\n",
    "//While loop."
   ]
  },
  {
   "cell_type": "code",
   "execution_count": null,
   "id": "421d7920-c390-4e3c-99b7-4278269ce593",
   "metadata": {},
   "outputs": [],
   "source": [
    "do {\n",
    "  println(x)\n",
    "  x += 1\n",
    "} while (x < 5)\n",
    "Do-while loop."
   ]
  },
  {
   "cell_type": "code",
   "execution_count": null,
   "id": "0e78ef3a-6791-4173-9fb6-6e45503ed968",
   "metadata": {},
   "outputs": [],
   "source": [
    "import scala.util.control.Breaks._\n",
    "breakable {\n",
    "  for (x <- xs) {\n",
    "    if (Math.random < 0.1)\n",
    "      break\n",
    "  }\n",
    "}\n",
    "Break (slides)."
   ]
  },
  {
   "cell_type": "code",
   "execution_count": 73,
   "id": "e1c42c2b-81c0-453c-8354-c415677c7f2e",
   "metadata": {},
   "outputs": [
    {
     "data": {
      "text/plain": [
       "res37: List[Int] = List(20)\r\n"
      ]
     },
     "execution_count": 73,
     "metadata": {},
     "output_type": "execute_result"
    }
   ],
   "source": [
    "for (x <- xs if x % 2 == 0)\n",
    "  yield x * 10\n",
    "\n",
    "//same as\n",
    "xs.filter(_ % 2 == 0).map(_ * 10)\n",
    "//For-comprehension: filter/map"
   ]
  },
  {
   "cell_type": "code",
   "execution_count": null,
   "id": "34e0cec3-13b8-4d08-8b9f-4f01190af0c5",
   "metadata": {},
   "outputs": [],
   "source": [
    "for ((x, y) <- xs zip ys)\n",
    "  yield x * y\n",
    "\n",
    "//same as\n",
    "(xs zip ys) map {\n",
    "  case (x, y) => x * y\n",
    "}\n",
    "//For-comprehension: destructuring bind."
   ]
  },
  {
   "cell_type": "code",
   "execution_count": null,
   "id": "128b1042-6562-423b-bab7-d8190942f5ab",
   "metadata": {},
   "outputs": [],
   "source": [
    "for (x <- xs; y <- ys)\n",
    "  yield x * y\n",
    "\n",
    "same as\n",
    "xs flatMap { x =>\n",
    "  ys map { y =>\n",
    "    x * y\n",
    "  }\n",
    "}\n",
    "//For-comprehension: cross product."
   ]
  },
  {
   "cell_type": "code",
   "execution_count": null,
   "id": "5b79cc68-a9b5-4118-862e-7978f77847ca",
   "metadata": {},
   "outputs": [],
   "source": [
    "for (x <- xs; y <- ys) {\n",
    "  val div = x / y.toFloat\n",
    "  println(\"%d/%d = %.1f\".format(x, y, div))\n",
    "}\n",
    "//For-comprehension: imperative-ish.\n",
    "//sprintf style."
   ]
  },
  {
   "cell_type": "code",
   "execution_count": 75,
   "id": "3f60fb61-f49b-43cd-96d7-695d4a630ce5",
   "metadata": {},
   "outputs": [
    {
     "name": "stdout",
     "output_type": "stream",
     "text": [
      "1\n",
      "2\n",
      "3\n",
      "4\n",
      "5\n",
      "1\n",
      "2\n",
      "3\n",
      "4\n"
     ]
    }
   ],
   "source": [
    "for (i <- 1 to 5) {\n",
    "  println(i)\n",
    "}\n",
    "//For-comprehension: iterate including the upper bound.\n",
    "\n",
    "for (i <- 1 until 5) {\n",
    "  println(i)\n",
    "}\n",
    "//For-comprehension: iterate omitting the upper bound."
   ]
  },
  {
   "cell_type": "markdown",
   "id": "9846cd8a-c90d-4775-9e8a-68924bef37eb",
   "metadata": {},
   "source": [
    "### pattern matching\n"
   ]
  },
  {
   "cell_type": "code",
   "execution_count": null,
   "id": "e9e917c9-a021-430b-8282-b5e1123e95c4",
   "metadata": {},
   "outputs": [],
   "source": [
    "//GOOD\n",
    "(xs zip ys) map {\n",
    "  case (x, y) => x * y\n",
    "}\n",
    "\n",
    "//BAD\n",
    "(xs zip ys) map {\n",
    "  (x, y) => x * y\n",
    "}\n",
    "//Use case in function args for pattern matching."
   ]
  },
  {
   "cell_type": "code",
   "execution_count": 78,
   "id": "ceb11eab-a61c-45ed-9e82-c85412aee7d4",
   "metadata": {},
   "outputs": [
    {
     "name": "stdout",
     "output_type": "stream",
     "text": [
      "42\n"
     ]
    },
    {
     "data": {
      "text/plain": [
       "<console>:28: warning: patterns after a variable pattern cannot match (SLS 8.1.1)\r\n",
       "If you intended to match against value v42 in class $iw, you must use backticks, like: case `v42` =>\r\n",
       "         case v42 => println(\"42\")\r\n",
       "              ^\r\n",
       "<console>:29: warning: unreachable code due to variable pattern 'v42' on line 28\r\n",
       "         case _   => println(\"Not 42\")\r\n",
       "                            ^\r\n",
       "<console>:29: warning: unreachable code\r\n",
       "         case _   => println(\"Not 42\")\r\n",
       "                            ^\r\n",
       "v42: Int = 42\r\n"
      ]
     },
     "execution_count": 78,
     "metadata": {},
     "output_type": "execute_result"
    }
   ],
   "source": [
    "//BAD\n",
    "val v42 = 42\n",
    "3 match {\n",
    "  case v42 => println(\"42\")\n",
    "  case _   => println(\"Not 42\")\n",
    "}\n",
    "// v42 is interpreted as a name matching any Int value, and “42” is printed."
   ]
  },
  {
   "cell_type": "code",
   "execution_count": 77,
   "id": "ac7d8c6f-d9c5-41f0-a3fd-8579610c6b10",
   "metadata": {},
   "outputs": [
    {
     "name": "stdout",
     "output_type": "stream",
     "text": [
      "Not 42\n"
     ]
    },
    {
     "data": {
      "text/plain": [
       "v42: Int = 42\r\n"
      ]
     },
     "execution_count": 77,
     "metadata": {},
     "output_type": "execute_result"
    }
   ],
   "source": [
    "//GOOD\n",
    "val v42 = 42\n",
    "3 match {\n",
    "  case `v42` => println(\"42\")\n",
    "  case _     => println(\"Not 42\")\n",
    "}\n",
    "//`v42` with backticks is interpreted as the existing val v42, and “Not 42” is printed."
   ]
  },
  {
   "cell_type": "code",
   "execution_count": null,
   "id": "3d92cfd3-1dd3-4be6-9e29-c6fc2722d7d8",
   "metadata": {},
   "outputs": [],
   "source": [
    "//GOOD\n",
    "val UppercaseVal = 42\n",
    "3 match {\n",
    "  case UppercaseVal => println(\"42\")\n",
    "  case _            => println(\"Not 42\")\n",
    "}\n",
    "\n",
    "//UppercaseVal is treated as an existing val, rather than a new pattern variable, because it starts with an uppercase letter. Thus, the value contained within UppercaseVal is checked against 3, and “Not 42” is printed."
   ]
  },
  {
   "cell_type": "markdown",
   "id": "fd7f61da-729d-4429-b4c9-0ab9c0d6116f",
   "metadata": {},
   "source": [
    "### object orientation\n"
   ]
  },
  {
   "cell_type": "code",
   "execution_count": null,
   "id": "b963be7e-7b97-4f8f-ba5d-ad5dcb9fcd82",
   "metadata": {},
   "outputs": [],
   "source": []
  },
  {
   "cell_type": "markdown",
   "id": "e2ceee1e-d37f-4b03-8aa3-5a2496719f80",
   "metadata": {},
   "source": [
    "# Scala"
   ]
  },
  {
   "cell_type": "markdown",
   "id": "5372b1a9-9882-422f-9d64-a35c97460167",
   "metadata": {},
   "source": [
    "'Instance of a class' and 'Object' are synonym in java, but not in scala.\n",
    "Scala object is a special type of class that can have only one instance.(Scala object represents a singleton class, here we don't call class but call them object.)\n",
    "Scala doesn't support static members like java. A mechanism to define a static method in Scala, one must place them in an object. Generally we use Scala object for utility methods. So they can be called without even instantiating a class."
   ]
  },
  {
   "cell_type": "markdown",
   "id": "c0d0561a-2fa0-4209-855a-a8d947658252",
   "metadata": {},
   "source": [
    "\n",
    "Scala Objects can extend Classes, but an object cannot be extended to create a class or another object.\n",
    "Objects cannot have a public constructor.\n",
    "Object will only be instantiated on their first use. Next time onwards, same instance would be used. (no use, no instance)"
   ]
  },
  {
   "cell_type": "raw",
   "id": "2528aec1-34ae-496b-bc6c-7149aa875b70",
   "metadata": {},
   "source": [
    "Scala doesn't have 'for' loop.. hmmm.. !!! then, what is 'for' loop syntax in Scala..\n",
    "Scala 'for' loop is just a syntactical sugar for below control abstractions.\n",
    "foreach\n",
    "map\n",
    "flatMap\n",
    "withFilter"
   ]
  },
  {
   "cell_type": "markdown",
   "id": "0d1e7efd-09fe-460b-8694-5d70bece99f7",
   "metadata": {},
   "source": [
    "Default Constructor\n",
    "\n",
    "doesn't take any argument"
   ]
  },
  {
   "cell_type": "code",
   "execution_count": 1,
   "id": "d594f16a-901d-4f76-98e3-c46603498e92",
   "metadata": {},
   "outputs": [
    {
     "data": {
      "text/plain": [
       "Intitializing Scala interpreter ..."
      ]
     },
     "metadata": {},
     "output_type": "display_data"
    },
    {
     "data": {
      "text/plain": [
       "Spark Web UI available at http://DEV:4041\n",
       "SparkContext available as 'sc' (version = 3.3.0, master = local[*], app id = local-1676642331358)\n",
       "SparkSession available as 'spark'\n"
      ]
     },
     "metadata": {},
     "output_type": "display_data"
    },
    {
     "data": {
      "text/plain": [
       "defined class DefaultConstructor\r\n"
      ]
     },
     "execution_count": 1,
     "metadata": {},
     "output_type": "execute_result"
    }
   ],
   "source": [
    "class DefaultConstructor { \n",
    "        var variable = 0\n",
    "    }"
   ]
  },
  {
   "cell_type": "raw",
   "id": "a62b1121-0e30-4aff-94e2-37c46284ec0f",
   "metadata": {},
   "source": [
    "Primary Constructor\n",
    "\n",
    "take some argument"
   ]
  },
  {
   "cell_type": "code",
   "execution_count": 2,
   "id": "dd9b60d4-efad-4660-a4fe-246238a41b3b",
   "metadata": {},
   "outputs": [
    {
     "data": {
      "text/plain": [
       "defined class PrimaryConstructor\r\n"
      ]
     },
     "execution_count": 2,
     "metadata": {},
     "output_type": "execute_result"
    }
   ],
   "source": [
    "class PrimaryConstructor (var var1:Int) { \n",
    "        var variable = var1\n",
    "    }"
   ]
  },
  {
   "cell_type": "raw",
   "id": "94b6904f-4d3a-4346-8261-a00dd7e28734",
   "metadata": {},
   "source": [
    "Auxiliary Constructor\n",
    "\n",
    "auxiliary constructors are called with 'this'. auxiliary constructor calls to a previously defined primary constructor."
   ]
  },
  {
   "cell_type": "code",
   "execution_count": 6,
   "id": "ff36463b-0746-4bf7-b9d6-6cf2f0122bac",
   "metadata": {},
   "outputs": [
    {
     "data": {
      "text/plain": [
       "defined class DemoConstructor\r\n"
      ]
     },
     "execution_count": 6,
     "metadata": {},
     "output_type": "execute_result"
    }
   ],
   "source": [
    "class DemoConstructor (var var1:Int, var2:Int, var3:Int){\n",
    "\n",
    "        //Auxiliary constructors\n",
    "        def this()= {\n",
    "            this(1,1,1);\n",
    "        }\n",
    "        def this(v1:Int, v2:Int){\n",
    "            this(v1,v2,1);\n",
    "        }\n",
    "}"
   ]
  },
  {
   "cell_type": "raw",
   "id": "0c563f0f-84b4-443a-a204-b51e3c7f6ea0",
   "metadata": {},
   "source": [
    "why do we need 'Auxiliary constructors'\n",
    "Auxiliary constructors gives flexibility to create instance of class with no / fewer arguments than the PrimaryConstructor."
   ]
  },
  {
   "cell_type": "markdown",
   "id": "9ddec11d-099b-44fa-a32c-c48b63a34bd7",
   "metadata": {},
   "source": [
    "Apply Methods:\n",
    "\n",
    "Apply method can be added in Class or Object. But they serve the different purposes when added in class and object."
   ]
  },
  {
   "cell_type": "markdown",
   "id": "02f5822c-892a-4305-a126-5057d17d1b75",
   "metadata": {},
   "source": [
    "Apply in Object"
   ]
  },
  {
   "cell_type": "markdown",
   "id": "81640775-2693-451b-9c0a-bf9675fda731",
   "metadata": {},
   "source": [
    "Apply in Class"
   ]
  },
  {
   "cell_type": "code",
   "execution_count": 13,
   "id": "2681a08c-0611-4c7b-9910-c5517f630341",
   "metadata": {},
   "outputs": [
    {
     "name": "stdout",
     "output_type": "stream",
     "text": [
      "print : 10\n",
      "print : 10\n"
     ]
    },
    {
     "data": {
      "text/plain": [
       "defined class Test\r\n",
       "a: Test = Test@27b829c2\r\n"
      ]
     },
     "execution_count": 13,
     "metadata": {},
     "output_type": "execute_result"
    }
   ],
   "source": [
    " class Test{\n",
    "     \n",
    "     def apply(i : Int){\n",
    "     \n",
    "          println(\"print : \" + i)\n",
    "      \n",
    "     }\n",
    "      \n",
    " }\n",
    "//defined class Test\n",
    "\n",
    " val a = new Test\n",
    "\n",
    " a.apply(10)\n",
    "\n",
    "//So, because apply method is defined in class, so no need to specify apply here.\n",
    "\n",
    " a(10)\n",
    "//print : 10"
   ]
  },
  {
   "attachments": {
    "15f373b0-1a8f-4187-bf02-6f216b650c0f.png": {
     "image/png": "[encoded data removed]"
    }
   },
   "cell_type": "markdown",
   "id": "b8263dd4-8d74-413f-bf18-86a4bf7cf93a",
   "metadata": {},
   "source": [
    "![image.png](attachment:15f373b0-1a8f-4187-bf02-6f216b650c0f.png)\n"
   ]
  },
  {
   "cell_type": "markdown",
   "id": "4da1348c-4d4d-4535-a637-33ca70538fa3",
   "metadata": {},
   "source": [
    "Do you know this, Look at the Return type. How they are changes AnyVal, Any, Int, Option[Int].\n",
    "Try to relate with above diagram."
   ]
  },
  {
   "cell_type": "code",
   "execution_count": 16,
   "id": "a51a10b7-d962-491f-b1cd-04603e3391be",
   "metadata": {},
   "outputs": [
    {
     "data": {
      "text/plain": [
       "comp: (i: Int)AnyVal\r\n"
      ]
     },
     "execution_count": 16,
     "metadata": {},
     "output_type": "execute_result"
    }
   ],
   "source": [
    " def comp(i: Int) = if(i > 7) i"
   ]
  },
  {
   "cell_type": "code",
   "execution_count": 17,
   "id": "1cf5a154-9311-42f1-bf73-a5473bb7fafb",
   "metadata": {},
   "outputs": [
    {
     "data": {
      "text/plain": [
       "comp: (i: Int)Any\r\n"
      ]
     },
     "execution_count": 17,
     "metadata": {},
     "output_type": "execute_result"
    }
   ],
   "source": [
    " def comp(i: Int) = if(i > 7) i else \"as\""
   ]
  },
  {
   "cell_type": "code",
   "execution_count": 18,
   "id": "40b01853-6782-4edf-8974-44d324b3f3c0",
   "metadata": {},
   "outputs": [
    {
     "data": {
      "text/plain": [
       "comp: (i: Int)Int\r\n"
      ]
     },
     "execution_count": 18,
     "metadata": {},
     "output_type": "execute_result"
    }
   ],
   "source": [
    " def comp(i: Int) = if(i > 7) i else i+1"
   ]
  },
  {
   "cell_type": "code",
   "execution_count": 19,
   "id": "b3772c85-ffa8-46e1-8be1-034ebb46f98b",
   "metadata": {},
   "outputs": [
    {
     "data": {
      "text/plain": [
       "comp: (i: Int)Any\r\n"
      ]
     },
     "execution_count": 19,
     "metadata": {},
     "output_type": "execute_result"
    }
   ],
   "source": [
    " def comp(i: Int) = if(i > 7) Some(i) else i+1"
   ]
  },
  {
   "cell_type": "code",
   "execution_count": 20,
   "id": "b16c3253-4a88-439b-8c57-707b6a2aa844",
   "metadata": {},
   "outputs": [
    {
     "data": {
      "text/plain": [
       "comp: (i: Int)Option[Int]\r\n"
      ]
     },
     "execution_count": 20,
     "metadata": {},
     "output_type": "execute_result"
    }
   ],
   "source": [
    " def comp(i: Int) = if(i > 7) Some(i) else None"
   ]
  },
  {
   "cell_type": "markdown",
   "id": "8ea73b8f-d313-4943-a152-f3fbb65d6cbd",
   "metadata": {},
   "source": [
    "Option has 2 subclasses- Some and None"
   ]
  },
  {
   "cell_type": "code",
   "execution_count": 22,
   "id": "adc6311b-5872-491d-94db-d3d85b84039c",
   "metadata": {},
   "outputs": [
    {
     "data": {
      "text/plain": [
       "j: Option[Int] = None\r\n"
      ]
     },
     "execution_count": 22,
     "metadata": {},
     "output_type": "execute_result"
    }
   ],
   "source": [
    " val j : Option[Int] = None"
   ]
  },
  {
   "cell_type": "code",
   "execution_count": 23,
   "id": "89382f5c-b4fe-4528-b92f-268f3af5077c",
   "metadata": {},
   "outputs": [
    {
     "data": {
      "text/plain": [
       "j: Option[Int] = Some(7)\r\n"
      ]
     },
     "execution_count": 23,
     "metadata": {},
     "output_type": "execute_result"
    }
   ],
   "source": [
    " val j : Option[Int] = Some(7)"
   ]
  },
  {
   "attachments": {
    "63a0bba4-9e29-433c-a61b-0d103da34283.png": {
     "image/png": "[encoded data removed]"
    },
    "8b518548-7796-485b-a57d-265efbaffc71.png": {
     "image/png": "[encoded data removed]"
    }
   },
   "cell_type": "markdown",
   "id": "12288de9-0d25-4ff7-8421-0dd034d11426",
   "metadata": {},
   "source": [
    "shows all colle![image.png](attachment:63a0bba4-9e29-433c-a61b-0d103da34283.png)![image.png](attachment:8b518548-7796-485b-a57d-265efbaffc71.png)ctions in packagescala.collection"
   ]
  },
  {
   "cell_type": "markdown",
   "id": "9196e229-004b-477c-9455-797d3764e6a4",
   "metadata": {},
   "source": [
    "shows all collections in packagescala.collection.immutable"
   ]
  },
  {
   "attachments": {
    "175e39da-3ffb-4f02-93dc-b75baf83fe84.png": {
     "image/png": "[encoded data removed]"
    }
   },
   "cell_type": "markdown",
   "id": "ecad5986-9ede-4238-a635-7fe4c7113262",
   "metadata": {},
   "source": [
    "![image.png](attachment:175e39da-3ffb-4f02-93dc-b75baf83fe84.png)"
   ]
  },
  {
   "cell_type": "markdown",
   "id": "86a46b67-be45-4c0e-b7af-3a8defc3ddcc",
   "metadata": {},
   "source": [
    "shows all collections in package scala.collection.mutable"
   ]
  },
  {
   "attachments": {
    "c28d8648-d80c-4db1-a132-5b39eb058733.png": {
     "image/png": "[encoded data removed]"
    }
   },
   "cell_type": "markdown",
   "id": "e6be2736-70d1-4c33-85b8-e3e6f0afb1ad",
   "metadata": {},
   "source": [
    "![image.png](attachment:c28d8648-d80c-4db1-a132-5b39eb058733.png)"
   ]
  },
  {
   "cell_type": "raw",
   "id": "25ad18c6-da65-466d-95a8-37393ae16053",
   "metadata": {},
   "source": [
    "The associativity of an operator is determined by the operator’s last character. Operators ending in a colon ‘:’ are right-associative. All other operators are left-associative.\n",
    "E.g."
   ]
  },
  {
   "cell_type": "code",
   "execution_count": 26,
   "id": "8decf3ba-68b6-4866-8675-50e3feb90752",
   "metadata": {},
   "outputs": [
    {
     "data": {
      "text/plain": [
       "defined object i\r\n"
      ]
     },
     "execution_count": 26,
     "metadata": {},
     "output_type": "execute_result"
    }
   ],
   "source": [
    " object i  {\n",
    "      def ~~(j: Int) = 2*j\n",
    " }"
   ]
  },
  {
   "cell_type": "code",
   "execution_count": 27,
   "id": "bfc6a4ca-4822-4f0d-9a99-6a779ff814ef",
   "metadata": {},
   "outputs": [
    {
     "data": {
      "text/plain": [
       "res1: Int = 6\r\n"
      ]
     },
     "execution_count": 27,
     "metadata": {},
     "output_type": "execute_result"
    }
   ],
   "source": [
    " i ~~ 3"
   ]
  },
  {
   "cell_type": "code",
   "execution_count": 29,
   "id": "be6c8693-30de-4fdd-89f8-65ef715bc626",
   "metadata": {},
   "outputs": [
    {
     "data": {
      "text/plain": [
       "defined object i\r\n"
      ]
     },
     "execution_count": 29,
     "metadata": {},
     "output_type": "execute_result"
    }
   ],
   "source": [
    " object i  {\n",
    "     \n",
    "     def ~:(j: Int) = 2*j \n",
    " }"
   ]
  },
  {
   "cell_type": "raw",
   "id": "ef74954c-fbaa-49f1-b215-da2364da45b8",
   "metadata": {},
   "source": [
    "Below didn't work, because Operators ending in a colon ‘:’ are right-associative. \n",
    "Look at the error message. (~: is not a member of Int)"
   ]
  },
  {
   "cell_type": "code",
   "execution_count": 30,
   "id": "3cfba91d-870d-4938-bce0-9738728fb21e",
   "metadata": {},
   "outputs": [
    {
     "ename": "<console>",
     "evalue": "26: error: value ~: is not a member of Int\r",
     "output_type": "error",
     "traceback": [
      "<console>:26: error: value ~: is not a member of Int\r",
      "       i ~: 3\r",
      "         ^\r",
      ""
     ]
    }
   ],
   "source": [
    " i ~: 3"
   ]
  },
  {
   "cell_type": "raw",
   "id": "04f4aa02-5aca-4a37-b6f2-231c48ba97dd",
   "metadata": {},
   "source": [
    "To make this work, we can write as below:"
   ]
  },
  {
   "cell_type": "code",
   "execution_count": 31,
   "id": "ab5f498b-16ac-4f61-af00-aad6fd24852d",
   "metadata": {},
   "outputs": [
    {
     "data": {
      "text/plain": [
       "res3: Int = 6\r\n"
      ]
     },
     "execution_count": 31,
     "metadata": {},
     "output_type": "execute_result"
    }
   ],
   "source": [
    " 3 ~: i"
   ]
  },
  {
   "cell_type": "raw",
   "id": "fcdb07e8-164f-47fe-9adb-6912837ac411",
   "metadata": {},
   "source": [
    "But, if written as below, then above rule doesn't apply."
   ]
  },
  {
   "cell_type": "code",
   "execution_count": 32,
   "id": "6bfe6330-e99f-4517-b07f-c6fa9b83d18e",
   "metadata": {},
   "outputs": [
    {
     "data": {
      "text/plain": [
       "res4: Int = 6\r\n"
      ]
     },
     "execution_count": 32,
     "metadata": {},
     "output_type": "execute_result"
    }
   ],
   "source": [
    " i.~:(3)\n"
   ]
  },
  {
   "cell_type": "markdown",
   "id": "2c446fc3-2bb2-4125-95d2-9e325336c1b5",
   "metadata": {},
   "source": [
    "Use lift instead of ()"
   ]
  },
  {
   "cell_type": "code",
   "execution_count": 34,
   "id": "90cbbbb4-bbe4-43a5-8420-2a835c3e611c",
   "metadata": {},
   "outputs": [
    {
     "data": {
      "text/plain": [
       "l: List[Int] = List(8, 7)\r\n"
      ]
     },
     "execution_count": 34,
     "metadata": {},
     "output_type": "execute_result"
    }
   ],
   "source": [
    " val l = List(8,7)"
   ]
  },
  {
   "cell_type": "code",
   "execution_count": 35,
   "id": "d86b4bd3-f225-4ad3-8db0-b5ac9de174ff",
   "metadata": {},
   "outputs": [
    {
     "data": {
      "text/plain": [
       "res6: Option[Int] = Some(7)\r\n"
      ]
     },
     "execution_count": 35,
     "metadata": {},
     "output_type": "execute_result"
    }
   ],
   "source": [
    " l.lift(1)"
   ]
  },
  {
   "cell_type": "code",
   "execution_count": 36,
   "id": "65ddd809-c4a2-44b6-8f3a-2117f462cb5b",
   "metadata": {},
   "outputs": [
    {
     "data": {
      "text/plain": [
       "res7: Option[Int] = None\r\n"
      ]
     },
     "execution_count": 36,
     "metadata": {},
     "output_type": "execute_result"
    }
   ],
   "source": [
    " l.lift(6)"
   ]
  },
  {
   "cell_type": "code",
   "execution_count": 37,
   "id": "e4942336-78ac-49ef-a2d8-a9b694a12185",
   "metadata": {},
   "outputs": [
    {
     "data": {
      "text/plain": [
       "res8: Int = 10\r\n"
      ]
     },
     "execution_count": 37,
     "metadata": {},
     "output_type": "execute_result"
    }
   ],
   "source": [
    " l.lift(6).getOrElse(10)"
   ]
  },
  {
   "cell_type": "markdown",
   "id": "23504b3e-a06e-4710-ac71-edf073bbe8bc",
   "metadata": {},
   "source": [
    "## Creating a DataFrame\n",
    "\n",
    "First approach of a creating a DataFrame— Creating DataFrame using Tuple and .toDF() function"
   ]
  },
  {
   "cell_type": "markdown",
   "id": "7a5026be-3dcf-45c5-8ecf-9ed47fce158f",
   "metadata": {},
   "source": [
    "The first approach for creating a data frame in Spark using Scala syntax is to use the spark.implicits._.\n",
    "\n",
    "In this approach, each row of the data frame corresponds to a tuple in which we bring the name of the columns in the .toDF() function. Let us create a DataFrame with a few rows using the following code snippet:"
   ]
  },
  {
   "cell_type": "code",
   "execution_count": 1,
   "id": "c80f443a-5e8b-4e2a-9a7c-7f3ba05b0d90",
   "metadata": {},
   "outputs": [
    {
     "data": {
      "text/plain": [
       "Intitializing Scala interpreter ..."
      ]
     },
     "metadata": {},
     "output_type": "display_data"
    },
    {
     "data": {
      "text/plain": [
       "Spark Web UI available at http://host.docker.internal:4040\n",
       "SparkContext available as 'sc' (version = 3.3.0, master = local[*], app id = local-1677465143750)\n",
       "SparkSession available as 'spark'\n"
      ]
     },
     "metadata": {},
     "output_type": "display_data"
    },
    {
     "name": "stdout",
     "output_type": "stream",
     "text": [
      "+-----+--------+------+----------+----------+---------+----------+\n",
      "|Asset|Platform|  Unit|Trade Name|  Buy Date|Buy Price|Sell Price|\n",
      "+-----+--------+------+----------+----------+---------+----------+\n",
      "|Stock| Plus500|0.5938|    Amazon|01/11/2021|   3368.0|    4000.0|\n",
      "|Stock| Plus500|   0.6|  Facebook|01/11/2021|    160.0|     200.0|\n",
      "|Stock| Plus500|  0.68|    Amazon|01/11/2021|    160.0|     200.0|\n",
      "|Stock|   eToro|   1.5|  Facebook|12/11/2021|    180.0|     250.0|\n",
      "|Stock| Plus500| 0.065|  LinkedIn|12/11/2021|     80.0|     140.0|\n",
      "|Stock|   eToro|   1.3|   Pfeizer|01/12/2021|     34.0|      85.5|\n",
      "|Stock| Plus500|  0.01|   Bitcoin|01/11/2021|  45000.0|   48000.0|\n",
      "|Stock| Plus500|  0.08|      Sand|29/11/2021|      5.4|       8.9|\n",
      "+-----+--------+------+----------+----------+---------+----------+\n",
      "\n",
      "root\n",
      " |-- Asset: string (nullable = true)\n",
      " |-- Platform: string (nullable = true)\n",
      " |-- Unit: double (nullable = false)\n",
      " |-- Trade Name: string (nullable = true)\n",
      " |-- Buy Date: string (nullable = true)\n",
      " |-- Buy Price: double (nullable = false)\n",
      " |-- Sell Price: double (nullable = false)\n",
      "\n"
     ]
    },
    {
     "data": {
      "text/plain": [
       "import spark.implicits._\r\n",
       "data: Seq[(String, String, Double, String, String, Double, Double)] = List((Stock,Plus500,0.5938,Amazon,01/11/2021,3368.0,4000.0), (Stock,Plus500,0.6,Facebook,01/11/2021,160.0,200.0), (Stock,Plus500,0.68,Amazon,01/11/2021,160.0,200.0), (Stock,eToro,1.5,Facebook,12/11/2021,180.0,250.0), (Stock,Plus500,0.065,LinkedIn,12/11/2021,80.0,140.0), (Stock,eToro,1.3,Pfeizer,01/12/2021,34.0,85.5), (Stock,Plus500,0.01,Bitcoin,01/11/2021,45000.0,48000.0), (Stock,Plus500,0.08,Sand,29/11/2021,5.4,8.9))\r\n",
       "firstApproachDF: org.apache.spark.sql.DataFrame = [Asset: string, Platform: string ... 5 more fields]\r\n"
      ]
     },
     "execution_count": 1,
     "metadata": {},
     "output_type": "execute_result"
    }
   ],
   "source": [
    "import spark.implicits._\n",
    "  \n",
    "val data = Seq(\n",
    "    (\"Stock\", \"Plus500\", 0.5938, \"Amazon\", \"01/11/2021\", 3368.000, 4000.0),\n",
    " (\"Stock\", \"Plus500\", 0.6, \"Facebook\", \"01/11/2021\", 160.0, 200.0),\n",
    " (\"Stock\", \"Plus500\", 0.68, \"Amazon\", \"01/11/2021\", 160.0, 200.0),\n",
    " (\"Stock\", \"eToro\", 1.5, \"Facebook\", \"12/11/2021\", 180.0, 250.0),\n",
    " (\"Stock\", \"Plus500\", 0.065, \"LinkedIn\", \"12/11/2021\", 80.0, 140.0),\n",
    " (\"Stock\", \"eToro\", 1.3, \"Pfeizer\", \"01/12/2021\", 34.0, 85.5),\n",
    " (\"Stock\", \"Plus500\", 0.01, \"Bitcoin\", \"01/11/2021\", 45000.0, 48000.0),\n",
    " (\"Stock\", \"Plus500\", 0.08, \"Sand\", \"29/11/2021\", 5.4, 8.9)\n",
    "    )\n",
    "\n",
    "val firstApproachDF = data.toDF(\"Asset\", \"Platform\", \"Unit\", \"Trade Name\", \"Buy Date\", \"Buy Price\", \"Sell Price\")\n",
    "\n",
    "firstApproachDF.show()\n",
    "\n",
    "firstApproachDF.printSchema "
   ]
  },
  {
   "cell_type": "markdown",
   "id": "e3b1c5aa-4f5e-465a-9725-bc430195c0b8",
   "metadata": {},
   "source": [
    "Second approach of creating dataframe — Using createDataFrame() function\n",
    "In the second approach, we use spark.createDataFrame() to create a DataFrame. The data still contains the sequence of tuples in Scala like the following:"
   ]
  },
  {
   "cell_type": "code",
   "execution_count": 2,
   "id": "4ab7c3df-e5b4-4072-bbf5-a04c62a927dd",
   "metadata": {},
   "outputs": [
    {
     "name": "stdout",
     "output_type": "stream",
     "text": [
      "+-----+-------+------+--------+----------+-------+-------+\n",
      "|   _1|     _2|    _3|      _4|        _5|     _6|     _7|\n",
      "+-----+-------+------+--------+----------+-------+-------+\n",
      "|Stock|Plus500|0.5938|  Amazon|01/11/2021| 3368.0| 4000.0|\n",
      "|Stock|Plus500|   0.6|Facebook|01/11/2021|  160.0|  200.0|\n",
      "|Stock|Plus500|  0.68|  Amazon|01/11/2021|  160.0|  200.0|\n",
      "|Stock|  eToro|   1.5|Facebook|12/11/2021|  180.0|  250.0|\n",
      "|Stock|Plus500| 0.065|LinkedIn|12/11/2021|   80.0|  140.0|\n",
      "|Stock|  eToro|   1.3| Pfeizer|01/12/2021|   34.0|   85.5|\n",
      "|Stock|Plus500|  0.01| Bitcoin|01/11/2021|45000.0|48000.0|\n",
      "|Stock|Plus500|  0.08|    Sand|29/11/2021|    5.4|    8.9|\n",
      "+-----+-------+------+--------+----------+-------+-------+\n",
      "\n",
      "root\n",
      " |-- _1: string (nullable = true)\n",
      " |-- _2: string (nullable = true)\n",
      " |-- _3: double (nullable = false)\n",
      " |-- _4: string (nullable = true)\n",
      " |-- _5: string (nullable = true)\n",
      " |-- _6: double (nullable = false)\n",
      " |-- _7: double (nullable = false)\n",
      "\n"
     ]
    },
    {
     "data": {
      "text/plain": [
       "data: Seq[(String, String, Double, String, String, Double, Double)] = List((Stock,Plus500,0.5938,Amazon,01/11/2021,3368.0,4000.0), (Stock,Plus500,0.6,Facebook,01/11/2021,160.0,200.0), (Stock,Plus500,0.68,Amazon,01/11/2021,160.0,200.0), (Stock,eToro,1.5,Facebook,12/11/2021,180.0,250.0), (Stock,Plus500,0.065,LinkedIn,12/11/2021,80.0,140.0), (Stock,eToro,1.3,Pfeizer,01/12/2021,34.0,85.5), (Stock,Plus500,0.01,Bitcoin,01/11/2021,45000.0,48000.0), (Stock,Plus500,0.08,Sand,29/11/2021,5.4,8.9))\r\n",
       "secondApproachDF: org.apache.spark.sql.DataFrame = [_1: string, _2: string ... 5 more fields]\r\n"
      ]
     },
     "execution_count": 2,
     "metadata": {},
     "output_type": "execute_result"
    }
   ],
   "source": [
    "val data = Seq(\n",
    "    (\"Stock\", \"Plus500\", 0.5938, \"Amazon\", \"01/11/2021\", 3368.000, 4000.0),\n",
    " (\"Stock\", \"Plus500\", 0.6, \"Facebook\", \"01/11/2021\", 160.0, 200.0),\n",
    " (\"Stock\", \"Plus500\", 0.68, \"Amazon\", \"01/11/2021\", 160.0, 200.0),\n",
    " (\"Stock\", \"eToro\", 1.5, \"Facebook\", \"12/11/2021\", 180.0, 250.0),\n",
    " (\"Stock\", \"Plus500\", 0.065, \"LinkedIn\", \"12/11/2021\", 80.0, 140.0),\n",
    " (\"Stock\", \"eToro\", 1.3, \"Pfeizer\", \"01/12/2021\", 34.0, 85.5),\n",
    " (\"Stock\", \"Plus500\", 0.01, \"Bitcoin\", \"01/11/2021\", 45000.0, 48000.0),\n",
    " (\"Stock\", \"Plus500\", 0.08, \"Sand\", \"29/11/2021\", 5.4, 8.9)\n",
    "    )\n",
    "    \n",
    " val secondApproachDF =  spark.createDataFrame(data)\n",
    "   \n",
    " \n",
    " secondApproachDF.show()\n",
    " secondApproachDF.printSchema"
   ]
  },
  {
   "cell_type": "markdown",
   "id": "d7cbd97f-9af4-4fc5-bcb0-a40352aabd80",
   "metadata": {},
   "source": [
    "Schema and columns of a DataFrame\n",
    "It is always possible to use the following methods to see the schema and columns of a DataFrame in Spark. Let us consider the firstAppachDF defined in previous sub section as follows:"
   ]
  },
  {
   "cell_type": "code",
   "execution_count": 3,
   "id": "d5b528e6-766a-48a5-b993-edc7340a971c",
   "metadata": {},
   "outputs": [
    {
     "data": {
      "text/plain": [
       "res2: org.apache.spark.sql.types.StructType = StructType(StructField(Asset,StringType,true),StructField(Platform,StringType,true),StructField(Unit,DoubleType,false),StructField(Trade Name,StringType,true),StructField(Buy Date,StringType,true),StructField(Buy Price,DoubleType,false),StructField(Sell Price,DoubleType,false))\r\n"
      ]
     },
     "execution_count": 3,
     "metadata": {},
     "output_type": "execute_result"
    }
   ],
   "source": [
    "//Schema of DataFrame\n",
    "firstApproachDF.schema\n"
   ]
  },
  {
   "cell_type": "code",
   "execution_count": 5,
   "id": "23f52662-9d68-4224-b0cd-4f1f9c7600de",
   "metadata": {},
   "outputs": [
    {
     "name": "stdout",
     "output_type": "stream",
     "text": [
      "root\n",
      " |-- Asset: string (nullable = true)\n",
      " |-- Platform: string (nullable = true)\n",
      " |-- Unit: double (nullable = false)\n",
      " |-- Trade Name: string (nullable = true)\n",
      " |-- Buy Date: string (nullable = true)\n",
      " |-- Buy Price: double (nullable = false)\n",
      " |-- Sell Price: double (nullable = false)\n",
      "\n"
     ]
    }
   ],
   "source": [
    "//Printing schema of the DataFrame\n",
    "firstApproachDF.printSchema\n"
   ]
  },
  {
   "cell_type": "code",
   "execution_count": 6,
   "id": "2c197ce8-ec42-405d-8a59-8ee5ad0e9977",
   "metadata": {},
   "outputs": [
    {
     "data": {
      "text/plain": [
       "res5: Array[String] = Array(Asset, Platform, Unit, Trade Name, Buy Date, Buy Price, Sell Price)\r\n"
      ]
     },
     "execution_count": 6,
     "metadata": {},
     "output_type": "execute_result"
    }
   ],
   "source": [
    "//Columns of a DataFrame\n",
    "firstApproachDF.columns\n"
   ]
  },
  {
   "cell_type": "code",
   "execution_count": 7,
   "id": "1394a96a-0434-42f4-9184-36451d503f25",
   "metadata": {},
   "outputs": [
    {
     "data": {
      "text/plain": [
       "res6: org.apache.spark.sql.Column = Asset\r\n"
      ]
     },
     "execution_count": 7,
     "metadata": {},
     "output_type": "execute_result"
    }
   ],
   "source": [
    "//A single column\n",
    "firstApproachDF.col(\"Asset\")\n"
   ]
  },
  {
   "cell_type": "markdown",
   "id": "62fff534-08cb-4f3d-81e1-b652edf2d2ca",
   "metadata": {},
   "source": [
    "Iterating over columns of a DataFrame using Map function and appending values\n",
    "Sometimes, it is required to go through every column of a DataFrame and append a suffix. It is possible to achieve that using a map() function like below:"
   ]
  },
  {
   "cell_type": "code",
   "execution_count": 8,
   "id": "fb98e837-e6e5-4a19-83bb-98e37f476222",
   "metadata": {},
   "outputs": [
    {
     "data": {
      "text/plain": [
       "res7: Array[String] = Array(Asset_suffix, Platform_suffix, Unit_suffix, Trade Name_suffix, Buy Date_suffix, Buy Price_suffix, Sell Price_suffix)\r\n"
      ]
     },
     "execution_count": 8,
     "metadata": {},
     "output_type": "execute_result"
    }
   ],
   "source": [
    "firstApproachDF.columns.map(col => col + \"_suffix\")\n"
   ]
  },
  {
   "cell_type": "markdown",
   "id": "4079d529-e532-4ced-b81c-203a3e5f362c",
   "metadata": {},
   "source": [
    "Various approaches for selecting columns of a DataFrame\n",
    "There are various ways to select columns of a DataFrame. Selecting the columns of a DataFrame is important due to two aspects:\n",
    "\n",
    "You might see various approaches in code so it is better to see these formats.\n",
    "You may need to add some sort of dynamics to your code in order to expand a DataFrame."
   ]
  },
  {
   "cell_type": "code",
   "execution_count": 11,
   "id": "bf9be157-f135-4aa6-be8b-84152a11fb93",
   "metadata": {},
   "outputs": [
    {
     "name": "stdout",
     "output_type": "stream",
     "text": [
      "+-----+--------+\n",
      "|Asset|Platform|\n",
      "+-----+--------+\n",
      "|Stock| Plus500|\n",
      "|Stock| Plus500|\n",
      "|Stock| Plus500|\n",
      "|Stock|   eToro|\n",
      "|Stock| Plus500|\n",
      "+-----+--------+\n",
      "only showing top 5 rows\n",
      "\n"
     ]
    }
   ],
   "source": [
    "//Approach 1. using select and column names\n",
    "firstApproachDF.select(\"Asset\",\"Platform\").show(5)\n"
   ]
  },
  {
   "cell_type": "code",
   "execution_count": 12,
   "id": "d592890a-3452-4cd1-9e89-8f728f0be158",
   "metadata": {},
   "outputs": [
    {
     "name": "stdout",
     "output_type": "stream",
     "text": [
      "+-----+--------+------+----------+----------+\n",
      "|Asset|Platform|  Unit|Trade Name|  Buy Date|\n",
      "+-----+--------+------+----------+----------+\n",
      "|Stock| Plus500|0.5938|    Amazon|01/11/2021|\n",
      "|Stock| Plus500|   0.6|  Facebook|01/11/2021|\n",
      "|Stock| Plus500|  0.68|    Amazon|01/11/2021|\n",
      "|Stock|   eToro|   1.5|  Facebook|12/11/2021|\n",
      "|Stock| Plus500| 0.065|  LinkedIn|12/11/2021|\n",
      "+-----+--------+------+----------+----------+\n",
      "only showing top 5 rows\n",
      "\n"
     ]
    }
   ],
   "source": [
    "//Approach 2 and 3. using select with $ sign or col( )\n",
    "\n",
    "firstApproachDF.select($\"Asset\", $\"Platform\", $\"Unit\", col(\"Trade Name\"), \n",
    "col(\"Buy Date\")).show(5)"
   ]
  },
  {
   "cell_type": "code",
   "execution_count": 13,
   "id": "1662d8fc-af6c-47c1-b50d-b9653f9d8cb0",
   "metadata": {},
   "outputs": [
    {
     "name": "stdout",
     "output_type": "stream",
     "text": [
      "+-----+----------+\n",
      "|Asset|Trade Name|\n",
      "+-----+----------+\n",
      "|Stock|    Amazon|\n",
      "|Stock|  Facebook|\n",
      "|Stock|    Amazon|\n",
      "|Stock|  Facebook|\n",
      "|Stock|  LinkedIn|\n",
      "+-----+----------+\n",
      "only showing top 5 rows\n",
      "\n"
     ]
    }
   ],
   "source": [
    "// Approach 4. using expressions and spark implicits\n",
    "firstApproachDF.select(expr(\"Asset\"), $\"Trade Name\").show(5)\n"
   ]
  },
  {
   "cell_type": "code",
   "execution_count": 14,
   "id": "4e6745c0-01aa-4d88-a992-53b30eda8eca",
   "metadata": {},
   "outputs": [
    {
     "name": "stdout",
     "output_type": "stream",
     "text": [
      "+------+--------------------+----------+\n",
      "|  Unit|Unit Multiplied by 2|Trade Name|\n",
      "+------+--------------------+----------+\n",
      "|0.5938|              1.1876|    Amazon|\n",
      "|   0.6|                 1.2|  Facebook|\n",
      "|  0.68|                1.36|    Amazon|\n",
      "|   1.5|                 3.0|  Facebook|\n",
      "| 0.065|                0.13|  LinkedIn|\n",
      "+------+--------------------+----------+\n",
      "only showing top 5 rows\n",
      "\n"
     ]
    }
   ],
   "source": [
    "// It is also possible to apply calculations using expr. Let us consider the following:\n",
    "\n",
    "firstApproachDF.select($\"Unit\",expr(\"Unit * 2\").as(\"Unit Multiplied by 2\"), \n",
    "$\"Trade Name\").show(5)\n"
   ]
  },
  {
   "cell_type": "markdown",
   "id": "49973339-9362-4acf-8119-0c421697a1ce",
   "metadata": {},
   "source": [
    "Approach 5. using selectExpr\n",
    "Let us consider the following example of calculating profit from the difference of Buy Price and Sell Price using selectExpr function. Please note that we should use `` for columns with spaces:"
   ]
  },
  {
   "cell_type": "code",
   "execution_count": 16,
   "id": "9fbf29c3-c386-48dc-8c68-ac6c2065972a",
   "metadata": {},
   "outputs": [
    {
     "name": "stdout",
     "output_type": "stream",
     "text": [
      "+-----+--------+----------+----------+------+------+\n",
      "|Asset|Platform|Trade Name|  Buy Date|  Unit|profit|\n",
      "+-----+--------+----------+----------+------+------+\n",
      "|Stock| Plus500|    Amazon|01/11/2021|0.5938| 632.0|\n",
      "|Stock| Plus500|  Facebook|01/11/2021|   0.6|  40.0|\n",
      "|Stock| Plus500|    Amazon|01/11/2021|  0.68|  40.0|\n",
      "|Stock|   eToro|  Facebook|12/11/2021|   1.5|  70.0|\n",
      "|Stock| Plus500|  LinkedIn|12/11/2021| 0.065|  60.0|\n",
      "+-----+--------+----------+----------+------+------+\n",
      "only showing top 5 rows\n",
      "\n"
     ]
    }
   ],
   "source": [
    "firstApproachDF.selectExpr(\"Asset\", \"Platform\", \"\"\"`Trade Name`\"\"\", \"\"\"`Buy Date`\"\"\", \n",
    "\"Unit\", \"\"\" `Sell Price` - `Buy Price` as profit\"\"\" ).show(5)"
   ]
  },
  {
   "cell_type": "markdown",
   "id": "41c6d62a-ddc3-4177-8996-cfb6f174341f",
   "metadata": {},
   "source": [
    "Renaming a column and creating a new column\n",
    "It is possible to rename the column name using .withColumnRenamed() function, so let us have a look at it by adding underscore (_) to the column names with spaces:"
   ]
  },
  {
   "cell_type": "code",
   "execution_count": 17,
   "id": "55c48503-6674-4d54-9cea-91523351ebb7",
   "metadata": {},
   "outputs": [
    {
     "name": "stdout",
     "output_type": "stream",
     "text": [
      "+-----+--------+------+----------+----------+---------+----------+\n",
      "|Asset|Platform|  Unit|Trade_Name|  Buy Date|Buy_Price|Sell_Price|\n",
      "+-----+--------+------+----------+----------+---------+----------+\n",
      "|Stock| Plus500|0.5938|    Amazon|01/11/2021|   3368.0|    4000.0|\n",
      "|Stock| Plus500|   0.6|  Facebook|01/11/2021|    160.0|     200.0|\n",
      "|Stock| Plus500|  0.68|    Amazon|01/11/2021|    160.0|     200.0|\n",
      "|Stock|   eToro|   1.5|  Facebook|12/11/2021|    180.0|     250.0|\n",
      "|Stock| Plus500| 0.065|  LinkedIn|12/11/2021|     80.0|     140.0|\n",
      "|Stock|   eToro|   1.3|   Pfeizer|01/12/2021|     34.0|      85.5|\n",
      "|Stock| Plus500|  0.01|   Bitcoin|01/11/2021|  45000.0|   48000.0|\n",
      "|Stock| Plus500|  0.08|      Sand|29/11/2021|      5.4|       8.9|\n",
      "+-----+--------+------+----------+----------+---------+----------+\n",
      "\n"
     ]
    },
    {
     "data": {
      "text/plain": [
       "renamedColumns: org.apache.spark.sql.DataFrame = [Asset: string, Platform: string ... 5 more fields]\r\n"
      ]
     },
     "execution_count": 17,
     "metadata": {},
     "output_type": "execute_result"
    }
   ],
   "source": [
    "val renamedColumns = firstApproachDF.withColumnRenamed(\"Trade Name\",\"Trade_Name\")\n",
    ".withColumnRenamed(\"Buy Price\",\"Buy_Price\")\n",
    ".withColumnRenamed(\"Sell Price\",\"Sell_Price\")\n",
    "\n",
    "renamedColumns.show()"
   ]
  },
  {
   "cell_type": "markdown",
   "id": "45c09cde-30ac-4979-9030-2f12cb0244f7",
   "metadata": {},
   "source": [
    " creating a new column, we can use the function .withColumn() in which we can specify the column name as well. In the following, we create two columns named “Profit” and “Profit Percentage”"
   ]
  },
  {
   "cell_type": "code",
   "execution_count": 19,
   "id": "f1ea36a8-5899-4310-8dbc-b5a76b7cc689",
   "metadata": {},
   "outputs": [
    {
     "name": "stdout",
     "output_type": "stream",
     "text": [
      "+-----+--------+------+----------+----------+---------+----------+------+------------------+\n",
      "|Asset|Platform|  Unit|Trade Name|  Buy Date|Buy Price|Sell Price|Profit| Profit Percentage|\n",
      "+-----+--------+------+----------+----------+---------+----------+------+------------------+\n",
      "|Stock| Plus500|0.5938|    Amazon|01/11/2021|   3368.0|    4000.0| 632.0| 1.187648456057007|\n",
      "|Stock| Plus500|   0.6|  Facebook|01/11/2021|    160.0|     200.0|  40.0|              1.25|\n",
      "|Stock| Plus500|  0.68|    Amazon|01/11/2021|    160.0|     200.0|  40.0|              1.25|\n",
      "|Stock|   eToro|   1.5|  Facebook|12/11/2021|    180.0|     250.0|  70.0|1.3888888888888888|\n",
      "|Stock| Plus500| 0.065|  LinkedIn|12/11/2021|     80.0|     140.0|  60.0|              1.75|\n",
      "|Stock|   eToro|   1.3|   Pfeizer|01/12/2021|     34.0|      85.5|  51.5| 2.514705882352941|\n",
      "|Stock| Plus500|  0.01|   Bitcoin|01/11/2021|  45000.0|   48000.0|3000.0|1.0666666666666667|\n",
      "|Stock| Plus500|  0.08|      Sand|29/11/2021|      5.4|       8.9|   3.5|1.6481481481481481|\n",
      "+-----+--------+------+----------+----------+---------+----------+------+------------------+\n",
      "\n"
     ]
    },
    {
     "data": {
      "text/plain": [
       "profitDF: org.apache.spark.sql.DataFrame = [Asset: string, Platform: string ... 7 more fields]\r\n"
      ]
     },
     "execution_count": 19,
     "metadata": {},
     "output_type": "execute_result"
    }
   ],
   "source": [
    "val profitDF = firstApproachDF.withColumn(\"Profit\", col(\"Sell Price\") - col(\"Buy Price\"))\n",
    ".withColumn(\"Profit Percentage\", col(\"Sell Price\") / col(\"Buy Price\"))\n",
    "\n",
    "profitDF.show()"
   ]
  },
  {
   "cell_type": "markdown",
   "id": "a3d27539-9001-4df2-9ae0-7f572b749324",
   "metadata": {},
   "source": [
    "Filtering rows in Spark\n",
    "Oftentimes, it is required to filter rows of DataFrame based on certain criteria. For doing so, it is possible to use filter function in which in the following, I review some example of filter functions:"
   ]
  },
  {
   "cell_type": "code",
   "execution_count": 21,
   "id": "b63a498a-e524-4ab7-9d45-b4ae3610a64d",
   "metadata": {},
   "outputs": [
    {
     "name": "stdout",
     "output_type": "stream",
     "text": [
      "+-----+--------+------+----------+----------+---------+----------+\n",
      "|Asset|Platform|  Unit|Trade Name|  Buy Date|Buy Price|Sell Price|\n",
      "+-----+--------+------+----------+----------+---------+----------+\n",
      "|Stock| Plus500|0.5938|    Amazon|01/11/2021|   3368.0|    4000.0|\n",
      "|Stock| Plus500|   0.6|  Facebook|01/11/2021|    160.0|     200.0|\n",
      "|Stock| Plus500|  0.68|    Amazon|01/11/2021|    160.0|     200.0|\n",
      "|Stock| Plus500| 0.065|  LinkedIn|12/11/2021|     80.0|     140.0|\n",
      "|Stock| Plus500|  0.01|   Bitcoin|01/11/2021|  45000.0|   48000.0|\n",
      "|Stock| Plus500|  0.08|      Sand|29/11/2021|      5.4|       8.9|\n",
      "+-----+--------+------+----------+----------+---------+----------+\n",
      "\n"
     ]
    }
   ],
   "source": [
    "// Example 1\n",
    "firstApproachDF.filter(col(\"Platform\") === \"Plus500\").show()"
   ]
  },
  {
   "cell_type": "code",
   "execution_count": 27,
   "id": "38898d73-08f6-45e6-bd17-f24a64ee083f",
   "metadata": {},
   "outputs": [
    {
     "name": "stdout",
     "output_type": "stream",
     "text": [
      "+-----+--------+------+----------+----------+---------+----------+\n",
      "|Asset|Platform|  Unit|Trade Name|  Buy Date|Buy Price|Sell Price|\n",
      "+-----+--------+------+----------+----------+---------+----------+\n",
      "|Stock| Plus500|0.5938|    Amazon|01/11/2021|   3368.0|    4000.0|\n",
      "|Stock| Plus500|   0.6|  Facebook|01/11/2021|    160.0|     200.0|\n",
      "|Stock| Plus500|  0.68|    Amazon|01/11/2021|    160.0|     200.0|\n",
      "|Stock|   eToro|   1.5|  Facebook|12/11/2021|    180.0|     250.0|\n",
      "+-----+--------+------+----------+----------+---------+----------+\n",
      "\n"
     ]
    },
    {
     "data": {
      "text/plain": [
       "orExampleDF: org.apache.spark.sql.Dataset[org.apache.spark.sql.Row] = [Asset: string, Platform: string ... 5 more fields]\r\n"
      ]
     },
     "execution_count": 27,
     "metadata": {},
     "output_type": "execute_result"
    }
   ],
   "source": [
    "//Example 2. using OR operator (||)\n",
    "val orExampleDF = firstApproachDF.filter(col(\"Trade Name\") === \"Amazon\" || col(\"Trade Name\") === \"Facebook\")\n",
    "\n",
    "orExampleDF.show()"
   ]
  },
  {
   "cell_type": "code",
   "execution_count": 30,
   "id": "57bee975-7bc5-4505-ac84-7d747d3ebe48",
   "metadata": {},
   "outputs": [
    {
     "name": "stdout",
     "output_type": "stream",
     "text": [
      "+-----+--------+----+----------+----------+---------+----------+\n",
      "|Asset|Platform|Unit|Trade Name|  Buy Date|Buy Price|Sell Price|\n",
      "+-----+--------+----+----------+----------+---------+----------+\n",
      "|Stock| Plus500| 0.6|  Facebook|01/11/2021|    160.0|     200.0|\n",
      "+-----+--------+----+----------+----------+---------+----------+\n",
      "\n"
     ]
    },
    {
     "data": {
      "text/plain": [
       "andExampleDF: org.apache.spark.sql.Dataset[org.apache.spark.sql.Row] = [Asset: string, Platform: string ... 5 more fields]\r\n"
      ]
     },
     "execution_count": 30,
     "metadata": {},
     "output_type": "execute_result"
    }
   ],
   "source": [
    "// Example 3. using AND operator (&&)\n",
    "val andExampleDF = firstApproachDF.filter(col(\"Trade Name\") === \"Facebook\" && col(\"Platform\") === \"Plus500\")\n",
    "\n",
    "andExampleDF.show()\n"
   ]
  },
  {
   "cell_type": "code",
   "execution_count": 33,
   "id": "daee7ffd-67f6-43d7-bcc1-65ec9fbef9b9",
   "metadata": {},
   "outputs": [
    {
     "name": "stdout",
     "output_type": "stream",
     "text": [
      "+-----+--------+----+----------+----------+---------+----------+\n",
      "|Asset|Platform|Unit|Trade Name|  Buy Date|Buy Price|Sell Price|\n",
      "+-----+--------+----+----------+----------+---------+----------+\n",
      "|Stock| Plus500| 0.6|  Facebook|01/11/2021|    160.0|     200.0|\n",
      "|Stock|   eToro| 1.5|  Facebook|12/11/2021|    180.0|     250.0|\n",
      "|Stock|   eToro| 1.3|   Pfeizer|01/12/2021|     34.0|      85.5|\n",
      "+-----+--------+----+----------+----------+---------+----------+\n",
      "\n"
     ]
    },
    {
     "data": {
      "text/plain": [
       "demoDF: org.apache.spark.sql.Dataset[org.apache.spark.sql.Row] = [Asset: string, Platform: string ... 5 more fields]\r\n"
      ]
     },
     "execution_count": 33,
     "metadata": {},
     "output_type": "execute_result"
    }
   ],
   "source": [
    "// Example 4. Not equal and greater than (>)\n",
    "//Let us select all trades with more than 0.5 unit in which the trade name is not Amazon:\n",
    "\n",
    "val demoDF = firstApproachDF.filter(col(\"Unit\") >= 0.5 && col(\"Trade Name\") =!= \"Amazon\")\n",
    "\n",
    "demoDF.show()"
   ]
  },
  {
   "cell_type": "markdown",
   "id": "8f2800d4-bcb1-4ced-9846-5a315528542e",
   "metadata": {},
   "source": [
    "Spark grouping and aggregation functions\n",
    "It is very much common to calculate several statistics over groups of data. Spark has a very rich support for such calculations. Considering the DF from previous sections, let us calculate several statistics:"
   ]
  },
  {
   "cell_type": "markdown",
   "id": "bc2d0620-4d37-4cc6-b466-74c857fc577f",
   "metadata": {},
   "source": [
    "Example of count()\n",
    "Here, we group by per Asset and Platform and count the number of trades."
   ]
  },
  {
   "cell_type": "code",
   "execution_count": 35,
   "id": "215cc95c-3dfe-446b-a2b1-98573279a2e6",
   "metadata": {},
   "outputs": [
    {
     "name": "stdout",
     "output_type": "stream",
     "text": [
      "+-----+--------+-------------------------------+\n",
      "|Asset|Platform|NumberOfTradesPerAssetPPlatForm|\n",
      "+-----+--------+-------------------------------+\n",
      "|Stock| Plus500|                              6|\n",
      "|Stock|   eToro|                              2|\n",
      "+-----+--------+-------------------------------+\n",
      "\n"
     ]
    },
    {
     "data": {
      "text/plain": [
       "numberOfTradesPerPlatform: org.apache.spark.sql.DataFrame = [Asset: string, Platform: string ... 1 more field]\r\n"
      ]
     },
     "execution_count": 35,
     "metadata": {},
     "output_type": "execute_result"
    }
   ],
   "source": [
    "// Calculating number of trades per platform\n",
    "\n",
    "val numberOfTradesPerPlatform = firstApproachDF.groupBy(\"Asset\", \"Platform\")\n",
    ".agg(count(\"*\").as(\"NumberOfTradesPerAssetPPlatForm\"))\n",
    "\n",
    "numberOfTradesPerPlatform.show()"
   ]
  },
  {
   "cell_type": "markdown",
   "id": "d877cf66-fb9e-4e88-821b-805cc5da79b9",
   "metadata": {},
   "source": [
    "Example of countDistinct()\n",
    "Here, we group by per Asset and Platform and count the distinct values of traded items:"
   ]
  },
  {
   "cell_type": "code",
   "execution_count": null,
   "id": "b4c73aa4-6752-4a70-ac4d-1ad6eaba6b75",
   "metadata": {},
   "outputs": [],
   "source": []
  }
 ],
 "metadata": {
  "kernelspec": {
   "display_name": "spylon-kernel",
   "language": "scala",
   "name": "spylon-kernel"
  },
  "language_info": {
   "codemirror_mode": "text/x-scala",
   "file_extension": ".scala",
   "help_links": [
    {
     "text": "MetaKernel Magics",
     "url": "https://metakernel.readthedocs.io/en/latest/source/README.html"
    }
   ],
   "mimetype": "text/x-scala",
   "name": "scala",
   "pygments_lexer": "scala",
   "version": "0.4.1"
  }
 },
 "nbformat": 4,
 "nbformat_minor": 5
}
