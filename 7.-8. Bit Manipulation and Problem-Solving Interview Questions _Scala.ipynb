{
 "cells": [
  {
   "cell_type": "code",
   "execution_count": 1,
   "id": "099707ca",
   "metadata": {},
   "outputs": [
    {
     "data": {
      "text/plain": [
       "Intitializing Scala interpreter ..."
      ]
     },
     "metadata": {},
     "output_type": "display_data"
    },
    {
     "data": {
      "text/plain": [
       "Spark Web UI available at http://LAPTOP-V8NR8FQT:4041\n",
       "SparkContext available as 'sc' (version = 2.4.4, master = local[*], app id = local-1626360557105)\n",
       "SparkSession available as 'spark'\n"
      ]
     },
     "metadata": {},
     "output_type": "display_data"
    },
    {
     "name": "stdout",
     "output_type": "stream",
     "text": [
      " 2 is power of two = true\n",
      " 3 is power of two = false\n",
      " 4 is power of two = true\n",
      " 5 is power of two = false\n",
      " 6 is power of two = false\n",
      " 7 is power of two = false\n",
      " 8 is power of two = true\n",
      " 9 is power of two = false\n",
      " 10 is power of two = false\n",
      " 11 is power of two = false\n",
      " 12 is power of two = false\n",
      " 13 is power of two = false\n",
      " 14 is power of two = false\n",
      " 15 is power of two = false\n",
      " 16 is power of two = true\n"
     ]
    },
    {
     "data": {
      "text/plain": [
       "check_power_of_two_1: (num: Int)Boolean\n"
      ]
     },
     "execution_count": 1,
     "metadata": {},
     "output_type": "execute_result"
    }
   ],
   "source": [
    "//3 ways to check if a number is the power of two or not\n",
    "\n",
    "def check_power_of_two_1(num: Int): Boolean = {\n",
    "  if (num < 0) {\n",
    "    throw new IllegalArgumentException(\"number: \" + num)\n",
    "  }\n",
    "\n",
    "  if ((num & -num) == num) \n",
    "    true\n",
    "  else\n",
    "    false\n",
    "}\n",
    "\n",
    "for (i <- 2 to 16) {\n",
    "\n",
    "  println(s\" $i is power of two = \" + check_power_of_two_1(i))\n",
    "}\n"
   ]
  },
  {
   "cell_type": "code",
   "execution_count": 28,
   "id": "696945ac",
   "metadata": {},
   "outputs": [
    {
     "name": "stdout",
     "output_type": "stream",
     "text": [
      " 2 is power of two = true\n",
      " 3 is power of two = false\n",
      " 4 is power of two = true\n",
      " 5 is power of two = false\n",
      " 6 is power of two = false\n",
      " 7 is power of two = false\n",
      " 8 is power of two = true\n",
      " 9 is power of two = false\n",
      " 10 is power of two = false\n",
      " 11 is power of two = false\n",
      " 12 is power of two = false\n",
      " 13 is power of two = false\n",
      " 14 is power of two = false\n",
      " 15 is power of two = false\n",
      " 16 is power of two = true\n"
     ]
    },
    {
     "data": {
      "text/plain": [
       "check_power_of_two_2: (number: Int)Boolean\n"
      ]
     },
     "execution_count": 28,
     "metadata": {},
     "output_type": "execute_result"
    }
   ],
   "source": [
    "//Check if a number is the power of two\n",
    "def check_power_of_two_2( number : Int ) : Boolean = {\n",
    "        var square = 1\n",
    "        var ans = false \n",
    "        while(number >= square)\n",
    "      {\n",
    "            if(number == square){\n",
    "                 ans = true\n",
    "            }\n",
    "            square = square*2\n",
    "        }\n",
    "         \n",
    "        ans\n",
    "    \n",
    "    }\n",
    "\n",
    "for (i <- 2 to 16) {\n",
    "\n",
    "  println(s\" $i is power of two = \" + check_power_of_two_2(i))\n",
    "}\n"
   ]
  },
  {
   "cell_type": "code",
   "execution_count": 29,
   "id": "13318fa1",
   "metadata": {},
   "outputs": [
    {
     "name": "stdout",
     "output_type": "stream",
     "text": [
      " 2 is power of two = true\n",
      " 3 is power of two = false\n",
      " 4 is power of two = true\n",
      " 5 is power of two = false\n",
      " 6 is power of two = false\n",
      " 7 is power of two = false\n",
      " 8 is power of two = true\n",
      " 9 is power of two = false\n",
      " 10 is power of two = false\n",
      " 11 is power of two = false\n",
      " 12 is power of two = false\n",
      " 13 is power of two = false\n",
      " 14 is power of two = false\n",
      " 15 is power of two = false\n",
      " 16 is power of two = true\n"
     ]
    },
    {
     "data": {
      "text/plain": [
       "check_power_of_two_3: (number: Int)Boolean\n"
      ]
     },
     "execution_count": 29,
     "metadata": {},
     "output_type": "execute_result"
    }
   ],
   "source": [
    "//Check if a number is the power of two\n",
    "\n",
    "def check_power_of_two_3(number: Int): Boolean = {\n",
    "  if (number < 0) {\n",
    "    throw new IllegalArgumentException(\"number: \" +  number);\n",
    "  }\n",
    "    (number & (number - 1)) == 0\n",
    "}\n",
    "\n",
    "for (i <- 2 to 16) {\n",
    "\n",
    "  println(s\" $i is power of two = \" + check_power_of_two_3(i))\n",
    "}"
   ]
  },
  {
   "cell_type": "code",
   "execution_count": 34,
   "id": "8d32205c",
   "metadata": {},
   "outputs": [
    {
     "name": "stdout",
     "output_type": "stream",
     "text": [
      " -1 is  = Odd\n",
      " 0 is  = Even\n",
      " 1 is  = Odd\n",
      " 2 is  = Even\n",
      " 3 is  = Odd\n",
      " 4 is  = Even\n",
      " 5 is  = Odd\n",
      " 6 is  = Even\n",
      " 7 is  = Odd\n",
      " 8 is  = Even\n",
      " 9 is  = Odd\n",
      " 10 is  = Even\n",
      " 11 is  = Odd\n",
      " 12 is  = Even\n",
      " 13 is  = Odd\n",
      " 14 is  = Even\n",
      " 15 is  = Odd\n",
      " 16 is  = Even\n"
     ]
    },
    {
     "data": {
      "text/plain": [
       "check_even_odd: (number: Int)String\n"
      ]
     },
     "execution_count": 34,
     "metadata": {},
     "output_type": "execute_result"
    }
   ],
   "source": [
    "//Check if a number is even or odd without using a modulo operator?\n",
    "\n",
    "def check_even_odd(number: Int): String = {\n",
    "\n",
    "    if((number & 1) == 0)\n",
    "        \"Even\"\n",
    "    else \n",
    "        \"Odd\" \n",
    "}\n",
    "\n",
    "for (i <- -1 to 16) {\n",
    "\n",
    "  println(s\" $i is  = \" +  check_even_odd(i))\n",
    "}"
   ]
  },
  {
   "cell_type": "code",
   "execution_count": 33,
   "id": "78488864",
   "metadata": {},
   "outputs": [
    {
     "name": "stdout",
     "output_type": "stream",
     "text": [
      " -1 is  = Odd\n",
      " 0 is  = Even\n",
      " 1 is  = Odd\n",
      " 2 is  = Even\n",
      " 3 is  = Odd\n",
      " 4 is  = Even\n",
      " 5 is  = Odd\n",
      " 6 is  = Even\n",
      " 7 is  = Odd\n",
      " 8 is  = Even\n",
      " 9 is  = Odd\n",
      " 10 is  = Even\n",
      " 11 is  = Odd\n",
      " 12 is  = Even\n",
      " 13 is  = Odd\n",
      " 14 is  = Even\n",
      " 15 is  = Odd\n",
      " 16 is  = Even\n"
     ]
    },
    {
     "data": {
      "text/plain": [
       "check_even_odd_2: (number: Int)String\n"
      ]
     },
     "execution_count": 33,
     "metadata": {},
     "output_type": "execute_result"
    }
   ],
   "source": [
    "def check_even_odd_2(number: Int): String = {\n",
    "    var tmp = number / 2 \n",
    "    if((tmp *2 == number))\n",
    "        \"Even\"\n",
    "    else \n",
    "        \"Odd\" \n",
    "}\n",
    "\n",
    "for (i <- -1  to 16) {\n",
    "\n",
    "  println(s\" $i is  = \" +  check_even_odd_2(i))\n",
    "}"
   ]
  },
  {
   "cell_type": "code",
   "execution_count": 46,
   "id": "c1c5e8d1",
   "metadata": {},
   "outputs": [
    {
     "name": "stdout",
     "output_type": "stream",
     "text": [
      "111\n",
      "================================================================\n",
      "1011\n"
     ]
    },
    {
     "data": {
      "text/plain": [
       "sub_2_binary: (n1: String, n2: String)String\r\n",
       "add_2_binary: (n1: String, n2: String)String\n"
      ]
     },
     "execution_count": 46,
     "metadata": {},
     "output_type": "execute_result"
    }
   ],
   "source": [
    "// add and Subtract two binary numbers\n",
    "\n",
    "\n",
    "def sub_2_binary(n1: String, n2: String): String = {\n",
    "    \n",
    "    var A = Integer.parseInt(n1, 2)\n",
    "    \n",
    "    var B = Integer.parseInt(n2, 2)\n",
    "    \n",
    "    var sum = A+(~B +1)\n",
    "      sum.toBinaryString     \n",
    "}\n",
    "\n",
    "def add_2_binary(n1: String, n2: String): String = {\n",
    "    \n",
    "    var A = Integer.parseInt(n1, 2)\n",
    "    \n",
    "    var B = Integer.parseInt(n2, 2)\n",
    "    \n",
    "    var sum = A + B\n",
    "      sum.toBinaryString     \n",
    "}\n",
    "\n",
    "println(sub_2_binary(\"1001\",\"10\") )\n",
    "\n",
    "println(\"================================================================\")\n",
    "\n",
    "println(add_2_binary(\"1001\",\"10\") )"
   ]
  },
  {
   "cell_type": "code",
   "execution_count": 73,
   "id": "6b9562e0",
   "metadata": {},
   "outputs": [
    {
     "name": "stdout",
     "output_type": "stream",
     "text": [
      " set bits in 1 is  = 1\n",
      " set bits in 2 is  = 1\n",
      " set bits in 3 is  = 2\n",
      " set bits in 4 is  = 1\n",
      " set bits in 5 is  = 2\n",
      " set bits in 6 is  = 2\n",
      " set bits in 7 is  = 3\n",
      " set bits in 8 is  = 1\n",
      "================================================================\n",
      " set bits in 1 is  = 1\n",
      " set bits in 2 is  = 1\n",
      " set bits in 3 is  = 2\n",
      " set bits in 4 is  = 1\n",
      " set bits in 5 is  = 2\n",
      " set bits in 6 is  = 2\n",
      " set bits in 7 is  = 3\n",
      " set bits in 8 is  = 1\n",
      "================================================================\n",
      " set bits in 1 is  = 1\n",
      " set bits in 2 is  = 1\n",
      " set bits in 3 is  = 2\n",
      " set bits in 4 is  = 1\n",
      " set bits in 5 is  = 2\n",
      " set bits in 6 is  = 2\n",
      " set bits in 7 is  = 3\n",
      " set bits in 8 is  = 1\n",
      "================================================================\n",
      " set bits in 1 is  = 1\n",
      " set bits in 2 is  = 1\n",
      " set bits in 3 is  = 2\n",
      " set bits in 4 is  = 1\n",
      " set bits in 5 is  = 2\n",
      " set bits in 6 is  = 2\n",
      " set bits in 7 is  = 3\n",
      " set bits in 8 is  = 1\n"
     ]
    },
    {
     "data": {
      "text/plain": [
       "check_set_bits: (n: Int)Int\r\n",
       "check_set_bits_2: (num: Int)Int\r\n",
       "check_set_bits_3: (num: Int)Int\r\n",
       "check_set_bits_4: (n: Int)Int\n"
      ]
     },
     "execution_count": 73,
     "metadata": {},
     "output_type": "execute_result"
    }
   ],
   "source": [
    "// Find the number of 1s (the Set bit) in a given Bit Sequence?\n",
    "\n",
    "def check_set_bits(n: Int): Int = {\n",
    "        \n",
    "    Integer.bitCount(n)\n",
    "    \n",
    "}\n",
    "//=====================================================\n",
    "\n",
    "def check_set_bits_2(num: Int): Int = {\n",
    "      \n",
    "    var n =num \n",
    "    var count = 0\n",
    "        while (n > 0) {\n",
    "            n &= (n - 1)\n",
    "            count +=1\n",
    "        }\n",
    "         count\n",
    "}\n",
    "/*\n",
    "if (n == 0)\n",
    "            return 0;\n",
    "        else\n",
    "            return 1 + check_set_bits_2(n & (n - 1))\n",
    "            */\n",
    "//=====================================================\n",
    "def check_set_bits_3(num: Int): Int = {\n",
    "      \n",
    "    var n = num \n",
    "    var count = 0\n",
    "    while (n > 0 ){\n",
    "    \n",
    "        count += n & 1\n",
    "        n >>= 1\n",
    "    }\n",
    "      \n",
    "     count\n",
    "}\n",
    "\n",
    "//=====================================================\n",
    "\n",
    "def check_set_bits_4(n: Int): Int = {\n",
    "    // base case\n",
    "        if (n == 0)\n",
    "            return 0\n",
    " \n",
    "        else\n",
    "            // if last bit set add 1 else add 0\n",
    "             (n & 1) + check_set_bits_4(n >> 1);\n",
    "}\n",
    "\n",
    "//=====================================================\n",
    "\n",
    "for (i <- 1 to 8) {\n",
    "\n",
    "  println(s\" set bits in $i is  = \" +  check_set_bits(i))\n",
    "}\n",
    "\n",
    "println(\"================================================================\")\n",
    "\n",
    "for (i <- 1 to 8) {\n",
    "\n",
    "  println(s\" set bits in $i is  = \" +  check_set_bits_2(i))\n",
    "}\n",
    "\n",
    "println(\"================================================================\")\n",
    "\n",
    "for (i <- 1 to 8) {\n",
    "\n",
    "  println(s\" set bits in $i is  = \" +  check_set_bits_3(i))\n",
    "}\n",
    "\n",
    "println(\"================================================================\")\n",
    "\n",
    "for (i <- 1 to 8) {\n",
    "\n",
    "  println(s\" set bits in $i is  = \" +  check_set_bits_4(i))\n",
    "}"
   ]
  },
  {
   "cell_type": "code",
   "execution_count": 79,
   "id": "7761a467",
   "metadata": {},
   "outputs": [
    {
     "name": "stdout",
     "output_type": "stream",
     "text": [
      "(30,20)\n",
      "================================================================\n",
      "(100,50)\n"
     ]
    },
    {
     "data": {
      "text/plain": [
       "swap: (n1: Int, n2: Int)(Int, Int)\n"
      ]
     },
     "execution_count": 79,
     "metadata": {},
     "output_type": "execute_result"
    }
   ],
   "source": [
    "//Swap two numbers without using the third variable\n",
    "\n",
    "def swap(n1: Int, n2: Int): ( Int, Int ) = {\n",
    "   \n",
    "    var n11 = n1\n",
    "    var n22 = n2 \n",
    "    \n",
    "    n11 = n11 ^ n22\n",
    "    n22 = n11 ^ n22\n",
    "    n11 = n11 ^ n22\n",
    "    \n",
    "    (n11,n22)\n",
    "}\n",
    "\n",
    "println(swap(20 , 30 ) )\n",
    "\n",
    "println(\"================================================================\")\n",
    "\n",
    "println(swap(50,100) )\n"
   ]
  },
  {
   "cell_type": "code",
   "execution_count": 89,
   "id": "c4ba1495",
   "metadata": {},
   "outputs": [
    {
     "name": "stdout",
     "output_type": "stream",
     "text": [
      "          1  is palindrom   = true\n",
      "         20  is palindrom   = false\n",
      "         22  is palindrom   = true\n",
      "        102  is palindrom   = false\n",
      "        101  is palindrom   = true\n",
      "       1221  is palindrom   = true\n",
      "      13321  is palindrom   = false\n",
      "      13331  is palindrom   = true\n",
      "          0  is palindrom   = true\n",
      "         11  is palindrom   = true\n"
     ]
    },
    {
     "data": {
      "text/plain": [
       "check_palindrom: (n: Int)Boolean\r\n",
       "arr: Array[Int] = Array(1, 20, 22, 102, 101, 1221, 13321, 13331, 0, 11)\n"
      ]
     },
     "execution_count": 89,
     "metadata": {},
     "output_type": "execute_result"
    }
   ],
   "source": [
    "//Check if a given number is a Palindrome?\n",
    "\n",
    "def check_palindrom(n: Int): Boolean= {\n",
    "   \n",
    "    n.toString == n.toString.reverse\n",
    "}\n",
    "\n",
    "//=====================================================\n",
    "\n",
    "val arr = Array(1, 20, 22, 102, 101, 1221, 13321, 13331, 0, 11)\n",
    "\n",
    "for (i <- arr) {\n",
    "\n",
    "  println(\" %10d  is palindrom   = \".format(i) +  check_palindrom(i))\n",
    "}"
   ]
  },
  {
   "cell_type": "code",
   "execution_count": 28,
   "id": "fd139730",
   "metadata": {
    "scrolled": true
   },
   "outputs": [
    {
     "name": "stdout",
     "output_type": "stream",
     "text": [
      "        153  is armstrom = true\n",
      "        370  is armstrom = true\n",
      "        371  is armstrom = true\n",
      "        407  is armstrom = true\n",
      "      13321  is armstrom = false\n",
      "      13331  is armstrom = false\n",
      "          0  is armstrom = true\n",
      "         11  is armstrom = false\n"
     ]
    },
    {
     "data": {
      "text/plain": [
       "isArmstrong: (num: Int)Boolean\r\n",
       "arr: Array[Int] = Array(153, 370, 371, 407, 13321, 13331, 0, 11)\n"
      ]
     },
     "execution_count": 28,
     "metadata": {},
     "output_type": "execute_result"
    }
   ],
   "source": [
    "// Check if a given number is an Armstrong number?\n",
    "\n",
    "def isArmstrong(num : Int): Boolean= {\n",
    "   \n",
    "   var nums = num.toString.toList.map( ele => {var x  = ele.asDigit ; x * x * x} ).sum\n",
    "    nums == num \n",
    "}\n",
    "\n",
    "val arr = Array(153, 370, 371 , 407 ,13321, 13331, 0, 11)\n",
    "\n",
    "for (i <- arr) {\n",
    "\n",
    "  println(\" %10d  is armstrom = \".format(i) +  isArmstrong(i))\n",
    "}\n"
   ]
  },
  {
   "cell_type": "code",
   "execution_count": 56,
   "id": "3a84dd73",
   "metadata": {},
   "outputs": [
    {
     "name": "stdout",
     "output_type": "stream",
     "text": [
      " primefactors of          2   = List(2)\n",
      " primefactors of          3   = List(3)\n",
      " primefactors of          4   = List(2, 2)\n",
      " primefactors of          5   = List(5)\n",
      " primefactors of          6   = List(2, 3)\n",
      " primefactors of          7   = List(7)\n",
      " primefactors of          8   = List(2, 2, 2)\n",
      " primefactors of          9   = List(3, 3)\n",
      " primefactors of         10   = List(2, 5)\n",
      " primefactors of         11   = List(11)\n",
      " primefactors of         12   = List(2, 2, 3)\n",
      " primefactors of         13   = List(13)\n",
      " primefactors of         14   = List(2, 7)\n",
      " primefactors of         15   = List(3, 5)\n",
      " primefactors of         16   = List(2, 2, 2, 2)\n"
     ]
    },
    {
     "data": {
      "text/plain": [
       "primeFactors: (number: Int)List[Int]\n"
      ]
     },
     "execution_count": 56,
     "metadata": {},
     "output_type": "execute_result"
    }
   ],
   "source": [
    "def primeFactors(number: Int): List[Int] = {\n",
    "  \n",
    "  def loop(num: Int, factors: List[Int], divisor: Int): List[Int] = {\n",
    "    num match {\n",
    "      case 1 => factors\n",
    "      case _ =>\n",
    "        num % divisor match {\n",
    "          case 0 => loop(num / divisor, divisor :: factors, divisor)\n",
    "          case _ => loop(num, factors, divisor + 1)\n",
    "        }\n",
    "    }\n",
    "  }\n",
    "\n",
    "  loop(number, List.empty, 2).reverse\n",
    "}\n",
    "\n",
    "for (i <- 2 to 16) {\n",
    "\n",
    "  println(\" primefactors of %10d   = \".format(i) + primeFactors(i))\n",
    "}\n"
   ]
  },
  {
   "cell_type": "code",
   "execution_count": 57,
   "id": "1b88108f",
   "metadata": {},
   "outputs": [
    {
     "name": "stdout",
     "output_type": "stream",
     "text": [
      " primefactors of          2   = List(2)\n",
      " primefactors of          3   = List(3)\n",
      " primefactors of          4   = List(2, 2)\n",
      " primefactors of          5   = List(5)\n",
      " primefactors of          6   = List(3, 2)\n",
      " primefactors of          7   = List(7)\n",
      " primefactors of          8   = List(2, 2, 2)\n",
      " primefactors of          9   = List(3, 3)\n",
      " primefactors of         10   = List(5, 2)\n",
      " primefactors of         11   = List(11)\n",
      " primefactors of         12   = List(3, 2, 2)\n",
      " primefactors of         13   = List(13)\n",
      " primefactors of         14   = List(7, 2)\n",
      " primefactors of         15   = List(5, 3)\n",
      " primefactors of         16   = List(2, 2, 2, 2)\n"
     ]
    },
    {
     "data": {
      "text/plain": [
       "factorize: (x: Int)List[Int]\n"
      ]
     },
     "execution_count": 57,
     "metadata": {},
     "output_type": "execute_result"
    }
   ],
   "source": [
    "def factorize(x: Int): List[Int] = {\n",
    "\n",
    "  def foo(x: Int, a: Int = 2, list: List[Int] = Nil): List[Int] = a * a > x match {\n",
    "    case false if x % a == 0 => foo(x / a, a, a :: list)\n",
    "    case false => foo(x, a + 1, list)\n",
    "    case true => x :: list\n",
    "  }\n",
    "\n",
    "  foo(x)\n",
    "}\n",
    "\n",
    "for (i <- 2 to 16) {\n",
    "\n",
    "  println(\" primefactors of %10d   = \".format(i) + factorize(i))\n",
    "}\n"
   ]
  },
  {
   "cell_type": "code",
   "execution_count": 61,
   "id": "fa09a253",
   "metadata": {},
   "outputs": [
    {
     "name": "stdout",
     "output_type": "stream",
     "text": [
      "-1.0\n"
     ]
    }
   ],
   "source": [
    "//Check if a given number is positive or negative\n",
    "\n",
    "println(Math.signum(-1991))"
   ]
  },
  {
   "cell_type": "code",
   "execution_count": 68,
   "id": "ec43245f",
   "metadata": {},
   "outputs": [
    {
     "name": "stdout",
     "output_type": "stream",
     "text": [
      "5.0\n",
      "5.0\n"
     ]
    }
   ],
   "source": [
    "//Calculate the square root of a given number?\n",
    "\n",
    "println(Math.sqrt(25) )\n",
    "\n",
    "println(Math.pow(25, 0.5) )"
   ]
  },
  {
   "cell_type": "code",
   "execution_count": 8,
   "id": "2b4968be",
   "metadata": {},
   "outputs": [
    {
     "name": "stdout",
     "output_type": "stream",
     "text": [
      " largest prime  of          2   = 0\n",
      " largest prime  of          3   = 0\n",
      " largest prime  of          4   = 0\n",
      " largest prime  of          5   = 0\n",
      " largest prime  of          6   = 0\n",
      " largest prime  of          7   = 0\n",
      " largest prime  of          8   = 0\n",
      " largest prime  of          9   = 0\n",
      " largest prime  of         10   = 0\n",
      " largest prime  of         11   = 0\n",
      " largest prime  of         12   = 0\n",
      " largest prime  of         13   = 0\n",
      " largest prime  of         14   = 0\n",
      " largest prime  of         15   = 0\n",
      " largest prime  of         16   = 0\n"
     ]
    },
    {
     "data": {
      "text/plain": [
       "largest_prime: (number: Int)Int\n"
      ]
     },
     "execution_count": 8,
     "metadata": {},
     "output_type": "execute_result"
    }
   ],
   "source": [
    "//Find the largest prime factor of a given integral number?\n",
    "\n",
    "def largest_prime(number: Int): Int = {\n",
    "  \n",
    "        var i = 0 \n",
    "        var copyOfInput = number\n",
    "\n",
    "        for (i <- 2 to copyOfInput) {\n",
    "            if (copyOfInput % i == 0) {\n",
    "                copyOfInput /= i\n",
    "            }\n",
    "        }\n",
    "\n",
    "        i\n",
    "}\n",
    "\n",
    "for (i <- 2 to 16) {\n",
    "\n",
    "  println(\" largest prime  of %10d   = \".format(i) + largest_prime(i))\n",
    "}"
   ]
  },
  {
   "cell_type": "code",
   "execution_count": 1,
   "id": "303c5d43",
   "metadata": {},
   "outputs": [
    {
     "data": {
      "text/plain": [
       "Intitializing Scala interpreter ..."
      ]
     },
     "metadata": {},
     "output_type": "display_data"
    },
    {
     "data": {
      "text/plain": [
       "Spark Web UI available at http://LAPTOP-V8NR8FQT:4041\n",
       "SparkContext available as 'sc' (version = 2.4.4, master = local[*], app id = local-1626182225457)\n",
       "SparkSession available as 'spark'\n"
      ]
     },
     "metadata": {},
     "output_type": "display_data"
    },
    {
     "name": "stdout",
     "output_type": "stream",
     "text": [
      "Largest prime factor of number          6  is         3 \n",
      "Largest prime factor of number         15  is         5 \n",
      "Largest prime factor of number     392832  is        31 \n",
      "Largest prime factor of number    1787866  is    893933 \n"
     ]
    },
    {
     "data": {
      "text/plain": [
       "largestPrimeFactor: (number: Long)Int\r\n",
       "nums: Array[Int] = Array(6, 15, 392832, 1787866)\n"
      ]
     },
     "execution_count": 1,
     "metadata": {},
     "output_type": "execute_result"
    }
   ],
   "source": [
    "//Find all prime factors of a given number?\n",
    "def largestPrimeFactor(number: Long): Int = {\n",
    "  var i: Int = 0\n",
    "  var copyOfInput: Long = number\n",
    "  i = 2\n",
    "  while (i <= copyOfInput) {\n",
    "    if (copyOfInput % i == 0) {\n",
    "      copyOfInput /= i\n",
    "      i -= 1\n",
    "    }\n",
    "      i += 1\n",
    "  }\n",
    "  i\n",
    "}\n",
    "\n",
    "val nums = Array(6,15,392832,1787866)\n",
    "\n",
    "for(i <- nums)\n",
    "printf(\"Largest prime factor of number %10d  is  %8d %n\",  i,  largestPrimeFactor(i))"
   ]
  },
  {
   "cell_type": "code",
   "execution_count": 13,
   "id": "ea0225a6",
   "metadata": {},
   "outputs": [
    {
     "name": "stdout",
     "output_type": "stream",
     "text": [
      "Floyd's triangle of 5 rows is : \n",
      "1 \n",
      "\n",
      "2 3 \n",
      "\n",
      "4 5 6 \n",
      "\n",
      "7 8 9 10 \n",
      "\n",
      "11 12 13 14 15 \n",
      "\n"
     ]
    },
    {
     "data": {
      "text/plain": [
       "printFloydTriangle: (rows: Int)Unit\r\n",
       "rows: Int = 5\n"
      ]
     },
     "execution_count": 13,
     "metadata": {},
     "output_type": "execute_result"
    }
   ],
   "source": [
    "// print Floyd's triangle\n",
    "\n",
    "\n",
    "\n",
    "def printFloydTriangle(rows: Int): Unit = {\n",
    "  var number: Int = 1\n",
    "  printf(\"Floyd's triangle of %d rows is : %n\", rows)\n",
    "  var i: Int = 1\n",
    "  while (i <= rows) {\n",
    "    var j: Int = 1\n",
    "    while (j <= i) {\n",
    "      print(number + \" \")\n",
    "        number +=1\n",
    "      j += 1\n",
    "    }\n",
    "      println(\"\\n\")\n",
    "    i += 1\n",
    "  }\n",
    "\n",
    "}\n",
    "\n",
    "\n",
    "val rows = 5\n",
    "\n",
    "printFloydTriangle(rows)"
   ]
  },
  {
   "cell_type": "code",
   "execution_count": 24,
   "id": "508c08cb",
   "metadata": {},
   "outputs": [
    {
     "name": "stdout",
     "output_type": "stream",
     "text": [
      "                     1   1\n",
      "\n",
      "                   1   2   1\n",
      "\n",
      "                 1   3   3   1\n",
      "\n",
      "               1   4   6   4   1\n",
      "\n",
      "             1   5  10  10   5   1\n",
      "\n"
     ]
    },
    {
     "data": {
      "text/plain": [
       "printPascalTriangle: (rows: Int)Unit\r\n",
       "rows: Int = 5\n"
      ]
     },
     "execution_count": 24,
     "metadata": {},
     "output_type": "execute_result"
    }
   ],
   "source": [
    "//Print Pascal's triangle?\n",
    "\n",
    "\n",
    "def printPascalTriangle(rows: Int): Unit = {\n",
    "   \n",
    "    var i: Int = 1\n",
    "    \n",
    "  while (i <= rows) {\n",
    "      \n",
    "      var number: Int = 1\n",
    "      var j: Int = 0\n",
    "      \n",
    "    printf(\"%0\" + (rows - i) * 2 + \"s\", \" \")\n",
    "      \n",
    "    while (j <= i) {\n",
    "        \n",
    "      print(\"%4d\".format(number))\n",
    "        \n",
    "      number = number * (i - j) / (j + 1)\n",
    "        \n",
    "      j += 1\n",
    "    }\n",
    "    println(\"\\n\")\n",
    "    i += 1\n",
    "  }\n",
    "\n",
    "}\n",
    "\n",
    "\n",
    "val rows = 5\n",
    "\n",
    "printPascalTriangle(rows)"
   ]
  },
  {
   "cell_type": "code",
   "execution_count": 35,
   "id": "a5ac60f7",
   "metadata": {},
   "outputs": [
    {
     "name": "stdout",
     "output_type": "stream",
     "text": [
      "    1  is  not prime\n",
      "    2  is  prime number\n",
      "    3  is  prime number\n",
      "    4  is  not prime\n",
      "    5  is  prime number\n",
      "    6  is  not prime\n",
      "    7  is  prime number\n",
      "    8  is  not prime\n",
      "    9  is  not prime\n",
      "   10  is  not prime\n",
      "   11  is  prime number\n",
      "   12  is  not prime\n",
      "   13  is  prime number\n",
      "   14  is  not prime\n",
      "   15  is  not prime\n",
      "   16  is  not prime\n",
      "   17  is  prime number\n",
      "   18  is  not prime\n",
      "   19  is  prime number\n",
      "   20  is  not prime\n",
      "   21  is  not prime\n",
      "   22  is  not prime\n",
      "   23  is  prime number\n",
      "   24  is  not prime\n",
      "   25  is  prime number\n"
     ]
    },
    {
     "data": {
      "text/plain": [
       "isPrimeOrNot: (num: Int)String\n"
      ]
     },
     "execution_count": 35,
     "metadata": {},
     "output_type": "execute_result"
    }
   ],
   "source": [
    "//How to Find if a Given Integer Number is a Prime Number or Not?\n",
    "\n",
    "\n",
    "def isPrimeOrNot( num : Int ) : String = {\n",
    "        if (num < 0) \n",
    "             \"not valid\"\n",
    "        \n",
    "        else if (num == 0 || num == 1) \n",
    "             \"not prime\"\n",
    "    \n",
    "        else if (num == 2 || num == 3) \n",
    "             \"prime number\"\n",
    "        \n",
    "        else if ((num * num - 1) % 24 == 0) \n",
    "             \"prime number\"\n",
    "        else \n",
    "             \"not prime\"\n",
    "        \n",
    "    }\n",
    "\n",
    "(1 to 25).foreach( x => println(\" %4d  is  \".format(x) +  isPrimeOrNot(x)))"
   ]
  },
  {
   "cell_type": "code",
   "execution_count": 45,
   "id": "d05929ab",
   "metadata": {},
   "outputs": [
    {
     "data": {
      "text/plain": [
       "reverseBits: (n: Int)Int\r\n",
       "res33: String = 1010000000000000000000000000000\n"
      ]
     },
     "execution_count": 45,
     "metadata": {},
     "output_type": "execute_result"
    }
   ],
   "source": [
    "// reverse bits of a number  \n",
    "\n",
    "def reverseBits(n: Int): Int = {\n",
    "        var reversed = 0\n",
    "        var nn = n\n",
    "        for (i <- 0.until(32)) {\n",
    "          reversed += nn & 1\n",
    "          nn >>= 1\n",
    "          if (i < 31) {\n",
    "            reversed <<= 1\n",
    "          }\n",
    "        }\n",
    "        reversed\n",
    "}\n",
    "\n",
    "reverseBits(10).toBinaryString"
   ]
  },
  {
   "cell_type": "code",
   "execution_count": 60,
   "id": "20f78f6b",
   "metadata": {},
   "outputs": [
    {
     "name": "stdout",
     "output_type": "stream",
     "text": [
      "90\n",
      "===============================================\n",
      "100\n"
     ]
    },
    {
     "data": {
      "text/plain": [
       "add: (a: Int, b: Int)Int\r\n",
       "addIterative: (a: Int, b: Int)Int\n"
      ]
     },
     "execution_count": 60,
     "metadata": {},
     "output_type": "execute_result"
    }
   ],
   "source": [
    "//Add two numbers without using the plus operator\n",
    "\n",
    "def add(a: Int, b: Int): Int = {\n",
    "  if (b<= 0) a\n",
    "  else {\n",
    "      //SUM of two integer is A XOR B\n",
    "  val sum: Int = a ^ b\n",
    "  //CARRY of two integer is A AND B\n",
    "  val carry: Int = (a & b ) << 1\n",
    "  \n",
    "    add(sum, carry)\n",
    "  }\n",
    "}\n",
    "\n",
    "def addIterative(a: Int, b: Int): Int = {\n",
    "  var aa = a\n",
    "  var bb = b \n",
    "  while (bb != 0) {\n",
    "    //CARRY is AND of two bits\n",
    "    val carry: Int = aa & bb\n",
    "    //SUM of two bits is A XOR B\n",
    "    aa = aa ^ bb\n",
    "    //shifts carry to 1 bit to calculate sum\n",
    "    bb = carry << 1\n",
    "  }\n",
    "  aa\n",
    "}\n",
    "\n",
    "println(add( 40 ,50 ))\n",
    "\n",
    "println(\"===============================================\")\n",
    "\n",
    "println(addIterative( 20, 80))"
   ]
  },
  {
   "cell_type": "code",
   "execution_count": 15,
   "id": "1f75bd22",
   "metadata": {},
   "outputs": [
    {
     "data": {
      "text/plain": [
       "lines: String =\r\n",
       "Gun gun guna re\r\n",
       "Gun gun guna re\r\n",
       "Gun gun guna ye gaana re (5)\r\n",
       "\r\n",
       "Maayusion ke chonge utaar ke phenk de na saare\r\n",
       "Candle ye shaam ka phoonk raat ka cake kaat pyaare\r\n",
       "Sikha na tune magar yaar humne sikhaya re\r\n",
       "Dumdaar nuskha yaar humne jo aajmaaya re\r\n",
       "Aasuon ko chooran chaba ke humne dakaar maara re\r\n",
       "\r\n",
       "Gun gun guna re\r\n",
       "Gun gun guna re\r\n",
       "Gun gun guna ye gaana re (2)\r\n",
       "Gun. gun.gun...\r\n",
       "\r\n",
       "Hai sar pe tere khujli ke jo yeh tokre\r\n",
       "La humko dede halka hoja re tu chhokre\r\n",
       "Jo teri neende apne naakhun se noch le\r\n",
       "Woh dard saare jalte choolhe mein tu jhonk le\r\n",
       "\r\n",
       "Zindagi ke ration mein, gham ghot zyada hai\r\n",
       "Thok mein kharidenge, khushi ka pitara re\r\n",
       "\r\n",
       "Gun gun guna re\r\n",
       "Gun gun guna re\r\n",
       "Gun gun guna ye gaana re (2)\r\n",
       "Gun. gun.gun...\r\n",
       "\r\n",
       "Ho aye ho\r\n",
       "Tu moouh phulaa le sooraj bhi dhalne lage..."
      ]
     },
     "execution_count": 15,
     "metadata": {},
     "output_type": "execute_result"
    }
   ],
   "source": [
    "//Find the highest repeating world from a given file\n",
    "\n",
    "\n",
    "val lines = scala.io.Source.fromFile(\"C:\\\\Users\\\\dev30\\\\OneDrive\\\\Documents\\\\file1.txt\").mkString\n",
    "val ans = lines.split(\" \").groupBy(identity).map(x => (x._1 , x._2.size)).maxBy(_._2)\n",
    "\n"
   ]
  },
  {
   "cell_type": "code",
   "execution_count": 16,
   "id": "06f37969",
   "metadata": {},
   "outputs": [
    {
     "data": {
      "text/plain": [
       "res7: (String, Int) = (gun,15)\n"
      ]
     },
     "execution_count": 16,
     "metadata": {},
     "output_type": "execute_result"
    }
   ],
   "source": [
    "ans"
   ]
  },
  {
   "cell_type": "code",
   "execution_count": 20,
   "id": "52f8c45c",
   "metadata": {},
   "outputs": [
    {
     "data": {
      "text/plain": [
       "res11: String = 1011\n"
      ]
     },
     "execution_count": 20,
     "metadata": {},
     "output_type": "execute_result"
    }
   ],
   "source": [
    "//Convert a number to binary\n",
    "\n",
    "11.toBinaryString"
   ]
  },
  {
   "cell_type": "code",
   "execution_count": 32,
   "id": "dcdf05a1",
   "metadata": {},
   "outputs": [
    {
     "name": "stdout",
     "output_type": "stream",
     "text": [
      "  1994 is  a leap year  false\n",
      "  1995 is  a leap year  false\n",
      "  1996 is  a leap year  true\n",
      "  1997 is  a leap year  false\n",
      "  1998 is  a leap year  false\n",
      "  1999 is  a leap year  false\n",
      "  2000 is  a leap year  true\n",
      "  2001 is  a leap year  false\n",
      "  2002 is  a leap year  false\n",
      "  2003 is  a leap year  false\n",
      "  2004 is  a leap year  true\n"
     ]
    },
    {
     "data": {
      "text/plain": [
       "isLeapYear: (year: Int)Boolean\r\n",
       "arr: scala.collection.immutable.Range.Inclusive = Range(1994, 1995, 1996, 1997, 1998, 1999, 2000, 2001, 2002, 2003, 2004)\n"
      ]
     },
     "execution_count": 32,
     "metadata": {},
     "output_type": "execute_result"
    }
   ],
   "source": [
    "//Check if a given year is a leap year in Java?\n",
    "\n",
    "def isLeapYear( year : Int) : Boolean = {\n",
    "        (year % 400 == 0) || ((year % 100) != 0 && (year % 4 == 0));\n",
    "   }\n",
    "\n",
    "var arr = 1994 to 2004\n",
    "arr.foreach(x => println(\" %5d is  a leap year  \".format(x)  + isLeapYear(x)) )"
   ]
  },
  {
   "cell_type": "code",
   "execution_count": null,
   "id": "d93fdc01",
   "metadata": {},
   "outputs": [],
   "source": []
  },
  {
   "cell_type": "code",
   "execution_count": null,
   "id": "d03bbe91",
   "metadata": {},
   "outputs": [],
   "source": []
  }
 ],
 "metadata": {
  "kernelspec": {
   "display_name": "spylon-kernel",
   "language": "scala",
   "name": "spylon-kernel"
  },
  "language_info": {
   "codemirror_mode": "text/x-scala",
   "file_extension": ".scala",
   "help_links": [
    {
     "text": "MetaKernel Magics",
     "url": "https://metakernel.readthedocs.io/en/latest/source/README.html"
    }
   ],
   "mimetype": "text/x-scala",
   "name": "scala",
   "pygments_lexer": "scala",
   "version": "0.4.1"
  }
 },
 "nbformat": 4,
 "nbformat_minor": 5
}
