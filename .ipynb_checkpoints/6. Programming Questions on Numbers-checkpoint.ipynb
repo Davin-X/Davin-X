{
 "cells": [
  {
   "cell_type": "code",
   "execution_count": 22,
   "id": "1e281597",
   "metadata": {},
   "outputs": [
    {
     "name": "stdout",
     "output_type": "stream",
     "text": [
      "0 isPowerOfTwo false\n",
      "1 isPowerOfTwo true\n",
      "2 isPowerOfTwo true\n",
      "3 isPowerOfTwo false\n",
      "4 isPowerOfTwo true\n",
      "5 isPowerOfTwo false\n",
      "6 isPowerOfTwo false\n",
      "7 isPowerOfTwo false\n",
      "8 isPowerOfTwo true\n",
      "9 isPowerOfTwo false\n",
      "10 isPowerOfTwo false\n"
     ]
    },
    {
     "data": {
      "text/plain": [
       "isPowerOfTwo: (number: Int)Boolean\n"
      ]
     },
     "execution_count": 22,
     "metadata": {},
     "output_type": "execute_result"
    }
   ],
   "source": [
    "// Write code to check whether a no is a power of two or not?\n",
    "\n",
    "def isPowerOfTwo(number: Int): Boolean = {\n",
    "    if (number <= 0) return false\n",
    "      \n",
    "    (number & (number-1)) == 0 \n",
    "  }\n",
    "\n",
    "(0 to 10 ).foreach(X => println(X + \" isPowerOfTwo \" + isPowerOfTwo(X)) )"
   ]
  },
  {
   "cell_type": "code",
   "execution_count": 23,
   "id": "858c8d51",
   "metadata": {},
   "outputs": [
    {
     "name": "stdout",
     "output_type": "stream",
     "text": [
      "0 isPowerOfTwo false\n",
      "1 isPowerOfTwo true\n",
      "2 isPowerOfTwo true\n",
      "3 isPowerOfTwo false\n",
      "4 isPowerOfTwo true\n",
      "5 isPowerOfTwo false\n",
      "6 isPowerOfTwo false\n",
      "7 isPowerOfTwo false\n",
      "8 isPowerOfTwo true\n",
      "9 isPowerOfTwo false\n",
      "10 isPowerOfTwo false\n"
     ]
    },
    {
     "data": {
      "text/plain": [
       "isPowerOfTwo_2: (number: Int)Boolean\n"
      ]
     },
     "execution_count": 23,
     "metadata": {},
     "output_type": "execute_result"
    }
   ],
   "source": [
    "def isPowerOfTwo_2(number: Int): Boolean = {\n",
    "    if (number <= 0) return false\n",
    "      \n",
    "    if ((number & -number) == number)  return true\n",
    "        \n",
    "        return false\n",
    "  }\n",
    "\n",
    "(0 to 10 ).foreach(X => println(X + \" isPowerOfTwo \" + isPowerOfTwo_2(X)) )"
   ]
  },
  {
   "cell_type": "code",
   "execution_count": 24,
   "id": "53ddfba1",
   "metadata": {},
   "outputs": [
    {
     "name": "stdout",
     "output_type": "stream",
     "text": [
      "0 isPowerOfTwo false\n",
      "1 isPowerOfTwo true\n",
      "2 isPowerOfTwo true\n",
      "3 isPowerOfTwo false\n",
      "4 isPowerOfTwo true\n",
      "5 isPowerOfTwo false\n",
      "6 isPowerOfTwo false\n",
      "7 isPowerOfTwo false\n",
      "8 isPowerOfTwo true\n",
      "9 isPowerOfTwo false\n",
      "10 isPowerOfTwo false\n"
     ]
    },
    {
     "data": {
      "text/plain": [
       "isPowerOfTwo_3: (number: Int)Boolean\n"
      ]
     },
     "execution_count": 24,
     "metadata": {},
     "output_type": "execute_result"
    }
   ],
   "source": [
    "def isPowerOfTwo_3(number: Int): Boolean = {\n",
    "    if (number <= 0) return false\n",
    "      \n",
    "    var square = 1\n",
    "    while(number >= square){\n",
    "        if(number == square)  return true\n",
    "            square = square*2\n",
    "        }\n",
    "        return false\n",
    "  }\n",
    "\n",
    "(0 to 10 ).foreach(X => println(X + \" isPowerOfTwo \" + isPowerOfTwo_3(X)) )"
   ]
  },
  {
   "cell_type": "code",
   "execution_count": 13,
   "id": "1736f5b3",
   "metadata": {},
   "outputs": [
    {
     "name": "stdout",
     "output_type": "stream",
     "text": [
      "true\n",
      "false\n"
     ]
    },
    {
     "data": {
      "text/plain": [
       "isPalindrome_1: (num: Int)Boolean\n"
      ]
     },
     "execution_count": 13,
     "metadata": {},
     "output_type": "execute_result"
    }
   ],
   "source": [
    "// Write a program to check whether a number is a palindrome or not?\n",
    "\n",
    "  private def reverse(num: Int): Int = {\n",
    "    var reverse: Int = 0\n",
    "    var number = num \n",
    "    while (number != 0) {\n",
    "      reverse = reverse * 10 + number % 10\n",
    "      number = number / 10\n",
    "    }\n",
    "    reverse\n",
    "  }\n",
    "def isPalindrome_1(num: Int): Boolean = {\n",
    "    if (num == reverse(num) )   \n",
    "     return true\n",
    "    \n",
    "    false\n",
    "  }\n",
    "println( isPalindrome_1(234565432))\n",
    "println( isPalindrome_1(23456))"
   ]
  },
  {
   "cell_type": "code",
   "execution_count": null,
   "id": "2db268dc",
   "metadata": {},
   "outputs": [],
   "source": [
    "def isPalindrome_2(num: Int): Boolean = {\n",
    "    if (num.toString == num.toString.reverse)   \n",
    "     return true\n",
    "    \n",
    "    false\n",
    "  }\n",
    "\n",
    "println( isPalindrome_2(234565432))\n",
    "println( isPalindrome_2(23456))"
   ]
  },
  {
   "cell_type": "code",
   "execution_count": 21,
   "id": "7c359797",
   "metadata": {},
   "outputs": [
    {
     "name": "stdout",
     "output_type": "stream",
     "text": [
      "true\n",
      "true\n",
      "false\n"
     ]
    },
    {
     "data": {
      "text/plain": [
       "isArmStrong: (num: Int)Boolean\n"
      ]
     },
     "execution_count": 21,
     "metadata": {},
     "output_type": "execute_result"
    }
   ],
   "source": [
    "//  Write a program to check whether a number is a armstrong or not?\n",
    "\n",
    "\n",
    "def isArmStrong(num: Int): Boolean = {\n",
    "    var result: Int = 0\n",
    "    var number = num \n",
    "    while (number != 0) {\n",
    "      val remainder: Int = number % 10\n",
    "      result = result + remainder * remainder * remainder\n",
    "      number = number / 10\n",
    "    }\n",
    "//number is Armstrong return true\n",
    "    if (num == result) \n",
    "    return   true\n",
    "    \n",
    "    false\n",
    "  }\n",
    "\n",
    "println( isArmStrong(153))\n",
    "println( isArmStrong(371))\n",
    "println( isArmStrong(343))"
   ]
  },
  {
   "cell_type": "code",
   "execution_count": 27,
   "id": "5829cb11",
   "metadata": {},
   "outputs": [
    {
     "name": "stdout",
     "output_type": "stream",
     "text": [
      "2\n",
      "3\n",
      "5\n",
      "7\n",
      "11\n",
      "13\n",
      "17\n",
      "19\n"
     ]
    },
    {
     "data": {
      "text/plain": [
       "isPrime: (number: Int)Boolean\n"
      ]
     },
     "execution_count": 27,
     "metadata": {},
     "output_type": "execute_result"
    }
   ],
   "source": [
    "//Write a program to find all prime number up to a given number?\n",
    "\n",
    "\n",
    "def isPrime(number: Int): Boolean =\n",
    "    (2 until number).find(number % _ == 0).map(_ => false).getOrElse(true)\n",
    "\n",
    "for( number <- 2 to 20)\n",
    "      if (isPrime(number))\n",
    "        println(number)"
   ]
  },
  {
   "cell_type": "code",
   "execution_count": 3,
   "id": "5157220b",
   "metadata": {},
   "outputs": [
    {
     "name": "stdout",
     "output_type": "stream",
     "text": [
      "0\n",
      "1\n",
      "1\n",
      "2\n",
      "3\n",
      "5\n",
      "8\n",
      "13\n",
      "21\n",
      "34\n",
      "55\n"
     ]
    },
    {
     "data": {
      "text/plain": [
       "Nth_fib_recursive: (number: Int)Int\n"
      ]
     },
     "execution_count": 3,
     "metadata": {},
     "output_type": "execute_result"
    }
   ],
   "source": [
    "// Write a function to compute Nth Fibonacci number? Both iterative and recursive?\n",
    "\n",
    "def Nth_fib_recursive(number: Int): Int ={\n",
    "    if(number <=1) return number\n",
    "    else Nth_fib_recursive(number -1) + Nth_fib_recursive(number-2)\n",
    "}\n",
    "\n",
    "(0 to 10 ).foreach(x => println(Nth_fib_recursive(x)))"
   ]
  },
  {
   "cell_type": "code",
   "execution_count": 11,
   "id": "5df59143",
   "metadata": {},
   "outputs": [
    {
     "name": "stdout",
     "output_type": "stream",
     "text": [
      "0\n",
      "1\n",
      "1\n",
      "2\n",
      "3\n",
      "5\n",
      "8\n",
      "13\n",
      "21\n",
      "34\n",
      "55\n"
     ]
    },
    {
     "data": {
      "text/plain": [
       "Nth_fib_iterative: (n: Int)Int\n"
      ]
     },
     "execution_count": 11,
     "metadata": {},
     "output_type": "execute_result"
    }
   ],
   "source": [
    "def Nth_fib_iterative(n: Int): Int ={\n",
    "    var a: Int = 0;    var b: Int = 1;    var c: Int = 0\n",
    "    if (n <=1) return n\n",
    "       \n",
    "    for (i <- 2 to n) {\n",
    "      c = a + b\n",
    "      a = b\n",
    "      b = c \n",
    "    }\n",
    "    b\n",
    "}\n",
    "\n",
    "(0 to 10 ).foreach(x => println(Nth_fib_iterative(x)))"
   ]
  },
  {
   "cell_type": "code",
   "execution_count": 35,
   "id": "4d213c4d",
   "metadata": {},
   "outputs": [
    {
     "name": "stdout",
     "output_type": "stream",
     "text": [
      " reversed  1011  =   true \n",
      " reversed 12121  =  false \n",
      " reversed 111111  =   true \n",
      " reversed 100001  =   true \n",
      " reversed 100000  =   true \n",
      " reversed 44444  =  false \n"
     ]
    },
    {
     "data": {
      "text/plain": [
       "isBinary: (number: Int)Boolean\r\n",
       "inputs: List[Int] = List(1011, 12121, 111111, 100001, 100000, 44444)\n"
      ]
     },
     "execution_count": 35,
     "metadata": {},
     "output_type": "execute_result"
    }
   ],
   "source": [
    "// How to check if a number is binary?\n",
    "\n",
    "def isBinary(number: Int): Boolean ={\n",
    "    var num = number\n",
    "    while(num >0){\n",
    "        if(num % 10 > 1 ) return false\n",
    "        num /= 10\n",
    "    }\n",
    "    true\n",
    "}\n",
    "\n",
    "val inputs :List[Int] = List(1011, 12121, 111111, 100001,100000, 44444)\n",
    "inputs.foreach(x => println(\" reversed %5d  =  %5b \".format(x ,isBinary_2(x))) ) "
   ]
  },
  {
   "cell_type": "code",
   "execution_count": 34,
   "id": "0696dbac",
   "metadata": {},
   "outputs": [
    {
     "name": "stdout",
     "output_type": "stream",
     "text": [
      " reversed  1011  =   true \n",
      " reversed 12121  =  false \n",
      " reversed 111111  =   true \n",
      " reversed 100001  =   true \n",
      " reversed 100000  =   true \n",
      " reversed 44444  =  false \n"
     ]
    },
    {
     "data": {
      "text/plain": [
       "isBinary_2: (number: Int)Boolean\r\n",
       "inputs: List[Int] = List(1011, 12121, 111111, 100001, 100000, 44444)\n"
      ]
     },
     "execution_count": 34,
     "metadata": {},
     "output_type": "execute_result"
    }
   ],
   "source": [
    "def isBinary_2(number: Int): Boolean ={\n",
    "    \n",
    "    number.toString.forall(x => x.asDigit <= 1)\n",
    "}\n",
    "   \n",
    "val inputs :List[Int] = List(1011, 12121, 111111, 100001,100000, 44444)\n",
    "inputs.foreach(x => println(\" reversed %5d  =  %5b \".format(x ,isBinary_2(x))) ) \n"
   ]
  },
  {
   "cell_type": "code",
   "execution_count": 28,
   "id": "9f70a947",
   "metadata": {},
   "outputs": [
    {
     "name": "stdout",
     "output_type": "stream",
     "text": [
      " reversed 123456  =  654321 \n",
      " reversed 987654  =  456789 \n",
      " reversed   321  =    123 \n",
      " reversed   123  =    321 \n",
      " reversed 434324  =  423434 \n",
      " reversed 44444  =  44444 \n"
     ]
    },
    {
     "data": {
      "text/plain": [
       "reverse: (num: Int)Int\r\n",
       "inputs: List[Int] = List(123456, 987654, 321, 123, 434324, 44444)\n"
      ]
     },
     "execution_count": 28,
     "metadata": {},
     "output_type": "execute_result"
    }
   ],
   "source": [
    "// How to reverse an integer\n",
    "\n",
    "def reverse(num : Int): Int = {\n",
    "    var number = num\n",
    "    var reverse: Int = 0\n",
    "    var remainder: Int = 0\n",
    "    do {\n",
    "      remainder = number % 10\n",
    "      reverse = reverse * 10 + remainder\n",
    "      number = number / 10\n",
    "    } while (number > 0);\n",
    "    reverse\n",
    "  }\n",
    "\n",
    "val inputs = List(123456, 987654, 321, 123,434324, 44444)\n",
    "inputs.foreach(x => println(\" reversed %5d  =  %5d \".format(x ,reverse(x))) ) \n"
   ]
  },
  {
   "cell_type": "code",
   "execution_count": 39,
   "id": "f0781b7a",
   "metadata": {},
   "outputs": [
    {
     "name": "stdout",
     "output_type": "stream",
     "text": [
      " number of 1s is  123456 =      6 \n",
      " number of 1s is  987654 =      8 \n",
      " number of 1s is    321 =      3 \n",
      " number of 1s is    123 =      6 \n",
      " number of 1s is     11 =      3 \n"
     ]
    },
    {
     "data": {
      "text/plain": [
       "countOne: (num: Int)Int\r\n",
       "inputs: List[Int] = List(123456, 987654, 321, 123, 11)\n"
      ]
     },
     "execution_count": 39,
     "metadata": {},
     "output_type": "execute_result"
    }
   ],
   "source": [
    "// How to count a number of set bits in given integer?\n",
    "\n",
    "def countOne(num: Int): Int = {\n",
    "    var count: Int = 0\n",
    "    var number = num\n",
    "    for (i <- 0.until(32)) {\n",
    "      if ((number & 1) == 1) count += 1\n",
    "      number = number >>> 1\n",
    "    }\n",
    "    count\n",
    "  }\n",
    "val inputs = List(123456, 987654, 321, 123,11)\n",
    "for(i <- inputs) { println(\" number of 1s is  %5d =  %5d \".format(i, countOne(i)))}"
   ]
  },
  {
   "cell_type": "code",
   "execution_count": 41,
   "id": "9caea5a5",
   "metadata": {},
   "outputs": [
    {
     "name": "stdout",
     "output_type": "stream",
     "text": [
      " number of 1s is  123456 =      6 \n",
      " number of 1s is  987654 =      8 \n",
      " number of 1s is    321 =      3 \n",
      " number of 1s is    123 =      6 \n",
      " number of 1s is     11 =      3 \n"
     ]
    },
    {
     "data": {
      "text/plain": [
       "countSetBits: (num: Long)Int\r\n",
       "inputs: List[Int] = List(123456, 987654, 321, 123, 11)\n"
      ]
     },
     "execution_count": 41,
     "metadata": {},
     "output_type": "execute_result"
    }
   ],
   "source": [
    "// better way\n",
    "\n",
    "def countSetBits(num: Long): Int = {\n",
    "    var count: Int = 0\n",
    "    var number = num \n",
    "    while (number > 0) {\n",
    "      count += 1\n",
    "      number &= number - 1\n",
    "    }\n",
    "    count\n",
    "  }\n",
    "val inputs = List(123456, 987654, 321, 123,11)\n",
    "for(i <- inputs) { println(\" number of 1s is  %5d =  %5d \".format(i, countSetBits(i)))}"
   ]
  },
  {
   "cell_type": "code",
   "execution_count": 43,
   "id": "f815551f",
   "metadata": {},
   "outputs": [
    {
     "name": "stdout",
     "output_type": "stream",
     "text": [
      " number of 1s is  123456 =     21 \n",
      " number of 1s is  987654 =     39 \n",
      " number of 1s is    321 =      6 \n",
      " number of 1s is    123 =      6 \n",
      " number of 1s is     11 =      2 \n",
      " number of 1s is      9 =      9 \n"
     ]
    },
    {
     "data": {
      "text/plain": [
       "sumOfDigits: (number: Int)Int\r\n",
       "inputs: List[Int] = List(123456, 987654, 321, 123, 11, 9)\n"
      ]
     },
     "execution_count": 43,
     "metadata": {},
     "output_type": "execute_result"
    }
   ],
   "source": [
    "// How to find the sum of digits of a number using recursion and iteratively ?\n",
    "\n",
    "def sumOfDigits(number: Int): Int = {\n",
    "    if (number / 10 == 0) return  number\n",
    "    number % 10 + sumOfDigits(number / 10)\n",
    "  }\n",
    "\n",
    "val inputs = List(123456, 987654, 321, 123,11,9)\n",
    "for(i <- inputs) { println(\" number of 1s is  %5d =  %5d \".format(i, sumOfDigits(i)))}"
   ]
  },
  {
   "cell_type": "code",
   "execution_count": 44,
   "id": "7c90a6b9",
   "metadata": {},
   "outputs": [
    {
     "name": "stdout",
     "output_type": "stream",
     "text": [
      " number of 1s is  123456 =     21 \n",
      " number of 1s is  987654 =     39 \n",
      " number of 1s is    321 =      6 \n",
      " number of 1s is    123 =      6 \n",
      " number of 1s is     11 =      2 \n",
      " number of 1s is      9 =      9 \n"
     ]
    },
    {
     "data": {
      "text/plain": [
       "sumOfDigitsIterative: (num: Int)Int\r\n",
       "inputs: List[Int] = List(123456, 987654, 321, 123, 11, 9)\n"
      ]
     },
     "execution_count": 44,
     "metadata": {},
     "output_type": "execute_result"
    }
   ],
   "source": [
    "def sumOfDigitsIterative(num: Int): Int = {\n",
    "    var number = num\n",
    "    var result: Int = 0\n",
    "    while (number != 0) {\n",
    "      result = result + number % 10\n",
    "      number = number / 10\n",
    "    }\n",
    "    result\n",
    "  }\n",
    "val inputs = List(123456, 987654, 321, 123,11,9)\n",
    "for(i <- inputs) { println(\" number of 1s is  %5d =  %5d \".format(i, sumOfDigitsIterative(i)))}"
   ]
  },
  {
   "cell_type": "code",
   "execution_count": 46,
   "id": "c46a1758",
   "metadata": {},
   "outputs": [
    {
     "name": "stdout",
     "output_type": "stream",
     "text": [
      "Original numbers are   123  and   246 \n",
      "after swapping the numbers are   246  and   123 \n"
     ]
    },
    {
     "data": {
      "text/plain": [
       "num1: Int = 246\r\n",
       "num2: Int = 123\r\n",
       "num1: Int = 246\r\n",
       "num2: Int = 123\r\n",
       "num1: Int = 246\n"
      ]
     },
     "execution_count": 46,
     "metadata": {},
     "output_type": "execute_result"
    }
   ],
   "source": [
    "// How to swap two numbers without using temp variable?\n",
    "\n",
    "var num1 = 123 \n",
    "var num2 = 246\n",
    "\n",
    "println(\"Original numbers are %5d  and %5d \".format(num1, num2))\n",
    "\n",
    "num1 = num1 ^ num2 ; num2 = num1 ^ num2; num1 = num1 ^ num2 \n",
    "\n",
    "println(\"after swapping the numbers are %5d  and %5d \".format(num1, num2))\n",
    "\n"
   ]
  },
  {
   "cell_type": "code",
   "execution_count": 47,
   "id": "0372f1c2",
   "metadata": {},
   "outputs": [
    {
     "name": "stdout",
     "output_type": "stream",
     "text": [
      "Original numbers are   123  and   246 \n",
      "after swapping the numbers are   246  and   123 \n"
     ]
    },
    {
     "data": {
      "text/plain": [
       "num1: Int = 246\r\n",
       "num2: Int = 123\r\n",
       "num1: Int = 246\r\n",
       "num2: Int = 123\r\n",
       "num1: Int = 246\n"
      ]
     },
     "execution_count": 47,
     "metadata": {},
     "output_type": "execute_result"
    }
   ],
   "source": [
    "var num1 = 123 \n",
    "var num2 = 246\n",
    "\n",
    "println(\"Original numbers are %5d  and %5d \".format(num1, num2))\n",
    "\n",
    "num1 = num1 * num2 ; num2 = num1 / num2; num1 = num1 / num2 \n",
    "\n",
    "println(\"after swapping the numbers are %5d  and %5d \".format(num1, num2))\n",
    "\n"
   ]
  },
  {
   "cell_type": "code",
   "execution_count": 48,
   "id": "e9f881cd",
   "metadata": {},
   "outputs": [
    {
     "name": "stdout",
     "output_type": "stream",
     "text": [
      "Original numbers are   123  and   246 \n",
      "after swapping the numbers are   246  and   123 \n"
     ]
    },
    {
     "data": {
      "text/plain": [
       "num1: Int = 246\r\n",
       "num2: Int = 123\r\n",
       "num1: Int = 246\r\n",
       "num2: Int = 123\r\n",
       "num1: Int = 246\n"
      ]
     },
     "execution_count": 48,
     "metadata": {},
     "output_type": "execute_result"
    }
   ],
   "source": [
    "var num1 = 123 \n",
    "var num2 = 246\n",
    "\n",
    "println(\"Original numbers are %5d  and %5d \".format(num1, num2))\n",
    "\n",
    "num1 = num1 + num2 ; num2 = num1 - num2; num1 = num1 - num2 \n",
    "\n",
    "println(\"after swapping the numbers are %5d  and %5d \".format(num1, num2))\n",
    "\n"
   ]
  },
  {
   "cell_type": "code",
   "execution_count": 62,
   "id": "c2846de2",
   "metadata": {},
   "outputs": [
    {
     "name": "stdout",
     "output_type": "stream",
     "text": [
      "( prime factors of    35 are =  ,List(7, 5))\n",
      "( prime factors of    72 are =  ,List(3, 3, 2, 2, 2))\n",
      "( prime factors of   189 are =  ,List(7, 3, 3, 3))\n",
      "( prime factors of   123 are =  ,List(41, 3))\n",
      "( prime factors of 232321 are =  ,List(4943, 47))\n",
      "( prime factors of     9 are =  ,List(3, 3))\n",
      "( prime factors of 67232321 are =  ,List(12343, 419, 13))\n"
     ]
    },
    {
     "data": {
      "text/plain": [
       "factorize: (x: Int)List[Int]\r\n",
       "inputs: List[Int] = List(35, 72, 189, 123, 232321, 9, 67232321)\n"
      ]
     },
     "execution_count": 62,
     "metadata": {},
     "output_type": "execute_result"
    }
   ],
   "source": [
    "def factorize(x: Int): List[Int] = {\n",
    "  //@tailrec\n",
    "  def foo(x: Int, a: Int = 2, list: List[Int] = Nil): List[Int] = a*a > x match {\n",
    "    case false if x % a == 0 => foo(x / a, a    , a :: list)\n",
    "    case false               => foo(x    , a + 1, list)\n",
    "    case true                => x :: list\n",
    "  }\n",
    "  foo(x)\n",
    "}\n",
    "\n",
    "\n",
    "val inputs = List(35, 72, 189, 123,232321,9,67232321)\n",
    "for(i <- inputs) { println(\" prime factors of %5d are =  \".format(i), factorize(i))}"
   ]
  },
  {
   "cell_type": "code",
   "execution_count": 89,
   "id": "6ebddc43",
   "metadata": {},
   "outputs": [
    {
     "name": "stdout",
     "output_type": "stream",
     "text": [
      "114\n"
     ]
    },
    {
     "data": {
      "text/plain": [
       "add_2: (num1: Int, num2: Int)Int\r\n",
       "num1: Int = 45\r\n",
       "num2: Int = 69\n"
      ]
     },
     "execution_count": 89,
     "metadata": {},
     "output_type": "execute_result"
    }
   ],
   "source": [
    "// How to add two integers without using arithmetic operator?\n",
    "\n",
    "def add_2(num1: Int, num2: Int): Int = {\n",
    "    var a = num1 ; var b = num2\n",
    "    \n",
    "    while (b != 0) {\n",
    "    //CARRY is AND of two bits\n",
    "      val carry: Int = (a & b)\n",
    "    //SUM of two bits is A XOR B\n",
    "      a = a ^ b\n",
    "    //shifts carry to 1 bit to calculate sum\n",
    "      b = carry << 1\n",
    "    }\n",
    "    a\n",
    "}\n",
    "\n",
    "val num1 = 45 \n",
    "val num2 = 69\n",
    "println(add_2(num1, num2))\n"
   ]
  },
  {
   "cell_type": "code",
   "execution_count": 98,
   "id": "1dd88d38",
   "metadata": {},
   "outputs": [
    {
     "name": "stdout",
     "output_type": "stream",
     "text": [
      "910\n"
     ]
    },
    {
     "data": {
      "text/plain": [
       "add: (a: Int, b: Int)Int\r\n",
       "num1: Int = 405\r\n",
       "num2: Int = 505\n"
      ]
     },
     "execution_count": 98,
     "metadata": {},
     "output_type": "execute_result"
    }
   ],
   "source": [
    " def add(a: Int, b: Int): Int = {\n",
    "   \n",
    "     if (b == 0) return a\n",
    "     \n",
    "    //CARRY of two integer is A AND B\n",
    "    var carry: Int = (a & b)\n",
    "     carry = carry << 1\n",
    "    //SUM of two integer is A XOR B\n",
    "    var sum: Int = a ^ b\n",
    "   \n",
    "    add(sum, carry)\n",
    "  }\n",
    "\n",
    "val num1 = 405 \n",
    "val num2 = 505\n",
    "println(add(num1, num2))\n"
   ]
  },
  {
   "cell_type": "code",
   "execution_count": null,
   "id": "cd2224b5",
   "metadata": {},
   "outputs": [],
   "source": []
  },
  {
   "cell_type": "code",
   "execution_count": null,
   "id": "09452390",
   "metadata": {},
   "outputs": [],
   "source": []
  }
 ],
 "metadata": {
  "kernelspec": {
   "display_name": "spylon-kernel",
   "language": "scala",
   "name": "spylon-kernel"
  },
  "language_info": {
   "codemirror_mode": "text/x-scala",
   "file_extension": ".scala",
   "help_links": [
    {
     "text": "MetaKernel Magics",
     "url": "https://metakernel.readthedocs.io/en/latest/source/README.html"
    }
   ],
   "mimetype": "text/x-scala",
   "name": "scala",
   "pygments_lexer": "scala",
   "version": "0.4.1"
  }
 },
 "nbformat": 4,
 "nbformat_minor": 5
}
