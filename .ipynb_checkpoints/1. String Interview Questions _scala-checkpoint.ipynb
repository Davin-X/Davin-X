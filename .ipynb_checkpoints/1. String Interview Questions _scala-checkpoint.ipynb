{
 "cells": [
  {
   "cell_type": "code",
   "execution_count": 20,
   "id": "56039fdf",
   "metadata": {},
   "outputs": [
    {
     "name": "stdout",
     "output_type": "stream",
     "text": [
      "(m,2)\n",
      "(g,3)\n",
      "(r,2)\n",
      "=============================\n",
      "(n,2)\n",
      "(i,2)\n",
      "(o,2)\n"
     ]
    },
    {
     "data": {
      "text/plain": [
       "printdup: (str: String)Unit\n"
      ]
     },
     "execution_count": 20,
     "metadata": {},
     "output_type": "execute_result"
    }
   ],
   "source": [
    "//print duplicate characters in string \n",
    "\n",
    "def printdup(str: String) ={\n",
    "    str.groupBy(identity).map(x => (x._1,x._2.size))\n",
    "    .filter(_._2 > 1).foreach(println)\n",
    "}\n",
    "\n",
    "printdup(\"Programmingg\")\n",
    "println(\"=============================\")\n",
    "printdup(\"Combination\")"
   ]
  },
  {
   "cell_type": "code",
   "execution_count": 19,
   "id": "0645e2ae",
   "metadata": {},
   "outputs": [
    {
     "name": "stdout",
     "output_type": "stream",
     "text": [
      "true\n",
      "true\n",
      "true\n",
      "true\n",
      "false\n",
      "false\n",
      "false\n",
      "false\n",
      "true\n",
      "false\n"
     ]
    },
    {
     "data": {
      "text/plain": [
       "isAnagram: (str1: String, str2: String)Boolean\r\n",
       "isAnagram_2: (str1: String, str2: String)Boolean\n"
      ]
     },
     "execution_count": 19,
     "metadata": {},
     "output_type": "execute_result"
    }
   ],
   "source": [
    "//Check if two Strings are anagrams of each other?\n",
    "\n",
    "def isAnagram(str1 : String, str2 : String):Boolean ={\n",
    "    str1.sorted == str2.sorted\n",
    "}\n",
    "\n",
    "def isAnagram_2(str1 : String, str2 : String):Boolean ={\n",
    "    \n",
    "    if(str1.length != str2.length)\n",
    "        false\n",
    "    \n",
    "    val m1 = str1.groupBy(identity).map(x => (x._1,x._2.size))\n",
    "    val m2 = str2.groupBy(identity).map(x => (x._1,x._2.size))\n",
    "    \n",
    "    m1.equals(m2)\n",
    "    \n",
    "}\n",
    "println(isAnagram_2(\"word\", \"wrdo\"))\n",
    "println(isAnagram(\"mary\", \"army\"))\n",
    "println(isAnagram(\"stop\", \"tops\"))\n",
    "println(isAnagram(\"boat\", \"btoa\"))\n",
    "println(isAnagram(\"pure\", \"in\"))\n",
    "println(isAnagram_2(\"fill\", \"fil\"))\n",
    "println(isAnagram(\"b\", \"bbb\"))\n",
    "println(isAnagram(\"ccc\", \"ccccccc\"))\n",
    "println(isAnagram(\"a\", \"a\"))\n",
    "println(isAnagram(\"sleep\", \"slep\"))"
   ]
  },
  {
   "cell_type": "code",
   "execution_count": 42,
   "id": "e8555fda",
   "metadata": {},
   "outputs": [
    {
     "name": "stdout",
     "output_type": "stream",
     "text": [
      "P\n",
      "=============================\n",
      "b\n"
     ]
    },
    {
     "data": {
      "text/plain": [
       "import scala.util.control.Breaks._\r\n",
       "first_non_repeating: (input: String)Char\n"
      ]
     },
     "execution_count": 42,
     "metadata": {},
     "output_type": "execute_result"
    }
   ],
   "source": [
    "//Print first non repeated character from String?\n",
    "\n",
    "import scala.util.control.Breaks._\n",
    "\n",
    "def first_non_repeating(input: String): Char = {\n",
    "  val m = scala.collection.mutable.Map[Char, Int]()\n",
    "  var ans = ' '\n",
    "  var substr = input.tail\n",
    "\n",
    "  breakable { \n",
    "    for (i <- 0 until input.length) {\n",
    "       \n",
    "        substr = input.substring(0,i) + input.substring(i+1)\n",
    "      if (substr.contains(input(i)))\n",
    "          {\n",
    "              substr = input.substring(0,i) + input.substring(i+1)\n",
    "          }\n",
    "        \n",
    "      else {\n",
    "        ans = input(i)\n",
    "        break\n",
    "      }\n",
    "\n",
    "    }\n",
    "  }\n",
    "\n",
    "  ans\n",
    "}\n",
    "\n",
    "println(first_non_repeating(\"Programming\"))\n",
    "println(\"=============================\")\n",
    "println(first_non_repeating(\"CCommbination\"))"
   ]
  },
  {
   "cell_type": "code",
   "execution_count": 45,
   "id": "ba893ba9",
   "metadata": {},
   "outputs": [
    {
     "name": "stdout",
     "output_type": "stream",
     "text": [
      "gnimmargorP\n",
      "=============================\n",
      "noitanibmoC\n"
     ]
    },
    {
     "data": {
      "text/plain": [
       "revStr: (str: String)String\n"
      ]
     },
     "execution_count": 45,
     "metadata": {},
     "output_type": "execute_result"
    }
   ],
   "source": [
    "//Reverse a given String using recursion?\n",
    "\n",
    "def revStr(str: String) : String ={\n",
    "   if(str.length == 1)\n",
    "     str\n",
    "    else {\n",
    "        revStr(str.tail) + str.head\n",
    "    }\n",
    "    \n",
    "}\n",
    "\n",
    "println(revStr(\"Programming\"))\n",
    "println(\"=============================\")\n",
    "println(revStr(\"Combination\"))\n"
   ]
  },
  {
   "cell_type": "code",
   "execution_count": 53,
   "id": "cafe442b",
   "metadata": {},
   "outputs": [
    {
     "name": "stdout",
     "output_type": "stream",
     "text": [
      "false\n",
      "=============================\n",
      "true\n"
     ]
    },
    {
     "data": {
      "text/plain": [
       "onlyDigits: (str: String)Boolean\n"
      ]
     },
     "execution_count": 53,
     "metadata": {},
     "output_type": "execute_result"
    }
   ],
   "source": [
    "//Check if a String contains only digits\n",
    "\n",
    "def onlyDigits(str: String): Boolean = {\n",
    "  val chars = \".*[^0-9].*\"\n",
    "\n",
    "  if (str.matches(chars))\n",
    "    false\n",
    "  else\n",
    "    true\n",
    "\n",
    "}\n",
    "\n",
    "println(onlyDigits(\"Programming1\"))\n",
    "println(\"=============================\")\n",
    "println(onlyDigits(\"1234567890\"))"
   ]
  },
  {
   "cell_type": "code",
   "execution_count": 6,
   "id": "a2dae28a",
   "metadata": {},
   "outputs": [
    {
     "name": "stdout",
     "output_type": "stream",
     "text": [
      "(3,8)\n",
      "=============================\n",
      "(5,6)\n"
     ]
    },
    {
     "data": {
      "text/plain": [
       "vowels_consonants: (str: String)(Int, Int)\n"
      ]
     },
     "execution_count": 6,
     "metadata": {},
     "output_type": "execute_result"
    }
   ],
   "source": [
    "//Count a number of vowels and consonants in a given String?\n",
    "\n",
    "def vowels_consonants(str: String):(Int,Int) ={\n",
    "    \n",
    "    val v = List('a','e','i','o','u','A','E','I','O','U')\n",
    "    var v_count = 0\n",
    "    var c_count = 0\n",
    "    str.foreach(x => if(v.contains(x) ) v_count += 1 else c_count +=1 )\n",
    "    \n",
    "    (v_count, c_count)\n",
    "}\n",
    "\n",
    "println(vowels_consonants(\"Programming\"))\n",
    "\n",
    "println(\"=============================\")\n",
    "\n",
    "println(vowels_consonants(\"Combination\") )\n"
   ]
  },
  {
   "cell_type": "code",
   "execution_count": 7,
   "id": "040fb438",
   "metadata": {},
   "outputs": [
    {
     "name": "stdout",
     "output_type": "stream",
     "text": [
      "2\n",
      "=============================\n",
      "4\n"
     ]
    },
    {
     "data": {
      "text/plain": [
       "count_occurrences: (str: String, elem: Char)Int\n"
      ]
     },
     "execution_count": 7,
     "metadata": {},
     "output_type": "execute_result"
    }
   ],
   "source": [
    "//Count the occurrence of a given character in String?\n",
    "\n",
    "def count_occurrences(str : String, elem : Char): Int  ={\n",
    "    str.count(x => x == elem)\n",
    "    \n",
    "}\n",
    "\n",
    "println(count_occurrences(\"Programming\",'g'))\n",
    "\n",
    "println(\"=============================\")\n",
    "\n",
    "println(count_occurrences(\"CombinationCombination\",'i') )"
   ]
  },
  {
   "cell_type": "code",
   "execution_count": 8,
   "id": "ee8aa9f6",
   "metadata": {},
   "outputs": [
    {
     "name": "stdout",
     "output_type": "stream",
     "text": [
      "Prog Prgo Porg Pogr Pgro Pgor rPog rPgo roPg rogP rgPo rgoP oPrg oPgr orPg orgP ogPr ogrP gPro gPor grPo groP goPr gorP\n",
      "=============================\n",
      "Com Cob Cmb omb\n"
     ]
    },
    {
     "data": {
      "text/plain": [
       "print_permutations: (str: String)String\r\n",
       "print_combinations: (str: String, n: Int)String\n"
      ]
     },
     "execution_count": 8,
     "metadata": {},
     "output_type": "execute_result"
    }
   ],
   "source": [
    "///Find all permutations and combinations of String?\n",
    "def print_permutations(str: String) ={\n",
    "   str.permutations.mkString(\" \")\n",
    "}\n",
    "\n",
    "def print_combinations(str: String, n : Int) ={\n",
    "   str.combinations(n).mkString(\" \")\n",
    "}\n",
    "\n",
    "println(print_permutations(\"Prog\"))\n",
    "\n",
    "println(\"=============================\")\n",
    "\n",
    "println(print_combinations(\"Comb\", 3))\n"
   ]
  },
  {
   "cell_type": "code",
   "execution_count": 9,
   "id": "a250dd7f",
   "metadata": {},
   "outputs": [
    {
     "name": "stdout",
     "output_type": "stream",
     "text": [
      "esreveR sdrow ni a nevig ecnetnes\n",
      "=========================================\n",
      "    tuohtiw gnisu yna yrarbil dohtem"
     ]
    },
    {
     "data": {
      "text/plain": [
       "revWords: (str: String)Array[String]\n"
      ]
     },
     "execution_count": 9,
     "metadata": {},
     "output_type": "execute_result"
    }
   ],
   "source": [
    "//Reverse words in a given sentence without using any library method?\n",
    "\n",
    "def revWords(str: String) ={\n",
    "   str.split(\" \").map(x => x.reverse)\n",
    "    \n",
    "}\n",
    "\n",
    "revWords(\"Reverse words in a given sentence   \").mkString(\" \").foreach(print)\n",
    "\n",
    "println(\"\\n=========================================\")\n",
    "\n",
    "revWords(\"    without using any library method\").mkString(\" \").foreach(print)"
   ]
  },
  {
   "cell_type": "code",
   "execution_count": 10,
   "id": "976bea22",
   "metadata": {},
   "outputs": [
    {
     "name": "stdout",
     "output_type": "stream",
     "text": [
      "false\n",
      "true\n"
     ]
    },
    {
     "data": {
      "text/plain": [
       "check_rotation: (str1: String, str2: String)Boolean\n"
      ]
     },
     "execution_count": 10,
     "metadata": {},
     "output_type": "execute_result"
    }
   ],
   "source": [
    "//Check if two Strings are rotation of each other?\n",
    "\n",
    "def check_rotation(str1 : String, str2 : String) : Boolean ={\n",
    "    \n",
    "    if (str1.length != str2.length)\n",
    "        false \n",
    "    \n",
    "    var concatnated = str1 * 2\n",
    " \n",
    "    concatnated.indexOf(str2) != -1\n",
    "}\n",
    "\n",
    "println(check_rotation(\"IndiaVsAustralia\", \"AustraliaVsIndia\"))\n",
    "println(check_rotation(\"IndiaVsEngland\", \"EnglandIndiaVs\"))\n"
   ]
  },
  {
   "cell_type": "code",
   "execution_count": 11,
   "id": "c974e4ff",
   "metadata": {},
   "outputs": [
    {
     "name": "stdout",
     "output_type": "stream",
     "text": [
      "true\n",
      "false\n"
     ]
    },
    {
     "data": {
      "text/plain": [
       "check_palindrom: (str: String)Boolean\n"
      ]
     },
     "execution_count": 11,
     "metadata": {},
     "output_type": "execute_result"
    }
   ],
   "source": [
    "//Check if the given String is Palindrome?\n",
    "\n",
    "def check_palindrom(str : String) : Boolean ={\n",
    "    str.reverse == str   \n",
    "}\n",
    "\n",
    "println(check_palindrom(\"redivider\"))\n",
    "println(check_palindrom(\"radar1\"))"
   ]
  },
  {
   "cell_type": "code",
   "execution_count": null,
   "id": "bd85bc05",
   "metadata": {},
   "outputs": [],
   "source": []
  },
  {
   "cell_type": "code",
   "execution_count": null,
   "id": "021cc1b9",
   "metadata": {},
   "outputs": [],
   "source": []
  },
  {
   "cell_type": "code",
   "execution_count": null,
   "id": "914f1e6f",
   "metadata": {},
   "outputs": [],
   "source": []
  }
 ],
 "metadata": {
  "kernelspec": {
   "display_name": "spylon-kernel",
   "language": "scala",
   "name": "spylon-kernel"
  },
  "language_info": {
   "codemirror_mode": "text/x-scala",
   "file_extension": ".scala",
   "help_links": [
    {
     "text": "MetaKernel Magics",
     "url": "https://metakernel.readthedocs.io/en/latest/source/README.html"
    }
   ],
   "mimetype": "text/x-scala",
   "name": "scala",
   "pygments_lexer": "scala",
   "version": "0.4.1"
  }
 },
 "nbformat": 4,
 "nbformat_minor": 5
}
