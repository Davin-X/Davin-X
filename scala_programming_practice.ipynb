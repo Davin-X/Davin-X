{
 "cells": [
  {
   "cell_type": "markdown",
   "id": "bdc2bf0e",
   "metadata": {},
   "source": [
    "scala functional programming with important concepts\n"
   ]
  },
  {
   "cell_type": "code",
   "execution_count": 16,
   "id": "ab5665db",
   "metadata": {},
   "outputs": [
    {
     "name": "stdout",
     "output_type": "stream",
     "text": [
      "0\n",
      "1\n",
      "1\n",
      "2\n",
      "3\n",
      "5\n",
      "8\n",
      "13\n",
      "21\n",
      "34\n",
      "55\n"
     ]
    },
    {
     "data": {
      "text/plain": [
       "fib: (n: Int, a: Int, b: Int)Int\n"
      ]
     },
     "execution_count": 16,
     "metadata": {},
     "output_type": "execute_result"
    }
   ],
   "source": [
    "//tail recursion\n",
    "\n",
    "def fib(n: Int, a: Int = 0, b: Int = 1):Int ={\n",
    "  if (n == 0) a\n",
    "  else if (n == 1) b\n",
    "  else fib(n - 1, b, a + b)\n",
    "}\n",
    "\n",
    "for(i<- 0 to 10)\n",
    "println(fib(i))"
   ]
  },
  {
   "cell_type": "code",
   "execution_count": 43,
   "id": "fd7f7826",
   "metadata": {},
   "outputs": [
    {
     "data": {
      "text/plain": [
       "factorial: (x: BigInt)BigInt\r\n",
       "res32: BigInt = 3628800\n"
      ]
     },
     "execution_count": 43,
     "metadata": {},
     "output_type": "execute_result"
    }
   ],
   "source": [
    "//Nested method\n",
    "def factorial(x:BigInt):BigInt = {\n",
    "    def fact(x: BigInt, accumlator: BigInt): BigInt = {\n",
    "        if(x <= 1) accumlator\n",
    "        else fact(x-1, x*accumlator)\n",
    "    }\n",
    "    fact(x,1)\n",
    "}\n",
    "\n",
    "factorial(10)"
   ]
  },
  {
   "cell_type": "code",
   "execution_count": 4,
   "id": "b428e36f",
   "metadata": {},
   "outputs": [
    {
     "name": "stdout",
     "output_type": "stream",
     "text": [
      "Elements = List(3.5, 5.0, 1.5)\n",
      "Sum of elements = 10.0\n",
      "Maximum element = 5.0\n",
      "Minimum element = 1.5\n"
     ]
    },
    {
     "data": {
      "text/plain": [
       "seq_elements: Seq[Double] = List(3.5, 5.0, 1.5)\r\n",
       "sum: Double = 10.0\r\n",
       "maximum: Double = 5.0\r\n",
       "minimum: Double = 1.5\n"
      ]
     },
     "execution_count": 4,
     "metadata": {},
     "output_type": "execute_result"
    }
   ],
   "source": [
    "// initialize a sequence of elements\n",
    "        val seq_elements: Seq[Double] = Seq(3.5, 5.0, 1.5)\n",
    "        println(s\"Elements = $seq_elements\") \n",
    "  \n",
    "        // find the sum of the elements // using reduce function\n",
    "        val sum: Double = seq_elements.reduce((a, b) => a + b)\n",
    "        println(s\"Sum of elements = $sum\")\n",
    "\n",
    "        val maximum : Double = seq_elements.reduce(_ max _)\n",
    "        println(s\"Maximum element = $maximum\")\n",
    "  \n",
    "        // find the minimum element using reduce function\n",
    "        val minimum : Double = seq_elements.reduce(_ min _)\n",
    "        println(s\"Minimum element = $minimum\")"
   ]
  },
  {
   "cell_type": "code",
   "execution_count": 8,
   "id": "3d156ad4",
   "metadata": {},
   "outputs": [
    {
     "name": "stdout",
     "output_type": "stream",
     "text": [
      "Elements = List(3.5, 5.0, 1.5)\n",
      "Sum of elements = 10.0\n",
      "Elements = List(hello, Geeks, For, Geeks)\n",
      "After concatenation = -hello-Geeks-For-Geeks\n"
     ]
    },
    {
     "data": {
      "text/plain": [
       "seq_elements: Seq[Double] = List(3.5, 5.0, 1.5)\r\n",
       "sum: Double = 10.0\r\n",
       "str_elements: Seq[String] = List(hello, Geeks, For, Geeks)\r\n",
       "concat: String = -hello-Geeks-For-Geeks\n"
      ]
     },
     "execution_count": 8,
     "metadata": {},
     "output_type": "execute_result"
    }
   ],
   "source": [
    "// initialize a sequence of elements\n",
    "        val seq_elements: Seq[Double] = Seq(3.5, 5.0, 1.5)\n",
    "        println(s\"Elements = $seq_elements\") \n",
    "  \n",
    "        // find the sum of the elements using fold function\n",
    "        val sum: Double = seq_elements.fold(0.0)((a, b) => a + b)\n",
    "        println(s\"Sum of elements = $sum\")\n",
    "\n",
    "\n",
    "val str_elements: Seq[String] = Seq(\"hello\",\"Geeks\", \"For\", \"Geeks\")\n",
    "        println(s\"Elements = $str_elements\") \n",
    "  \n",
    "        // Concatenate strings with fold function\n",
    "        val concat: String = str_elements.fold(\"\")(\n",
    "                                (a, b) => a + \"-\" + b)\n",
    "        println(s\"After concatenation = $concat\")"
   ]
  },
  {
   "cell_type": "code",
   "execution_count": 11,
   "id": "74b218d6",
   "metadata": {},
   "outputs": [
    {
     "name": "stdout",
     "output_type": "stream",
     "text": [
      "Running total of all elementsin the collection = List(0, 4, 6, 7, 13, 22)\n",
      "After concatenation = List(, -hello, -hello-Geeks, -hello-Geeks-For, -hello-Geeks-For-Geeks)\n"
     ]
    },
    {
     "data": {
      "text/plain": [
       "numbers: Seq[Int] = List(4, 2, 1, 6, 9)\r\n",
       "iterations: Seq[Int] = List(0, 4, 6, 7, 13, 22)\r\n",
       "str_elements: Seq[String] = List(hello, Geeks, For, Geeks)\r\n",
       "concat: Seq[String] = List(\"\", -hello, -hello-Geeks, -hello-Geeks-For, -hello-Geeks-For-Geeks)\n"
      ]
     },
     "execution_count": 11,
     "metadata": {},
     "output_type": "execute_result"
    }
   ],
   "source": [
    "val numbers: Seq[Int] = Seq(4, 2, 1, 6, 9)\n",
    "  \n",
    " //find the sum of the elements using scan function\n",
    " val iterations: Seq[Int] = numbers.scan(0)(_ + _)\n",
    "\n",
    "println(\"Running total of all elements\" +s\"in the collection = $iterations\")\n",
    "\n",
    "\n",
    "val str_elements : Seq[String] = Seq(\"hello\",\"Geeks\", \"For\", \"Geeks\")\n",
    "      \n",
    "        // Concatenate strings with scan function\n",
    "val concat : Seq[String] = str_elements.scan(\"\")((a, b) => a + \"-\" + b)\n",
    "\n",
    "println(s\"After concatenation = $concat\")"
   ]
  },
  {
   "cell_type": "code",
   "execution_count": 30,
   "id": "c68e826c",
   "metadata": {},
   "outputs": [
    {
     "name": "stdout",
     "output_type": "stream",
     "text": [
      "true\n",
      "true\n",
      "false\n",
      "true\n"
     ]
    },
    {
     "data": {
      "text/plain": [
       "linearSearch: [T](items: List[T], searchElem: T)Boolean\r\n",
       "l1: List[Int] = List(1, 2, 3, 4, 5, 6, 7, 8, 9, 10, 11, 12, 20, 34, 56, 345, 1245)\r\n",
       "l2: List[String] = List(aa, bb, cc, dd, ee)\r\n",
       "l3: List[Double] = List(1.4, 2.0, 3.6, 4.0, 5.0, 6.0, 7.0)\n"
      ]
     },
     "execution_count": 30,
     "metadata": {},
     "output_type": "execute_result"
    }
   ],
   "source": [
    "//Linear search \n",
    "  def linearSearch[T](items: List[T], searchElem: T): Boolean = {\n",
    "    if (items.isEmpty) false\n",
    "    else if (items.head == searchElem) true\n",
    "    else linearSearch(items.tail, searchElem)\n",
    "  }\n",
    "  \n",
    "val l1 = List(1, 2, 3, 4, 5, 6, 7, 8, 9, 10, 11, 12, 20, 34, 56, 345, 1245)\n",
    "\n",
    "val l2 = List(\"aa\",\"bb\",\"cc\",\"dd\",\"ee\")\n",
    "\n",
    "val l3 = List(1.4, 2.0, 3.6, 4.0, 5, 6, 7)\n",
    "\n",
    "    println(linearSearch(l1,10))\n",
    "\n",
    "    println(linearSearch(l2, \"cc\"))\n",
    "\n",
    "    println(linearSearch(l1, 15))\n",
    "\n",
    "    println(linearSearch(l3, 3.6))\n",
    "  "
   ]
  },
  {
   "cell_type": "code",
   "execution_count": 2,
   "id": "59cc19d3",
   "metadata": {},
   "outputs": [
    {
     "name": "stdout",
     "output_type": "stream",
     "text": [
      "true\n",
      "true\n",
      "false\n"
     ]
    },
    {
     "data": {
      "text/plain": [
       "binarySearch: [T](items: List[T], find: T)(implicit ordering: Ordering[T])Boolean\r\n",
       "dividePoint: [T](items: List[T])Int\n"
      ]
     },
     "execution_count": 2,
     "metadata": {},
     "output_type": "execute_result"
    }
   ],
   "source": [
    "//binarySearch\n",
    "  def binarySearch[T](items: List[T], find: T)(implicit ordering: Ordering[T]): Boolean = {\n",
    "    if (items.length == 1) {\n",
    "      if (items.head == find) true else false\n",
    "    }\n",
    " \n",
    "    else {\n",
    "      val midPoint = dividePoint(items)\n",
    "      val midElem = items.apply(midPoint)\n",
    "      if (ordering.gt(find, midElem)) binarySearch(items.drop(midPoint), find)\n",
    "      else if (ordering.gt(midElem, find)) binarySearch(items.take(midPoint), find)\n",
    "      else true\n",
    "    }\n",
    "  }\n",
    " \n",
    "  def dividePoint[T](items: List[T]): Int = {\n",
    "    if (items.size % 2 == 0) items.size / 2 else items.size / 2 + 1\n",
    "  }\n",
    " \n",
    " \n",
    "    println(binarySearch(List(1, 2, 3, 4, 5, 6, 7, 8, 9, 10, 11, 12, 20, 34, 56, 345, 1245), 10))\n",
    "    println(binarySearch(List(\"a\", \"b\"), \"b\"))\n",
    "    println(binarySearch(List(1, 2, 3, 4, 5, 6, 7, 8, 9, 10, 11, 12, 20, 34, 56, 345, 1245), 15))\n",
    "  "
   ]
  },
  {
   "cell_type": "code",
   "execution_count": 4,
   "id": "49de1611",
   "metadata": {},
   "outputs": [
    {
     "data": {
      "text/plain": [
       "countries: org.apache.spark.rdd.RDD[(String, String)] = ParallelCollectionRDD[1] at parallelize at <console>:30\r\n",
       "seqOpFun: (runningAccumulator: Map[String,Int], currentPairToProcess: (String, String))Map[String,Int]\r\n",
       "comOpFun: (acc1: Map[String,Int], acc2: Map[String,Int])Map[String,Int]\r\n",
       "res: scala.collection.immutable.Map[String,Int] = Map(USA -> 2, China -> 1, India -> 1, France -> 1, Nepal -> 3)\n"
      ]
     },
     "execution_count": 4,
     "metadata": {},
     "output_type": "execute_result"
    }
   ],
   "source": [
    "//create RDD\n",
    "val countries = sc.parallelize(List((\"Nepal\", \"Kathmandu\"),(\"Nepal\", \"Pokhara\"),\n",
    "                                    (\"USA\", \"NY\"),(\"USA\", \"Los Angeles\"),\n",
    "                                    (\"China\", \"Beijing\"),(\"France\", \"Paris\"),\n",
    "                                    (\"Nepal\", \"Kusma\"), (\"India\", \"Delhi\")))\n",
    " \n",
    "//define seqOp\n",
    "def seqOpFun(runningAccumulator: Map[String, Int], currentPairToProcess: (String, String)): Map[String, Int] = {\n",
    "  runningAccumulator.updated(currentPairToProcess._1, 1 + runningAccumulator.getOrElse(currentPairToProcess._1, 0))\n",
    "}\n",
    " \n",
    "//define comOp\n",
    "def comOpFun(acc1: Map[String, Int], acc2: Map[String, Int]): Map[String, Int] = {\n",
    "  acc1 ++ acc2.map { case (countryName, noCities) => countryName -> (noCities + acc1.getOrElse(countryName, 0)) }\n",
    "}\n",
    " \n",
    "//get result\n",
    "val res = countries.aggregate(Map.empty[String, Int])(seqOpFun, comOpFun)"
   ]
  },
  {
   "cell_type": "code",
   "execution_count": 5,
   "id": "7ccbff41",
   "metadata": {},
   "outputs": [
    {
     "data": {
      "text/plain": [
       "str: String = my name is antsant\r\n",
       "s: String = my name is dev\n"
      ]
     },
     "execution_count": 5,
     "metadata": {},
     "output_type": "execute_result"
    }
   ],
   "source": [
    "//replace \n",
    "val str = \"my name is antsant\"\n",
    "val s= str.replace(\"antsant\",\"dev\")"
   ]
  },
  {
   "cell_type": "code",
   "execution_count": 37,
   "id": "b0bf402d",
   "metadata": {},
   "outputs": [
    {
     "data": {
      "text/plain": [
       "str2: String = ParallelCollectionRDD\r\n",
       "s: scala.collection.immutable.Map[Char,Int] = Map(e -> 2, a -> 2, l -> 5, D -> 2, o -> 2)\r\n",
       "ans: scala.collection.immutable.Map[Char,Int] = Map(e -> 2, a -> 2, l -> 5, D -> 2, o -> 2)\n"
      ]
     },
     "execution_count": 37,
     "metadata": {},
     "output_type": "execute_result"
    }
   ],
   "source": [
    "val str2 = \"ParallelCollectionRDD\"\n",
    "\n",
    "val s = str2.foldLeft(Map[Char, Int]()) {\n",
    "      case (map, char) => val oldCount: Int = map.getOrElse(char, 0)\n",
    "        map.+(char -> (oldCount + 1))\n",
    "    }\n",
    ".filter(x => x._2 >=2)\n",
    "\n",
    "\n",
    "val ans = str2.groupBy(x => x).map(x => (x._1, x._2.size)) .filter(x => x._2 >= 2 )\n"
   ]
  },
  {
   "cell_type": "code",
   "execution_count": 7,
   "id": "6d2e2833",
   "metadata": {},
   "outputs": [
    {
     "data": {
      "text/plain": [
       "str: String = my name is antsant\r\n",
       "s: Array[String] = Array(my, name, is, dev)\n"
      ]
     },
     "execution_count": 7,
     "metadata": {},
     "output_type": "execute_result"
    }
   ],
   "source": [
    "val str = \"my name is antsant\"\n",
    "val s= str.split(\" \")\n",
    "s(s.size-1)=\"dev\"\n"
   ]
  },
  {
   "cell_type": "code",
   "execution_count": 55,
   "id": "17f30a23",
   "metadata": {},
   "outputs": [
    {
     "data": {
      "text/plain": [
       "fibo: (n: Int)Int\n"
      ]
     },
     "execution_count": 55,
     "metadata": {},
     "output_type": "execute_result"
    }
   ],
   "source": [
    "def fibo(n:Int):Int = {\n",
    "    if (n==1) 0\n",
    "    else if(n==2) 1\n",
    "    else fibo(n-1) + fibo(n-2)\n",
    "}"
   ]
  },
  {
   "cell_type": "code",
   "execution_count": 57,
   "id": "30311e47",
   "metadata": {},
   "outputs": [
    {
     "name": "stdout",
     "output_type": "stream",
     "text": [
      "0  1  1  2  3  5  8  13  21  34  "
     ]
    }
   ],
   "source": [
    "for( i <- 1 to 10)print(fibo(i)+\"  \")"
   ]
  },
  {
   "cell_type": "code",
   "execution_count": 58,
   "id": "a9bfa537",
   "metadata": {},
   "outputs": [
    {
     "name": "stdout",
     "output_type": "stream",
     "text": [
      "0  1  1  2  3  5  8  13  21  34  "
     ]
    },
    {
     "data": {
      "text/plain": [
       "Has_t: Array[BigInt] = Array(0, 1, 1, 2, 3, 5, 8, 13, 21, 34, 55, 89, 144, 233, 377, 610, 987, 1597, 2584, 4181, 6765, 10946, 17711, 28657, 46368, 75025, 121393, 196418, 317811, 514229, 832040, 1346269, 2178309, 3524578, 5702887, 9227465, 14930352, 24157817, 39088169, 63245986, 102334155, 165580141, 267914296, 433494437, 701408733, 1134903170, 1836311903, 2971215073, 4807526976, 7778742049, 12586269025, 20365011074, 32951280099, 53316291173, 86267571272, 139583862445, 225851433717, 365435296162, 591286729879, 956722026041, 1548008755920, 2504730781961, 4052739537881, 6557470319842, 10610209857723, 17167680177565, 27777890035288, 44945570212853, 72723460248141, 117669030460994, 190392490709135, 308061521170129, 498454011879264, 806515533049393, 1304969544928657, 2111485077978050, 3416454..."
      ]
     },
     "execution_count": 58,
     "metadata": {},
     "output_type": "execute_result"
    }
   ],
   "source": [
    "var Has_t = new Array[BigInt](1001)\n",
    "Has_t(0)= 0 \n",
    "\n",
    "Has_t(1)= 1\n",
    "\n",
    "for( i <- 2 to 1000) Has_t(i) = Has_t(i-1) + Has_t(i-2)\n",
    "for( i <- 1 to 10) print(Has_t(i-1)+\"  \")"
   ]
  },
  {
   "cell_type": "code",
   "execution_count": 3,
   "id": "92cf74b0",
   "metadata": {},
   "outputs": [
    {
     "name": "stdout",
     "output_type": "stream",
     "text": [
      "The given string is: 1abc2x30yz67\n",
      "The sum of the numbers in the said string is: 100\n"
     ]
    },
    {
     "data": {
      "text/plain": [
       "test: (stng: String)Int\r\n",
       "str1: String = 1abc2x30yz67\n"
      ]
     },
     "execution_count": 3,
     "metadata": {},
     "output_type": "execute_result"
    }
   ],
   "source": [
    "//import scala.io.StdIn.readLine\n",
    "\n",
    "def test(stng: String): Int = {\n",
    "  val l = stng.length\n",
    "  var sum = 0\n",
    "  var temp = \"\"\n",
    "\n",
    "  for (i <- 0 until l) {\n",
    "    if (Character.isDigit(stng.charAt(i))) {\n",
    "      if (i < l - 1 && Character.isDigit(stng.charAt(i + 1))) {\n",
    "        temp += stng.charAt(i)\n",
    "      }\n",
    "      else {\n",
    "        temp += stng.charAt(i)\n",
    "        sum += Integer.parseInt(temp)\n",
    "        temp = \"\"\n",
    "      }\n",
    "    }\n",
    "  }\n",
    "  sum\n",
    "}\n",
    "\n",
    "\n",
    "val str1 = \"1abc2x30yz67\" //\"1abc23\" //\"geeks4geeks\" //\"123abc\"\n",
    "\n",
    "println(\"The given string is: \" + str1)\n",
    "\n",
    "println(\"The sum of the numbers in the said string is: \" + test(str1))\n",
    "\n"
   ]
  },
  {
   "cell_type": "code",
   "execution_count": 21,
   "id": "adef6fe2",
   "metadata": {},
   "outputs": [
    {
     "name": "stdout",
     "output_type": "stream",
     "text": [
      "123"
     ]
    },
    {
     "data": {
      "text/plain": [
       "numPattern: scala.util.matching.Regex = [0-9]+\r\n",
       "find_sum: (str1: String)BigInt\r\n",
       "str1: String = 123abc\n"
      ]
     },
     "execution_count": 21,
     "metadata": {},
     "output_type": "execute_result"
    }
   ],
   "source": [
    "//import scala.util.matching.Regex\n",
    "\n",
    "val numPattern = \"[0-9]+\".r\n",
    "\n",
    "def find_sum(str1: String): BigInt = {\n",
    "  numPattern.findAllIn(str1).map(_.toInt).sum\n",
    "}\n",
    "\n",
    "val str1 = \"123abc\"\n",
    "\n",
    "print(find_sum(str1))"
   ]
  },
  {
   "cell_type": "code",
   "execution_count": 27,
   "id": "c7f3a71c",
   "metadata": {},
   "outputs": [
    {
     "name": "stdout",
     "output_type": "stream",
     "text": [
      "hhii  hhooww  aarree  yyoouu"
     ]
    },
    {
     "data": {
      "text/plain": [
       "str: String = hi how are you\n"
      ]
     },
     "execution_count": 27,
     "metadata": {},
     "output_type": "execute_result"
    }
   ],
   "source": [
    "val str = \"hi how are you\"\n",
    "str.map(x=> x.toString :+ x).foreach(print)"
   ]
  },
  {
   "cell_type": "code",
   "execution_count": 53,
   "id": "9dfb6078",
   "metadata": {
    "scrolled": true
   },
   "outputs": [
    {
     "data": {
      "text/plain": [
       "str2: String = welcome\r\n",
       "str1: String = w3resource\r\n",
       "len1: Int = 10\r\n",
       "len2: Int = 7\r\n",
       "max_length: Int = 10\r\n",
       "min_length: Int = 7\r\n",
       "s1: String = w3resource\r\n",
       "s2: String = \"welcome   \"\r\n",
       "res38: String = wwe3lrceosmoeurce\n"
      ]
     },
     "execution_count": 53,
     "metadata": {},
     "output_type": "execute_result"
    }
   ],
   "source": [
    "val str2 = \"welcome\"\n",
    "val str1 = \"w3resource\"\n",
    "val len1 = str1.length\n",
    "val len2 = str2.length\n",
    "val max_length = Math.max(len1,len2)\n",
    "val min_length = Math.min(len1,len2)\n",
    "val s1 = str1.padTo(max_length,' ') \n",
    "val s2 = str2.padTo(max_length,' ')\n",
    "\n",
    "s2.zip(s1).map(x => x._1.toString :+ x._2).mkString(\"\").replaceAll(\"\\\\s\", \"\")"
   ]
  },
  {
   "cell_type": "code",
   "execution_count": 38,
   "id": "158c705f",
   "metadata": {},
   "outputs": [
    {
     "name": "stdout",
     "output_type": "stream",
     "text": [
      "The given strings  are: welcome  and  w3resource\n",
      "The new string is: wwe3lrceosmoeurce\n"
     ]
    },
    {
     "data": {
      "text/plain": [
       "test: (stng1: String, stng2: String)String\r\n",
       "str1: String = welcome\r\n",
       "str2: String = w3resource\n"
      ]
     },
     "execution_count": 38,
     "metadata": {},
     "output_type": "execute_result"
    }
   ],
   "source": [
    "def test(stng1: String, stng2: String): String = {\n",
    "    val len1 = stng1.length\n",
    "    val len2 = stng2.length\n",
    "    var max_len = Math.max(len1, len2);\n",
    "    var newstring = \"\";\n",
    "    for (i <- 0 to max_len - 1) {\n",
    "      if (i <= len1 - 1)\n",
    "        newstring = newstring + stng1.substring(i, i + 1);\n",
    "      if (i <= len2 - 1)\n",
    "        newstring = newstring + stng2.substring(i, i + 1);\n",
    "    }\n",
    "    newstring;\n",
    "  }\n",
    "\n",
    "val str1 = \"welcome\";\n",
    "val str2 = \"w3resource\";\n",
    "println(\"The given strings  are: \" + str1 + \"  and  \" + str2);\n",
    "println(\"The new string is: \" + test(str1, str2))"
   ]
  },
  {
   "cell_type": "code",
   "execution_count": 59,
   "id": "88218631",
   "metadata": {},
   "outputs": [
    {
     "name": "stdout",
     "output_type": "stream",
     "text": [
      "The given string is: welcome\n",
      "Number of repetition characters and repetition: 4\n",
      "The new string is: welcwelwew\n"
     ]
    },
    {
     "data": {
      "text/plain": [
       "test: (stng: String, n: Int)String\r\n",
       "str1: String = welcome\r\n",
       "rep_no: Int = 4\n"
      ]
     },
     "execution_count": 59,
     "metadata": {},
     "output_type": "execute_result"
    }
   ],
   "source": [
    "\n",
    "  def test(stng: String, n: Int): String = {\n",
    "  var l = n\n",
    "  var newstring = \"\"\n",
    "    \n",
    "  for (i<-n to 0 by -1)  {\n",
    "    newstring = newstring + stng.substring(0,l)\n",
    "    l = l -1;\n",
    "  }\n",
    "  return newstring;\n",
    "  }\n",
    "\n",
    "  \n",
    "val str1 =  \"welcome\";\n",
    "val rep_no = 4;\n",
    "println(\"The given string is: \"+str1);\n",
    "println(\"Number of repetition characters and repetition: \"+rep_no);\n",
    "println(\"The new string is: \"+ test(str1, rep_no));\n",
    "  "
   ]
  },
  {
   "cell_type": "code",
   "execution_count": 117,
   "id": "233ba7ce",
   "metadata": {},
   "outputs": [
    {
     "name": "stdout",
     "output_type": "stream",
     "text": [
      "(2,2)\n",
      "(3,2)\n",
      "(4,4)\n"
     ]
    },
    {
     "data": {
      "text/plain": [
       "find_freq_dup: (str: List[Int])scala.collection.immutable.Map[Int,Int]\r\n",
       "l1: List[Int] = List(1, 4, 3, 2, 4, 4, 4, 2, 3, 5)\r\n",
       "ans: scala.collection.immutable.Map[Int,Int] = Map(2 -> 2, 3 -> 2, 4 -> 4)\n"
      ]
     },
     "execution_count": 117,
     "metadata": {},
     "output_type": "execute_result"
    }
   ],
   "source": [
    "def find_freq_dup(str :List[Int]) ={\n",
    "  val s = str.groupBy(x => x).map(t => (t._1, t._2.length)).filter(x => x._2 >=2)\n",
    "  //val s = str.groupBy(identity).map(t => (t._1, t._2.length)).filter(x => x._2 >=2)\n",
    "  s\n",
    "}\n",
    "\n",
    "val l1 = List(1,4,3,2,4,4,4,2,3,5)\n",
    "val ans = find_freq_dup(l1)\n",
    "\n",
    "ans.foreach(println)"
   ]
  },
  {
   "cell_type": "code",
   "execution_count": 116,
   "id": "45451c51",
   "metadata": {},
   "outputs": [
    {
     "name": "stdout",
     "output_type": "stream",
     "text": [
      "(2,2)\n",
      "(4,4)\n",
      "(3,2)\n"
     ]
    },
    {
     "data": {
      "text/plain": [
       "find_freq_dup: (str: List[Int])scala.collection.mutable.Map[Int,Int]\r\n",
       "l1: List[Int] = List(1, 4, 3, 2, 4, 4, 4, 2, 3, 5)\r\n",
       "ans: scala.collection.mutable.Map[Int,Int] = Map(2 -> 2, 5 -> 1, 4 -> 4, 1 -> 1, 3 -> 2)\n"
      ]
     },
     "execution_count": 116,
     "metadata": {},
     "output_type": "execute_result"
    }
   ],
   "source": [
    "def find_freq_dup(str :List[Int]) = {\n",
    "  \n",
    "    var ll =  scala.collection.mutable.Map[Int,Int] ()\n",
    "    \n",
    "    for( i <- str )\n",
    "    {\n",
    "        if(ll.contains(i)) {ll(i) +=1  }\n",
    "        else ll(i) = 1 \n",
    "    }\n",
    "     ll\n",
    "}\n",
    "\n",
    "val l1 = List(1,4,3,2,4,4,4,2,3,5)\n",
    "           \n",
    "val ans = find_freq_dup(l1)\n",
    "\n",
    "for ( i <- ans ){\n",
    "    if (i._2 >=2)  println(i)\n",
    "}"
   ]
  },
  {
   "cell_type": "code",
   "execution_count": 123,
   "id": "64966a77",
   "metadata": {},
   "outputs": [
    {
     "name": "stdout",
     "output_type": "stream",
     "text": [
      "The given string is: welllcommmmeee\n",
      "The number of triples in the string is: 4\n"
     ]
    },
    {
     "data": {
      "text/plain": [
       "test: (str: String)Int\r\n",
       "str1: String = welllcommmmeee\n"
      ]
     },
     "execution_count": 123,
     "metadata": {},
     "output_type": "execute_result"
    }
   ],
   "source": [
    "def test(str: String): Int = {\n",
    "  var c = 0\n",
    "  for (i <- 0 to str.length - 3) {\n",
    "    if (str.charAt(i) == str.charAt(i + 1) && str.charAt(i) == str.charAt(i + 2))\n",
    "      c += 1\n",
    "  }\n",
    "  c\n",
    "}\n",
    "\n",
    "val str1 = \"welllcommmmeee\"\n",
    "println(\"The given string is: \" + str1)\n",
    "println(\"The number of triples in the string is: \" + test(str1))\n"
   ]
  },
  {
   "cell_type": "code",
   "execution_count": 132,
   "id": "004cec15",
   "metadata": {},
   "outputs": [
    {
     "name": "stdout",
     "output_type": "stream",
     "text": [
      "2\n",
      "3\n",
      "3\n"
     ]
    },
    {
     "data": {
      "text/plain": [
       "import scala.annotation.tailrec\r\n",
       "countSubstr_rec: (str1: String, str2: String)Int\r\n",
       "countSubstr_slid: (str: String, sub: String)Int\r\n",
       "countSubstr_regx: (str: String, substr: String)Int\n"
      ]
     },
     "execution_count": 132,
     "metadata": {},
     "output_type": "execute_result"
    }
   ],
   "source": [
    "//Using Recursion\n",
    "import scala.annotation.tailrec\n",
    "def countSubstr_rec(str1:String, str2:String):Int={\n",
    "   @tailrec def count(pos:Int, c:Int):Int={\n",
    "      val idx=str1 indexOf(str2, pos)\n",
    "      if(idx == -1) c else count(idx+str2.size, c+1)\n",
    "   }\n",
    "   count(0,0)\n",
    "}\n",
    "\n",
    "//Using Sliding\n",
    "def countSubstr_slid(str: String, sub: String): Int =\n",
    "  str.sliding(sub.length).count(_ == sub)\n",
    "\n",
    "//Using Regular Expressions\n",
    "def countSubstr_regx( str:String, substr:String ) = substr.r.findAllMatchIn(str).length\n",
    "\n",
    "println(countSubstr_rec(\"ababababab\", \"abab\"))\n",
    "\n",
    "println(countSubstr_slid(\"the three truths\", \"th\"))\n",
    "\n",
    "println(countSubstr_regx(\"the three truths\", \"th\"))"
   ]
  },
  {
   "cell_type": "code",
   "execution_count": 2,
   "id": "3c37b208",
   "metadata": {},
   "outputs": [
    {
     "name": "stdout",
     "output_type": "stream",
     "text": [
      "The given string is: Thisisthethesis\n",
      "Are the appearance of 'the' and 'is' equal? false\n",
      "The given string is: Thisisthethes\n",
      "Are the appearance of 'the' and 'is' equal? true\n"
     ]
    },
    {
     "data": {
      "text/plain": [
       "test: (stng: String)Boolean\r\n",
       "str1: String = Thisisthethes\r\n",
       "str1: String = Thisisthethes\n"
      ]
     },
     "execution_count": 2,
     "metadata": {},
     "output_type": "execute_result"
    }
   ],
   "source": [
    "def test(stng: String): Boolean = {\n",
    "  val l = stng.length\n",
    "  var st_the = 0\n",
    "  var st_is = 0\n",
    "  for (i <- 0 until l) {\n",
    "    if (i < l - 2) {\n",
    "      val tmp = stng.substring(i, i + 3)\n",
    "      if (tmp.equals(\"the\"))\n",
    "        st_the = st_the + 1\n",
    "    }\n",
    "    if (i < l - 1) {\n",
    "      val tmp2 = stng.substring(i, i + 2)\n",
    "      if (tmp2.equals(\"is\"))\n",
    "        st_is = st_is + 1\n",
    "    }\n",
    "  }\n",
    "  if (st_the == st_is)\n",
    "    true\n",
    "  else\n",
    "    false\n",
    "}\n",
    "\n",
    "var str1 = \"Thisisthethesis\"\n",
    "println(\"The given string is: \" + str1)\n",
    "println(\"Are the appearance of 'the' and 'is' equal? \" + test(str1))\n",
    "\n",
    "str1 = \"Thisisthethes\"\n",
    "println(\"The given string is: \" + str1)\n",
    "println(\"Are the appearance of 'the' and 'is' equal? \" + test(str1))"
   ]
  },
  {
   "cell_type": "code",
   "execution_count": 7,
   "id": "b7e175e5",
   "metadata": {},
   "outputs": [
    {
     "name": "stdout",
     "output_type": "stream",
     "text": [
      "The given string is: string\n",
      "The new string after repetition: ringringringring\n"
     ]
    },
    {
     "data": {
      "text/plain": [
       "test: (str: String, num: Int)String\r\n",
       "str1: String = string\r\n",
       "no_char: Int = 4\n"
      ]
     },
     "execution_count": 7,
     "metadata": {},
     "output_type": "execute_result"
    }
   ],
   "source": [
    "def test(str: String, num : Int) : String ={\n",
    "    val tmp = str.takeRight(num)\n",
    "    tmp * num\n",
    "}\n",
    "\n",
    "val str1 = \"string\";\n",
    "val no_char = 4;\n",
    "println(\"The given string is: \" + str1);\n",
    "println(\"The new string after repetition: \" + test(str1, no_char));"
   ]
  },
  {
   "cell_type": "code",
   "execution_count": 10,
   "id": "ce3d847b",
   "metadata": {},
   "outputs": [
    {
     "name": "stdout",
     "output_type": "stream",
     "text": [
      "The given string is: string\n",
      "The new string after repetition: ringringringring\n"
     ]
    },
    {
     "data": {
      "text/plain": [
       "test: (stng: String, no_repeat: Int)String\r\n",
       "str1: String = string\r\n",
       "no_char: Int = 4\n"
      ]
     },
     "execution_count": 10,
     "metadata": {},
     "output_type": "execute_result"
    }
   ],
   "source": [
    "def test(stng: String, no_repeat: Int): String = {\n",
    "  val l = stng.length\n",
    "  var new_word = \"\"\n",
    "  for (_ <- 0 until no_repeat) {\n",
    "    new_word += stng.substring(l - no_repeat, l)\n",
    "  }\n",
    "  new_word\n",
    "}\n",
    "\n",
    "val str1 = \"string\"\n",
    "val no_char = 4\n",
    "println(\"The given string is: \" + str1)\n",
    "println(\"The new string after repetition: \" + test(str1, no_char))"
   ]
  },
  {
   "cell_type": "code",
   "execution_count": 13,
   "id": "4ac5b1e1",
   "metadata": {},
   "outputs": [
    {
     "name": "stdout",
     "output_type": "stream",
     "text": [
      "Original String : spark - Scala\n"
     ]
    },
    {
     "data": {
      "text/plain": [
       "str: String = spark - Scala\r\n",
       "val1: Int = 97\n"
      ]
     },
     "execution_count": 13,
     "metadata": {},
     "output_type": "execute_result"
    }
   ],
   "source": [
    "val str = \"spark - Scala\";\n",
    "    println(s\"Original String : ${str}\");\n",
    "    // codepoint at index \n",
    "    val val1 = str.codePointAt(10)"
   ]
  },
  {
   "cell_type": "code",
   "execution_count": 14,
   "id": "bd32e2c9",
   "metadata": {},
   "outputs": [
    {
     "name": "stdout",
     "output_type": "stream",
     "text": [
      "\"This is Exercise 1\" is less than \"This is Exercise 2\"\n",
      "========================\n",
      "\"This is Exercise 1\" is equal to \"This is Exercise 1\"\n",
      "========================\n",
      "\"This is Blacky\" is greater than \"This is Black\"\n"
     ]
    },
    {
     "data": {
      "text/plain": [
       "test: (str1: String, str2: String)String\r\n",
       "str1: String = This is Blacky\r\n",
       "str2: String = This is Black\r\n",
       "result: String = \"This is Blacky\" is greater than \"This is Black\"\r\n",
       "str1: String = This is Blacky\r\n",
       "str2: String = This is Black\r\n",
       "result: String = \"This is Blacky\" is greater than \"This is Black\"\r\n",
       "str1: String = This is Blacky\r\n",
       "str2: String = This is Black\r\n",
       "result: String = \"This is Blacky\" is greater than \"This is Black\"\n"
      ]
     },
     "execution_count": 14,
     "metadata": {},
     "output_type": "execute_result"
    }
   ],
   "source": [
    "\n",
    "def test(str1: String, str2: String): String = {\n",
    "  // Compare the two strings.\n",
    "  val result = str1.compareTo(str2)\n",
    "\n",
    "  // Display the results of the comparison.\n",
    "  if (result < 0) {\n",
    "    \"\\\"\" + str1 + \"\\\"\" + \" is less than \" + \"\\\"\" + str2 + \"\\\"\"\n",
    "  } else if (result == 0) {\n",
    "    \"\\\"\" + str1 + \"\\\"\" + \" is equal to \" + \"\\\"\" + str2 + \"\\\"\"\n",
    "  } else {\n",
    "    \"\\\"\" + str1 + \"\\\"\" + \" is greater than \" + \"\\\"\" + str2 + \"\\\"\"\n",
    "  }\n",
    "}\n",
    "\n",
    "var str1 = \"This is Exercise 1\"\n",
    "var str2 = \"This is Exercise 2\"\n",
    "\n",
    "var result = test(str1, str2)\n",
    "println(result)\n",
    "println(\"========================\")\n",
    "str1 = \"This is Exercise 1\"\n",
    "str2 = \"This is Exercise 1\"\n",
    "\n",
    "result = test(str1, str2)\n",
    "println(result)\n",
    "println(\"========================\")\n",
    "str1 = \"This is Blacky\"\n",
    "str2 = \"This is Black\"\n",
    "\n",
    "result = test(str1, str2)\n",
    "println(result)\n",
    "\n"
   ]
  },
  {
   "cell_type": "code",
   "execution_count": 15,
   "id": "ea7bec51",
   "metadata": {},
   "outputs": [
    {
     "data": {
      "text/plain": [
       "arr_num: Array[Char] = Array(1, 2, 3, 4, 5, 6)\r\n",
       "str: String = 345\n"
      ]
     },
     "execution_count": 15,
     "metadata": {},
     "output_type": "execute_result"
    }
   ],
   "source": [
    "val arr_num = Array('1', '2', '3', '4', '5', '6')\n",
    "\n",
    "    // starting at index 1 for length 2.\n",
    "val str = String.copyValueOf(arr_num, 2, 3)"
   ]
  },
  {
   "cell_type": "code",
   "execution_count": 24,
   "id": "93a03638",
   "metadata": {},
   "outputs": [
    {
     "name": "stdout",
     "output_type": "stream",
     "text": [
      "false\n",
      "true\n",
      "false\n",
      "false\n"
     ]
    },
    {
     "data": {
      "text/plain": [
       "str1: String = Python Exercises\r\n",
       "str2: String = Python Exercise\n"
      ]
     },
     "execution_count": 24,
     "metadata": {},
     "output_type": "execute_result"
    }
   ],
   "source": [
    "val str1 = \"Python Exercises\"\n",
    "val str2 = \"Python Exercise\"\n",
    "\n",
    "println(str1.endsWith(\"se\"))\n",
    "println(str2.endsWith(\"se\"))\n",
    "println(str1.equals(str2))\n",
    "println(str1.equalsIgnoreCase(str2) )\n"
   ]
  },
  {
   "cell_type": "code",
   "execution_count": 31,
   "id": "b3b6706e",
   "metadata": {},
   "outputs": [
    {
     "name": "stdout",
     "output_type": "stream",
     "text": [
      "The quick brown fox jumps over the lazy fog.\n",
      "brown fox jumps \n",
      "the quick brown fox jumps over the lazy dog.\n",
      "THE QUICK BROWN FOX JUMPS OVER THE LAZY DOG.\n"
     ]
    },
    {
     "data": {
      "text/plain": [
       "str: String = The quick brown fox jumps over the lazy dog.\n"
      ]
     },
     "execution_count": 31,
     "metadata": {},
     "output_type": "execute_result"
    }
   ],
   "source": [
    " val str = \"The quick brown fox jumps over the lazy dog.\"   \n",
    "\n",
    "    // Replace all the 'd' characters with 'f' characters.\n",
    "println(str.replace('d', 'f') )\n",
    "\n",
    "println(str.substring(10, 26) )\n",
    "\n",
    "println(str.toLowerCase())\n",
    "\n",
    "println(str.toUpperCase())"
   ]
  },
  {
   "cell_type": "code",
   "execution_count": 35,
   "id": "3f2720c1",
   "metadata": {},
   "outputs": [
    {
     "name": "stdout",
     "output_type": "stream",
     "text": [
      "Original String:-        Scala Exercises         \n",
      "New String:-Scala Exercises\n"
     ]
    },
    {
     "data": {
      "text/plain": [
       "str: String = \"        Scala Exercises         \"\r\n",
       "new_str: String = Scala Exercises\n"
      ]
     },
     "execution_count": 35,
     "metadata": {},
     "output_type": "execute_result"
    }
   ],
   "source": [
    "val str = \"        Scala Exercises         \"\n",
    "\n",
    "      // Trim the whitespace from the front and back of the String.\n",
    "val new_str = str.trim();\n",
    "      // Display the strings for comparison.\n",
    "println(\"Original String:-\" + str);\n",
    "println(\"New String:-\" + new_str);"
   ]
  },
  {
   "cell_type": "code",
   "execution_count": 36,
   "id": "ffe612b3",
   "metadata": {},
   "outputs": [
    {
     "name": "stdout",
     "output_type": "stream",
     "text": [
      "After removing duplicates characters the new string is: w3resouc\n",
      "After removing duplicates characters the new string is: Scal\n",
      "After removing duplicates characters the new string is: 2q34u980\n"
     ]
    },
    {
     "data": {
      "text/plain": [
       "removeDuplicateChars: (s: String)String\r\n",
       "str1: String = 2q34u923u4928402\r\n",
       "str1: String = 2q34u923u4928402\r\n",
       "str1: String = 2q34u923u4928402\n"
      ]
     },
     "execution_count": 36,
     "metadata": {},
     "output_type": "execute_result"
    }
   ],
   "source": [
    "def removeDuplicateChars(s: String): String = {\n",
    "  var targetStr = \"\"\n",
    "  for (value <- s) {\n",
    "    if (targetStr.indexOf(value) == -1) {\n",
    "      targetStr += value\n",
    "    }\n",
    "  }\n",
    "  targetStr\n",
    "}\n",
    "\n",
    "var str1 = \"w3resource\"\n",
    "println(\"After removing duplicates characters the new string is: \" + removeDuplicateChars(str1))\n",
    "str1 = \"Scala\"\n",
    "println(\"After removing duplicates characters the new string is: \" + removeDuplicateChars(str1))\n",
    "str1 = \"2q34u923u4928402\"\n",
    "println(\"After removing duplicates characters the new string is: \" + removeDuplicateChars(str1))"
   ]
  },
  {
   "cell_type": "code",
   "execution_count": 39,
   "id": "1d0de99c",
   "metadata": {},
   "outputs": [
    {
     "name": "stdout",
     "output_type": "stream",
     "text": [
      "2q34u980\n"
     ]
    }
   ],
   "source": [
    "println(str1.distinct)"
   ]
  },
  {
   "cell_type": "code",
   "execution_count": 17,
   "id": "13713272",
   "metadata": {},
   "outputs": [
    {
     "data": {
      "text/plain": [
       "str1: String = duplicates characters\r\n",
       "ans: (Char, Int) = (a,3)\n"
      ]
     },
     "execution_count": 17,
     "metadata": {},
     "output_type": "execute_result"
    }
   ],
   "source": [
    "val str1 = \"duplicates characters\" \n",
    "val ans = str1.groupBy(identity).map(x => (x._1,x._2.size)).maxBy(_._2) \n",
    "//map.maxBy { case (key, value) => value }"
   ]
  },
  {
   "cell_type": "code",
   "execution_count": 18,
   "id": "57eda747",
   "metadata": {},
   "outputs": [
    {
     "data": {
      "text/plain": [
       "str: String = The quick brown fox jumps over the lazy dog.\r\n",
       "res3: Array[String] = Array(ehT, kciuq, nworb, xof, spmuj, revo, eht, yzal, .god)\n"
      ]
     },
     "execution_count": 18,
     "metadata": {},
     "output_type": "execute_result"
    }
   ],
   "source": [
    " val str = \"The quick brown fox jumps over the lazy dog.\"   \n",
    " str.split(\" \").map(_.reverse)"
   ]
  },
  {
   "cell_type": "code",
   "execution_count": 20,
   "id": "d746e87f",
   "metadata": {},
   "outputs": [
    {
     "data": {
      "text/plain": [
       "str1: String = ABACD\r\n",
       "str2: String = DCABA\r\n",
       "res5: Boolean = true\n"
      ]
     },
     "execution_count": 20,
     "metadata": {},
     "output_type": "execute_result"
    }
   ],
   "source": [
    "val str1 = \"ABACD\"\n",
    "val str2 = \"DCABA\"\n",
    "str1.reverse == str2"
   ]
  },
  {
   "cell_type": "code",
   "execution_count": 21,
   "id": "13b555e8",
   "metadata": {},
   "outputs": [
    {
     "name": "stdout",
     "output_type": "stream",
     "text": [
      "The string after concatination are: foodoor\n"
     ]
    },
    {
     "data": {
      "text/plain": [
       "conCat: (str1: String, str2: String)String\r\n",
       "str1: String = food\r\n",
       "str2: String = door\n"
      ]
     },
     "execution_count": 21,
     "metadata": {},
     "output_type": "execute_result"
    }
   ],
   "source": [
    "\n",
    "  def conCat(str1: String, str2: String): String = {\n",
    "    if (str1.length != 0 && str2.length != 0 && str1.charAt(str1.length() - 1) == str2.charAt(0))\n",
    "      return str1 + str2.substring(1)\n",
    "    return str1 + str2\n",
    "  }\n",
    "\n",
    "  \n",
    "    val str1 = \"food\"\n",
    "    val str2 = \"door\"\n",
    "    println(\"The string after concatination are: \" + conCat(str1, str2))"
   ]
  },
  {
   "cell_type": "code",
   "execution_count": 23,
   "id": "47e7f4c7",
   "metadata": {},
   "outputs": [
    {
     "name": "stdout",
     "output_type": "stream",
     "text": [
      "The string after swap last two characters are: Strign\n"
     ]
    },
    {
     "data": {
      "text/plain": [
       "str1: String = String\r\n",
       "lastTwo: (str1: String)String\n"
      ]
     },
     "execution_count": 23,
     "metadata": {},
     "output_type": "execute_result"
    }
   ],
   "source": [
    "\n",
    "var str1 = \"String\"\n",
    "def lastTwo(str1: String): String = {\n",
    "    if (str1.length() < 2) return str1\n",
    "    return str1.substring(0, str1.length - 2) + str1.charAt(str1.length - 1) + str1.charAt(str1.length - 2)\n",
    "  }\n",
    "\n",
    "println(\"The string after swap last two characters are: \" + lastTwo(str1))"
   ]
  },
  {
   "cell_type": "code",
   "execution_count": 25,
   "id": "dbfe145d",
   "metadata": {},
   "outputs": [
    {
     "name": "stdout",
     "output_type": "stream",
     "text": [
      "The new string is: comehome\n"
     ]
    },
    {
     "data": {
      "text/plain": [
       "test: (str1: String, str2: String)String\r\n",
       "str1: String = Welcome\r\n",
       "str2: String = home\n"
      ]
     },
     "execution_count": 25,
     "metadata": {},
     "output_type": "execute_result"
    }
   ],
   "source": [
    "def test(str1: String, str2: String): String = {\n",
    "    if (str1.length == str2.length)\n",
    "      return str1 + str2\n",
    "    if (str1.length > str2.length) {\n",
    "      var diff = str1.length - str2.length\n",
    "      str1.substring(diff, str1.length) + str2\n",
    "    } else {\n",
    "      var diff = str2.length - str1.length\n",
    "      str1 + str2.substring(diff, str2.length)\n",
    "    }\n",
    "    \n",
    "}\n",
    "    \n",
    "    var str1 = \"Welcome\";\n",
    "    var str2 = \"home\";\n",
    "    println(\"The new string is: \" + test(str1, str2))"
   ]
  },
  {
   "cell_type": "code",
   "execution_count": 26,
   "id": "d8072ee6",
   "metadata": {},
   "outputs": [
    {
     "name": "stdout",
     "output_type": "stream",
     "text": [
      "scalming\n"
     ]
    },
    {
     "data": {
      "text/plain": [
       "test: (str1: String, n: Int)String\n"
      ]
     },
     "execution_count": 26,
     "metadata": {},
     "output_type": "execute_result"
    }
   ],
   "source": [
    "//removing n char from nth place from a string\n",
    "def test(str1: String, n: Int): String = {\n",
    "    str1.substring(0, n) + str1.substring(str1.length - n, str1.length)\n",
    "  }\n",
    "\n",
    "  println(test(\"scala programming\", 4))"
   ]
  },
  {
   "cell_type": "code",
   "execution_count": 60,
   "id": "9da9b1ea",
   "metadata": {},
   "outputs": [
    {
     "name": "stdout",
     "output_type": "stream",
     "text": [
      "21\n",
      "true\n",
      "1\n",
      "2 3 4 5 6 \n",
      "6\n",
      "1\n",
      "2 3 4 5 6 \n",
      "6\n",
      "2 3 4 5 6 \n",
      "3\n"
     ]
    },
    {
     "data": {
      "text/plain": [
       "nums: Array[Int] = Array(1, 2, 3, 4, 5, 6)\n"
      ]
     },
     "execution_count": 60,
     "metadata": {},
     "output_type": "execute_result"
    }
   ],
   "source": [
    "var nums = Array(1, 2, 3, 4, 5, 6)\n",
    "\n",
    "println(nums.sum)\n",
    "\n",
    "println(nums.contains(4))\n",
    "\n",
    "println(nums.head)\n",
    "\n",
    "\n",
    "nums.tail.mkString(\" \").foreach(print)\n",
    "\n",
    "println(\" \")\n",
    "\n",
    "println(nums.max)\n",
    "\n",
    "println(nums.min)\n",
    "\n",
    "nums.drop(1).mkString(\" \").foreach(print)\n",
    "println(\" \")\n",
    "\n",
    "println(nums.last)\n",
    "\n",
    "nums.drop(1).mkString(\" \").foreach(print)\n",
    "println(\" \")\n",
    "\n",
    "\n",
    "println(nums.indexOf(4) )\n",
    "\n",
    "\n"
   ]
  },
  {
   "cell_type": "code",
   "execution_count": 2,
   "id": "5267bce1",
   "metadata": {},
   "outputs": [
    {
     "data": {
      "text/plain": [
       "n: List[Int] = List(1, 2, 3, 4)\r\n",
       "s: List[String] = List(LNKD, GOOG, AAPL)\r\n",
       "p: List[Double] = List(265.69, 511.78, 108.49)\r\n",
       "product: Int = 24\r\n",
       "p2: List[Double] = List(265.69, 50.11, 511.78, 108.49)\r\n",
       "res1: (List[Double], List[Double]) = (List(265.69),List(50.11, 511.78, 108.49))\n"
      ]
     },
     "execution_count": 2,
     "metadata": {},
     "output_type": "execute_result"
    }
   ],
   "source": [
    "// high order list methods\n",
    "val n = List(1,2,3,4)\n",
    "val s = List(\"LNKD\", \"GOOG\", \"AAPL\")\n",
    "val p = List(265.69, 511.78, 108.49)\n",
    "var product = 1;\n",
    "\n",
    "n.foreach(product *= _) //==> 24\n",
    "\n",
    "n.filter(_ % 2 != 0)    //==> List(1,3)\n",
    "\n",
    "n.partition(_ % 2 != 0) //==> (List(1,3), List(2,4))\n",
    "\n",
    "n.find(_ % 2 != 0)      //==> Some(1)\n",
    "\n",
    "n.find(_ < 0)           //==> None\n",
    "\n",
    "p.takeWhile(_ > 200.00) //==> List(265.69, 511.78)\n",
    "\n",
    "p.dropWhile(_ > 200.00) //==> List(108.49)\n",
    "\n",
    "val p2 = List(265.69, 50.11, 511.78, 108.49)\n",
    "\n",
    "p2.span(_ > 200.00)     //==> (List(265.69),List(50.11, 511.78,108.49))\n"
   ]
  },
  {
   "cell_type": "code",
   "execution_count": 11,
   "id": "17e4b102",
   "metadata": {},
   "outputs": [
    {
     "name": "stdout",
     "output_type": "stream",
     "text": [
      "41\n"
     ]
    },
    {
     "data": {
      "text/plain": [
       "sum: (xs: List[Int])Int\r\n",
       "dups: List[Int] = List(1, 2, 3, 4, 6, 3, 2, 7, 9, 4)\n"
      ]
     },
     "execution_count": 11,
     "metadata": {},
     "output_type": "execute_result"
    }
   ],
   "source": [
    "// pattern matching with lists\n",
    "\n",
    "def sum(xs: List[Int]) : Int = xs match {\n",
    "  case Nil => 0\n",
    "  case x :: ys => x + sum(ys)\n",
    "}\n",
    "\n",
    "val dups = List(1,2,3,4,6,3,2,7,9,4)\n",
    "\n",
    "println(sum(dups))\n"
   ]
  },
  {
   "cell_type": "code",
   "execution_count": 3,
   "id": "e0f31006",
   "metadata": {},
   "outputs": [
    {
     "data": {
      "text/plain": [
       "n: List[Int] = List(1, 2, 3, 4)\r\n",
       "s: List[String] = List(LNKD, GOOG, AAPL)\r\n",
       "res2: Boolean = true\n"
      ]
     },
     "execution_count": 3,
     "metadata": {},
     "output_type": "execute_result"
    }
   ],
   "source": [
    "// high order list methods\n",
    "val n = List(1,2,3,4)\n",
    "val s = List(\"LNKD\", \"GOOG\", \"AAPL\")\n",
    "\n",
    "n.map(_ + 1)                 //==> List(2,3,4,5)\n",
    "\n",
    "s.flatMap(_.toList)          //==> List(L,N,K,D,G,O,O,G,A,A,P,L)\n",
    "\n",
    "n.reduce((a,b) => { a + b} ) //==> 10\n",
    "\n",
    "n.contains(3)                //==> true"
   ]
  },
  {
   "cell_type": "code",
   "execution_count": 5,
   "id": "7e335e67",
   "metadata": {},
   "outputs": [
    {
     "name": "stdout",
     "output_type": "stream",
     "text": [
      "+-----+-----+---------+------+\n",
      "|empno|ename|hire_date|   sal|\n",
      "+-----+-----+---------+------+\n",
      "| 7369|SMITH| 20101217| 80000|\n",
      "| 7499|ALLEN| 20110220|160000|\n",
      "+-----+-----+---------+------+\n",
      "\n"
     ]
    },
    {
     "data": {
      "text/plain": [
       "badDF: org.apache.spark.sql.DataFrame = [empno: string, ename: string ... 2 more fields]\r\n",
       "cleanedDF: org.apache.spark.sql.DataFrame = [empno: string, ename: string ... 2 more fields]\n"
      ]
     },
     "execution_count": 5,
     "metadata": {},
     "output_type": "execute_result"
    }
   ],
   "source": [
    "val badDF = Seq((\"7369\", \"SMI_)(TH\" , \"2010-12-17\", \"800.00\"), \n",
    "                (\"7499\", \"AL@;__#$LEN\",\"2011-02-20\", \"1600.00\"))\n",
    "\n",
    "        .toDF(\"empno\", \"ename\",\"hire_date\", \"sal\")\n",
    "\n",
    " val cleanedDF = badDF.select(badDF.columns.map(c => regexp_replace(badDF(c), \"\"\"[^A-Z a-z 0-9]\"\"\", \"\").alias(c)): _*)\n",
    " cleanedDF.show"
   ]
  },
  {
   "cell_type": "code",
   "execution_count": 7,
   "id": "3e745ee0",
   "metadata": {},
   "outputs": [
    {
     "name": "stdout",
     "output_type": "stream",
     "text": [
      "ALLEN\n",
      "New York xabxcx\n",
      "Nez Yorz\n"
     ]
    },
    {
     "data": {
      "text/plain": [
       "str: String = AL@;__#$LEN\r\n",
       "str1: String = New York 1ab2c3\r\n",
       "str2: String = New York\n"
      ]
     },
     "execution_count": 7,
     "metadata": {},
     "output_type": "execute_result"
    }
   ],
   "source": [
    "//remove all special characters from a given string \n",
    "\n",
    "val str = \"AL@;__#$LEN\"\n",
    "\n",
    "println(str.replaceAll(\"[^0-9a-zA-Z]+\", \"\")  )\n",
    "\n",
    "//repalce  all numbers  with  \"x\"\n",
    "var str1:String = \"New York 1ab2c3\"\n",
    "\n",
    "println(str1.replaceAll(\"[0-9]\",\"x\"));\n",
    "\n",
    "var str2:String = \"New York\"\n",
    "// replace all w and k with z\n",
    "println(str2.replaceAll(\"w|k\",\"z\"));"
   ]
  },
  {
   "cell_type": "code",
   "execution_count": 13,
   "id": "7db22be0",
   "metadata": {},
   "outputs": [
    {
     "name": "stdout",
     "output_type": "stream",
     "text": [
      "\n",
      "The largest sum of contiguous sub-array: 30\n"
     ]
    },
    {
     "data": {
      "text/plain": [
       "largest_sum: (numbs: Array[Int])Int\r\n",
       "numbs: Array[Int] = Array(1, 2, -3, -4, 0, 6, 7, 8, 9)\n"
      ]
     },
     "execution_count": 13,
     "metadata": {},
     "output_type": "execute_result"
    }
   ],
   "source": [
    "//largest sum of contiguous sub-array\n",
    "\n",
    "def largest_sum(numbs: Array[Int]): Int = {\n",
    "  var max_ele_val = 0\n",
    "  var max_end = 0\n",
    "  for (i <- numbs.indices) {\n",
    "    max_end = max_end + numbs(i)\n",
    "    max_end = Integer.max(max_end, 0)\n",
    "\n",
    "    max_ele_val = Integer.max(max_ele_val, max_end)\n",
    "  }\n",
    "  max_ele_val\n",
    "}\n",
    "\n",
    "val numbs = Array(1, 2, -3, -4, 0, 6, 7, 8, 9)\n",
    "\n",
    "println(s\"\\nThe largest sum of contiguous sub-array: ${largest_sum(numbs)}\")"
   ]
  },
  {
   "cell_type": "code",
   "execution_count": 14,
   "id": "a0b91897",
   "metadata": {},
   "outputs": [
    {
     "name": "stdout",
     "output_type": "stream",
     "text": [
      "\n",
      "The maximum difference between two elements of the array elements: 10\n"
     ]
    },
    {
     "data": {
      "text/plain": [
       "diff_between_two_elemnts: (nums: Array[Int])Int\r\n",
       "nums: Array[Int] = Array(2, 3, 1, 7, 9, 5, 11, 3, 5)\n"
      ]
     },
     "execution_count": 14,
     "metadata": {},
     "output_type": "execute_result"
    }
   ],
   "source": [
    "def diff_between_two_elemnts(nums: Array[Int]): Int = {\n",
    "  var diff_two_elemnts = Integer.MIN_VALUE\n",
    "  for (i <- nums.indices) {\n",
    "    for (j <- i + 1 until nums.length) {\n",
    "      diff_two_elemnts = Integer.max(diff_two_elemnts, nums(j) - nums(i))\n",
    "    }\n",
    "  }\n",
    "  diff_two_elemnts\n",
    "}\n",
    "\n",
    "val nums = Array(2, 3, 1, 7, 9, 5, 11, 3, 5)\n",
    "\n",
    "System.out.println(s\"\\nThe maximum difference between two \" +\n",
    "  s\"elements of the array elements: ${diff_between_two_elemnts(nums)}\")"
   ]
  },
  {
   "cell_type": "code",
   "execution_count": 15,
   "id": "c21e5440",
   "metadata": {},
   "outputs": [
    {
     "name": "stdout",
     "output_type": "stream",
     "text": [
      "\n",
      "Array with every second element is greater than its left and right elements:\n",
      "1 4 2 9 3 8 5 10 7 14 12"
     ]
    },
    {
     "data": {
      "text/plain": [
       "rearrange_Array_nums: (nums: Array[Int])Array[Int]\r\n",
       "nums: Array[Int] = Array(1, 4, 2, 9, 3, 8, 5, 10, 7, 14, 12)\r\n",
       "result: Array[Int] = Array(1, 4, 2, 9, 3, 8, 5, 10, 7, 14, 12)\n"
      ]
     },
     "execution_count": 15,
     "metadata": {},
     "output_type": "execute_result"
    }
   ],
   "source": [
    "def rearrange_Array_nums(nums: Array[Int]): Array[Int] = {\n",
    "  var t_nums = 0\n",
    "  for (i <- 1 until nums.length by 2) {\n",
    "    if (nums(i - 1) > nums(i)) {\n",
    "      t_nums = nums(i - 1)\n",
    "      nums(i - 1) = nums(i)\n",
    "      nums(i) = t_nums\n",
    "    }\n",
    "\n",
    "    if (i + 1 < nums.length && nums(i + 1) > nums(i)) {\n",
    "      t_nums = nums(i + 1)\n",
    "      nums(i + 1) = nums(i)\n",
    "      nums(i) = t_nums\n",
    "    }\n",
    "  }\n",
    "  nums\n",
    "}\n",
    "\n",
    "val nums = Array(1, 2, 4, 9, 5, 3, 8, 7, 10, 12, 14)\n",
    "val result = rearrange_Array_nums(nums)\n",
    "\n",
    "println(\"\\nArray with every second element is greater than its left and right elements:\")\n",
    "//result.mkString(\" \").foreach(print)"
   ]
  },
  {
   "cell_type": "code",
   "execution_count": 34,
   "id": "fc78f0fc",
   "metadata": {},
   "outputs": [
    {
     "name": "stdout",
     "output_type": "stream",
     "text": [
      "(-8,-7)\n"
     ]
    },
    {
     "data": {
      "text/plain": [
       "arr: Array[Int] = Array(-8, -7, -5, 2, 3, 5, 5, 5, 7)\r\n",
       "n: Int = 9\n"
      ]
     },
     "execution_count": 34,
     "metadata": {},
     "output_type": "execute_result"
    }
   ],
   "source": [
    "//Find maximum product of two integers in a given array of integers\n",
    "\n",
    "val arr = Array(2, 3, 5, 7, -7, 5, 5, -5, -8 )\n",
    "\n",
    "val n = arr.size\n",
    "scala.util.Sorting.quickSort(arr)\n",
    "\n",
    "if ( arr(0) * arr(1)  > arr(n-1) * arr(n-2) )\n",
    "     println(arr(0) , arr(1))\n",
    "    \n",
    "else println( arr(n-1) , arr(n-2))"
   ]
  },
  {
   "cell_type": "code",
   "execution_count": 1,
   "id": "cc9da39b",
   "metadata": {},
   "outputs": [
    {
     "name": "stdout",
     "output_type": "stream",
     "text": [
      "true\n",
      "=================================================================\n",
      "false\n"
     ]
    },
    {
     "data": {
      "text/plain": [
       "import scala.util.control.Exception.allCatch\r\n",
       "isNumber: (s: String)Boolean\n"
      ]
     },
     "execution_count": 1,
     "metadata": {},
     "output_type": "execute_result"
    }
   ],
   "source": [
    " //check is the string is a numeric string \n",
    "\n",
    "import scala.util.control.Exception.allCatch\n",
    " \n",
    "def isNumber(s: String): Boolean = (allCatch opt s.toDouble).isDefined\n",
    " \n",
    " println(isNumber(\"123456\"))\n",
    "\n",
    " println(\"=================================================================\")\n",
    "\n",
    " println(isNumber(\"123r456\"))"
   ]
  },
  {
   "cell_type": "code",
   "execution_count": 2,
   "id": "7af30cb2",
   "metadata": {},
   "outputs": [
    {
     "name": "stdout",
     "output_type": "stream",
     "text": [
      "true\n",
      "=================================================================\n",
      "false\n"
     ]
    },
    {
     "data": {
      "text/plain": [
       "isNumeric: (input: String)Boolean\n"
      ]
     },
     "execution_count": 2,
     "metadata": {},
     "output_type": "execute_result"
    }
   ],
   "source": [
    "def isNumeric(input: String): Boolean = input.forall(_.isDigit)\n",
    "\n",
    "println(isNumeric(\"123456\"))\n",
    "\n",
    "println(\"=================================================================\")\n",
    "\n",
    "println(isNumeric(\"123r456\"))"
   ]
  },
  {
   "cell_type": "code",
   "execution_count": 12,
   "id": "c0bfeea4",
   "metadata": {},
   "outputs": [
    {
     "name": "stdout",
     "output_type": "stream",
     "text": [
      "true\n",
      "=================================================================\n",
      "false\n"
     ]
    },
    {
     "data": {
      "text/plain": [
       "isNumeric2: (str: String)Boolean\n"
      ]
     },
     "execution_count": 12,
     "metadata": {},
     "output_type": "execute_result"
    }
   ],
   "source": [
    "//Or a more complete version, using a complex regular expression:\n",
    "\n",
    "\n",
    "def isNumeric2(str: String): Boolean = {\n",
    "  str.matches(s\"\"\"^*[0-9]*\"\"\")\n",
    "}\n",
    " \n",
    "println(isNumeric2(\"123456\"))\n",
    "\n",
    "println(\"=================================================================\")\n",
    "\n",
    "println(isNumeric2(\"123r456\"))"
   ]
  },
  {
   "cell_type": "code",
   "execution_count": 16,
   "id": "36a3a27b",
   "metadata": {},
   "outputs": [
    {
     "name": "stdout",
     "output_type": "stream",
     "text": [
      "true\n",
      "=================================================================\n",
      "false\n"
     ]
    },
    {
     "data": {
      "text/plain": [
       "isNumeric: (str: String)Boolean\r\n",
       "throwsNumberFormatException: (f: => Any)Boolean\n"
      ]
     },
     "execution_count": 16,
     "metadata": {},
     "output_type": "execute_result"
    }
   ],
   "source": [
    "//Or using the built-in number parsing and catching exceptions:\n",
    "\n",
    " \n",
    "def isNumeric(str: String): Boolean = {\n",
    "  !throwsNumberFormatException(str.toLong) || !throwsNumberFormatException(str.toDouble)\n",
    "}\n",
    " \n",
    "def throwsNumberFormatException(f: => Any): Boolean = {\n",
    "  try { f; false } catch { case e: NumberFormatException => true }\n",
    "}\n",
    " \n",
    "println(isNumeric(\"123456\"))\n",
    "\n",
    "println(\"=================================================================\")\n",
    "\n",
    "println(isNumeric(\"123r456\"))\n"
   ]
  },
  {
   "cell_type": "code",
   "execution_count": 5,
   "id": "8231281b",
   "metadata": {},
   "outputs": [
    {
     "name": "stdout",
     "output_type": "stream",
     "text": [
      "Array after right rotation : 7 1 5 6 8 12 "
     ]
    },
    {
     "data": {
      "text/plain": [
       "rotateArray: (A: Array[Int], K: Int)Array[Int]\r\n",
       "rotateStepwise: (l: List[Int])List[Int]\r\n",
       "rotate: (l: List[Int], K: Int)List[Int]\r\n",
       "arr: Array[Int] = Array(1, 5, 6, 8, 12, 7)\r\n",
       "a: Array[Int] = Array(7, 1, 5, 6, 8, 12)\n"
      ]
     },
     "execution_count": 5,
     "metadata": {},
     "output_type": "execute_result"
    }
   ],
   "source": [
    "def rotateArray(A: Array[Int], K: Int): Array[Int] = {\n",
    "  if (A.isEmpty) A\n",
    "  else rotate(A.toList, K).toArray\n",
    "}\n",
    "\n",
    "def rotateStepwise(l: List[Int]) = {\n",
    "  l.take(l.size - 1).+:(l.last)\n",
    "}\n",
    "\n",
    "def rotate(l: List[Int], K: Int): List[Int] = {\n",
    "  if (K == 0) l\n",
    "  else rotate(rotateStepwise(l), K - 1)\n",
    "}\n",
    "\n",
    "val arr = Array(1, 5, 6, 8, 12, 7)\n",
    "\n",
    "val a = rotateArray(arr, 1)\n",
    "\n",
    "print(\"Array after right rotation : \")\n",
    "for (i <- a.indices) { print(a(i) + \" \") }\n",
    "  "
   ]
  },
  {
   "cell_type": "code",
   "execution_count": 8,
   "id": "1cf1612f",
   "metadata": {},
   "outputs": [
    {
     "data": {
      "text/plain": [
       "isSorted: [A](as: Array[A], ordering: (A, A) => Boolean)Boolean\r\n",
       "res6: Boolean = true\n"
      ]
     },
     "execution_count": 8,
     "metadata": {},
     "output_type": "execute_result"
    }
   ],
   "source": [
    "def isSorted[A](as: Array[A], ordering: (A, A) => Boolean): Boolean = {\n",
    "  @annotation.tailrec\n",
    "  def go(n: Int): Boolean =\n",
    "    if (n >= as.length - 1) true\n",
    "    else if (!ordering(as(n), as(n + 1))) false\n",
    "    else go(n + 1)\n",
    "\n",
    "  go(0)\n",
    "}\n",
    "\n",
    "isSorted(Array(1, 3, 5, 7), (x: Int, y: Int) => x < y) //shouldBe true\n",
    "\n",
    "isSorted(Array(7, 5, 1, 3), (x: Int, y: Int) => x > y) //shouldBe false\n",
    "\n",
    "isSorted(\n",
    "  Array(\"Scala\", \"Exercises\"),\n",
    "  (x: String, y: String) => x.length < y.length) //shouldBe true\n"
   ]
  },
  {
   "cell_type": "code",
   "execution_count": 3,
   "id": "ab71e8d7",
   "metadata": {},
   "outputs": [
    {
     "data": {
      "text/plain": [
       "abs: (x: Double)Double\r\n",
       "sqrt: (x: Double)Double\r\n",
       "res1: Double = 2.0000000929222947\n"
      ]
     },
     "execution_count": 3,
     "metadata": {},
     "output_type": "execute_result"
    }
   ],
   "source": [
    "//implementation of sqrt and abs \n",
    "\n",
    "def abs(x: Double) = if (x >= 0) x else -x\n",
    "\n",
    "def sqrt(x: Double) = {\n",
    "  def sqrtIter(guess: Double, x: Double): Double =\n",
    "    if (isGoodEnough(guess, x)) guess\n",
    "    else sqrtIter(improve(guess, x), x)\n",
    "\n",
    "  def improve(guess: Double, x: Double) =\n",
    "    (guess + x / guess) / 2\n",
    "\n",
    "  def isGoodEnough(guess: Double, x: Double) =\n",
    "    abs(guess * guess - x) < 0.001\n",
    "\n",
    "  sqrtIter(1.0, x)\n",
    "}\n",
    "\n",
    "\n",
    "sqrt(4)"
   ]
  },
  {
   "cell_type": "code",
   "execution_count": 4,
   "id": "b7e92de0",
   "metadata": {},
   "outputs": [
    {
     "data": {
      "text/plain": [
       "gcd: (a: Int, b: Int)Int\r\n",
       "res2: Int = 7\n"
      ]
     },
     "execution_count": 4,
     "metadata": {},
     "output_type": "execute_result"
    }
   ],
   "source": [
    "// implementation of GCD\n",
    "\n",
    "def gcd(a: Int, b: Int): Int =\n",
    "  if (b == 0) a else gcd(b, a % b)\n",
    "\n",
    "gcd(14, 21)"
   ]
  },
  {
   "cell_type": "code",
   "execution_count": 1,
   "id": "dfd87e84",
   "metadata": {},
   "outputs": [
    {
     "data": {
      "text/plain": [
       "Intitializing Scala interpreter ..."
      ]
     },
     "metadata": {},
     "output_type": "display_data"
    },
    {
     "data": {
      "text/plain": [
       "Spark Web UI available at http://LAPTOP-V8NR8FQT:4041\n",
       "SparkContext available as 'sc' (version = 2.4.4, master = local[*], app id = local-1627742545960)\n",
       "SparkSession available as 'spark'\n"
      ]
     },
     "metadata": {},
     "output_type": "display_data"
    },
    {
     "data": {
      "text/plain": [
       "s: String = A man, a plan, a canal: Panama\r\n",
       "ans: String = AmanaplanacanalPanama\n"
      ]
     },
     "execution_count": 1,
     "metadata": {},
     "output_type": "execute_result"
    }
   ],
   "source": [
    "// remove all other char except alphabets from a string \n",
    "\n",
    "val s = \"A man, a plan, a canal: Panama\"\n",
    "\n",
    "val ans = s.replaceAll(\"[^a-zA-Z]\",\"\")\n",
    "\n",
    "//val ans2 = s.replaceAll(\"[^a-zA-Z0-9]\",\"\")\n"
   ]
  },
  {
   "cell_type": "code",
   "execution_count": null,
   "id": "717e82b6",
   "metadata": {},
   "outputs": [],
   "source": []
  }
 ],
 "metadata": {
  "kernelspec": {
   "display_name": "spylon-kernel",
   "language": "scala",
   "name": "spylon-kernel"
  },
  "language_info": {
   "codemirror_mode": "text/x-scala",
   "file_extension": ".scala",
   "help_links": [
    {
     "text": "MetaKernel Magics",
     "url": "https://metakernel.readthedocs.io/en/latest/source/README.html"
    }
   ],
   "mimetype": "text/x-scala",
   "name": "scala",
   "pygments_lexer": "scala",
   "version": "0.4.1"
  }
 },
 "nbformat": 4,
 "nbformat_minor": 5
}
