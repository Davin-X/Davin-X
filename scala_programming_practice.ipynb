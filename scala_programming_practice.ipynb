{
 "cells": [
  {
   "cell_type": "code",
   "execution_count": 1,
   "id": "c68e826c",
   "metadata": {},
   "outputs": [
    {
     "data": {
      "text/plain": [
       "Intitializing Scala interpreter ..."
      ]
     },
     "metadata": {},
     "output_type": "display_data"
    },
    {
     "data": {
      "text/plain": [
       "Spark Web UI available at http://LAPTOP-V8NR8FQT:4040\n",
       "SparkContext available as 'sc' (version = 2.4.4, master = local[*], app id = local-1625119766057)\n",
       "SparkSession available as 'spark'\n"
      ]
     },
     "metadata": {},
     "output_type": "display_data"
    },
    {
     "name": "stdout",
     "output_type": "stream",
     "text": [
      "true\n",
      "true\n",
      "false\n"
     ]
    },
    {
     "data": {
      "text/plain": [
       "linearSearch: [T](items: List[T], searchElem: T)Boolean\r\n",
       "l1: List[Int] = List(1, 2, 3, 4, 5, 6, 7, 8, 9, 10, 11, 12, 20, 34, 56, 345, 1245)\n"
      ]
     },
     "execution_count": 1,
     "metadata": {},
     "output_type": "execute_result"
    }
   ],
   "source": [
    "\n",
    "  def linearSearch[T](items: List[T], searchElem: T): Boolean = {\n",
    "    if (items.isEmpty) false\n",
    "    else if (items.head == searchElem) true\n",
    "    else linearSearch(items.tail, searchElem)\n",
    "  }\n",
    "  \n",
    "val l1 = List(1, 2, 3, 4, 5, 6, 7, 8, 9, 10, 11, 12, 20, 34, 56, 345, 1245)\n",
    "\n",
    "    println(linearSearch(l1,10))\n",
    "    println(linearSearch(List(\"a\", \"b\"), \"b\"))\n",
    "    println(linearSearch(l1, 15))\n",
    "  "
   ]
  },
  {
   "cell_type": "code",
   "execution_count": 2,
   "id": "59cc19d3",
   "metadata": {},
   "outputs": [
    {
     "name": "stdout",
     "output_type": "stream",
     "text": [
      "true\n",
      "true\n",
      "false\n"
     ]
    },
    {
     "data": {
      "text/plain": [
       "binarySearch: [T](items: List[T], find: T)(implicit ordering: Ordering[T])Boolean\r\n",
       "dividePoint: [T](items: List[T])Int\n"
      ]
     },
     "execution_count": 2,
     "metadata": {},
     "output_type": "execute_result"
    }
   ],
   "source": [
    "\n",
    "  def binarySearch[T](items: List[T], find: T)(implicit ordering: Ordering[T]): Boolean = {\n",
    "    if (items.length == 1) {\n",
    "      if (items.head == find) true else false\n",
    "    }\n",
    " \n",
    "    else {\n",
    "      val midPoint = dividePoint(items)\n",
    "      val midElem = items.apply(midPoint)\n",
    "      if (ordering.gt(find, midElem)) binarySearch(items.drop(midPoint), find)\n",
    "      else if (ordering.gt(midElem, find)) binarySearch(items.take(midPoint), find)\n",
    "      else true\n",
    "    }\n",
    "  }\n",
    " \n",
    "  def dividePoint[T](items: List[T]): Int = {\n",
    "    if (items.size % 2 == 0) items.size / 2 else items.size / 2 + 1\n",
    "  }\n",
    " \n",
    " \n",
    "    println(binarySearch(List(1, 2, 3, 4, 5, 6, 7, 8, 9, 10, 11, 12, 20, 34, 56, 345, 1245), 10))\n",
    "    println(binarySearch(List(\"a\", \"b\"), \"b\"))\n",
    "    println(binarySearch(List(1, 2, 3, 4, 5, 6, 7, 8, 9, 10, 11, 12, 20, 34, 56, 345, 1245), 15))\n",
    "  "
   ]
  },
  {
   "cell_type": "code",
   "execution_count": 4,
   "id": "49de1611",
   "metadata": {},
   "outputs": [
    {
     "data": {
      "text/plain": [
       "countries: org.apache.spark.rdd.RDD[(String, String)] = ParallelCollectionRDD[1] at parallelize at <console>:30\r\n",
       "seqOpFun: (runningAccumulator: Map[String,Int], currentPairToProcess: (String, String))Map[String,Int]\r\n",
       "comOpFun: (acc1: Map[String,Int], acc2: Map[String,Int])Map[String,Int]\r\n",
       "res: scala.collection.immutable.Map[String,Int] = Map(USA -> 2, China -> 1, India -> 1, France -> 1, Nepal -> 3)\n"
      ]
     },
     "execution_count": 4,
     "metadata": {},
     "output_type": "execute_result"
    }
   ],
   "source": [
    "\n",
    "//create RDD\n",
    "val countries = sc.parallelize(List((\"Nepal\", \"Kathmandu\"), \n",
    "                                       (\"Nepal\", \"Pokhara\"), (\"USA\", \"NY\"),\n",
    "                                       (\"USA\", \"Los Angeles\"), (\"China\", \"Beijing\"), \n",
    "                                       (\"France\", \"Paris\"), (\"Nepal\", \"Kusma\"), \n",
    "                                       (\"India\", \"Delhi\")))\n",
    " \n",
    "//define seqOp\n",
    "def seqOpFun(runningAccumulator: Map[String, Int], currentPairToProcess: (String, String)): Map[String, Int] = {\n",
    "  runningAccumulator.updated(currentPairToProcess._1, 1 + runningAccumulator.getOrElse(currentPairToProcess._1, 0))\n",
    "}\n",
    " \n",
    "//define comOp\n",
    "def comOpFun(acc1: Map[String, Int], acc2: Map[String, Int]): Map[String, Int] = {\n",
    "  acc1 ++ acc2.map { case (countryName, noCities) => countryName -> (noCities + acc1.getOrElse(countryName, 0)) }\n",
    "}\n",
    " \n",
    "//get result\n",
    "val res = countries.aggregate(Map.empty[String, Int])(seqOpFun, comOpFun)"
   ]
  },
  {
   "cell_type": "code",
   "execution_count": 5,
   "id": "7ccbff41",
   "metadata": {},
   "outputs": [
    {
     "data": {
      "text/plain": [
       "str: String = my name is antsant\r\n",
       "s: String = my name is dev\n"
      ]
     },
     "execution_count": 5,
     "metadata": {},
     "output_type": "execute_result"
    }
   ],
   "source": [
    "val str = \"my name is antsant\"\n",
    "val s= str.replace(\"antsant\",\"dev\")"
   ]
  },
  {
   "cell_type": "code",
   "execution_count": 61,
   "id": "b0bf402d",
   "metadata": {},
   "outputs": [
    {
     "data": {
      "text/plain": [
       "str2: String = ParallelCollectionRDD\r\n",
       "s: scala.collection.immutable.Map[Char,Int] = Map(e -> 2, a -> 2, l -> 5, D -> 2, o -> 2)\n"
      ]
     },
     "execution_count": 61,
     "metadata": {},
     "output_type": "execute_result"
    }
   ],
   "source": [
    "val str2 = \"ParallelCollectionRDD\"\n",
    "val s = str2.foldLeft(Map[Char, Int]()) {\n",
    "      case (map, char) => val oldCount: Int = map.getOrElse(char, 0)\n",
    "        map.+(char -> (oldCount + 1))\n",
    "    }\n",
    ".filter(x => x._2 >=2)\n"
   ]
  },
  {
   "cell_type": "code",
   "execution_count": 7,
   "id": "6d2e2833",
   "metadata": {},
   "outputs": [
    {
     "data": {
      "text/plain": [
       "str: String = my name is antsant\r\n",
       "s: Array[String] = Array(my, name, is, dev)\n"
      ]
     },
     "execution_count": 7,
     "metadata": {},
     "output_type": "execute_result"
    }
   ],
   "source": [
    "val str = \"my name is antsant\"\n",
    "val s= str.split(\" \")\n",
    "s(s.size-1)=\"dev\"\n"
   ]
  },
  {
   "cell_type": "code",
   "execution_count": 55,
   "id": "17f30a23",
   "metadata": {},
   "outputs": [
    {
     "data": {
      "text/plain": [
       "fibo: (n: Int)Int\n"
      ]
     },
     "execution_count": 55,
     "metadata": {},
     "output_type": "execute_result"
    }
   ],
   "source": [
    "def fibo(n:Int):Int = {\n",
    "    if (n==1) 0\n",
    "    else if(n==2) 1\n",
    "    else fibo(n-1) + fibo(n-2)\n",
    "}"
   ]
  },
  {
   "cell_type": "code",
   "execution_count": 57,
   "id": "30311e47",
   "metadata": {},
   "outputs": [
    {
     "name": "stdout",
     "output_type": "stream",
     "text": [
      "0  1  1  2  3  5  8  13  21  34  "
     ]
    }
   ],
   "source": [
    "for( i <- 1 to 10)print(fibo(i)+\"  \")"
   ]
  },
  {
   "cell_type": "code",
   "execution_count": 58,
   "id": "a9bfa537",
   "metadata": {},
   "outputs": [
    {
     "name": "stdout",
     "output_type": "stream",
     "text": [
      "0  1  1  2  3  5  8  13  21  34  "
     ]
    },
    {
     "data": {
      "text/plain": [
       "Has_t: Array[BigInt] = Array(0, 1, 1, 2, 3, 5, 8, 13, 21, 34, 55, 89, 144, 233, 377, 610, 987, 1597, 2584, 4181, 6765, 10946, 17711, 28657, 46368, 75025, 121393, 196418, 317811, 514229, 832040, 1346269, 2178309, 3524578, 5702887, 9227465, 14930352, 24157817, 39088169, 63245986, 102334155, 165580141, 267914296, 433494437, 701408733, 1134903170, 1836311903, 2971215073, 4807526976, 7778742049, 12586269025, 20365011074, 32951280099, 53316291173, 86267571272, 139583862445, 225851433717, 365435296162, 591286729879, 956722026041, 1548008755920, 2504730781961, 4052739537881, 6557470319842, 10610209857723, 17167680177565, 27777890035288, 44945570212853, 72723460248141, 117669030460994, 190392490709135, 308061521170129, 498454011879264, 806515533049393, 1304969544928657, 2111485077978050, 3416454..."
      ]
     },
     "execution_count": 58,
     "metadata": {},
     "output_type": "execute_result"
    }
   ],
   "source": [
    "var Has_t = new Array[BigInt](1001)\n",
    "Has_t(0)= 0 \n",
    "\n",
    "Has_t(1)= 1\n",
    "\n",
    "for( i <- 2 to 1000) Has_t(i) = Has_t(i-1) + Has_t(i-2)\n",
    "for( i <- 1 to 10) print(Has_t(i-1)+\"  \")"
   ]
  },
  {
   "cell_type": "code",
   "execution_count": 3,
   "id": "92cf74b0",
   "metadata": {},
   "outputs": [
    {
     "name": "stdout",
     "output_type": "stream",
     "text": [
      "The given string is: 1abc2x30yz67\n",
      "The sum of the numbers in the said string is: 100\n"
     ]
    },
    {
     "data": {
      "text/plain": [
       "test: (stng: String)Int\r\n",
       "str1: String = 1abc2x30yz67\n"
      ]
     },
     "execution_count": 3,
     "metadata": {},
     "output_type": "execute_result"
    }
   ],
   "source": [
    "//import scala.io.StdIn.readLine\n",
    "\n",
    "def test(stng: String): Int = {\n",
    "  val l = stng.length\n",
    "  var sum = 0\n",
    "  var temp = \"\"\n",
    "\n",
    "  for (i <- 0 until l) {\n",
    "    if (Character.isDigit(stng.charAt(i))) {\n",
    "      if (i < l - 1 && Character.isDigit(stng.charAt(i + 1))) {\n",
    "        temp += stng.charAt(i)\n",
    "      }\n",
    "      else {\n",
    "        temp += stng.charAt(i)\n",
    "        sum += Integer.parseInt(temp)\n",
    "        temp = \"\"\n",
    "      }\n",
    "    }\n",
    "  }\n",
    "  sum\n",
    "}\n",
    "\n",
    "\n",
    "val str1 = \"1abc2x30yz67\" //\"1abc23\" //\"geeks4geeks\" //\"123abc\"\n",
    "\n",
    "println(\"The given string is: \" + str1)\n",
    "\n",
    "println(\"The sum of the numbers in the said string is: \" + test(str1))\n",
    "\n"
   ]
  },
  {
   "cell_type": "code",
   "execution_count": 21,
   "id": "adef6fe2",
   "metadata": {},
   "outputs": [
    {
     "name": "stdout",
     "output_type": "stream",
     "text": [
      "123"
     ]
    },
    {
     "data": {
      "text/plain": [
       "numPattern: scala.util.matching.Regex = [0-9]+\r\n",
       "find_sum: (str1: String)BigInt\r\n",
       "str1: String = 123abc\n"
      ]
     },
     "execution_count": 21,
     "metadata": {},
     "output_type": "execute_result"
    }
   ],
   "source": [
    "//import scala.util.matching.Regex\n",
    "\n",
    "val numPattern = \"[0-9]+\".r\n",
    "\n",
    "def find_sum(str1: String): BigInt = {\n",
    "  numPattern.findAllIn(str1).map(_.toInt).sum\n",
    "}\n",
    "\n",
    "val str1 = \"123abc\"\n",
    "\n",
    "print(find_sum(str1))"
   ]
  },
  {
   "cell_type": "code",
   "execution_count": 27,
   "id": "c7f3a71c",
   "metadata": {},
   "outputs": [
    {
     "name": "stdout",
     "output_type": "stream",
     "text": [
      "hhii  hhooww  aarree  yyoouu"
     ]
    },
    {
     "data": {
      "text/plain": [
       "str: String = hi how are you\n"
      ]
     },
     "execution_count": 27,
     "metadata": {},
     "output_type": "execute_result"
    }
   ],
   "source": [
    "val str = \"hi how are you\"\n",
    "str.map(x=> x.toString :+ x).foreach(print)"
   ]
  },
  {
   "cell_type": "code",
   "execution_count": 53,
   "id": "43acbe5d",
   "metadata": {
    "scrolled": true
   },
   "outputs": [
    {
     "data": {
      "text/plain": [
       "str2: String = welcome\r\n",
       "str1: String = w3resource\r\n",
       "len1: Int = 10\r\n",
       "len2: Int = 7\r\n",
       "max_length: Int = 10\r\n",
       "min_length: Int = 7\r\n",
       "s1: String = w3resource\r\n",
       "s2: String = \"welcome   \"\r\n",
       "res38: String = wwe3lrceosmoeurce\n"
      ]
     },
     "execution_count": 53,
     "metadata": {},
     "output_type": "execute_result"
    }
   ],
   "source": [
    "val str2 = \"welcome\"\n",
    "val str1 = \"w3resource\"\n",
    "val len1 = str1.length\n",
    "val len2 = str2.length\n",
    "val max_length = Math.max(len1,len2)\n",
    "val min_length = Math.min(len1,len2)\n",
    "val s1 = str1.padTo(max_length,' ') \n",
    "val s2 = str2.padTo(max_length,' ')\n",
    "\n",
    "s2.zip(s1).map(x => x._1.toString :+ x._2).mkString(\"\").replaceAll(\"\\\\s\", \"\")"
   ]
  },
  {
   "cell_type": "code",
   "execution_count": 38,
   "id": "dfd704b8",
   "metadata": {},
   "outputs": [
    {
     "name": "stdout",
     "output_type": "stream",
     "text": [
      "The given strings  are: welcome  and  w3resource\n",
      "The new string is: wwe3lrceosmoeurce\n"
     ]
    },
    {
     "data": {
      "text/plain": [
       "test: (stng1: String, stng2: String)String\r\n",
       "str1: String = welcome\r\n",
       "str2: String = w3resource\n"
      ]
     },
     "execution_count": 38,
     "metadata": {},
     "output_type": "execute_result"
    }
   ],
   "source": [
    "def test(stng1: String, stng2: String): String = {\n",
    "    val len1 = stng1.length\n",
    "    val len2 = stng2.length\n",
    "    var max_len = Math.max(len1, len2);\n",
    "    var newstring = \"\";\n",
    "    for (i <- 0 to max_len - 1) {\n",
    "      if (i <= len1 - 1)\n",
    "        newstring = newstring + stng1.substring(i, i + 1);\n",
    "      if (i <= len2 - 1)\n",
    "        newstring = newstring + stng2.substring(i, i + 1);\n",
    "    }\n",
    "    newstring;\n",
    "  }\n",
    "\n",
    "val str1 = \"welcome\";\n",
    "val str2 = \"w3resource\";\n",
    "println(\"The given strings  are: \" + str1 + \"  and  \" + str2);\n",
    "println(\"The new string is: \" + test(str1, str2))"
   ]
  },
  {
   "cell_type": "code",
   "execution_count": 59,
   "id": "35863265",
   "metadata": {},
   "outputs": [
    {
     "name": "stdout",
     "output_type": "stream",
     "text": [
      "The given string is: welcome\n",
      "Number of repetition characters and repetition: 4\n",
      "The new string is: welcwelwew\n"
     ]
    },
    {
     "data": {
      "text/plain": [
       "test: (stng: String, n: Int)String\r\n",
       "str1: String = welcome\r\n",
       "rep_no: Int = 4\n"
      ]
     },
     "execution_count": 59,
     "metadata": {},
     "output_type": "execute_result"
    }
   ],
   "source": [
    "\n",
    "  def test(stng: String, n: Int): String = {\n",
    "  var l = n\n",
    "  var newstring = \"\"\n",
    "    \n",
    "  for (i<-n to 0 by -1)  {\n",
    "    newstring = newstring + stng.substring(0,l)\n",
    "    l = l -1;\n",
    "  }\n",
    "  return newstring;\n",
    "  }\n",
    "\n",
    "  \n",
    "val str1 =  \"welcome\";\n",
    "val rep_no = 4;\n",
    "println(\"The given string is: \"+str1);\n",
    "println(\"Number of repetition characters and repetition: \"+rep_no);\n",
    "println(\"The new string is: \"+ test(str1, rep_no));\n",
    "  "
   ]
  },
  {
   "cell_type": "code",
   "execution_count": 117,
   "id": "4fa1f6a5",
   "metadata": {},
   "outputs": [
    {
     "name": "stdout",
     "output_type": "stream",
     "text": [
      "(2,2)\n",
      "(3,2)\n",
      "(4,4)\n"
     ]
    },
    {
     "data": {
      "text/plain": [
       "find_freq_dup: (str: List[Int])scala.collection.immutable.Map[Int,Int]\r\n",
       "l1: List[Int] = List(1, 4, 3, 2, 4, 4, 4, 2, 3, 5)\r\n",
       "ans: scala.collection.immutable.Map[Int,Int] = Map(2 -> 2, 3 -> 2, 4 -> 4)\n"
      ]
     },
     "execution_count": 117,
     "metadata": {},
     "output_type": "execute_result"
    }
   ],
   "source": [
    "def find_freq_dup(str :List[Int]) ={\n",
    "  val s = str.groupBy(x => x).map(t => (t._1, t._2.length)).filter(x => x._2 >=2)\n",
    "  //val s = str.groupBy(identity).map(t => (t._1, t._2.length)).filter(x => x._2 >=2)\n",
    "  s\n",
    "}\n",
    "\n",
    "val l1 = List(1,4,3,2,4,4,4,2,3,5)\n",
    "val ans = find_freq_dup(l1)\n",
    "\n",
    "ans.foreach(println)"
   ]
  },
  {
   "cell_type": "code",
   "execution_count": 116,
   "id": "6da1dc3b",
   "metadata": {},
   "outputs": [
    {
     "name": "stdout",
     "output_type": "stream",
     "text": [
      "(2,2)\n",
      "(4,4)\n",
      "(3,2)\n"
     ]
    },
    {
     "data": {
      "text/plain": [
       "find_freq_dup: (str: List[Int])scala.collection.mutable.Map[Int,Int]\r\n",
       "l1: List[Int] = List(1, 4, 3, 2, 4, 4, 4, 2, 3, 5)\r\n",
       "ans: scala.collection.mutable.Map[Int,Int] = Map(2 -> 2, 5 -> 1, 4 -> 4, 1 -> 1, 3 -> 2)\n"
      ]
     },
     "execution_count": 116,
     "metadata": {},
     "output_type": "execute_result"
    }
   ],
   "source": [
    "def find_freq_dup(str :List[Int]) = {\n",
    "  \n",
    "    var ll =  scala.collection.mutable.Map[Int,Int] ()\n",
    "    \n",
    "    for( i <- str )\n",
    "    {\n",
    "        if(ll.contains(i)) {ll(i) +=1  }\n",
    "        else ll(i) = 1 \n",
    "    }\n",
    "     ll\n",
    "}\n",
    "\n",
    "val l1 = List(1,4,3,2,4,4,4,2,3,5)\n",
    "           \n",
    "val ans = find_freq_dup(l1)\n",
    "\n",
    "for ( i <- ans ){\n",
    "    if (i._2 >=2)  println(i)\n",
    "}"
   ]
  },
  {
   "cell_type": "code",
   "execution_count": 123,
   "id": "f52449e4",
   "metadata": {},
   "outputs": [
    {
     "name": "stdout",
     "output_type": "stream",
     "text": [
      "The given string is: welllcommmmeee\n",
      "The number of triples in the string is: 4\n"
     ]
    },
    {
     "data": {
      "text/plain": [
       "test: (str: String)Int\r\n",
       "str1: String = welllcommmmeee\n"
      ]
     },
     "execution_count": 123,
     "metadata": {},
     "output_type": "execute_result"
    }
   ],
   "source": [
    "def test(str: String): Int = {\n",
    "  var c = 0\n",
    "  for (i <- 0 to str.length - 3) {\n",
    "    if (str.charAt(i) == str.charAt(i + 1) && str.charAt(i) == str.charAt(i + 2))\n",
    "      c += 1\n",
    "  }\n",
    "  c\n",
    "}\n",
    "\n",
    "val str1 = \"welllcommmmeee\"\n",
    "println(\"The given string is: \" + str1)\n",
    "println(\"The number of triples in the string is: \" + test(str1))\n"
   ]
  },
  {
   "cell_type": "code",
   "execution_count": 132,
   "id": "7a508b2a",
   "metadata": {},
   "outputs": [
    {
     "name": "stdout",
     "output_type": "stream",
     "text": [
      "2\n",
      "3\n",
      "3\n"
     ]
    },
    {
     "data": {
      "text/plain": [
       "import scala.annotation.tailrec\r\n",
       "countSubstr_rec: (str1: String, str2: String)Int\r\n",
       "countSubstr_slid: (str: String, sub: String)Int\r\n",
       "countSubstr_regx: (str: String, substr: String)Int\n"
      ]
     },
     "execution_count": 132,
     "metadata": {},
     "output_type": "execute_result"
    }
   ],
   "source": [
    "//Using Recursion\n",
    "import scala.annotation.tailrec\n",
    "def countSubstr_rec(str1:String, str2:String):Int={\n",
    "   @tailrec def count(pos:Int, c:Int):Int={\n",
    "      val idx=str1 indexOf(str2, pos)\n",
    "      if(idx == -1) c else count(idx+str2.size, c+1)\n",
    "   }\n",
    "   count(0,0)\n",
    "}\n",
    "\n",
    "//Using Sliding\n",
    "def countSubstr_slid(str: String, sub: String): Int =\n",
    "  str.sliding(sub.length).count(_ == sub)\n",
    "\n",
    "//Using Regular Expressions\n",
    "def countSubstr_regx( str:String, substr:String ) = substr.r.findAllMatchIn(str).length\n",
    "\n",
    "println(countSubstr_rec(\"ababababab\", \"abab\"))\n",
    "\n",
    "println(countSubstr_slid(\"the three truths\", \"th\"))\n",
    "\n",
    "println(countSubstr_regx(\"the three truths\", \"th\"))"
   ]
  },
  {
   "cell_type": "code",
   "execution_count": null,
   "id": "e1cd7940",
   "metadata": {},
   "outputs": [],
   "source": []
  }
 ],
 "metadata": {
  "kernelspec": {
   "display_name": "spylon-kernel",
   "language": "scala",
   "name": "spylon-kernel"
  },
  "language_info": {
   "codemirror_mode": "text/x-scala",
   "file_extension": ".scala",
   "help_links": [
    {
     "text": "MetaKernel Magics",
     "url": "https://metakernel.readthedocs.io/en/latest/source/README.html"
    }
   ],
   "mimetype": "text/x-scala",
   "name": "scala",
   "pygments_lexer": "scala",
   "version": "0.4.1"
  }
 },
 "nbformat": 4,
 "nbformat_minor": 5
}