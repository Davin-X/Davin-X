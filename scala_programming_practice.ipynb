{
 "cells": [
  {
   "cell_type": "markdown",
   "source": [
    "scala functional programming with important concepts\n"
   ],
   "metadata": {}
  },
  {
   "cell_type": "code",
   "execution_count": 16,
   "source": [
    "//tail recursion\r\n",
    "\r\n",
    "def fib(n: Int, a: Int = 0, b: Int = 1):Int ={\r\n",
    "  if (n == 0) a\r\n",
    "  else if (n == 1) b\r\n",
    "  else fib(n - 1, b, a + b)\r\n",
    "}\r\n",
    "\r\n",
    "for(i<- 0 to 10)\r\n",
    "println(fib(i))"
   ],
   "outputs": [
    {
     "output_type": "stream",
     "name": "stdout",
     "text": [
      "0\n",
      "1\n",
      "1\n",
      "2\n",
      "3\n",
      "5\n",
      "8\n",
      "13\n",
      "21\n",
      "34\n",
      "55\n"
     ]
    },
    {
     "output_type": "execute_result",
     "data": {
      "text/plain": [
       "fib: (n: Int, a: Int, b: Int)Int\n"
      ]
     },
     "metadata": {},
     "execution_count": 16
    }
   ],
   "metadata": {}
  },
  {
   "cell_type": "code",
   "execution_count": 43,
   "source": [
    "//Nested method\r\n",
    "def factorial(x:BigInt):BigInt = {\r\n",
    "    def fact(x: BigInt, accumlator: BigInt): BigInt = {\r\n",
    "        if(x <= 1) accumlator\r\n",
    "        else fact(x-1, x*accumlator)\r\n",
    "    }\r\n",
    "    fact(x,1)\r\n",
    "}\r\n",
    "\r\n",
    "factorial(10)"
   ],
   "outputs": [
    {
     "output_type": "execute_result",
     "data": {
      "text/plain": [
       "factorial: (x: BigInt)BigInt\r\n",
       "res32: BigInt = 3628800\n"
      ]
     },
     "metadata": {},
     "execution_count": 43
    }
   ],
   "metadata": {}
  },
  {
   "cell_type": "code",
   "execution_count": 4,
   "source": [
    "// initialize a sequence of elements\r\n",
    "\r\n",
    "        val seq_elements: Seq[Double] = Seq(3.5, 5.0, 1.5)\r\n",
    "        println(s\"Elements = $seq_elements\") \r\n",
    "  \r\n",
    "        // find the sum of the elements // using reduce function\r\n",
    "        val sum: Double = seq_elements.reduce((a, b) => a + b)\r\n",
    "        println(s\"Sum of elements = $sum\")\r\n",
    "\r\n",
    "        val maximum : Double = seq_elements.reduce(_ max _)\r\n",
    "        println(s\"Maximum element = $maximum\")\r\n",
    "  \r\n",
    "        // find the minimum element using reduce function\r\n",
    "        val minimum : Double = seq_elements.reduce(_ min _)\r\n",
    "        println(s\"Minimum element = $minimum\")"
   ],
   "outputs": [
    {
     "output_type": "stream",
     "name": "stdout",
     "text": [
      "Elements = List(3.5, 5.0, 1.5)\n",
      "Sum of elements = 10.0\n",
      "Maximum element = 5.0\n",
      "Minimum element = 1.5\n"
     ]
    },
    {
     "output_type": "execute_result",
     "data": {
      "text/plain": [
       "seq_elements: Seq[Double] = List(3.5, 5.0, 1.5)\r\n",
       "sum: Double = 10.0\r\n",
       "maximum: Double = 5.0\r\n",
       "minimum: Double = 1.5\n"
      ]
     },
     "metadata": {},
     "execution_count": 4
    }
   ],
   "metadata": {}
  },
  {
   "cell_type": "code",
   "execution_count": 8,
   "source": [
    "// initialize a sequence of elements\r\n",
    "        val seq_elements: Seq[Double] = Seq(3.5, 5.0, 1.5)\r\n",
    "        println(s\"Elements = $seq_elements\") \r\n",
    "  \r\n",
    "        // find the sum of the elements using fold function\r\n",
    "        val sum: Double = seq_elements.fold(0.0)((a, b) => a + b)\r\n",
    "        println(s\"Sum of elements = $sum\")\r\n",
    "\r\n",
    "\r\n",
    "val str_elements: Seq[String] = Seq(\"hello\",\"Geeks\", \"For\", \"Geeks\")\r\n",
    "        println(s\"Elements = $str_elements\") \r\n",
    "  \r\n",
    "        // Concatenate strings with fold function\r\n",
    "        val concat: String = str_elements.fold(\"\")(\r\n",
    "                                (a, b) => a + \"-\" + b)\r\n",
    "        println(s\"After concatenation = $concat\")"
   ],
   "outputs": [
    {
     "output_type": "stream",
     "name": "stdout",
     "text": [
      "Elements = List(3.5, 5.0, 1.5)\n",
      "Sum of elements = 10.0\n",
      "Elements = List(hello, Geeks, For, Geeks)\n",
      "After concatenation = -hello-Geeks-For-Geeks\n"
     ]
    },
    {
     "output_type": "execute_result",
     "data": {
      "text/plain": [
       "seq_elements: Seq[Double] = List(3.5, 5.0, 1.5)\r\n",
       "sum: Double = 10.0\r\n",
       "str_elements: Seq[String] = List(hello, Geeks, For, Geeks)\r\n",
       "concat: String = -hello-Geeks-For-Geeks\n"
      ]
     },
     "metadata": {},
     "execution_count": 8
    }
   ],
   "metadata": {}
  },
  {
   "cell_type": "code",
   "execution_count": 11,
   "source": [
    "val numbers: Seq[Int] = Seq(4, 2, 1, 6, 9)\n",
    "  \n",
    " //find the sum of the elements using scan function\n",
    " val iterations: Seq[Int] = numbers.scan(0)(_ + _)\n",
    "\n",
    "println(\"Running total of all elements\" +s\"in the collection = $iterations\")\n",
    "\n",
    "\n",
    "val str_elements : Seq[String] = Seq(\"hello\",\"Geeks\", \"For\", \"Geeks\")\n",
    "      \n",
    "        // Concatenate strings with scan function\n",
    "val concat : Seq[String] = str_elements.scan(\"\")((a, b) => a + \"-\" + b)\n",
    "\n",
    "println(s\"After concatenation = $concat\")"
   ],
   "outputs": [
    {
     "output_type": "stream",
     "name": "stdout",
     "text": [
      "Running total of all elementsin the collection = List(0, 4, 6, 7, 13, 22)\n",
      "After concatenation = List(, -hello, -hello-Geeks, -hello-Geeks-For, -hello-Geeks-For-Geeks)\n"
     ]
    },
    {
     "output_type": "execute_result",
     "data": {
      "text/plain": [
       "numbers: Seq[Int] = List(4, 2, 1, 6, 9)\r\n",
       "iterations: Seq[Int] = List(0, 4, 6, 7, 13, 22)\r\n",
       "str_elements: Seq[String] = List(hello, Geeks, For, Geeks)\r\n",
       "concat: Seq[String] = List(\"\", -hello, -hello-Geeks, -hello-Geeks-For, -hello-Geeks-For-Geeks)\n"
      ]
     },
     "metadata": {},
     "execution_count": 11
    }
   ],
   "metadata": {}
  },
  {
   "cell_type": "code",
   "execution_count": 30,
   "source": [
    "//Linear search \n",
    "  def linearSearch[T](items: List[T], searchElem: T): Boolean = {\n",
    "    if (items.isEmpty) false\n",
    "    else if (items.head == searchElem) true\n",
    "    else linearSearch(items.tail, searchElem)\n",
    "  }\n",
    "  \n",
    "val l1 = List(1, 2, 3, 4, 5, 6, 7, 8, 9, 10, 11, 12, 20, 34, 56, 345, 1245)\n",
    "\n",
    "val l2 = List(\"aa\",\"bb\",\"cc\",\"dd\",\"ee\")\n",
    "\n",
    "val l3 = List(1.4, 2.0, 3.6, 4.0, 5, 6, 7)\n",
    "\n",
    "    println(linearSearch(l1,10))\n",
    "\n",
    "    println(linearSearch(l2, \"cc\"))\n",
    "\n",
    "    println(linearSearch(l1, 15))\n",
    "\n",
    "    println(linearSearch(l3, 3.6))\n",
    "  "
   ],
   "outputs": [
    {
     "output_type": "stream",
     "name": "stdout",
     "text": [
      "true\n",
      "true\n",
      "false\n",
      "true\n"
     ]
    },
    {
     "output_type": "execute_result",
     "data": {
      "text/plain": [
       "linearSearch: [T](items: List[T], searchElem: T)Boolean\r\n",
       "l1: List[Int] = List(1, 2, 3, 4, 5, 6, 7, 8, 9, 10, 11, 12, 20, 34, 56, 345, 1245)\r\n",
       "l2: List[String] = List(aa, bb, cc, dd, ee)\r\n",
       "l3: List[Double] = List(1.4, 2.0, 3.6, 4.0, 5.0, 6.0, 7.0)\n"
      ]
     },
     "metadata": {},
     "execution_count": 30
    }
   ],
   "metadata": {}
  },
  {
   "cell_type": "code",
   "execution_count": 2,
   "source": [
    "//binarySearch\n",
    "  def binarySearch[T](items: List[T], find: T)(implicit ordering: Ordering[T]): Boolean = {\n",
    "    if (items.length == 1) {\n",
    "      if (items.head == find) true else false\n",
    "    }\n",
    " \n",
    "    else {\n",
    "      val midPoint = dividePoint(items)\n",
    "      val midElem = items.apply(midPoint)\n",
    "      if (ordering.gt(find, midElem)) binarySearch(items.drop(midPoint), find)\n",
    "      else if (ordering.gt(midElem, find)) binarySearch(items.take(midPoint), find)\n",
    "      else true\n",
    "    }\n",
    "  }\n",
    " \n",
    "  def dividePoint[T](items: List[T]): Int = {\n",
    "    if (items.size % 2 == 0) items.size / 2 else items.size / 2 + 1\n",
    "  }\n",
    " \n",
    " \n",
    "    println(binarySearch(List(1, 2, 3, 4, 5, 6, 7, 8, 9, 10, 11, 12, 20, 34, 56, 345, 1245), 10))\n",
    "    println(binarySearch(List(\"a\", \"b\"), \"b\"))\n",
    "    println(binarySearch(List(1, 2, 3, 4, 5, 6, 7, 8, 9, 10, 11, 12, 20, 34, 56, 345, 1245), 15))\n",
    "  "
   ],
   "outputs": [
    {
     "output_type": "stream",
     "name": "stdout",
     "text": [
      "true\n",
      "true\n",
      "false\n"
     ]
    },
    {
     "output_type": "execute_result",
     "data": {
      "text/plain": [
       "binarySearch: [T](items: List[T], find: T)(implicit ordering: Ordering[T])Boolean\r\n",
       "dividePoint: [T](items: List[T])Int\n"
      ]
     },
     "metadata": {},
     "execution_count": 2
    }
   ],
   "metadata": {}
  },
  {
   "cell_type": "code",
   "execution_count": 4,
   "source": [
    "//create RDD\n",
    "val countries = sc.parallelize(List((\"Nepal\", \"Kathmandu\"),(\"Nepal\", \"Pokhara\"),\n",
    "                                    (\"USA\", \"NY\"),(\"USA\", \"Los Angeles\"),\n",
    "                                    (\"China\", \"Beijing\"),(\"France\", \"Paris\"),\n",
    "                                    (\"Nepal\", \"Kusma\"), (\"India\", \"Delhi\")))\n",
    " \n",
    "//define seqOp\n",
    "def seqOpFun(runningAccumulator: Map[String, Int], currentPairToProcess: (String, String)): Map[String, Int] = {\n",
    "  runningAccumulator.updated(currentPairToProcess._1, 1 + runningAccumulator.getOrElse(currentPairToProcess._1, 0))\n",
    "}\n",
    " \n",
    "//define comOp\n",
    "def comOpFun(acc1: Map[String, Int], acc2: Map[String, Int]): Map[String, Int] = {\n",
    "  acc1 ++ acc2.map { case (countryName, noCities) => countryName -> (noCities + acc1.getOrElse(countryName, 0)) }\n",
    "}\n",
    " \n",
    "//get result\n",
    "val res = countries.aggregate(Map.empty[String, Int])(seqOpFun, comOpFun)"
   ],
   "outputs": [
    {
     "output_type": "execute_result",
     "data": {
      "text/plain": [
       "countries: org.apache.spark.rdd.RDD[(String, String)] = ParallelCollectionRDD[1] at parallelize at <console>:30\r\n",
       "seqOpFun: (runningAccumulator: Map[String,Int], currentPairToProcess: (String, String))Map[String,Int]\r\n",
       "comOpFun: (acc1: Map[String,Int], acc2: Map[String,Int])Map[String,Int]\r\n",
       "res: scala.collection.immutable.Map[String,Int] = Map(USA -> 2, China -> 1, India -> 1, France -> 1, Nepal -> 3)\n"
      ]
     },
     "metadata": {},
     "execution_count": 4
    }
   ],
   "metadata": {}
  },
  {
   "cell_type": "code",
   "execution_count": 5,
   "source": [
    "//replace \n",
    "val str = \"my name is antsant\"\n",
    "val s= str.replace(\"antsant\",\"dev\")"
   ],
   "outputs": [
    {
     "output_type": "execute_result",
     "data": {
      "text/plain": [
       "str: String = my name is antsant\r\n",
       "s: String = my name is dev\n"
      ]
     },
     "metadata": {},
     "execution_count": 5
    }
   ],
   "metadata": {}
  },
  {
   "cell_type": "code",
   "execution_count": 37,
   "source": [
    "val str2 = \"ParallelCollectionRDD\"\n",
    "\n",
    "val s = str2.foldLeft(Map[Char, Int]()) {\n",
    "      case (map, char) => val oldCount: Int = map.getOrElse(char, 0)\n",
    "        map.+(char -> (oldCount + 1))\n",
    "    }\n",
    ".filter(x => x._2 >=2)\n",
    "\n",
    "\n",
    "val ans = str2.groupBy(x => x).map(x => (x._1, x._2.size)) .filter(x => x._2 >= 2 )\n"
   ],
   "outputs": [
    {
     "output_type": "execute_result",
     "data": {
      "text/plain": [
       "str2: String = ParallelCollectionRDD\r\n",
       "s: scala.collection.immutable.Map[Char,Int] = Map(e -> 2, a -> 2, l -> 5, D -> 2, o -> 2)\r\n",
       "ans: scala.collection.immutable.Map[Char,Int] = Map(e -> 2, a -> 2, l -> 5, D -> 2, o -> 2)\n"
      ]
     },
     "metadata": {},
     "execution_count": 37
    }
   ],
   "metadata": {}
  },
  {
   "cell_type": "code",
   "execution_count": 7,
   "source": [
    "val str = \"my name is antsant\"\n",
    "val s= str.split(\" \")\n",
    "s(s.size-1)=\"dev\"\n"
   ],
   "outputs": [
    {
     "output_type": "execute_result",
     "data": {
      "text/plain": [
       "str: String = my name is antsant\r\n",
       "s: Array[String] = Array(my, name, is, dev)\n"
      ]
     },
     "metadata": {},
     "execution_count": 7
    }
   ],
   "metadata": {}
  },
  {
   "cell_type": "code",
   "execution_count": 55,
   "source": [
    "def fibo(n:Int):Int = {\n",
    "    if (n==1) 0\n",
    "    else if(n==2) 1\n",
    "    else fibo(n-1) + fibo(n-2)\n",
    "}"
   ],
   "outputs": [
    {
     "output_type": "execute_result",
     "data": {
      "text/plain": [
       "fibo: (n: Int)Int\n"
      ]
     },
     "metadata": {},
     "execution_count": 55
    }
   ],
   "metadata": {}
  },
  {
   "cell_type": "code",
   "execution_count": 57,
   "source": [
    "for( i <- 1 to 10)print(fibo(i)+\"  \")"
   ],
   "outputs": [
    {
     "output_type": "stream",
     "name": "stdout",
     "text": [
      "0  1  1  2  3  5  8  13  21  34  "
     ]
    }
   ],
   "metadata": {}
  },
  {
   "cell_type": "code",
   "execution_count": 58,
   "source": [
    "var Has_t = new Array[BigInt](1001)\n",
    "Has_t(0)= 0 \n",
    "\n",
    "Has_t(1)= 1\n",
    "\n",
    "for( i <- 2 to 1000) Has_t(i) = Has_t(i-1) + Has_t(i-2)\n",
    "for( i <- 1 to 10) print(Has_t(i-1)+\"  \")"
   ],
   "outputs": [
    {
     "output_type": "stream",
     "name": "stdout",
     "text": [
      "0  1  1  2  3  5  8  13  21  34  "
     ]
    },
    {
     "output_type": "execute_result",
     "data": {
      "text/plain": [
       "Has_t: Array[BigInt] = Array(0, 1, 1, 2, 3, 5, 8, 13, 21, 34, 55, 89, 144, 233, 377, 610, 987, 1597, 2584, 4181, 6765, 10946, 17711, 28657, 46368, 75025, 121393, 196418, 317811, 514229, 832040, 1346269, 2178309, 3524578, 5702887, 9227465, 14930352, 24157817, 39088169, 63245986, 102334155, 165580141, 267914296, 433494437, 701408733, 1134903170, 1836311903, 2971215073, 4807526976, 7778742049, 12586269025, 20365011074, 32951280099, 53316291173, 86267571272, 139583862445, 225851433717, 365435296162, 591286729879, 956722026041, 1548008755920, 2504730781961, 4052739537881, 6557470319842, 10610209857723, 17167680177565, 27777890035288, 44945570212853, 72723460248141, 117669030460994, 190392490709135, 308061521170129, 498454011879264, 806515533049393, 1304969544928657, 2111485077978050, 3416454..."
      ]
     },
     "metadata": {},
     "execution_count": 58
    }
   ],
   "metadata": {}
  },
  {
   "cell_type": "code",
   "execution_count": 3,
   "source": [
    "//import scala.io.StdIn.readLine\n",
    "\n",
    "def test(stng: String): Int = {\n",
    "  val l = stng.length\n",
    "  var sum = 0\n",
    "  var temp = \"\"\n",
    "\n",
    "  for (i <- 0 until l) {\n",
    "    if (Character.isDigit(stng.charAt(i))) {\n",
    "      if (i < l - 1 && Character.isDigit(stng.charAt(i + 1))) {\n",
    "        temp += stng.charAt(i)\n",
    "      }\n",
    "      else {\n",
    "        temp += stng.charAt(i)\n",
    "        sum += Integer.parseInt(temp)\n",
    "        temp = \"\"\n",
    "      }\n",
    "    }\n",
    "  }\n",
    "  sum\n",
    "}\n",
    "\n",
    "\n",
    "val str1 = \"1abc2x30yz67\" //\"1abc23\" //\"geeks4geeks\" //\"123abc\"\n",
    "\n",
    "println(\"The given string is: \" + str1)\n",
    "\n",
    "println(\"The sum of the numbers in the said string is: \" + test(str1))\n",
    "\n"
   ],
   "outputs": [
    {
     "output_type": "stream",
     "name": "stdout",
     "text": [
      "The given string is: 1abc2x30yz67\n",
      "The sum of the numbers in the said string is: 100\n"
     ]
    },
    {
     "output_type": "execute_result",
     "data": {
      "text/plain": [
       "test: (stng: String)Int\r\n",
       "str1: String = 1abc2x30yz67\n"
      ]
     },
     "metadata": {},
     "execution_count": 3
    }
   ],
   "metadata": {}
  },
  {
   "cell_type": "code",
   "execution_count": 21,
   "source": [
    "//import scala.util.matching.Regex\n",
    "\n",
    "val numPattern = \"[0-9]+\".r\n",
    "\n",
    "def find_sum(str1: String): BigInt = {\n",
    "  numPattern.findAllIn(str1).map(_.toInt).sum\n",
    "}\n",
    "\n",
    "val str1 = \"123abc\"\n",
    "\n",
    "print(find_sum(str1))"
   ],
   "outputs": [
    {
     "output_type": "stream",
     "name": "stdout",
     "text": [
      "123"
     ]
    },
    {
     "output_type": "execute_result",
     "data": {
      "text/plain": [
       "numPattern: scala.util.matching.Regex = [0-9]+\r\n",
       "find_sum: (str1: String)BigInt\r\n",
       "str1: String = 123abc\n"
      ]
     },
     "metadata": {},
     "execution_count": 21
    }
   ],
   "metadata": {}
  },
  {
   "cell_type": "code",
   "execution_count": 27,
   "source": [
    "val str = \"hi how are you\"\n",
    "str.map(x=> x.toString :+ x).foreach(print)"
   ],
   "outputs": [
    {
     "output_type": "stream",
     "name": "stdout",
     "text": [
      "hhii  hhooww  aarree  yyoouu"
     ]
    },
    {
     "output_type": "execute_result",
     "data": {
      "text/plain": [
       "str: String = hi how are you\n"
      ]
     },
     "metadata": {},
     "execution_count": 27
    }
   ],
   "metadata": {}
  },
  {
   "cell_type": "code",
   "execution_count": 53,
   "source": [
    "val str2 = \"welcome\"\n",
    "val str1 = \"w3resource\"\n",
    "val len1 = str1.length\n",
    "val len2 = str2.length\n",
    "val max_length = Math.max(len1,len2)\n",
    "val min_length = Math.min(len1,len2)\n",
    "val s1 = str1.padTo(max_length,' ') \n",
    "val s2 = str2.padTo(max_length,' ')\n",
    "\n",
    "s2.zip(s1).map(x => x._1.toString :+ x._2).mkString(\"\").replaceAll(\"\\\\s\", \"\")"
   ],
   "outputs": [
    {
     "output_type": "execute_result",
     "data": {
      "text/plain": [
       "str2: String = welcome\r\n",
       "str1: String = w3resource\r\n",
       "len1: Int = 10\r\n",
       "len2: Int = 7\r\n",
       "max_length: Int = 10\r\n",
       "min_length: Int = 7\r\n",
       "s1: String = w3resource\r\n",
       "s2: String = \"welcome   \"\r\n",
       "res38: String = wwe3lrceosmoeurce\n"
      ]
     },
     "metadata": {},
     "execution_count": 53
    }
   ],
   "metadata": {
    "scrolled": true
   }
  },
  {
   "cell_type": "code",
   "execution_count": 38,
   "source": [
    "def test(stng1: String, stng2: String): String = {\n",
    "    val len1 = stng1.length\n",
    "    val len2 = stng2.length\n",
    "    var max_len = Math.max(len1, len2);\n",
    "    var newstring = \"\";\n",
    "    for (i <- 0 to max_len - 1) {\n",
    "      if (i <= len1 - 1)\n",
    "        newstring = newstring + stng1.substring(i, i + 1);\n",
    "      if (i <= len2 - 1)\n",
    "        newstring = newstring + stng2.substring(i, i + 1);\n",
    "    }\n",
    "    newstring;\n",
    "  }\n",
    "\n",
    "val str1 = \"welcome\";\n",
    "val str2 = \"w3resource\";\n",
    "println(\"The given strings  are: \" + str1 + \"  and  \" + str2);\n",
    "println(\"The new string is: \" + test(str1, str2))"
   ],
   "outputs": [
    {
     "output_type": "stream",
     "name": "stdout",
     "text": [
      "The given strings  are: welcome  and  w3resource\n",
      "The new string is: wwe3lrceosmoeurce\n"
     ]
    },
    {
     "output_type": "execute_result",
     "data": {
      "text/plain": [
       "test: (stng1: String, stng2: String)String\r\n",
       "str1: String = welcome\r\n",
       "str2: String = w3resource\n"
      ]
     },
     "metadata": {},
     "execution_count": 38
    }
   ],
   "metadata": {}
  },
  {
   "cell_type": "code",
   "execution_count": 59,
   "source": [
    "\n",
    "  def test(stng: String, n: Int): String = {\n",
    "  var l = n\n",
    "  var newstring = \"\"\n",
    "    \n",
    "  for (i<-n to 0 by -1)  {\n",
    "    newstring = newstring + stng.substring(0,l)\n",
    "    l = l -1;\n",
    "  }\n",
    "  return newstring;\n",
    "  }\n",
    "\n",
    "  \n",
    "val str1 =  \"welcome\";\n",
    "val rep_no = 4;\n",
    "println(\"The given string is: \"+str1);\n",
    "println(\"Number of repetition characters and repetition: \"+rep_no);\n",
    "println(\"The new string is: \"+ test(str1, rep_no));\n",
    "  "
   ],
   "outputs": [
    {
     "output_type": "stream",
     "name": "stdout",
     "text": [
      "The given string is: welcome\n",
      "Number of repetition characters and repetition: 4\n",
      "The new string is: welcwelwew\n"
     ]
    },
    {
     "output_type": "execute_result",
     "data": {
      "text/plain": [
       "test: (stng: String, n: Int)String\r\n",
       "str1: String = welcome\r\n",
       "rep_no: Int = 4\n"
      ]
     },
     "metadata": {},
     "execution_count": 59
    }
   ],
   "metadata": {}
  },
  {
   "cell_type": "code",
   "execution_count": 117,
   "source": [
    "def find_freq_dup(str :List[Int]) ={\n",
    "  val s = str.groupBy(x => x).map(t => (t._1, t._2.length)).filter(x => x._2 >=2)\n",
    "  //val s = str.groupBy(identity).map(t => (t._1, t._2.length)).filter(x => x._2 >=2)\n",
    "  s\n",
    "}\n",
    "\n",
    "val l1 = List(1,4,3,2,4,4,4,2,3,5)\n",
    "val ans = find_freq_dup(l1)\n",
    "\n",
    "ans.foreach(println)"
   ],
   "outputs": [
    {
     "output_type": "stream",
     "name": "stdout",
     "text": [
      "(2,2)\n",
      "(3,2)\n",
      "(4,4)\n"
     ]
    },
    {
     "output_type": "execute_result",
     "data": {
      "text/plain": [
       "find_freq_dup: (str: List[Int])scala.collection.immutable.Map[Int,Int]\r\n",
       "l1: List[Int] = List(1, 4, 3, 2, 4, 4, 4, 2, 3, 5)\r\n",
       "ans: scala.collection.immutable.Map[Int,Int] = Map(2 -> 2, 3 -> 2, 4 -> 4)\n"
      ]
     },
     "metadata": {},
     "execution_count": 117
    }
   ],
   "metadata": {}
  },
  {
   "cell_type": "code",
   "execution_count": 116,
   "source": [
    "def find_freq_dup(str :List[Int]) = {\n",
    "  \n",
    "    var ll =  scala.collection.mutable.Map[Int,Int] ()\n",
    "    \n",
    "    for( i <- str )\n",
    "    {\n",
    "        if(ll.contains(i)) {ll(i) +=1  }\n",
    "        else ll(i) = 1 \n",
    "    }\n",
    "     ll\n",
    "}\n",
    "\n",
    "val l1 = List(1,4,3,2,4,4,4,2,3,5)\n",
    "           \n",
    "val ans = find_freq_dup(l1)\n",
    "\n",
    "for ( i <- ans ){\n",
    "    if (i._2 >=2)  println(i)\n",
    "}"
   ],
   "outputs": [
    {
     "output_type": "stream",
     "name": "stdout",
     "text": [
      "(2,2)\n",
      "(4,4)\n",
      "(3,2)\n"
     ]
    },
    {
     "output_type": "execute_result",
     "data": {
      "text/plain": [
       "find_freq_dup: (str: List[Int])scala.collection.mutable.Map[Int,Int]\r\n",
       "l1: List[Int] = List(1, 4, 3, 2, 4, 4, 4, 2, 3, 5)\r\n",
       "ans: scala.collection.mutable.Map[Int,Int] = Map(2 -> 2, 5 -> 1, 4 -> 4, 1 -> 1, 3 -> 2)\n"
      ]
     },
     "metadata": {},
     "execution_count": 116
    }
   ],
   "metadata": {}
  },
  {
   "cell_type": "code",
   "execution_count": 123,
   "source": [
    "def test(str: String): Int = {\n",
    "  var c = 0\n",
    "  for (i <- 0 to str.length - 3) {\n",
    "    if (str.charAt(i) == str.charAt(i + 1) && str.charAt(i) == str.charAt(i + 2))\n",
    "      c += 1\n",
    "  }\n",
    "  c\n",
    "}\n",
    "\n",
    "val str1 = \"welllcommmmeee\"\n",
    "println(\"The given string is: \" + str1)\n",
    "println(\"The number of triples in the string is: \" + test(str1))\n"
   ],
   "outputs": [
    {
     "output_type": "stream",
     "name": "stdout",
     "text": [
      "The given string is: welllcommmmeee\n",
      "The number of triples in the string is: 4\n"
     ]
    },
    {
     "output_type": "execute_result",
     "data": {
      "text/plain": [
       "test: (str: String)Int\r\n",
       "str1: String = welllcommmmeee\n"
      ]
     },
     "metadata": {},
     "execution_count": 123
    }
   ],
   "metadata": {}
  },
  {
   "cell_type": "code",
   "execution_count": 132,
   "source": [
    "//Using Recursion\n",
    "import scala.annotation.tailrec\n",
    "def countSubstr_rec(str1:String, str2:String):Int={\n",
    "   @tailrec def count(pos:Int, c:Int):Int={\n",
    "      val idx=str1 indexOf(str2, pos)\n",
    "      if(idx == -1) c else count(idx+str2.size, c+1)\n",
    "   }\n",
    "   count(0,0)\n",
    "}\n",
    "\n",
    "//Using Sliding\n",
    "def countSubstr_slid(str: String, sub: String): Int =\n",
    "  str.sliding(sub.length).count(_ == sub)\n",
    "\n",
    "//Using Regular Expressions\n",
    "def countSubstr_regx( str:String, substr:String ) = substr.r.findAllMatchIn(str).length\n",
    "\n",
    "println(countSubstr_rec(\"ababababab\", \"abab\"))\n",
    "\n",
    "println(countSubstr_slid(\"the three truths\", \"th\"))\n",
    "\n",
    "println(countSubstr_regx(\"the three truths\", \"th\"))"
   ],
   "outputs": [
    {
     "output_type": "stream",
     "name": "stdout",
     "text": [
      "2\n",
      "3\n",
      "3\n"
     ]
    },
    {
     "output_type": "execute_result",
     "data": {
      "text/plain": [
       "import scala.annotation.tailrec\r\n",
       "countSubstr_rec: (str1: String, str2: String)Int\r\n",
       "countSubstr_slid: (str: String, sub: String)Int\r\n",
       "countSubstr_regx: (str: String, substr: String)Int\n"
      ]
     },
     "metadata": {},
     "execution_count": 132
    }
   ],
   "metadata": {}
  },
  {
   "cell_type": "code",
   "execution_count": 2,
   "source": [
    "def test(stng: String): Boolean = {\n",
    "  val l = stng.length\n",
    "  var st_the = 0\n",
    "  var st_is = 0\n",
    "  for (i <- 0 until l) {\n",
    "    if (i < l - 2) {\n",
    "      val tmp = stng.substring(i, i + 3)\n",
    "      if (tmp.equals(\"the\"))\n",
    "        st_the = st_the + 1\n",
    "    }\n",
    "    if (i < l - 1) {\n",
    "      val tmp2 = stng.substring(i, i + 2)\n",
    "      if (tmp2.equals(\"is\"))\n",
    "        st_is = st_is + 1\n",
    "    }\n",
    "  }\n",
    "  if (st_the == st_is)\n",
    "    true\n",
    "  else\n",
    "    false\n",
    "}\n",
    "\n",
    "var str1 = \"Thisisthethesis\"\n",
    "println(\"The given string is: \" + str1)\n",
    "println(\"Are the appearance of 'the' and 'is' equal? \" + test(str1))\n",
    "\n",
    "str1 = \"Thisisthethes\"\n",
    "println(\"The given string is: \" + str1)\n",
    "println(\"Are the appearance of 'the' and 'is' equal? \" + test(str1))"
   ],
   "outputs": [
    {
     "output_type": "stream",
     "name": "stdout",
     "text": [
      "The given string is: Thisisthethesis\n",
      "Are the appearance of 'the' and 'is' equal? false\n",
      "The given string is: Thisisthethes\n",
      "Are the appearance of 'the' and 'is' equal? true\n"
     ]
    },
    {
     "output_type": "execute_result",
     "data": {
      "text/plain": [
       "test: (stng: String)Boolean\r\n",
       "str1: String = Thisisthethes\r\n",
       "str1: String = Thisisthethes\n"
      ]
     },
     "metadata": {},
     "execution_count": 2
    }
   ],
   "metadata": {}
  },
  {
   "cell_type": "code",
   "execution_count": 7,
   "source": [
    "def test(str: String, num : Int) : String ={\n",
    "    val tmp = str.takeRight(num)\n",
    "    tmp * num\n",
    "}\n",
    "\n",
    "val str1 = \"string\";\n",
    "val no_char = 4;\n",
    "println(\"The given string is: \" + str1);\n",
    "println(\"The new string after repetition: \" + test(str1, no_char));"
   ],
   "outputs": [
    {
     "output_type": "stream",
     "name": "stdout",
     "text": [
      "The given string is: string\n",
      "The new string after repetition: ringringringring\n"
     ]
    },
    {
     "output_type": "execute_result",
     "data": {
      "text/plain": [
       "test: (str: String, num: Int)String\r\n",
       "str1: String = string\r\n",
       "no_char: Int = 4\n"
      ]
     },
     "metadata": {},
     "execution_count": 7
    }
   ],
   "metadata": {}
  },
  {
   "cell_type": "code",
   "execution_count": 10,
   "source": [
    "def test(stng: String, no_repeat: Int): String = {\n",
    "  val l = stng.length\n",
    "  var new_word = \"\"\n",
    "  for (_ <- 0 until no_repeat) {\n",
    "    new_word += stng.substring(l - no_repeat, l)\n",
    "  }\n",
    "  new_word\n",
    "}\n",
    "\n",
    "val str1 = \"string\"\n",
    "val no_char = 4\n",
    "println(\"The given string is: \" + str1)\n",
    "println(\"The new string after repetition: \" + test(str1, no_char))"
   ],
   "outputs": [
    {
     "output_type": "stream",
     "name": "stdout",
     "text": [
      "The given string is: string\n",
      "The new string after repetition: ringringringring\n"
     ]
    },
    {
     "output_type": "execute_result",
     "data": {
      "text/plain": [
       "test: (stng: String, no_repeat: Int)String\r\n",
       "str1: String = string\r\n",
       "no_char: Int = 4\n"
      ]
     },
     "metadata": {},
     "execution_count": 10
    }
   ],
   "metadata": {}
  },
  {
   "cell_type": "code",
   "execution_count": 13,
   "source": [
    "val str = \"spark - Scala\";\n",
    "    println(s\"Original String : ${str}\");\n",
    "    // codepoint at index \n",
    "    val val1 = str.codePointAt(10)"
   ],
   "outputs": [
    {
     "output_type": "stream",
     "name": "stdout",
     "text": [
      "Original String : spark - Scala\n"
     ]
    },
    {
     "output_type": "execute_result",
     "data": {
      "text/plain": [
       "str: String = spark - Scala\r\n",
       "val1: Int = 97\n"
      ]
     },
     "metadata": {},
     "execution_count": 13
    }
   ],
   "metadata": {}
  },
  {
   "cell_type": "code",
   "execution_count": 14,
   "source": [
    "\n",
    "def test(str1: String, str2: String): String = {\n",
    "  // Compare the two strings.\n",
    "  val result = str1.compareTo(str2)\n",
    "\n",
    "  // Display the results of the comparison.\n",
    "  if (result < 0) {\n",
    "    \"\\\"\" + str1 + \"\\\"\" + \" is less than \" + \"\\\"\" + str2 + \"\\\"\"\n",
    "  } else if (result == 0) {\n",
    "    \"\\\"\" + str1 + \"\\\"\" + \" is equal to \" + \"\\\"\" + str2 + \"\\\"\"\n",
    "  } else {\n",
    "    \"\\\"\" + str1 + \"\\\"\" + \" is greater than \" + \"\\\"\" + str2 + \"\\\"\"\n",
    "  }\n",
    "}\n",
    "\n",
    "var str1 = \"This is Exercise 1\"\n",
    "var str2 = \"This is Exercise 2\"\n",
    "\n",
    "var result = test(str1, str2)\n",
    "println(result)\n",
    "println(\"========================\")\n",
    "str1 = \"This is Exercise 1\"\n",
    "str2 = \"This is Exercise 1\"\n",
    "\n",
    "result = test(str1, str2)\n",
    "println(result)\n",
    "println(\"========================\")\n",
    "str1 = \"This is Blacky\"\n",
    "str2 = \"This is Black\"\n",
    "\n",
    "result = test(str1, str2)\n",
    "println(result)\n",
    "\n"
   ],
   "outputs": [
    {
     "output_type": "stream",
     "name": "stdout",
     "text": [
      "\"This is Exercise 1\" is less than \"This is Exercise 2\"\n",
      "========================\n",
      "\"This is Exercise 1\" is equal to \"This is Exercise 1\"\n",
      "========================\n",
      "\"This is Blacky\" is greater than \"This is Black\"\n"
     ]
    },
    {
     "output_type": "execute_result",
     "data": {
      "text/plain": [
       "test: (str1: String, str2: String)String\r\n",
       "str1: String = This is Blacky\r\n",
       "str2: String = This is Black\r\n",
       "result: String = \"This is Blacky\" is greater than \"This is Black\"\r\n",
       "str1: String = This is Blacky\r\n",
       "str2: String = This is Black\r\n",
       "result: String = \"This is Blacky\" is greater than \"This is Black\"\r\n",
       "str1: String = This is Blacky\r\n",
       "str2: String = This is Black\r\n",
       "result: String = \"This is Blacky\" is greater than \"This is Black\"\n"
      ]
     },
     "metadata": {},
     "execution_count": 14
    }
   ],
   "metadata": {}
  },
  {
   "cell_type": "code",
   "execution_count": 15,
   "source": [
    "val arr_num = Array('1', '2', '3', '4', '5', '6')\n",
    "\n",
    "    // starting at index 1 for length 2.\n",
    "val str = String.copyValueOf(arr_num, 2, 3)"
   ],
   "outputs": [
    {
     "output_type": "execute_result",
     "data": {
      "text/plain": [
       "arr_num: Array[Char] = Array(1, 2, 3, 4, 5, 6)\r\n",
       "str: String = 345\n"
      ]
     },
     "metadata": {},
     "execution_count": 15
    }
   ],
   "metadata": {}
  },
  {
   "cell_type": "code",
   "execution_count": 24,
   "source": [
    "val str1 = \"Python Exercises\"\n",
    "val str2 = \"Python Exercise\"\n",
    "\n",
    "println(str1.endsWith(\"se\"))\n",
    "println(str2.endsWith(\"se\"))\n",
    "println(str1.equals(str2))\n",
    "println(str1.equalsIgnoreCase(str2) )\n"
   ],
   "outputs": [
    {
     "output_type": "stream",
     "name": "stdout",
     "text": [
      "false\n",
      "true\n",
      "false\n",
      "false\n"
     ]
    },
    {
     "output_type": "execute_result",
     "data": {
      "text/plain": [
       "str1: String = Python Exercises\r\n",
       "str2: String = Python Exercise\n"
      ]
     },
     "metadata": {},
     "execution_count": 24
    }
   ],
   "metadata": {}
  },
  {
   "cell_type": "code",
   "execution_count": 31,
   "source": [
    " val str = \"The quick brown fox jumps over the lazy dog.\"   \n",
    "\n",
    "    // Replace all the 'd' characters with 'f' characters.\n",
    "println(str.replace('d', 'f') )\n",
    "\n",
    "println(str.substring(10, 26) )\n",
    "\n",
    "println(str.toLowerCase())\n",
    "\n",
    "println(str.toUpperCase())"
   ],
   "outputs": [
    {
     "output_type": "stream",
     "name": "stdout",
     "text": [
      "The quick brown fox jumps over the lazy fog.\n",
      "brown fox jumps \n",
      "the quick brown fox jumps over the lazy dog.\n",
      "THE QUICK BROWN FOX JUMPS OVER THE LAZY DOG.\n"
     ]
    },
    {
     "output_type": "execute_result",
     "data": {
      "text/plain": [
       "str: String = The quick brown fox jumps over the lazy dog.\n"
      ]
     },
     "metadata": {},
     "execution_count": 31
    }
   ],
   "metadata": {}
  },
  {
   "cell_type": "code",
   "execution_count": 35,
   "source": [
    "val str = \"        Scala Exercises         \"\n",
    "\n",
    "      // Trim the whitespace from the front and back of the String.\n",
    "val new_str = str.trim();\n",
    "      // Display the strings for comparison.\n",
    "println(\"Original String:-\" + str);\n",
    "println(\"New String:-\" + new_str);"
   ],
   "outputs": [
    {
     "output_type": "stream",
     "name": "stdout",
     "text": [
      "Original String:-        Scala Exercises         \n",
      "New String:-Scala Exercises\n"
     ]
    },
    {
     "output_type": "execute_result",
     "data": {
      "text/plain": [
       "str: String = \"        Scala Exercises         \"\r\n",
       "new_str: String = Scala Exercises\n"
      ]
     },
     "metadata": {},
     "execution_count": 35
    }
   ],
   "metadata": {}
  },
  {
   "cell_type": "code",
   "execution_count": 36,
   "source": [
    "def removeDuplicateChars(s: String): String = {\n",
    "  var targetStr = \"\"\n",
    "  for (value <- s) {\n",
    "    if (targetStr.indexOf(value) == -1) {\n",
    "      targetStr += value\n",
    "    }\n",
    "  }\n",
    "  targetStr\n",
    "}\n",
    "\n",
    "var str1 = \"w3resource\"\n",
    "println(\"After removing duplicates characters the new string is: \" + removeDuplicateChars(str1))\n",
    "str1 = \"Scala\"\n",
    "println(\"After removing duplicates characters the new string is: \" + removeDuplicateChars(str1))\n",
    "str1 = \"2q34u923u4928402\"\n",
    "println(\"After removing duplicates characters the new string is: \" + removeDuplicateChars(str1))"
   ],
   "outputs": [
    {
     "output_type": "stream",
     "name": "stdout",
     "text": [
      "After removing duplicates characters the new string is: w3resouc\n",
      "After removing duplicates characters the new string is: Scal\n",
      "After removing duplicates characters the new string is: 2q34u980\n"
     ]
    },
    {
     "output_type": "execute_result",
     "data": {
      "text/plain": [
       "removeDuplicateChars: (s: String)String\r\n",
       "str1: String = 2q34u923u4928402\r\n",
       "str1: String = 2q34u923u4928402\r\n",
       "str1: String = 2q34u923u4928402\n"
      ]
     },
     "metadata": {},
     "execution_count": 36
    }
   ],
   "metadata": {}
  },
  {
   "cell_type": "code",
   "execution_count": 39,
   "source": [
    "println(str1.distinct)"
   ],
   "outputs": [
    {
     "output_type": "stream",
     "name": "stdout",
     "text": [
      "2q34u980\n"
     ]
    }
   ],
   "metadata": {}
  },
  {
   "cell_type": "code",
   "execution_count": 17,
   "source": [
    "val str1 = \"duplicates characters\" \n",
    "val ans = str1.groupBy(identity).map(x => (x._1,x._2.size)).maxBy(_._2) \n",
    "//map.maxBy { case (key, value) => value }"
   ],
   "outputs": [
    {
     "output_type": "execute_result",
     "data": {
      "text/plain": [
       "str1: String = duplicates characters\r\n",
       "ans: (Char, Int) = (a,3)\n"
      ]
     },
     "metadata": {},
     "execution_count": 17
    }
   ],
   "metadata": {}
  },
  {
   "cell_type": "code",
   "execution_count": 18,
   "source": [
    " val str = \"The quick brown fox jumps over the lazy dog.\"   \n",
    " str.split(\" \").map(_.reverse)"
   ],
   "outputs": [
    {
     "output_type": "execute_result",
     "data": {
      "text/plain": [
       "str: String = The quick brown fox jumps over the lazy dog.\r\n",
       "res3: Array[String] = Array(ehT, kciuq, nworb, xof, spmuj, revo, eht, yzal, .god)\n"
      ]
     },
     "metadata": {},
     "execution_count": 18
    }
   ],
   "metadata": {}
  },
  {
   "cell_type": "code",
   "execution_count": 20,
   "source": [
    "val str1 = \"ABACD\"\n",
    "val str2 = \"DCABA\"\n",
    "str1.reverse == str2"
   ],
   "outputs": [
    {
     "output_type": "execute_result",
     "data": {
      "text/plain": [
       "str1: String = ABACD\r\n",
       "str2: String = DCABA\r\n",
       "res5: Boolean = true\n"
      ]
     },
     "metadata": {},
     "execution_count": 20
    }
   ],
   "metadata": {}
  },
  {
   "cell_type": "code",
   "execution_count": 21,
   "source": [
    "\n",
    "  def conCat(str1: String, str2: String): String = {\n",
    "    if (str1.length != 0 && str2.length != 0 && str1.charAt(str1.length() - 1) == str2.charAt(0))\n",
    "      return str1 + str2.substring(1)\n",
    "    return str1 + str2\n",
    "  }\n",
    "\n",
    "  \n",
    "    val str1 = \"food\"\n",
    "    val str2 = \"door\"\n",
    "    println(\"The string after concatination are: \" + conCat(str1, str2))"
   ],
   "outputs": [
    {
     "output_type": "stream",
     "name": "stdout",
     "text": [
      "The string after concatination are: foodoor\n"
     ]
    },
    {
     "output_type": "execute_result",
     "data": {
      "text/plain": [
       "conCat: (str1: String, str2: String)String\r\n",
       "str1: String = food\r\n",
       "str2: String = door\n"
      ]
     },
     "metadata": {},
     "execution_count": 21
    }
   ],
   "metadata": {}
  },
  {
   "cell_type": "code",
   "execution_count": 23,
   "source": [
    "\n",
    "var str1 = \"String\"\n",
    "def lastTwo(str1: String): String = {\n",
    "    if (str1.length() < 2) return str1\n",
    "    return str1.substring(0, str1.length - 2) + str1.charAt(str1.length - 1) + str1.charAt(str1.length - 2)\n",
    "  }\n",
    "\n",
    "println(\"The string after swap last two characters are: \" + lastTwo(str1))"
   ],
   "outputs": [
    {
     "output_type": "stream",
     "name": "stdout",
     "text": [
      "The string after swap last two characters are: Strign\n"
     ]
    },
    {
     "output_type": "execute_result",
     "data": {
      "text/plain": [
       "str1: String = String\r\n",
       "lastTwo: (str1: String)String\n"
      ]
     },
     "metadata": {},
     "execution_count": 23
    }
   ],
   "metadata": {}
  },
  {
   "cell_type": "code",
   "execution_count": 25,
   "source": [
    "def test(str1: String, str2: String): String = {\n",
    "    if (str1.length == str2.length)\n",
    "      return str1 + str2\n",
    "    if (str1.length > str2.length) {\n",
    "      var diff = str1.length - str2.length\n",
    "      str1.substring(diff, str1.length) + str2\n",
    "    } else {\n",
    "      var diff = str2.length - str1.length\n",
    "      str1 + str2.substring(diff, str2.length)\n",
    "    }\n",
    "    \n",
    "}\n",
    "    \n",
    "    var str1 = \"Welcome\";\n",
    "    var str2 = \"home\";\n",
    "    println(\"The new string is: \" + test(str1, str2))"
   ],
   "outputs": [
    {
     "output_type": "stream",
     "name": "stdout",
     "text": [
      "The new string is: comehome\n"
     ]
    },
    {
     "output_type": "execute_result",
     "data": {
      "text/plain": [
       "test: (str1: String, str2: String)String\r\n",
       "str1: String = Welcome\r\n",
       "str2: String = home\n"
      ]
     },
     "metadata": {},
     "execution_count": 25
    }
   ],
   "metadata": {}
  },
  {
   "cell_type": "code",
   "execution_count": 26,
   "source": [
    "//removing n char from nth place from a string\n",
    "def test(str1: String, n: Int): String = {\n",
    "    str1.substring(0, n) + str1.substring(str1.length - n, str1.length)\n",
    "  }\n",
    "\n",
    "  println(test(\"scala programming\", 4))"
   ],
   "outputs": [
    {
     "output_type": "stream",
     "name": "stdout",
     "text": [
      "scalming\n"
     ]
    },
    {
     "output_type": "execute_result",
     "data": {
      "text/plain": [
       "test: (str1: String, n: Int)String\n"
      ]
     },
     "metadata": {},
     "execution_count": 26
    }
   ],
   "metadata": {}
  },
  {
   "cell_type": "code",
   "execution_count": 60,
   "source": [
    "var nums = Array(1, 2, 3, 4, 5, 6)\n",
    "\n",
    "println(nums.sum)\n",
    "\n",
    "println(nums.contains(4))\n",
    "\n",
    "println(nums.head)\n",
    "\n",
    "\n",
    "nums.tail.mkString(\" \").foreach(print)\n",
    "\n",
    "println(\" \")\n",
    "\n",
    "println(nums.max)\n",
    "\n",
    "println(nums.min)\n",
    "\n",
    "nums.drop(1).mkString(\" \").foreach(print)\n",
    "println(\" \")\n",
    "\n",
    "println(nums.last)\n",
    "\n",
    "nums.drop(1).mkString(\" \").foreach(print)\n",
    "println(\" \")\n",
    "\n",
    "\n",
    "println(nums.indexOf(4) )\n",
    "\n",
    "\n"
   ],
   "outputs": [
    {
     "output_type": "stream",
     "name": "stdout",
     "text": [
      "21\n",
      "true\n",
      "1\n",
      "2 3 4 5 6 \n",
      "6\n",
      "1\n",
      "2 3 4 5 6 \n",
      "6\n",
      "2 3 4 5 6 \n",
      "3\n"
     ]
    },
    {
     "output_type": "execute_result",
     "data": {
      "text/plain": [
       "nums: Array[Int] = Array(1, 2, 3, 4, 5, 6)\n"
      ]
     },
     "metadata": {},
     "execution_count": 60
    }
   ],
   "metadata": {}
  },
  {
   "cell_type": "code",
   "execution_count": 2,
   "source": [
    "// high order list methods\n",
    "val n = List(1,2,3,4)\n",
    "val s = List(\"LNKD\", \"GOOG\", \"AAPL\")\n",
    "val p = List(265.69, 511.78, 108.49)\n",
    "var product = 1;\n",
    "\n",
    "n.foreach(product *= _) //==> 24\n",
    "\n",
    "n.filter(_ % 2 != 0)    //==> List(1,3)\n",
    "\n",
    "n.partition(_ % 2 != 0) //==> (List(1,3), List(2,4))\n",
    "\n",
    "n.find(_ % 2 != 0)      //==> Some(1)\n",
    "\n",
    "n.find(_ < 0)           //==> None\n",
    "\n",
    "p.takeWhile(_ > 200.00) //==> List(265.69, 511.78)\n",
    "\n",
    "p.dropWhile(_ > 200.00) //==> List(108.49)\n",
    "\n",
    "val p2 = List(265.69, 50.11, 511.78, 108.49)\n",
    "\n",
    "p2.span(_ > 200.00)     //==> (List(265.69),List(50.11, 511.78,108.49))\n"
   ],
   "outputs": [
    {
     "output_type": "execute_result",
     "data": {
      "text/plain": [
       "n: List[Int] = List(1, 2, 3, 4)\r\n",
       "s: List[String] = List(LNKD, GOOG, AAPL)\r\n",
       "p: List[Double] = List(265.69, 511.78, 108.49)\r\n",
       "product: Int = 24\r\n",
       "p2: List[Double] = List(265.69, 50.11, 511.78, 108.49)\r\n",
       "res1: (List[Double], List[Double]) = (List(265.69),List(50.11, 511.78, 108.49))\n"
      ]
     },
     "metadata": {},
     "execution_count": 2
    }
   ],
   "metadata": {}
  },
  {
   "cell_type": "code",
   "execution_count": 11,
   "source": [
    "// pattern matching with lists\n",
    "\n",
    "def sum(xs: List[Int]) : Int = xs match {\n",
    "  case Nil => 0\n",
    "  case x :: ys => x + sum(ys)\n",
    "}\n",
    "\n",
    "val dups = List(1,2,3,4,6,3,2,7,9,4)\n",
    "\n",
    "println(sum(dups))\n"
   ],
   "outputs": [
    {
     "output_type": "stream",
     "name": "stdout",
     "text": [
      "41\n"
     ]
    },
    {
     "output_type": "execute_result",
     "data": {
      "text/plain": [
       "sum: (xs: List[Int])Int\r\n",
       "dups: List[Int] = List(1, 2, 3, 4, 6, 3, 2, 7, 9, 4)\n"
      ]
     },
     "metadata": {},
     "execution_count": 11
    }
   ],
   "metadata": {}
  },
  {
   "cell_type": "code",
   "execution_count": 3,
   "source": [
    "// high order list methods\n",
    "val n = List(1,2,3,4)\n",
    "val s = List(\"LNKD\", \"GOOG\", \"AAPL\")\n",
    "\n",
    "n.map(_ + 1)                 //==> List(2,3,4,5)\n",
    "\n",
    "s.flatMap(_.toList)          //==> List(L,N,K,D,G,O,O,G,A,A,P,L)\n",
    "\n",
    "n.reduce((a,b) => { a + b} ) //==> 10\n",
    "\n",
    "n.contains(3)                //==> true"
   ],
   "outputs": [
    {
     "output_type": "execute_result",
     "data": {
      "text/plain": [
       "n: List[Int] = List(1, 2, 3, 4)\r\n",
       "s: List[String] = List(LNKD, GOOG, AAPL)\r\n",
       "res2: Boolean = true\n"
      ]
     },
     "metadata": {},
     "execution_count": 3
    }
   ],
   "metadata": {}
  },
  {
   "cell_type": "code",
   "execution_count": 5,
   "source": [
    "val badDF = Seq((\"7369\", \"SMI_)(TH\" , \"2010-12-17\", \"800.00\"), \n",
    "                (\"7499\", \"AL@;__#$LEN\",\"2011-02-20\", \"1600.00\"))\n",
    "\n",
    "        .toDF(\"empno\", \"ename\",\"hire_date\", \"sal\")\n",
    "\n",
    " val cleanedDF = badDF.select(badDF.columns.map(c => regexp_replace(badDF(c), \"\"\"[^A-Z a-z 0-9]\"\"\", \"\").alias(c)): _*)\n",
    " cleanedDF.show"
   ],
   "outputs": [
    {
     "output_type": "stream",
     "name": "stdout",
     "text": [
      "+-----+-----+---------+------+\n",
      "|empno|ename|hire_date|   sal|\n",
      "+-----+-----+---------+------+\n",
      "| 7369|SMITH| 20101217| 80000|\n",
      "| 7499|ALLEN| 20110220|160000|\n",
      "+-----+-----+---------+------+\n",
      "\n"
     ]
    },
    {
     "output_type": "execute_result",
     "data": {
      "text/plain": [
       "badDF: org.apache.spark.sql.DataFrame = [empno: string, ename: string ... 2 more fields]\r\n",
       "cleanedDF: org.apache.spark.sql.DataFrame = [empno: string, ename: string ... 2 more fields]\n"
      ]
     },
     "metadata": {},
     "execution_count": 5
    }
   ],
   "metadata": {}
  },
  {
   "cell_type": "code",
   "execution_count": 7,
   "source": [
    "//remove all special characters from a given string \n",
    "\n",
    "val str = \"AL@;__#$LEN\"\n",
    "\n",
    "println(str.replaceAll(\"[^0-9a-zA-Z]+\", \"\")  )\n",
    "\n",
    "//repalce  all numbers  with  \"x\"\n",
    "var str1:String = \"New York 1ab2c3\"\n",
    "\n",
    "println(str1.replaceAll(\"[0-9]\",\"x\"));\n",
    "\n",
    "var str2:String = \"New York\"\n",
    "// replace all w and k with z\n",
    "println(str2.replaceAll(\"w|k\",\"z\"));"
   ],
   "outputs": [
    {
     "output_type": "stream",
     "name": "stdout",
     "text": [
      "ALLEN\n",
      "New York xabxcx\n",
      "Nez Yorz\n"
     ]
    },
    {
     "output_type": "execute_result",
     "data": {
      "text/plain": [
       "str: String = AL@;__#$LEN\r\n",
       "str1: String = New York 1ab2c3\r\n",
       "str2: String = New York\n"
      ]
     },
     "metadata": {},
     "execution_count": 7
    }
   ],
   "metadata": {}
  },
  {
   "cell_type": "code",
   "execution_count": 13,
   "source": [
    "//largest sum of contiguous sub-array\n",
    "\n",
    "def largest_sum(numbs: Array[Int]): Int = {\n",
    "  var max_ele_val = 0\n",
    "  var max_end = 0\n",
    "  for (i <- numbs.indices) {\n",
    "    max_end = max_end + numbs(i)\n",
    "    max_end = Integer.max(max_end, 0)\n",
    "\n",
    "    max_ele_val = Integer.max(max_ele_val, max_end)\n",
    "  }\n",
    "  max_ele_val\n",
    "}\n",
    "\n",
    "val numbs = Array(1, 2, -3, -4, 0, 6, 7, 8, 9)\n",
    "\n",
    "println(s\"\\nThe largest sum of contiguous sub-array: ${largest_sum(numbs)}\")"
   ],
   "outputs": [
    {
     "output_type": "stream",
     "name": "stdout",
     "text": [
      "\n",
      "The largest sum of contiguous sub-array: 30\n"
     ]
    },
    {
     "output_type": "execute_result",
     "data": {
      "text/plain": [
       "largest_sum: (numbs: Array[Int])Int\r\n",
       "numbs: Array[Int] = Array(1, 2, -3, -4, 0, 6, 7, 8, 9)\n"
      ]
     },
     "metadata": {},
     "execution_count": 13
    }
   ],
   "metadata": {}
  },
  {
   "cell_type": "code",
   "execution_count": 14,
   "source": [
    "def diff_between_two_elemnts(nums: Array[Int]): Int = {\n",
    "  var diff_two_elemnts = Integer.MIN_VALUE\n",
    "  for (i <- nums.indices) {\n",
    "    for (j <- i + 1 until nums.length) {\n",
    "      diff_two_elemnts = Integer.max(diff_two_elemnts, nums(j) - nums(i))\n",
    "    }\n",
    "  }\n",
    "  diff_two_elemnts\n",
    "}\n",
    "\n",
    "val nums = Array(2, 3, 1, 7, 9, 5, 11, 3, 5)\n",
    "\n",
    "System.out.println(s\"\\nThe maximum difference between two \" +\n",
    "  s\"elements of the array elements: ${diff_between_two_elemnts(nums)}\")"
   ],
   "outputs": [
    {
     "output_type": "stream",
     "name": "stdout",
     "text": [
      "\n",
      "The maximum difference between two elements of the array elements: 10\n"
     ]
    },
    {
     "output_type": "execute_result",
     "data": {
      "text/plain": [
       "diff_between_two_elemnts: (nums: Array[Int])Int\r\n",
       "nums: Array[Int] = Array(2, 3, 1, 7, 9, 5, 11, 3, 5)\n"
      ]
     },
     "metadata": {},
     "execution_count": 14
    }
   ],
   "metadata": {}
  },
  {
   "cell_type": "code",
   "execution_count": 15,
   "source": [
    "def rearrange_Array_nums(nums: Array[Int]): Array[Int] = {\n",
    "  var t_nums = 0\n",
    "  for (i <- 1 until nums.length by 2) {\n",
    "    if (nums(i - 1) > nums(i)) {\n",
    "      t_nums = nums(i - 1)\n",
    "      nums(i - 1) = nums(i)\n",
    "      nums(i) = t_nums\n",
    "    }\n",
    "\n",
    "    if (i + 1 < nums.length && nums(i + 1) > nums(i)) {\n",
    "      t_nums = nums(i + 1)\n",
    "      nums(i + 1) = nums(i)\n",
    "      nums(i) = t_nums\n",
    "    }\n",
    "  }\n",
    "  nums\n",
    "}\n",
    "\n",
    "val nums = Array(1, 2, 4, 9, 5, 3, 8, 7, 10, 12, 14)\n",
    "val result = rearrange_Array_nums(nums)\n",
    "\n",
    "println(\"\\nArray with every second element is greater than its left and right elements:\")\n",
    "//result.mkString(\" \").foreach(print)"
   ],
   "outputs": [
    {
     "output_type": "stream",
     "name": "stdout",
     "text": [
      "\n",
      "Array with every second element is greater than its left and right elements:\n",
      "1 4 2 9 3 8 5 10 7 14 12"
     ]
    },
    {
     "output_type": "execute_result",
     "data": {
      "text/plain": [
       "rearrange_Array_nums: (nums: Array[Int])Array[Int]\r\n",
       "nums: Array[Int] = Array(1, 4, 2, 9, 3, 8, 5, 10, 7, 14, 12)\r\n",
       "result: Array[Int] = Array(1, 4, 2, 9, 3, 8, 5, 10, 7, 14, 12)\n"
      ]
     },
     "metadata": {},
     "execution_count": 15
    }
   ],
   "metadata": {}
  },
  {
   "cell_type": "code",
   "execution_count": 34,
   "source": [
    "//Find maximum product of two integers in a given array of integers\n",
    "\n",
    "val arr = Array(2, 3, 5, 7, -7, 5, 5, -5, -8 )\n",
    "\n",
    "val n = arr.size\n",
    "scala.util.Sorting.quickSort(arr)\n",
    "\n",
    "if ( arr(0) * arr(1)  > arr(n-1) * arr(n-2) )\n",
    "     println(arr(0) , arr(1))\n",
    "    \n",
    "else println( arr(n-1) , arr(n-2))"
   ],
   "outputs": [
    {
     "output_type": "stream",
     "name": "stdout",
     "text": [
      "(-8,-7)\n"
     ]
    },
    {
     "output_type": "execute_result",
     "data": {
      "text/plain": [
       "arr: Array[Int] = Array(-8, -7, -5, 2, 3, 5, 5, 5, 7)\r\n",
       "n: Int = 9\n"
      ]
     },
     "metadata": {},
     "execution_count": 34
    }
   ],
   "metadata": {}
  },
  {
   "cell_type": "code",
   "execution_count": 1,
   "source": [
    " //check is the string is a numeric string \n",
    "\n",
    "import scala.util.control.Exception.allCatch\n",
    " \n",
    "def isNumber(s: String): Boolean = (allCatch opt s.toDouble).isDefined\n",
    " \n",
    " println(isNumber(\"123456\"))\n",
    "\n",
    " println(\"=================================================================\")\n",
    "\n",
    " println(isNumber(\"123r456\"))"
   ],
   "outputs": [
    {
     "output_type": "stream",
     "name": "stdout",
     "text": [
      "true\n",
      "=================================================================\n",
      "false\n"
     ]
    },
    {
     "output_type": "execute_result",
     "data": {
      "text/plain": [
       "import scala.util.control.Exception.allCatch\r\n",
       "isNumber: (s: String)Boolean\n"
      ]
     },
     "metadata": {},
     "execution_count": 1
    }
   ],
   "metadata": {}
  },
  {
   "cell_type": "code",
   "execution_count": 2,
   "source": [
    "def isNumeric(input: String): Boolean = input.forall(_.isDigit)\n",
    "\n",
    "println(isNumeric(\"123456\"))\n",
    "\n",
    "println(\"=================================================================\")\n",
    "\n",
    "println(isNumeric(\"123r456\"))"
   ],
   "outputs": [
    {
     "output_type": "stream",
     "name": "stdout",
     "text": [
      "true\n",
      "=================================================================\n",
      "false\n"
     ]
    },
    {
     "output_type": "execute_result",
     "data": {
      "text/plain": [
       "isNumeric: (input: String)Boolean\n"
      ]
     },
     "metadata": {},
     "execution_count": 2
    }
   ],
   "metadata": {}
  },
  {
   "cell_type": "code",
   "execution_count": 12,
   "source": [
    "//Or a more complete version, using a complex regular expression:\n",
    "\n",
    "\n",
    "def isNumeric2(str: String): Boolean = {\n",
    "  str.matches(s\"\"\"^*[0-9]*\"\"\")\n",
    "}\n",
    " \n",
    "println(isNumeric2(\"123456\"))\n",
    "\n",
    "println(\"=================================================================\")\n",
    "\n",
    "println(isNumeric2(\"123r456\"))"
   ],
   "outputs": [
    {
     "output_type": "stream",
     "name": "stdout",
     "text": [
      "true\n",
      "=================================================================\n",
      "false\n"
     ]
    },
    {
     "output_type": "execute_result",
     "data": {
      "text/plain": [
       "isNumeric2: (str: String)Boolean\n"
      ]
     },
     "metadata": {},
     "execution_count": 12
    }
   ],
   "metadata": {}
  },
  {
   "cell_type": "code",
   "execution_count": 16,
   "source": [
    "//Or using the built-in number parsing and catching exceptions:\n",
    "\n",
    " \n",
    "def isNumeric(str: String): Boolean = {\n",
    "  !throwsNumberFormatException(str.toLong) || !throwsNumberFormatException(str.toDouble)\n",
    "}\n",
    " \n",
    "def throwsNumberFormatException(f: => Any): Boolean = {\n",
    "  try { f; false } catch { case e: NumberFormatException => true }\n",
    "}\n",
    " \n",
    "println(isNumeric(\"123456\"))\n",
    "\n",
    "println(\"=================================================================\")\n",
    "\n",
    "println(isNumeric(\"123r456\"))\n"
   ],
   "outputs": [
    {
     "output_type": "stream",
     "name": "stdout",
     "text": [
      "true\n",
      "=================================================================\n",
      "false\n"
     ]
    },
    {
     "output_type": "execute_result",
     "data": {
      "text/plain": [
       "isNumeric: (str: String)Boolean\r\n",
       "throwsNumberFormatException: (f: => Any)Boolean\n"
      ]
     },
     "metadata": {},
     "execution_count": 16
    }
   ],
   "metadata": {}
  },
  {
   "cell_type": "code",
   "execution_count": 5,
   "source": [
    "def rotateArray(A: Array[Int], K: Int): Array[Int] = {\n",
    "  if (A.isEmpty) A\n",
    "  else rotate(A.toList, K).toArray\n",
    "}\n",
    "\n",
    "def rotateStepwise(l: List[Int]) = {\n",
    "  l.take(l.size - 1).+:(l.last)\n",
    "}\n",
    "\n",
    "def rotate(l: List[Int], K: Int): List[Int] = {\n",
    "  if (K == 0) l\n",
    "  else rotate(rotateStepwise(l), K - 1)\n",
    "}\n",
    "\n",
    "val arr = Array(1, 5, 6, 8, 12, 7)\n",
    "\n",
    "val a = rotateArray(arr, 1)\n",
    "\n",
    "print(\"Array after right rotation : \")\n",
    "for (i <- a.indices) { print(a(i) + \" \") }\n",
    "  "
   ],
   "outputs": [
    {
     "output_type": "stream",
     "name": "stdout",
     "text": [
      "Array after right rotation : 7 1 5 6 8 12 "
     ]
    },
    {
     "output_type": "execute_result",
     "data": {
      "text/plain": [
       "rotateArray: (A: Array[Int], K: Int)Array[Int]\r\n",
       "rotateStepwise: (l: List[Int])List[Int]\r\n",
       "rotate: (l: List[Int], K: Int)List[Int]\r\n",
       "arr: Array[Int] = Array(1, 5, 6, 8, 12, 7)\r\n",
       "a: Array[Int] = Array(7, 1, 5, 6, 8, 12)\n"
      ]
     },
     "metadata": {},
     "execution_count": 5
    }
   ],
   "metadata": {}
  },
  {
   "cell_type": "code",
   "execution_count": 8,
   "source": [
    "def isSorted[A](as: Array[A], ordering: (A, A) => Boolean): Boolean = {\n",
    "  @annotation.tailrec\n",
    "  def go(n: Int): Boolean =\n",
    "    if (n >= as.length - 1) true\n",
    "    else if (!ordering(as(n), as(n + 1))) false\n",
    "    else go(n + 1)\n",
    "\n",
    "  go(0)\n",
    "}\n",
    "\n",
    "isSorted(Array(1, 3, 5, 7), (x: Int, y: Int) => x < y) //shouldBe true\n",
    "\n",
    "isSorted(Array(7, 5, 1, 3), (x: Int, y: Int) => x > y) //shouldBe false\n",
    "\n",
    "isSorted(\n",
    "  Array(\"Scala\", \"Exercises\"),\n",
    "  (x: String, y: String) => x.length < y.length) //shouldBe true\n"
   ],
   "outputs": [
    {
     "output_type": "execute_result",
     "data": {
      "text/plain": [
       "isSorted: [A](as: Array[A], ordering: (A, A) => Boolean)Boolean\r\n",
       "res6: Boolean = true\n"
      ]
     },
     "metadata": {},
     "execution_count": 8
    }
   ],
   "metadata": {}
  },
  {
   "cell_type": "code",
   "execution_count": 3,
   "source": [
    "//implementation of sqrt and abs \n",
    "\n",
    "def abs(x: Double) = if (x >= 0) x else -x\n",
    "\n",
    "def sqrt(x: Double) = {\n",
    "  def sqrtIter(guess: Double, x: Double): Double =\n",
    "    if (isGoodEnough(guess, x)) guess\n",
    "    else sqrtIter(improve(guess, x), x)\n",
    "\n",
    "  def improve(guess: Double, x: Double) =\n",
    "    (guess + x / guess) / 2\n",
    "\n",
    "  def isGoodEnough(guess: Double, x: Double) =\n",
    "    abs(guess * guess - x) < 0.001\n",
    "\n",
    "  sqrtIter(1.0, x)\n",
    "}\n",
    "\n",
    "\n",
    "sqrt(4)"
   ],
   "outputs": [
    {
     "output_type": "execute_result",
     "data": {
      "text/plain": [
       "abs: (x: Double)Double\r\n",
       "sqrt: (x: Double)Double\r\n",
       "res1: Double = 2.0000000929222947\n"
      ]
     },
     "metadata": {},
     "execution_count": 3
    }
   ],
   "metadata": {}
  },
  {
   "cell_type": "code",
   "execution_count": 4,
   "source": [
    "// implementation of GCD\n",
    "\n",
    "def gcd(a: Int, b: Int): Int =\n",
    "  if (b == 0) a else gcd(b, a % b)\n",
    "\n",
    "gcd(14, 21)"
   ],
   "outputs": [
    {
     "output_type": "execute_result",
     "data": {
      "text/plain": [
       "gcd: (a: Int, b: Int)Int\r\n",
       "res2: Int = 7\n"
      ]
     },
     "metadata": {},
     "execution_count": 4
    }
   ],
   "metadata": {}
  },
  {
   "cell_type": "code",
   "execution_count": 1,
   "source": [
    "// remove all other char except alphabets from a string \n",
    "\n",
    "val s = \"A man, a plan, a canal: Panama\"\n",
    "\n",
    "val ans = s.replaceAll(\"[^a-zA-Z]\",\"\")\n",
    "\n",
    "//val ans2 = s.replaceAll(\"[^a-zA-Z0-9]\",\"\")\n"
   ],
   "outputs": [
    {
     "output_type": "display_data",
     "data": {
      "text/plain": [
       "Intitializing Scala interpreter ..."
      ]
     },
     "metadata": {}
    },
    {
     "output_type": "display_data",
     "data": {
      "text/plain": [
       "Spark Web UI available at http://LAPTOP-V8NR8FQT:4041\n",
       "SparkContext available as 'sc' (version = 2.4.4, master = local[*], app id = local-1627742545960)\n",
       "SparkSession available as 'spark'\n"
      ]
     },
     "metadata": {}
    },
    {
     "output_type": "execute_result",
     "data": {
      "text/plain": [
       "s: String = A man, a plan, a canal: Panama\r\n",
       "ans: String = AmanaplanacanalPanama\n"
      ]
     },
     "metadata": {},
     "execution_count": 1
    }
   ],
   "metadata": {}
  },
  {
   "cell_type": "code",
   "execution_count": null,
   "source": [],
   "outputs": [],
   "metadata": {}
  }
 ],
 "metadata": {
  "kernelspec": {
   "display_name": "spylon-kernel",
   "language": "scala",
   "name": "spylon-kernel"
  },
  "language_info": {
   "codemirror_mode": "text/x-scala",
   "file_extension": ".scala",
   "help_links": [
    {
     "text": "MetaKernel Magics",
     "url": "https://metakernel.readthedocs.io/en/latest/source/README.html"
    }
   ],
   "mimetype": "text/x-scala",
   "name": "scala",
   "pygments_lexer": "scala",
   "version": "0.4.1"
  }
 },
 "nbformat": 4,
 "nbformat_minor": 5
}