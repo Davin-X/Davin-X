{
 "cells": [
  {
   "cell_type": "code",
   "execution_count": 1,
   "id": "8f429e03",
   "metadata": {},
   "outputs": [
    {
     "data": {
      "text/plain": [
       "Intitializing Scala interpreter ..."
      ]
     },
     "metadata": {},
     "output_type": "display_data"
    },
    {
     "data": {
      "text/plain": [
       "Spark Web UI available at http://LAPTOP-V8NR8FQT:4041\n",
       "SparkContext available as 'sc' (version = 2.4.4, master = local[*], app id = local-1626009678179)\n",
       "SparkSession available as 'spark'\n"
      ]
     },
     "metadata": {},
     "output_type": "display_data"
    },
    {
     "data": {
      "text/plain": [
       "find_missing: (arr: Array[Int], n: Int)Int\r\n",
       "res0: Int = 6\n"
      ]
     },
     "execution_count": 1,
     "metadata": {},
     "output_type": "execute_result"
    }
   ],
   "source": [
    "//Find a missing number in a given integer array of 1 to 100?\n",
    "\n",
    "def find_missing(arr :Array[Int] , n :Int  ) : Int = {\n",
    "    val c = n * (n+1) / 2 \n",
    "     c - arr.sum\n",
    "}\n",
    "\n",
    "find_missing(Array(1, 2, 3, 4, 5, 7, 9, 8, 10), 10)\n"
   ]
  },
  {
   "cell_type": "code",
   "execution_count": 12,
   "id": "2ecdaa27",
   "metadata": {},
   "outputs": [
    {
     "name": "stdout",
     "output_type": "stream",
     "text": [
      "1 2 3 4 5\n",
      "=========================================================\n",
      "1 0 2 0 3 4 5"
     ]
    },
    {
     "data": {
      "text/plain": [
       "remove_dup_1: (arr: Array[Int])Array[Int]\r\n",
       "replace_dup_with_0: (arr: Array[Int])Array[Int]\n"
      ]
     },
     "execution_count": 12,
     "metadata": {},
     "output_type": "execute_result"
    }
   ],
   "source": [
    "//Find the duplicate number on a given integer array?\n",
    "\n",
    "def remove_dup_1(arr :Array[Int] ) : Array[Int] = {\n",
    "   \n",
    "    arr.distinct\n",
    "}\n",
    "\n",
    "def replace_dup_with_0(arr :Array[Int] ) : Array[Int] = {\n",
    "    \n",
    "    var tmp_arr = arr\n",
    "    var m = Array[Int]()\n",
    "    \n",
    "    for(i <- 0 until  tmp_arr.length)\n",
    "    {\n",
    "        if (m.contains(tmp_arr(i)))\n",
    "        {\n",
    "            tmp_arr(i) = 0\n",
    "        }\n",
    "        else\n",
    "         m = m :+ tmp_arr(i) \n",
    "        \n",
    "    }\n",
    "    \n",
    "    tmp_arr\n",
    "}\n",
    "\n",
    "remove_dup_1(Array(1, 1, 2, 2, 3, 4, 5)).mkString(\" \").foreach(print)\n",
    "\n",
    "println(\"\\n=========================================================\")\n",
    "\n",
    "replace_dup_with_0(Array(1, 1, 2, 2, 3, 4, 5)).mkString(\" \").foreach(print)\n"
   ]
  },
  {
   "cell_type": "code",
   "execution_count": 16,
   "id": "de2f2788",
   "metadata": {},
   "outputs": [
    {
     "name": "stdout",
     "output_type": "stream",
     "text": [
      "-87 2147483647"
     ]
    },
    {
     "data": {
      "text/plain": [
       "smallest_largest: (arr: Array[Int])Array[Int]\n"
      ]
     },
     "execution_count": 16,
     "metadata": {},
     "output_type": "execute_result"
    }
   ],
   "source": [
    "//The largest and smallest number in an unsorted integer array?\n",
    "\n",
    "def smallest_largest(arr :Array[Int] ) : Array[Int] = {\n",
    "   \n",
    "    Array(arr.min , arr.max)\n",
    "}\n",
    "\n",
    "smallest_largest(Array(-20, 34, 21, -87, 92, 2147483647,5)).mkString(\" \").foreach(print)"
   ]
  },
  {
   "cell_type": "code",
   "execution_count": 42,
   "id": "9738f38f",
   "metadata": {},
   "outputs": [
    {
     "name": "stdout",
     "output_type": "stream",
     "text": [
      "(5,10)\n",
      "(7,8)\n",
      "=====================================================================\n",
      "(2,7)\n",
      "(4,5)\n",
      "(10,-1)\n"
     ]
    },
    {
     "data": {
      "text/plain": [
       "find_pair_sum: (arr: Array[Int], agg: Int)List[(Int, Int)]\n"
      ]
     },
     "execution_count": 42,
     "metadata": {},
     "output_type": "execute_result"
    }
   ],
   "source": [
    "//Find all pairs of integer array whose sum is equal to a given number?\n",
    "\n",
    "def find_pair_sum(arr: Array[Int], agg: Int): List[(Int, Int)] = {\n",
    "\n",
    "  var ans = List[(Int, Int)]()\n",
    "  var m = arr\n",
    "\n",
    "  for (i <- arr) {\n",
    "    m = m.tail\n",
    "    if (m.contains(agg - i)) {\n",
    "      ans = ans :+ (i, agg - i)\n",
    "    }\n",
    "  }\n",
    "  ans\n",
    "}\n",
    "\n",
    "find_pair_sum(Array(1, 2, 3, 4, 5, 7, 9, 8, 10), 15).foreach(println)\n",
    "\n",
    "print(\"=====================================================================\\n\")\n",
    "\n",
    "find_pair_sum(Array(2, 4, 7, 5, 9, 10, -1), 9).foreach(println)\n"
   ]
  },
  {
   "cell_type": "code",
   "execution_count": 49,
   "id": "2793dcd4",
   "metadata": {},
   "outputs": [
    {
     "name": "stdout",
     "output_type": "stream",
     "text": [
      "1 -> 2 2 -> 2\n",
      "=========================================================\n",
      "1 -> 2 2 -> 2"
     ]
    },
    {
     "data": {
      "text/plain": [
       "find_dup: (arr: Array[Int])scala.collection.immutable.Map[Int,Int]\n"
      ]
     },
     "execution_count": 49,
     "metadata": {},
     "output_type": "execute_result"
    }
   ],
   "source": [
    "//Find duplicate numbers in an array if it contains multiple duplicates?\n",
    "\n",
    "def find_dup(arr :Array[Int] ) = {\n",
    "    \n",
    "    arr.groupBy(identity).map(x => (x._1, x._2.size)).filter(x => x._2 > 1)\n",
    "   \n",
    "}\n",
    "\n",
    "find_dup(Array(1, 1, 2, 2, 3, 4, 5)).mkString(\" \").foreach(print)\n",
    "\n",
    "println(\"\\n=========================================================\")\n",
    "\n",
    "find_dup(Array(1, 1, 2, 2, 3, 4, 5)).mkString(\" \").foreach(print)"
   ]
  },
  {
   "cell_type": "code",
   "execution_count": 62,
   "id": "dc83cdf4",
   "metadata": {},
   "outputs": [
    {
     "name": "stdout",
     "output_type": "stream",
     "text": [
      "1 1 2 2 3 4 5\n",
      "=========================================================\n",
      "1 2 3 4 5 6 7 8"
     ]
    },
    {
     "data": {
      "text/plain": [
       "warning: there were three feature warnings; re-run with -feature for details\n",
       "quick_sort: (arr: Array[Int])Array[Int]\n"
      ]
     },
     "execution_count": 62,
     "metadata": {},
     "output_type": "execute_result"
    }
   ],
   "source": [
    "//Sort an integer array in place using the QuickSort algorithm?\n",
    "\n",
    "def quick_sort(arr: Array[Int]): Array[Int] = {\n",
    "\n",
    "  //arr.sorted\n",
    "  //scala.util.Sorting.quickSort(arr)\n",
    "  if (arr.length <= 1) arr\n",
    "  else {\n",
    "    val pivot = arr(arr.length / 2)\n",
    "    Array.concat(quick_sort(arr.filter(pivot >)), arr.filter(pivot ==), quick_sort(arr.filter(pivot <)))\n",
    "  }\n",
    "}\n",
    "\n",
    "quick_sort(Array(1, 1, 2, 2, 3, 4, 5)).mkString(\" \").foreach(print)\n",
    "\n",
    "println(\"\\n=========================================================\")\n",
    "\n",
    "quick_sort(Array(6, 5, 3, 1, 8, 7, 2, 4)).mkString(\" \").foreach(print)"
   ]
  },
  {
   "cell_type": "code",
   "execution_count": 66,
   "id": "4ab07079",
   "metadata": {},
   "outputs": [
    {
     "name": "stdout",
     "output_type": "stream",
     "text": [
      "5 4 3 2 2 1 1\n",
      "=========================================================\n",
      "4 2 7 8 1 3 5 6"
     ]
    },
    {
     "data": {
      "text/plain": [
       "reverse_arr: (arr: Array[Int])Array[Int]\r\n",
       "reverse_arr_recursive: (arr: Array[Int])Array[Int]\n"
      ]
     },
     "execution_count": 66,
     "metadata": {},
     "output_type": "execute_result"
    }
   ],
   "source": [
    "//reverse an array in place \n",
    "\n",
    "def reverse_arr(arr: Array[Int]): Array[Int] = {\n",
    "  arr.reverse\n",
    "}\n",
    "\n",
    "\n",
    "def reverse_arr_recursive(arr: Array[Int]): Array[Int] = {\n",
    "  if(arr.size ==1)\n",
    "    arr\n",
    "  else \n",
    "    reverse_arr_recursive(arr.tail) :+ arr.head      \n",
    "}\n",
    "\n",
    "reverse_arr(Array(1, 1, 2, 2, 3, 4, 5)).mkString(\" \").foreach(print)\n",
    "\n",
    "println(\"\\n=========================================================\")\n",
    "\n",
    "reverse_arr_recursive(Array(6, 5, 3, 1, 8, 7, 2, 4)).mkString(\" \").foreach(print)"
   ]
  },
  {
   "cell_type": "code",
   "execution_count": 72,
   "id": "62442a74",
   "metadata": {},
   "outputs": [
    {
     "name": "stdout",
     "output_type": "stream",
     "text": [
      "4 6 8\n",
      "=========================================================\n",
      "3"
     ]
    },
    {
     "data": {
      "text/plain": [
       "find_missing: (arr: Array[Int])Array[Int]\n"
      ]
     },
     "execution_count": 72,
     "metadata": {},
     "output_type": "execute_result"
    }
   ],
   "source": [
    "//Find multiple missing numbers in a given integer array with duplicates\n",
    "\n",
    "def find_missing(arr: Array[Int]): Array[Int] = {\n",
    "  \n",
    "    val lookup = 1 to arr.max\n",
    "    var ans = Array[Int]()\n",
    "    for(i <- lookup)\n",
    "    {\n",
    "        if(arr.contains(i) == false )\n",
    "        ans = ans :+ i\n",
    "    }\n",
    "    ans\n",
    "}\n",
    "\n",
    "find_missing(Array(1, 1, 2, 3, 5, 5, 7, 9, 9, 9)).mkString(\" \").foreach(print)\n",
    "\n",
    "println(\"\\n=========================================================\")\n",
    "\n",
    "find_missing(Array(6, 5, 1, 8, 7, 2, 4)).mkString(\" \").foreach(print)"
   ]
  },
  {
   "cell_type": "code",
   "execution_count": 87,
   "id": "95549edc",
   "metadata": {},
   "outputs": [
    {
     "name": "stdout",
     "output_type": "stream",
     "text": [
      "true\n",
      "\n",
      "=========================================================\n",
      "false\n"
     ]
    },
    {
     "data": {
      "text/plain": [
       "import scala.language.postfixOps\r\n",
       "bin_search: (arr: Array[Int], num: Int)Boolean\n"
      ]
     },
     "execution_count": 87,
     "metadata": {},
     "output_type": "execute_result"
    }
   ],
   "source": [
    "//Perform a binary search in a given array\n",
    "\n",
    "import scala.language.postfixOps\n",
    "\n",
    "def bin_search(arr: Array[Int], num: Int): Boolean = {\n",
    "\n",
    "  if (arr.length == 1)\n",
    "    false\n",
    "  else {\n",
    "    val mid = arr.length / 2\n",
    "\n",
    "    if (num == arr(mid))\n",
    "      true\n",
    "    else if (arr(mid) > num)\n",
    "      bin_search(arr.filter(arr(mid) >), num)\n",
    "    else\n",
    "      bin_search(arr.filter(arr(mid) <), num)\n",
    "  }\n",
    "\n",
    "}\n",
    "\n",
    "println(bin_search(Array(1, 1, 2, 2, 3, 4, 5), 2))\n",
    "\n",
    "println(\"\\n=========================================================\")\n",
    "\n",
    "println(bin_search(Array(1, 1, 2, 3, 5, 5, 7, 9, 9, 9), 8))"
   ]
  },
  {
   "cell_type": "code",
   "execution_count": 88,
   "id": "e0510965",
   "metadata": {},
   "outputs": [
    {
     "data": {
      "text/plain": [
       "res83: Array[String] = Array(hoo, goo, ioo)\n"
      ]
     },
     "execution_count": 88,
     "metadata": {},
     "output_type": "execute_result"
    }
   ],
   "source": [
    "Array(\"foo\", \"hoo\", \"goo\", \"ioo\", \"joo\").slice(1, 4)"
   ]
  },
  {
   "cell_type": "code",
   "execution_count": 98,
   "id": "d6e50e56",
   "metadata": {},
   "outputs": [
    {
     "name": "stdout",
     "output_type": "stream",
     "text": [
      "Before transposition \n",
      "\n",
      "   1    2    3    4    5 \n",
      "   6    7    8    9   10 \n",
      "  11   12   13   14   15 \n",
      "  16   17   18   19   20 \n",
      "  21   22   23   24   25 \n",
      "\n",
      "after  transposition \n",
      "\n",
      "   1    6   11   16   21 \n",
      "   2    7   12   17   22 \n",
      "   3    8   13   18   23 \n",
      "   4    9   14   19   24 \n",
      "   5   10   15   20   25 \n"
     ]
    },
    {
     "data": {
      "text/plain": [
       "arr: Array[Array[Int]] = Array(Array(1, 6, 11, 16, 21), Array(2, 7, 12, 17, 22), Array(3, 8, 13, 18, 23), Array(4, 9, 14, 19, 24), Array(5, 10, 15, 20, 25))\r\n",
       "print_matrix: (matrix: Array[Array[Int]])Unit\r\n",
       "transpose: (matrix: Array[Array[Int]])Unit\n"
      ]
     },
     "execution_count": 98,
     "metadata": {},
     "output_type": "execute_result"
    }
   ],
   "source": [
    "//Transpose a Matrix\n",
    "        val arr = Array.ofDim[Int](5, 5)\n",
    "        for (i <- arr.indices; j <- arr(0).indices) {\n",
    "            arr(i)(j) = i * arr.length + j + 1\n",
    "        }\n",
    "\n",
    "       println(\"Before transposition \\n\")\n",
    "        print_matrix(arr)\n",
    "        \n",
    "        transpose(arr)\n",
    "\n",
    "        println(\"\\nafter  transposition \\n\")\n",
    "        print_matrix(arr)\n",
    "    \n",
    "\t // output matrix\n",
    "    def print_matrix(matrix: Array[Array[Int]]): Unit = {\n",
    "        for (i <- matrix.indices) {\n",
    "            for (j <- matrix(0).indices) {\n",
    "                print(\"%4d \".format(matrix(i)(j)))\n",
    "            }\n",
    "            println()\n",
    "        }\n",
    "    }\n",
    "         // transpose operation\n",
    "    def transpose(matrix: Array[Array[Int]]): Unit = {\n",
    "        for (i <- matrix.indices; j <- i + 1 until matrix(0).length) {\n",
    "            val num = matrix(i)(j)\n",
    "            matrix(i)(j) = matrix(j)(i)\n",
    "            matrix(j)(i) = num\n",
    "        }\n",
    "    }\n"
   ]
  },
  {
   "cell_type": "code",
   "execution_count": null,
   "id": "2c4ec3cd",
   "metadata": {},
   "outputs": [],
   "source": [
    "//Add or subtract two Matrices\n",
    "\n"
   ]
  }
 ],
 "metadata": {
  "kernelspec": {
   "display_name": "spylon-kernel",
   "language": "scala",
   "name": "spylon-kernel"
  },
  "language_info": {
   "codemirror_mode": "text/x-scala",
   "file_extension": ".scala",
   "help_links": [
    {
     "text": "MetaKernel Magics",
     "url": "https://metakernel.readthedocs.io/en/latest/source/README.html"
    }
   ],
   "mimetype": "text/x-scala",
   "name": "scala",
   "pygments_lexer": "scala",
   "version": "0.4.1"
  }
 },
 "nbformat": 4,
 "nbformat_minor": 5
}
